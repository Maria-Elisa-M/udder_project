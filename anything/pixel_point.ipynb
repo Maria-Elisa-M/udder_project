{
 "cells": [
  {
   "cell_type": "code",
   "execution_count": 43,
   "id": "0267ae0b-64b5-4d4e-a944-38e2b4ef786b",
   "metadata": {
    "tags": []
   },
   "outputs": [],
   "source": [
    "import pyrealsense2 as rs\n",
    "import numpy as np\n",
    "import cv2\n",
    "import copy\n",
    "import math\n",
    "import os\n",
    "import tifffile as tf"
   ]
  },
  {
   "cell_type": "code",
   "execution_count": 44,
   "id": "cf83b60d-c1b1-4ee4-bc8a-ecec6734d862",
   "metadata": {
    "tags": []
   },
   "outputs": [],
   "source": [
    "# read image\n",
    "path = r'images'\n",
    "filenames = os.listdir(path)\n",
    "img = tf.imread(os.path.join(path, filenames[0]))"
   ]
  },
  {
   "cell_type": "code",
   "execution_count": 2,
   "id": "c778aa31-d4b5-4776-b146-9b5b3cb3e1f5",
   "metadata": {
    "tags": []
   },
   "outputs": [],
   "source": [
    "video_path = r\"3D_videos_round1\"\n",
    "filelist = [file for file in os.listdir(video_path) if \"under\" in file]"
   ]
  },
  {
   "cell_type": "code",
   "execution_count": 84,
   "id": "a49eda65-14e1-48b0-9d1c-083dbaf762ac",
   "metadata": {
    "tags": []
   },
   "outputs": [],
   "source": [
    "# camera intrinsics\n",
    "scale = 0.001\n",
    "fx = 383.305 \n",
    "fy = 383.305\n",
    "cx = 319.135 \n",
    "cy = 236.548"
   ]
  },
  {
   "cell_type": "code",
   "execution_count": 3,
   "id": "adb2c066-7f12-4ab2-9011-ef095a85af63",
   "metadata": {
    "tags": []
   },
   "outputs": [],
   "source": [
    "# get intrinsics object \n",
    "config = rs.config()\n",
    "rs.config.enable_device_from_file(config, os.path.join(video_path, filelist[0]), repeat_playback = False)\n",
    "pipeline = rs.pipeline()\n",
    "cfg = pipeline.start(config) # Start pipeline and get the configuration it found\n",
    "profile = cfg.get_stream(rs.stream.depth) # Fetch stream profile for depth stream\n",
    "intr = profile.as_video_stream_profile().get_intrinsics() # Downcast to video_stream_profile and fetch intrinsics"
   ]
  },
  {
   "cell_type": "code",
   "execution_count": 108,
   "id": "115ca676-2bad-4c74-9bc5-41972063f4da",
   "metadata": {
    "tags": []
   },
   "outputs": [],
   "source": [
    "# point location\n",
    "ux = 50\n",
    "uy = 120\n",
    "vx = 60\n",
    "vy = 250"
   ]
  },
  {
   "cell_type": "code",
   "execution_count": 109,
   "id": "72919fb3-222e-498e-949b-e9b1123a874b",
   "metadata": {
    "tags": []
   },
   "outputs": [],
   "source": [
    "# point distance from depth\n",
    "udist = img[uy, ux] * scale\n",
    "vdist = img[vy, vx] * scale\n",
    "gdist = img[int(cy), int(cx)] * scale"
   ]
  },
  {
   "cell_type": "code",
   "execution_count": 110,
   "id": "5cd130c7-768e-4fc4-ad91-505b643e17df",
   "metadata": {
    "tags": []
   },
   "outputs": [],
   "source": [
    "# point x, y, dist \n",
    "point1 = rs.rs2_deproject_pixel_to_point(intr, [ux, uy], udist)\n",
    "point2 = rs.rs2_deproject_pixel_to_point(intr, [vx, vy], vdist)\n",
    "point3 = rs.rs2_deproject_pixel_to_point(intr, [int(cx), int(cy)], gdist)"
   ]
  },
  {
   "cell_type": "code",
   "execution_count": 111,
   "id": "50df7024-8b28-4e86-9f48-fe35d0e2e5c6",
   "metadata": {
    "tags": []
   },
   "outputs": [
    {
     "data": {
      "text/plain": [
       "[-0.8264234662055969, -0.3578789234161377, 1.1770000457763672]"
      ]
     },
     "execution_count": 111,
     "metadata": {},
     "output_type": "execute_result"
    }
   ],
   "source": [
    "point1"
   ]
  },
  {
   "cell_type": "code",
   "execution_count": 112,
   "id": "4f6475bb-c9b1-401f-801f-6f87de8759e1",
   "metadata": {
    "tags": []
   },
   "outputs": [
    {
     "data": {
      "text/plain": [
       "[-0.7010690569877625, 0.03639407455921173, 1.0369999408721924]"
      ]
     },
     "execution_count": 112,
     "metadata": {},
     "output_type": "execute_result"
    }
   ],
   "source": [
    "point2"
   ]
  },
  {
   "cell_type": "code",
   "execution_count": 105,
   "id": "816cf3b1-06ce-41a0-85bf-158c27ee4f26",
   "metadata": {
    "tags": []
   },
   "outputs": [
    {
     "data": {
      "text/plain": [
       "[-0.00021072618255857378, -0.0008544980082660913, 0.5979999899864197]"
      ]
     },
     "execution_count": 105,
     "metadata": {},
     "output_type": "execute_result"
    }
   ],
   "source": [
    "point3"
   ]
  },
  {
   "cell_type": "code",
   "execution_count": 161,
   "id": "c18a08cc-5110-4bcb-aa61-5a4fe791aa4c",
   "metadata": {
    "tags": []
   },
   "outputs": [
    {
     "name": "stdout",
     "output_type": "stream",
     "text": [
      "[-0.70686006  0.01226106  1.037     ]\n"
     ]
    }
   ],
   "source": [
    "# intrinsic matrix\n",
    "mat = [[fx, 0, cx], [0, fy, cy], [0,0,1]]\n",
    "mat = np.array(mat)\n",
    "out = np.matmul(np.linalg.inv(mat),(np.array([vx,vy,vdist])))\n",
    "print(out)"
   ]
  },
  {
   "cell_type": "code",
   "execution_count": 143,
   "id": "9140d638-24d4-4af1-861d-4d5d0d7279d2",
   "metadata": {
    "tags": []
   },
   "outputs": [
    {
     "data": {
      "text/plain": [
       "array([ -0.82642255,  -0.35787949, 349.57303647])"
      ]
     },
     "execution_count": 143,
     "metadata": {},
     "output_type": "execute_result"
    }
   ],
   "source": [
    "mat = [[fx, 0, cx], [0, fy, cy], [0,0,1]]\n",
    "mat = np.array(mat)\n",
    "out = np.matmul(udist*(np.array([ux-cx,uy-cy,1])),np.linalg.inv(mat))\n",
    "out"
   ]
  },
  {
   "cell_type": "code",
   "execution_count": null,
   "id": "0090c810-ab17-428a-9ee5-9cbcec87a760",
   "metadata": {},
   "outputs": [],
   "source": []
  }
 ],
 "metadata": {
  "kernelspec": {
   "display_name": "Python 3 (ipykernel)",
   "language": "python",
   "name": "python3"
  },
  "language_info": {
   "codemirror_mode": {
    "name": "ipython",
    "version": 3
   },
   "file_extension": ".py",
   "mimetype": "text/x-python",
   "name": "python",
   "nbconvert_exporter": "python",
   "pygments_lexer": "ipython3",
   "version": "3.10.11"
  }
 },
 "nbformat": 4,
 "nbformat_minor": 5
}
