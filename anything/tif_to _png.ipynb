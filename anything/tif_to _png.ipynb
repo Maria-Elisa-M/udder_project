{
 "cells": [
  {
   "cell_type": "code",
   "execution_count": 1,
   "id": "4c6da52a-6bc5-427a-9d11-fa619edbfdf7",
   "metadata": {
    "tags": []
   },
   "outputs": [],
   "source": [
    "import os\n",
    "import numpy as np\n",
    "from PIL import Image"
   ]
  },
  {
   "cell_type": "code",
   "execution_count": 27,
   "id": "c19d1063-69c3-4869-b394-2c42e68a56c8",
   "metadata": {
    "tags": []
   },
   "outputs": [],
   "source": [
    "image_path = r\"validate_watershed\\watershed_examples\"\n",
    "img_list = []\n",
    "cow_dirs = [f.name for f in os.scandir(image_path) if  f.is_dir()]\n",
    "for cow in cow_dirs:\n",
    "    cow_path = os.path.join(image_path, cow)\n",
    "    files =  [os.path.join(image_path, cow, file) for file in os.listdir(cow_path) if \"tif\" in file]\n",
    "    img_list.extend(files)"
   ]
  },
  {
   "cell_type": "code",
   "execution_count": 29,
   "id": "5f2ae7cf-122d-49e9-9580-beecb940250d",
   "metadata": {
    "tags": []
   },
   "outputs": [],
   "source": [
    "for image in img_list:\n",
    "    name_out = image.replace(\"tif\", \"png\")\n",
    "    img = Image.open(image)\n",
    "    img.save(name_out)\n",
    "    img.close()\n",
    "    os.remove(image)"
   ]
  }
 ],
 "metadata": {
  "kernelspec": {
   "display_name": "Python 3 (ipykernel)",
   "language": "python",
   "name": "python3"
  },
  "language_info": {
   "codemirror_mode": {
    "name": "ipython",
    "version": 3
   },
   "file_extension": ".py",
   "mimetype": "text/x-python",
   "name": "python",
   "nbconvert_exporter": "python",
   "pygments_lexer": "ipython3",
   "version": "3.10.13"
  }
 },
 "nbformat": 4,
 "nbformat_minor": 5
}
