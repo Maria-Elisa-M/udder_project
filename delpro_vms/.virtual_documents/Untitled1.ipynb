import pandas as pd
import numpy as np
import os 


milk_df = pd.read_csv("milk_videos.csv")


dirpath = os.getcwd()
video_path = os.path.join(os.path.normpath(dirpath + os.sep + os.pardir), r'udder_video')
with open(os.path.join(video_path, "filelist_toframe.txt"), "r") as f:
    video_files = [file.replace("\n", "").split(",") for file in f.readlines()]
labeled_files = [file[1] for file in video_files]
with open(os.path.join(video_path, "filelist_topred.txt"), "r") as f:
    video_files = [file.replace("\n", "").split(",") for file in f.readlines()]
pred_files = [file[1] for file in video_files]


all_files = labeled_files + pred_files 
all_files.remove("1489_20231117_165935.bag")


# filter data from videos rendered
milk_df = milk_df[milk_df.filename.isin(all_files)]
parity = milk_df.lactation_number[~np.isnan(milk_df.lactation_number)]
dims = milk_df.days_in_milk[~np.isnan(milk_df.days_in_milk)]


print(f"parity mean {np.mean(parity)}, sd {np.std(parity)}")
print(f"DIM mean {np.mean(dims)}, sd {np.std(dims)}")


milk_df.days_in_milk[np.isnan(milk_df.days_in_milk)]


milk_df.to_csv("milk_videos_filtered.csv", index = False)



