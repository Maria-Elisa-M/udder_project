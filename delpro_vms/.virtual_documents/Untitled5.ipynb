# cows missing teats
import os
import pandas as pd
import numpy as np 


dirpath = os.getcwd()
data_path = os.path.join(dirpath, "data_out")

filenames = ['cond_integrated.csv', 'inc_integrated.csv', 'ko_integrated.csv', 'pf_integrated.csv', 'tnf_integrated.csv', 'yield_integrated.csv']
mt_df = pd.read_csv(os.path.join(data_path, "missing_teats.csv"))
cow_list = np.unique(mt_df.cow)
len(cow_list)


for file in filenames:
    df = pd.read_csv(os.path.join(data_path, file)).set_index("cow")
    for cow in cow_list:
        teats_missing = mt_df[mt_df.cow == cow]["teat"].values
        for teat in teats_missing:
            columns_with_teat = [col for col in df.columns if teat in col]
            df.loc[cow, columns_with_teat] = np.nan
            # section = df.loc[cow, columns_with_teat]
    # save file 2.0
    df = df.reset_index()
    df.to_csv(os.path.join(data_path, "m" +file), index = False)


feature_path =  r"C:\Users\marie\rep_codes\udder_project\udder_processing\features_dict"
fdf = pd.read_csv(os.path.join(feature_path, "feature_table.csv"))
# cange values of missing teats to missing
for cow in cow_list:
    teats_missing = mt_df[mt_df.cow == cow]["teat"].values
    for teat in teats_missing:
        columns_with_teat = [col for col in fdf.columns if teat in col]
        fdf.loc[fdf.cow == cow, columns_with_teat] = np.nan
        temp = fdf[fdf.cow == cow][columns_with_teat]
        # print(temp)
    fdf.to_csv(os.path.join(feature_path, "mfeature_table.csv"), index = False)


fdf[fdf.columns[3:]] = fdf[fdf.columns[3:]].apply(pd.to_numeric, errors='coerce')
fdfg = fdf.drop(["frame", "filename"], axis = 1).groupby(["cow"]).median()

fdfg_cols = fdfg.columns
for colname in fdfg_cols:
    # print(colname)
    Q1 = np.nanpercentile(fdfg[colname], 25, method='midpoint')
    Q3 = np.nanpercentile(fdfg[colname], 75, method='midpoint')
    med = np.nanpercentile(fdfg[colname], 50, method='midpoint')
    IQR = Q3 - Q1
    low_thres = med - 1.5*IQR
    up_thres = med + 1.5*IQR
    out = (fdfg[colname] < low_thres)| (fdfg[colname] > up_thres)
    fdfg.loc[out, colname] = np.nan

fdfg = fdfg.reset_index()
fdfg.to_csv(os.path.join(feature_path, "gmfeature_table.csv"))



