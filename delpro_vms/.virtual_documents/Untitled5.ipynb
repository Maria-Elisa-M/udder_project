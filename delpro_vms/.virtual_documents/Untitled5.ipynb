# cows missing teats
import os
import pandas as pd
import numpy as np 


dirpath = os.getcwd()
data_path = os.path.join(dirpath, "data_out")

filenames = os.listdir(data_path)
filenames.remove('missing_teats.csv')
filenames.remove('.ipynb_checkpoints')
mt_df = pd.read_csv(os.path.join(data_path, "missing_teats.csv"))


for file in filenames:
    df = pd.read_csv(os.path.join(data_path, file))
    # filter cow with missin teats and set values to nan
    
    print(df.columns)
