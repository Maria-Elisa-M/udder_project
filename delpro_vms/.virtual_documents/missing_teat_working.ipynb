# cows missing teats
import os
import pandas as pd
import numpy as np 



features_path = r"C:\Users\marie\rep_codes\udder_project\udder_processing\features_dict\feature_table.csv"
data_path = r"C:\Users\marie\rep_codes\udder_project\delpro_vms\data_out"

features_df = pd.read_csv(features_path)
yield_df = pd.read_csv(os.path.join(data_path, "yield_integrated.csv"))


list_temp = []
for cow in yield_df.cow:
    cow_line = yield_df[yield_df.cow == cow]
    lfy = cow_line["dyield_lf_cl"].values[0]
    rfy = cow_line["dyield_rf_cl"].values[0]
    lby = cow_line["dyield_lb_cl"].values[0]
    rby = cow_line["dyield_rb_cl"].values[0]
    if lfy < 2:
        list_temp.append([cow, 'lf', lfy])
    if rfy < 2:
        list_temp.append([cow, 'rf', rfy])
    if lby < 2:
        list_temp.append([cow, 'rb', lby])
    if rby < 2:
        list_temp.append([cow, 'lb',rby])

missing_teat_df = pd.DataFrame(list_temp, columns = ["cow", "teat", 'y'])
missing_teat_df.to_csv("missing_teats.csv", index = False)






