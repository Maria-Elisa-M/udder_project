{
 "cells": [
  {
   "cell_type": "code",
   "execution_count": 3,
   "id": "879e51ae-74c4-44d5-abf9-ae1001070842",
   "metadata": {
    "tags": []
   },
   "outputs": [],
   "source": [
    "import pandas as pd\n",
    "import numpy as np\n",
    "import os "
   ]
  },
  {
   "cell_type": "code",
   "execution_count": 4,
   "id": "099cc9f4-7239-4ffd-98e6-e44b2b5fa87b",
   "metadata": {
    "tags": []
   },
   "outputs": [],
   "source": [
    "milk_df = pd.read_csv(\"milk_videos.csv\")"
   ]
  },
  {
   "cell_type": "code",
   "execution_count": 28,
   "id": "8dd3568d-0a84-476e-9769-461bdc683ee1",
   "metadata": {
    "tags": []
   },
   "outputs": [],
   "source": [
    "# prediced cows \n",
    "# video metadata path\n",
    "dirpath = os.getcwd()\n",
    "pred_path = os.path.join(os.path.normpath(dirpath + os.sep + os.pardir), r'udder_processing\\cow_good_frames.csv')\n",
    "video_path = os.path.join(os.path.normpath(dirpath + os.sep + os.pardir), r'udder_video')\n",
    "pred_cows = list(pd.read_csv(pred_path)[\"cow\"].values)\n",
    "\n",
    "with open(os.path.join(video_path, \"filelist_toframe.txt\"), \"r\") as f:\n",
    "    video_files = [file.replace(\"\\n\", \"\").split(\",\") for file in f.readlines()]\n",
    "labeled_cows = [int(file[1].split(\"_\")[0]) for file in video_files]\n",
    "\n",
    "all_cows = pred_cows +labeled_cows"
   ]
  },
  {
   "cell_type": "code",
   "execution_count": 33,
   "id": "0fe90077-879e-4f86-b31e-4f3b95135ea5",
   "metadata": {
    "tags": []
   },
   "outputs": [
    {
     "data": {
      "text/html": [
       "<div>\n",
       "<style scoped>\n",
       "    .dataframe tbody tr th:only-of-type {\n",
       "        vertical-align: middle;\n",
       "    }\n",
       "\n",
       "    .dataframe tbody tr th {\n",
       "        vertical-align: top;\n",
       "    }\n",
       "\n",
       "    .dataframe thead th {\n",
       "        text-align: right;\n",
       "    }\n",
       "</style>\n",
       "<table border=\"1\" class=\"dataframe\">\n",
       "  <thead>\n",
       "    <tr style=\"text-align: right;\">\n",
       "      <th></th>\n",
       "      <th>cow</th>\n",
       "      <th>farmname</th>\n",
       "      <th>robotside</th>\n",
       "      <th>filename</th>\n",
       "      <th>directory</th>\n",
       "      <th>date</th>\n",
       "      <th>time</th>\n",
       "      <th>size</th>\n",
       "      <th>computer</th>\n",
       "      <th>begin_time</th>\n",
       "      <th>...</th>\n",
       "      <th>latest_lifetime_daily_yield</th>\n",
       "      <th>total_lifetime_yield</th>\n",
       "      <th>type</th>\n",
       "      <th>avg._occ_last_9_milkings</th>\n",
       "      <th>avg._flow_last_7_days</th>\n",
       "      <th>avg._yield_per_milking_last_7d</th>\n",
       "      <th>total_yield_in_lactation</th>\n",
       "      <th>peak_yield</th>\n",
       "      <th>peak_yield_day</th>\n",
       "      <th>peak_occ_current_lactation.1</th>\n",
       "    </tr>\n",
       "  </thead>\n",
       "  <tbody>\n",
       "    <tr>\n",
       "      <th>153</th>\n",
       "      <td>1489</td>\n",
       "      <td>laufenberg</td>\n",
       "      <td>right</td>\n",
       "      <td>1489_20231117_165935.bag</td>\n",
       "      <td>videos_1</td>\n",
       "      <td>20231117</td>\n",
       "      <td>17:03:58</td>\n",
       "      <td>20348549877</td>\n",
       "      <td>maria</td>\n",
       "      <td>11/17/2023 4:57 PM</td>\n",
       "      <td>...</td>\n",
       "      <td>0.7</td>\n",
       "      <td>508.0</td>\n",
       "      <td>Tank</td>\n",
       "      <td>NaN</td>\n",
       "      <td>12.51</td>\n",
       "      <td>31.68</td>\n",
       "      <td>507.97</td>\n",
       "      <td>NaN</td>\n",
       "      <td>NaN</td>\n",
       "      <td>NaN</td>\n",
       "    </tr>\n",
       "  </tbody>\n",
       "</table>\n",
       "<p>1 rows × 50 columns</p>\n",
       "</div>"
      ],
      "text/plain": [
       "      cow    farmname robotside                  filename directory      date  \\\n",
       "153  1489  laufenberg     right  1489_20231117_165935.bag  videos_1  20231117   \n",
       "\n",
       "         time         size computer          begin_time  ...  \\\n",
       "153  17:03:58  20348549877    maria  11/17/2023 4:57 PM  ...   \n",
       "\n",
       "    latest_lifetime_daily_yield  total_lifetime_yield  type  \\\n",
       "153                         0.7                 508.0  Tank   \n",
       "\n",
       "     avg._occ_last_9_milkings  avg._flow_last_7_days  \\\n",
       "153                       NaN                  12.51   \n",
       "\n",
       "     avg._yield_per_milking_last_7d  total_yield_in_lactation  peak_yield  \\\n",
       "153                           31.68                    507.97         NaN   \n",
       "\n",
       "     peak_yield_day  peak_occ_current_lactation.1  \n",
       "153             NaN                           NaN  \n",
       "\n",
       "[1 rows x 50 columns]"
      ]
     },
     "execution_count": 33,
     "metadata": {},
     "output_type": "execute_result"
    }
   ],
   "source": [
    "milk_df[~milk_df.cow.isin(all_cows)]"
   ]
  },
  {
   "cell_type": "code",
   "execution_count": null,
   "id": "9df5d2de-3166-4b34-8fb9-fb5b705cbce7",
   "metadata": {},
   "outputs": [],
   "source": []
  }
 ],
 "metadata": {
  "kernelspec": {
   "display_name": "Python 3 (ipykernel)",
   "language": "python",
   "name": "python3"
  },
  "language_info": {
   "codemirror_mode": {
    "name": "ipython",
    "version": 3
   },
   "file_extension": ".py",
   "mimetype": "text/x-python",
   "name": "python",
   "nbconvert_exporter": "python",
   "pygments_lexer": "ipython3",
   "version": "3.10.13"
  }
 },
 "nbformat": 4,
 "nbformat_minor": 5
}
