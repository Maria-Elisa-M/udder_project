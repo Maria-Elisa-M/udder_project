{
 "cells": [
  {
   "cell_type": "code",
   "execution_count": 39,
   "id": "2f439113-499c-4eea-875f-3b4682dd98c1",
   "metadata": {
    "tags": []
   },
   "outputs": [],
   "source": [
    "import pandas as pd\n",
    "import numpy as np\n",
    "import os "
   ]
  },
  {
   "cell_type": "code",
   "execution_count": 40,
   "id": "18e23dd6-0f25-4590-b228-1acc59e63078",
   "metadata": {
    "tags": []
   },
   "outputs": [],
   "source": [
    "milk_df = pd.read_csv(\"milk_videos.csv\")"
   ]
  },
  {
   "cell_type": "code",
   "execution_count": 41,
   "id": "1a63c7be-6bca-4977-a2eb-120890b2ec50",
   "metadata": {
    "tags": []
   },
   "outputs": [],
   "source": [
    "dirpath = os.getcwd()\n",
    "video_path = os.path.join(os.path.normpath(dirpath + os.sep + os.pardir), r'udder_video')\n",
    "with open(os.path.join(video_path, \"filelist_toframe.txt\"), \"r\") as f:\n",
    "    video_files = [file.replace(\"\\n\", \"\").split(\",\") for file in f.readlines()]\n",
    "labeled_files = [file[1] for file in video_files]\n",
    "with open(os.path.join(video_path, \"filelist_topred.txt\"), \"r\") as f:\n",
    "    video_files = [file.replace(\"\\n\", \"\").split(\",\") for file in f.readlines()]\n",
    "pred_files = [file[1] for file in video_files]"
   ]
  },
  {
   "cell_type": "code",
   "execution_count": 44,
   "id": "92fa0393-3451-4c59-9071-315ef898eb8a",
   "metadata": {
    "tags": []
   },
   "outputs": [],
   "source": [
    "all_files = labeled_files + pred_files \n",
    "all_files.remove(\"1489_20231117_165935.bag\")"
   ]
  },
  {
   "cell_type": "code",
   "execution_count": 61,
   "id": "a3d6954c-29be-461e-9237-1fa94f81895b",
   "metadata": {
    "tags": []
   },
   "outputs": [],
   "source": [
    "# filter data from videos rendered\n",
    "milk_df = milk_df[milk_df.filename.isin(all_files)]\n",
    "parity = milk_df.lactation_number[~np.isnan(milk_df.lactation_number)]\n",
    "dims = milk_df.days_in_milk[~np.isnan(milk_df.days_in_milk)]"
   ]
  },
  {
   "cell_type": "code",
   "execution_count": 62,
   "id": "0442a9b8-e2b0-4c0a-92f4-7d27241c6bdf",
   "metadata": {
    "tags": []
   },
   "outputs": [
    {
     "name": "stdout",
     "output_type": "stream",
     "text": [
      "parity mean 2.26, sd 1.2405912568878867\n",
      "DIM mean 155.12, sd 103.19715241549386\n"
     ]
    }
   ],
   "source": [
    "print(f\"parity mean {np.mean(parity)}, sd {np.std(parity)}\")\n",
    "print(f\"DIM mean {np.mean(dims)}, sd {np.std(dims)}\")"
   ]
  },
  {
   "cell_type": "code",
   "execution_count": 60,
   "id": "0166da25-40f0-466c-aa9f-4426e1080054",
   "metadata": {
    "tags": []
   },
   "outputs": [
    {
     "data": {
      "text/plain": [
       "Series([], Name: days_in_milk, dtype: float64)"
      ]
     },
     "execution_count": 60,
     "metadata": {},
     "output_type": "execute_result"
    }
   ],
   "source": [
    "milk_df.days_in_milk[np.isnan(milk_df.days_in_milk)]"
   ]
  }
 ],
 "metadata": {
  "kernelspec": {
   "display_name": "Python 3 (ipykernel)",
   "language": "python",
   "name": "python3"
  },
  "language_info": {
   "codemirror_mode": {
    "name": "ipython",
    "version": 3
   },
   "file_extension": ".py",
   "mimetype": "text/x-python",
   "name": "python",
   "nbconvert_exporter": "python",
   "pygments_lexer": "ipython3",
   "version": "3.10.13"
  }
 },
 "nbformat": 4,
 "nbformat_minor": 5
}
