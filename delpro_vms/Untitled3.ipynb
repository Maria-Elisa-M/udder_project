{
 "cells": [
  {
   "cell_type": "code",
   "execution_count": 1,
   "id": "fd4a4f7b-f49d-4995-b8a7-63dfec49e6ed",
   "metadata": {},
   "outputs": [],
   "source": [
    "import matplotlib.pyplot as plt\n",
    "import pandas as pd\n",
    "import numpy as np\n",
    "import re\n",
    "import os\n",
    "import seaborn as sns\n",
    "from datetime import datetime, timedelta"
   ]
  },
  {
   "cell_type": "code",
   "execution_count": 2,
   "id": "325651b9-191a-4051-8a68-6bbc13a9d37e",
   "metadata": {},
   "outputs": [
    {
     "name": "stderr",
     "output_type": "stream",
     "text": [
      "C:\\Users\\marie\\AppData\\Local\\Temp\\ipykernel_17484\\224687448.py:4: SettingWithCopyWarning: \n",
      "A value is trying to be set on a copy of a slice from a DataFrame.\n",
      "Try using .loc[row_indexer,col_indexer] = value instead\n",
      "\n",
      "See the caveats in the documentation: https://pandas.pydata.org/pandas-docs/stable/user_guide/indexing.html#returning-a-view-versus-a-copy\n",
      "  fresh_dates[\"fresh_date\"] = pd.to_datetime(fresh_dates[\"last_calving_date\"], format = '%m/%d/%Y')\n"
     ]
    }
   ],
   "source": [
    "animaldf = pd.read_csv(\"animal_info.csv\", sep = \";\")\n",
    "animaldf.columns = [col.replace(\" \", \"_\").lower().replace(\"-\", \"\") for col in animaldf.columns]\n",
    "fresh_dates = animaldf[[\"animal_number\", \"last_calving_date\"]]\n",
    "fresh_dates[\"fresh_date\"] = pd.to_datetime(fresh_dates[\"last_calving_date\"], format = '%m/%d/%Y')\n",
    "fresh_dates = fresh_dates[~fresh_dates.fresh_date.isnull()]\n",
    "fresh_dates = fresh_dates.drop(\"last_calving_date\", axis = 1)\n",
    "fresh_dates = fresh_dates[(~fresh_dates.animal_number.isna())]\n",
    "\n",
    "df = pd.read_csv(r\"more_reports\\oneyear_data.csv\", sep = \";\")\n",
    "df.columns = [col.replace(\" \", \"_\").lower().replace(\"-\", \"\") for col in df.columns]\n",
    "df[\"date\"] = pd.to_datetime(df[\"date\"], format = '%m/%d/%Y')\n",
    "merged_df =  pd.merge(fresh_dates, df,  left_on=\"animal_number\", right_on = \"animal_number\")\n",
    "\n",
    "merged_df[\"dim\"] = (merged_df[\"date\"] - merged_df[\"fresh_date\"]).dt.days\n",
    "df2 = merged_df[merged_df.dim >= 0]"
   ]
  },
  {
   "cell_type": "code",
   "execution_count": 3,
   "id": "2954d45a-4c65-4304-befa-2eaa6207a45f",
   "metadata": {},
   "outputs": [],
   "source": [
    "pf_df = df2[['animal_number', 'peak_flow_lf', 'peak_flow_lr', 'peak_flow_rf', 'peak_flow_rr', 'dim']]\n",
    "pf_gdf = pf_df.groupby(['animal_number']).agg({'peak_flow_lf': 'mean', 'peak_flow_lr':'mean', 'peak_flow_rf': 'mean', 'peak_flow_rr': 'mean', 'dim':'max'}).reset_index()\n",
    "pf_gdf = pf_gdf.rename(columns = {'peak_flow_lf' : 'peak_flow_lf_cl', 'peak_flow_rf':'peak_flow_rf_cl', 'peak_flow_rr':'peak_flow_rr_cl', 'peak_flow_lr': 'peak_flow_lr_cl'})\n",
    "\n",
    "pf1 = pf_gdf"
   ]
  },
  {
   "cell_type": "code",
   "execution_count": 4,
   "id": "b0840122-ba44-4c3c-9b53-9c842693f1be",
   "metadata": {},
   "outputs": [],
   "source": [
    "pf_df = df2[(df2.date >= '2023-11-10') & (df2.date < '2023-11-17')]\n",
    "pf_df = pf_df[['animal_number', 'peak_flow_lf', 'peak_flow_lr', 'peak_flow_rf', 'peak_flow_rr', 'dim']]\n",
    "pf_gdf = pf_df.groupby(['animal_number']).agg({'peak_flow_lf': 'mean', 'peak_flow_lr':'mean', 'peak_flow_rf': 'mean', 'peak_flow_rr': 'mean'}).reset_index()\n",
    "pf_gdf = pf_gdf.rename(columns = {'peak_flow_lf' : 'peak_flow_lf_7d', 'peak_flow_rf':'peak_flow_rf_7d', 'peak_flow_rr':'peak_flow_rr_7d', 'peak_flow_lr': 'peak_flow_lr_7d'})\n",
    "pf2 = pf_gdf"
   ]
  },
  {
   "cell_type": "code",
   "execution_count": 5,
   "id": "8b81cf42-d66a-4766-b7de-6f0092d03418",
   "metadata": {},
   "outputs": [],
   "source": [
    "integrated_df = pf1.merge(pf2, how='left', on = \"animal_number\")\n",
    "integrated_df.columns = [col.replace(\"rr\", \"rb\").replace(\"lr\", \"lb\").replace(\"animal_number\", \"cow\") for col in integrated_df.columns]\n",
    "integrated_df.to_csv(r\"data_out\\pf_integrated.csv\", index = False)"
   ]
  },
  {
   "cell_type": "code",
   "execution_count": null,
   "id": "41ac9e7c-5114-4b2b-8fe0-d4018638d837",
   "metadata": {},
   "outputs": [],
   "source": []
  }
 ],
 "metadata": {
  "kernelspec": {
   "display_name": "Python 3 (ipykernel)",
   "language": "python",
   "name": "python3"
  },
  "language_info": {
   "codemirror_mode": {
    "name": "ipython",
    "version": 3
   },
   "file_extension": ".py",
   "mimetype": "text/x-python",
   "name": "python",
   "nbconvert_exporter": "python",
   "pygments_lexer": "ipython3",
   "version": "3.11.5"
  }
 },
 "nbformat": 4,
 "nbformat_minor": 5
}
