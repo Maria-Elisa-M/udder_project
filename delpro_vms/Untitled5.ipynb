{
 "cells": [
  {
   "cell_type": "code",
   "execution_count": 1,
   "id": "7f72b152-0890-4107-98ba-b05ad77792fc",
   "metadata": {},
   "outputs": [],
   "source": [
    "# cows missing teats\n",
    "import os\n",
    "import pandas as pd\n",
    "import numpy as np "
   ]
  },
  {
   "cell_type": "code",
   "execution_count": 27,
   "id": "f6cd145e-5085-4604-a927-8d52716b0d82",
   "metadata": {},
   "outputs": [
    {
     "data": {
      "text/plain": [
       "38"
      ]
     },
     "execution_count": 27,
     "metadata": {},
     "output_type": "execute_result"
    }
   ],
   "source": [
    "dirpath = os.getcwd()\n",
    "data_path = os.path.join(dirpath, \"data_out\")\n",
    "\n",
    "filenames = os.listdir(data_path)\n",
    "filenames.remove('missing_teats.csv')\n",
    "filenames.remove('.ipynb_checkpoints')\n",
    "mt_df = pd.read_csv(os.path.join(data_path, \"missing_teats.csv\"))\n",
    "cow_list = np.unique(mt_df.cow)\n",
    "len(cow_list)"
   ]
  },
  {
   "cell_type": "code",
   "execution_count": 43,
   "id": "8693f0bd-80a4-4788-9b86-568c00e92765",
   "metadata": {},
   "outputs": [],
   "source": [
    "for file in filenames:\n",
    "    df = pd.read_csv(os.path.join(data_path, file)).set_index(\"cow\")\n",
    "    for cow in cow_list:\n",
    "        teats_missing = mt_df[mt_df.cow == cow][\"teat\"].values\n",
    "        for teat in teats_missing:\n",
    "            columns_with_teat = [col for col in df.columns if teat in col]\n",
    "            df.loc[cow, columns_with_teat] = np.nan\n",
    "            # section = df.loc[cow, columns_with_teat]\n",
    "    # save file 2.0\n",
    "    df = df.reset_index()\n",
    "    df.to_csv(os.path.join(data_path, \"m\" +file), index = False)"
   ]
  },
  {
   "cell_type": "code",
   "execution_count": 58,
   "id": "772a93c9-4231-47dd-98ab-1e739e6634d4",
   "metadata": {},
   "outputs": [
    {
     "name": "stderr",
     "output_type": "stream",
     "text": [
      "C:\\Users\\marie\\AppData\\Local\\Temp\\ipykernel_21360\\2951280191.py:2: DtypeWarning: Columns (21,22,23,24) have mixed types. Specify dtype option on import or set low_memory=False.\n",
      "  fdf = pd.read_csv(os.path.join(feature_path, \"feature_table.csv\"))\n"
     ]
    }
   ],
   "source": [
    "feature_path =  r\"C:\\Users\\marie\\rep_codes\\udder_project\\udder_processing\\features_dict\"\n",
    "fdf = pd.read_csv(os.path.join(feature_path, \"feature_table.csv\"))\n",
    "# cange values of missing teats to missing\n",
    "for cow in cow_list:\n",
    "    teats_missing = mt_df[mt_df.cow == cow][\"teat\"].values\n",
    "    for teat in teats_missing:\n",
    "        columns_with_teat = [col for col in fdf.columns if teat in col]\n",
    "        fdf.loc[fdf.cow == cow, columns_with_teat] = np.nan\n",
    "        temp = fdf[fdf.cow == cow][columns_with_teat]\n",
    "        # print(temp)\n",
    "    fdf.to_csv(os.path.join(feature_path, \"mfeature_table.csv\"))"
   ]
  },
  {
   "cell_type": "code",
   "execution_count": 90,
   "id": "ea065ba8-4bb7-4eee-bcd6-2124d41ebc90",
   "metadata": {},
   "outputs": [
    {
     "name": "stdout",
     "output_type": "stream",
     "text": [
      "udder_vol\n",
      "lf_vol\n",
      "rf_vol\n",
      "lb_vol\n",
      "rb_vol\n",
      "udder_sarea\n",
      "lf_sarea\n",
      "rf_sarea\n",
      "lb_sarea\n",
      "rb_sarea\n",
      "lf_angle\n",
      "rf_angle\n",
      "lb_angle\n",
      "rb_angle\n",
      "front_eu\n",
      "back_eu\n",
      "right_eu\n",
      "left_eu\n",
      "front_gd\n",
      "back_gd\n",
      "right_gd\n",
      "left_gd\n",
      "udder_peri\n",
      "udder_area\n",
      "udder_circ\n",
      "udder_exc\n",
      "lf_peri\n",
      "lf_area\n",
      "lf_circ\n",
      "lf_exc\n",
      "rf_peri\n",
      "rf_area\n",
      "rf_circ\n",
      "rf_exc\n",
      "lb_peri\n",
      "lb_area\n",
      "lb_circ\n",
      "lb_exc\n",
      "rb_peri\n",
      "rb_area\n",
      "rb_circ\n",
      "rb_exc\n",
      "lf_len\n",
      "rf_len\n",
      "lb_len\n",
      "rb_len\n"
     ]
    }
   ],
   "source": [
    "fdf[fdf.columns[3:]] = fdf[fdf.columns[3:]].apply(pd.to_numeric, errors='coerce')\n",
    "fdfg = fdf.drop([\"frame\", \"filename\"], axis = 1).groupby([\"cow\"]).median()\n",
    "\n",
    "fdfg_cols = fdfg.columns\n",
    "for colname in fdfg_cols:\n",
    "    # print(colname)\n",
    "    Q1 = np.nanpercentile(fdfg[colname], 25, method='midpoint')\n",
    "    Q3 = np.nanpercentile(fdfg[colname], 75, method='midpoint')\n",
    "    med = np.nanpercentile(fdfg[colname], 50, method='midpoint')\n",
    "    IQR = Q3 - Q1\n",
    "    low_thres = med - 1.5*IQR\n",
    "    up_thres = med + 1.5*IQR\n",
    "    out = (fdfg[colname] < low_thres)| (fdfg[colname] > up_thres)\n",
    "    fdfg.loc[out, colname] = np.nan\n",
    "\n",
    "fdfg = fdfg.reset_index()\n",
    "fdfg.to_csv(os.path.join(feature_path, \"gmfeature_table.csv\"))"
   ]
  }
 ],
 "metadata": {
  "kernelspec": {
   "display_name": "Python 3 (ipykernel)",
   "language": "python",
   "name": "python3"
  },
  "language_info": {
   "codemirror_mode": {
    "name": "ipython",
    "version": 3
   },
   "file_extension": ".py",
   "mimetype": "text/x-python",
   "name": "python",
   "nbconvert_exporter": "python",
   "pygments_lexer": "ipython3",
   "version": "3.11.5"
  }
 },
 "nbformat": 4,
 "nbformat_minor": 5
}
