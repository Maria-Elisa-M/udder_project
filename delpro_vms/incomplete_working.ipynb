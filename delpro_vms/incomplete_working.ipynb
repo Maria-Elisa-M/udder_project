{
 "cells": [
  {
   "cell_type": "code",
   "execution_count": 3,
   "id": "531d0d68-93ea-4edd-af6e-06a43bdfde93",
   "metadata": {},
   "outputs": [],
   "source": [
    "#\n",
    "import matplotlib.pyplot as plt\n",
    "import pandas as pd\n",
    "import numpy as np\n",
    "import re\n",
    "import os\n",
    "import seaborn as sns\n",
    "from datetime import datetime, timedelta\n",
    "import warnings\n",
    "warnings.filterwarnings('ignore')"
   ]
  },
  {
   "cell_type": "code",
   "execution_count": 4,
   "id": "b5cfdc82-55bb-40c1-aaf9-07a3fb748c36",
   "metadata": {},
   "outputs": [],
   "source": [
    "animaldf = pd.read_csv(\"animal_info.csv\", sep = \";\")\n",
    "animaldf.columns = [col.replace(\" \", \"_\").lower().replace(\"-\", \"\") for col in animaldf.columns]\n",
    "fresh_dates = animaldf[[\"animal_number\", \"last_calving_date\"]]\n",
    "fresh_dates[\"fresh_date\"] = pd.to_datetime(fresh_dates[\"last_calving_date\"], format = '%m/%d/%Y')\n",
    "fresh_dates = fresh_dates[~fresh_dates.fresh_date.isnull()]\n",
    "fresh_dates = fresh_dates.drop(\"last_calving_date\", axis = 1)\n",
    "fresh_dates = fresh_dates[(~fresh_dates.animal_number.isna())]"
   ]
  },
  {
   "cell_type": "code",
   "execution_count": 5,
   "id": "4a531494-a715-4319-aeba-6f34be2d45a4",
   "metadata": {},
   "outputs": [],
   "source": [
    "df = pd.read_csv(r\"more_reports\\oneyear_data.csv\", sep = \";\")\n",
    "df.columns = [col.replace(\" \", \"_\").lower().replace(\"-\", \"\") for col in df.columns]\n",
    "df[\"date\"] = pd.to_datetime(df[\"date\"], format = '%m/%d/%Y')\n",
    "merged_df =  pd.merge(fresh_dates, df,  left_on=\"animal_number\", right_on = \"animal_number\")\n",
    "\n",
    "merged_df[\"dim\"] = (merged_df[\"date\"] - merged_df[\"fresh_date\"]).dt.days\n",
    "df2 = merged_df[merged_df.dim >= 0]"
   ]
  },
  {
   "cell_type": "markdown",
   "id": "b50d8630-ce73-487d-883c-9bee4c913136",
   "metadata": {},
   "source": [
    "# Daily incomplete milkings"
   ]
  },
  {
   "cell_type": "markdown",
   "id": "d0f9a3a8-a18a-48a1-ba95-d8446c8f7633",
   "metadata": {},
   "source": [
    "## current lactation"
   ]
  },
  {
   "cell_type": "code",
   "execution_count": 6,
   "id": "8d87c4ca-11f5-443e-8497-390bb4d76238",
   "metadata": {},
   "outputs": [],
   "source": [
    "inc_df = df2[['animal_number', 'date', 'incomplete', 'dim']]\n",
    "inc_dfg = inc_df.groupby([\"animal_number\", \"date\", \"dim\"]).agg(\"sum\").reset_index()\n",
    "inc_dfg[\"dinc\"]  = [1 if val >0 else 0 for val in inc_dfg.incomplete]\n",
    "\n",
    "inc_dfg = inc_dfg.groupby([\"animal_number\"]).agg({\"dinc\":\"sum\", \"dim\": \"max\"}).reset_index()\n",
    "inc_dfg = inc_dfg.rename(columns = {\"dinc\":\"dinc_cl\"})\n",
    "\n",
    "inc_dfg[\"dinc_dim_cl\"] = (inc_dfg[\"dinc_cl\"]/inc_dfg[\"dim\"])*100\n",
    "\n",
    "inc1 = inc_dfg"
   ]
  },
  {
   "cell_type": "markdown",
   "id": "4945079f-38b4-4273-bfbb-a10e4a175548",
   "metadata": {},
   "source": [
    "##  7 days"
   ]
  },
  {
   "cell_type": "code",
   "execution_count": 7,
   "id": "4d285277-40f7-49c4-b1ec-fbf190cbf280",
   "metadata": {},
   "outputs": [],
   "source": [
    "inc_df = df2[(df2.date >= '2023-11-10') & (df2.date < '2023-11-17')]\n",
    "inc_df = inc_df[['animal_number', 'date', 'incomplete', 'dim']]\n",
    "inc_dfg = inc_df.groupby([\"animal_number\", \"date\", \"dim\"]).agg(\"sum\").reset_index()\n",
    "inc_dfg[\"dinc\"]  = [1 if val >0 else 0 for val in inc_dfg.incomplete]\n",
    "\n",
    "inc_dfg = inc_dfg.groupby([\"animal_number\"]).agg({\"dinc\":\"sum\"}).reset_index()\n",
    "inc_dfg = inc_dfg.rename(columns = {\"dinc\":\"dinc_7d\"})\n",
    "\n",
    "inc_dfg[\"dinc_dim_7d\"] = (inc_dfg[\"dinc_7d\"]/7)*100\n",
    "\n",
    "inc2 = inc_dfg"
   ]
  },
  {
   "cell_type": "markdown",
   "id": "8c452310-af89-4b89-89ca-e35952cd4794",
   "metadata": {},
   "source": [
    "# Visit incomplete milkings"
   ]
  },
  {
   "cell_type": "markdown",
   "id": "c7689927-0681-4a41-ad3f-9ae8dab4be9d",
   "metadata": {},
   "source": [
    "## current lactation"
   ]
  },
  {
   "cell_type": "code",
   "execution_count": 8,
   "id": "1ba4b132-c77e-4691-93c2-1be7cd86f205",
   "metadata": {},
   "outputs": [],
   "source": [
    "inc_df = df2[['animal_number', 'date', 'incomplete', 'dim']]\n",
    "inc_dfg = inc_df.groupby([\"animal_number\"]).agg({\"incomplete\":\"sum\", \"date\": \"count\"}).reset_index()\n",
    "inc_dfg = inc_dfg.rename(columns = {\"incomplete\":\"vinc_cl\", \"date\": \"visits_cl\"})\n",
    "\n",
    "inc_dfg[\"vinc_nv_cl\"] = (inc_dfg[\"vinc_cl\"]/inc_dfg[\"visits_cl\"])*100\n",
    "inc3 = inc_dfg"
   ]
  },
  {
   "cell_type": "markdown",
   "id": "39817fea-c865-49bb-abbc-613066932c8e",
   "metadata": {},
   "source": [
    "## 7  days"
   ]
  },
  {
   "cell_type": "code",
   "execution_count": 9,
   "id": "a05c0c19-b508-456d-8e38-6dc6d46bf7c7",
   "metadata": {},
   "outputs": [],
   "source": [
    "inc_df = df2[(df2.date >= '2023-11-10') & (df2.date < '2023-11-17')]\n",
    "inc_df = inc_df[['animal_number', 'date', 'incomplete', 'dim']]\n",
    "inc_dfg = inc_df.groupby([\"animal_number\"]).agg({\"incomplete\":\"sum\", \"date\": \"count\"}).reset_index()\n",
    "inc_dfg = inc_dfg.rename(columns = {\"incomplete\":\"vinc_7d\", \"date\": \"visits_7d\"})\n",
    "\n",
    "inc_dfg[\"vinc_nv_7d\"] = (inc_dfg[\"vinc_7d\"]/inc_dfg[\"visits_7d\"])*100\n",
    "inc4 = inc_dfg"
   ]
  },
  {
   "cell_type": "markdown",
   "id": "5176e065-1238-4f1d-bcfb-72d0f415e0e8",
   "metadata": {},
   "source": [
    "# Merge and save "
   ]
  },
  {
   "cell_type": "code",
   "execution_count": 10,
   "id": "3b0f3f91-61bc-4d7b-8862-1dba2bedc394",
   "metadata": {},
   "outputs": [],
   "source": [
    "integrated_df = inc1.merge(inc2, how='left', on = \"animal_number\").merge(inc3, how='left', on = \"animal_number\").merge(inc4, how='left', on = \"animal_number\")\n",
    "integrated_df.columns = [col.replace(\"animal_number\", \"cow\") for col in integrated_df.columns]\n",
    "integrated_df.to_csv(r\"data_out\\inc_integrated.csv\", index = False)"
   ]
  },
  {
   "cell_type": "code",
   "execution_count": null,
   "id": "c5978fd5-b5cf-4f3b-8b2a-8e8de016ab93",
   "metadata": {},
   "outputs": [],
   "source": []
  }
 ],
 "metadata": {
  "kernelspec": {
   "display_name": "Python 3 (ipykernel)",
   "language": "python",
   "name": "python3"
  },
  "language_info": {
   "codemirror_mode": {
    "name": "ipython",
    "version": 3
   },
   "file_extension": ".py",
   "mimetype": "text/x-python",
   "name": "python",
   "nbconvert_exporter": "python",
   "pygments_lexer": "ipython3",
   "version": "3.11.5"
  }
 },
 "nbformat": 4,
 "nbformat_minor": 5
}
