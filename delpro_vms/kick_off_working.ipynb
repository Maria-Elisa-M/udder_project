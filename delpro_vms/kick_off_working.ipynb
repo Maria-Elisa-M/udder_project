{
 "cells": [
  {
   "cell_type": "code",
   "execution_count": 1,
   "id": "fe717eb9-f0fb-4ba5-9961-bfc085b7b91c",
   "metadata": {
    "tags": []
   },
   "outputs": [],
   "source": [
    "#\n",
    "import matplotlib.pyplot as plt\n",
    "import pandas as pd\n",
    "import numpy as np\n",
    "import re\n",
    "import os\n",
    "import seaborn as sns\n",
    "from datetime import datetime, timedelta"
   ]
  },
  {
   "cell_type": "code",
   "execution_count": 2,
   "id": "bcbcbd9d-7771-408f-9e50-f95036ba8468",
   "metadata": {
    "tags": []
   },
   "outputs": [
    {
     "name": "stderr",
     "output_type": "stream",
     "text": [
      "C:\\Users\\marie\\AppData\\Local\\Temp\\ipykernel_12544\\1852963493.py:6: SettingWithCopyWarning: \n",
      "A value is trying to be set on a copy of a slice from a DataFrame.\n",
      "Try using .loc[row_indexer,col_indexer] = value instead\n",
      "\n",
      "See the caveats in the documentation: https://pandas.pydata.org/pandas-docs/stable/user_guide/indexing.html#returning-a-view-versus-a-copy\n",
      "  fresh_dates[\"fresh_date\"] = pd.to_datetime(fresh_dates[\"last_calving_date\"], format = '%m/%d/%Y')\n"
     ]
    }
   ],
   "source": [
    "# join with animal df to get calving date\n",
    "# dir = os.path.join(os.path.normpath(dirpath + os.sep + os.pardir),\"udder_processing\",  \"udder_features\")\n",
    "animaldf = pd.read_csv(\"animal_info.csv\", sep = \";\")\n",
    "animaldf.columns = [col.replace(\" \", \"_\").lower().replace(\"-\", \"\") for col in animaldf.columns]\n",
    "fresh_dates = animaldf[[\"animal_number\", \"last_calving_date\", \"lactation_number\"]]\n",
    "fresh_dates[\"fresh_date\"] = pd.to_datetime(fresh_dates[\"last_calving_date\"], format = '%m/%d/%Y')\n",
    "fresh_dates = fresh_dates[~fresh_dates.fresh_date.isnull()]\n",
    "fresh_dates = fresh_dates.drop(\"last_calving_date\", axis = 1)\n",
    "# filter records only on current lactation \n",
    "# get kickoffs current lactation per quarter"
   ]
  },
  {
   "cell_type": "code",
   "execution_count": 3,
   "id": "19bdc1fc-7958-4298-9cf6-2a3ce414b1a0",
   "metadata": {
    "tags": []
   },
   "outputs": [],
   "source": [
    "# filter records only on current lactation\n",
    "df = pd.read_csv(r\"kick_offs\\kick_offs_year.csv\", sep = \";\")\n",
    "df.columns = [col.replace(\" \", \"_\").lower().replace(\"-\", \"\") for col in df.columns]\n",
    "\n",
    "# [re.findall(\"U\", val) for val in df.kickoff_lr]\n",
    "df[\"ko_lr\"] = [0 if \"U\" in val else 1 for val in df.kickoff_lr]\n",
    "df[\"ko_lf\"] = [0 if \"U\" in val else 1 for val in df.kickoff_lf]\n",
    "df[\"ko_rf\"] = [0 if \"U\" in val else 1 for val in df.kickoff_rf]\n",
    "df[\"ko_rr\"] = [0 if \"U\" in val else 1 for val in df.kickoff_rr]\n",
    "\n",
    "df = df.drop([\"kickoff_rf\", \"kickoff_lf\", \"kickoff_lr\", \"kickoff_rr\"], axis = 1)\n",
    "\n",
    "df[\"date\"] = pd.to_datetime(df[\"date\"], format = '%m/%d/%Y')\n",
    "merged_df =  pd.merge(fresh_dates, df,  left_on=\"animal_number\", right_on = \"animal_number\")\n",
    "\n",
    "merged_df[\"dim\"] = (merged_df[\"date\"] - merged_df[\"fresh_date\"]).dt.days\n",
    "merged_df[\"total\"] = merged_df[\"ko_lf\"] + merged_df[\"ko_rf\"] + merged_df[\"ko_rr\"]+ merged_df[\"ko_lr\"]\n",
    "merged_df = merged_df[merged_df.dim >= 0]"
   ]
  },
  {
   "cell_type": "markdown",
   "id": "44e542a8-321c-403c-a65c-509492fbd0e2",
   "metadata": {},
   "source": [
    "# Kick off daily"
   ]
  },
  {
   "cell_type": "markdown",
   "id": "92d2f38c-69f0-444f-9d50-723caaac4589",
   "metadata": {
    "tags": []
   },
   "source": [
    "## Days with kick offs current lactation "
   ]
  },
  {
   "cell_type": "code",
   "execution_count": 4,
   "id": "f005a313-99ab-4780-99f9-5c7bfe168bcc",
   "metadata": {},
   "outputs": [],
   "source": [
    "ko_df = merged_df.groupby([\"animal_number\", \"lactation_number\", \"date\", \"dim\"])[[\"ko_lr\",\"ko_lf\", \"ko_rf\",\"ko_rr\"]].agg(\"sum\").reset_index()\n",
    "ko_df2 = ko_df.copy()\n",
    "ko_df2[\"dko_lr\"] = (ko_df[\"ko_lr\"] > 0).astype(int)\n",
    "ko_df2[\"dko_lf\"] = (ko_df[\"ko_lf\"] > 0).astype(int)\n",
    "ko_df2[\"dko_rf\"] = (ko_df[\"ko_rf\"] > 0).astype(int)\n",
    "ko_df2[\"dko_rr\"] = (ko_df[\"ko_rr\"] > 0).astype(int)\n",
    "\n",
    "ko_df2.loc[:,\"dko_udder\"] = ((ko_df2.dko_rr + ko_df2.dko_rf +ko_df2.dko_lr + ko_df2.dko_lf) > 0 ).astype(int)\n",
    "\n",
    "ko_df2.to_csv(r\"data_out\\ko_daily.csv\", index = False)\n",
    "ko_df3 = ko_df2.groupby([\"animal_number\", \"lactation_number\"]).agg({\"dko_lr\":\"sum\", \"dko_lf\":\"sum\", \"dko_rr\":\"sum\", \"dko_rf\":\"sum\", \"dko_udder\":\"sum\", \"dim\":\"max\"}).reset_index()\n",
    "ko_df3 = ko_df3.rename(columns ={\"dko_lr\": \"dko_lr_cl\", \"dko_lf\":\"dko_lf_cl\", \"dko_rr\":\"dko_rr_cl\", \"dko_rf\":\"dko_rf_cl\", \"dko_udder\":\"dko_udder_cl\"})\n",
    "\n",
    "ko_df3[\"dko_lr_dim_cl\"] = (ko_df3[\"dko_lr_cl\"]/ko_df3[\"dim\"])*100\n",
    "ko_df3[\"dko_lf_dim_cl\"] = (ko_df3[\"dko_lf_cl\"]/ko_df3[\"dim\"])*100\n",
    "ko_df3[\"dko_rf_dim_cl\"] = (ko_df3[\"dko_rf_cl\"]/ko_df3[\"dim\"])*100\n",
    "ko_df3[\"dko_rr_dim_cl\"] = (ko_df3[\"dko_rr_cl\"]/ko_df3[\"dim\"])*100\n",
    "ko_df3[\"dko_udder_dim_cl\"] = (ko_df3[\"dko_udder_cl\"]/ko_df3[\"dim\"])*100\n",
    "\n",
    "kicko1 = ko_df3"
   ]
  },
  {
   "cell_type": "markdown",
   "id": "38ccccd6-8bf8-45f9-8f84-23cdd7c4390e",
   "metadata": {},
   "source": [
    "## Days with kick offs last 7d (2023-11-9 to 2023-11-16)"
   ]
  },
  {
   "cell_type": "code",
   "execution_count": 5,
   "id": "f50d539b-8508-483a-ab1c-2043f25c81cb",
   "metadata": {},
   "outputs": [],
   "source": [
    "ko_df = merged_df[(merged_df.date >= '2023-11-10') & (merged_df.date < '2023-11-17')]\n",
    "ko_df2[\"dko_lr\"] = (ko_df[\"ko_lr\"] > 0).astype(int)\n",
    "ko_df2[\"dko_lf\"] = (ko_df[\"ko_lf\"] > 0).astype(int)\n",
    "ko_df2[\"dko_rf\"] = (ko_df[\"ko_rf\"] > 0).astype(int)\n",
    "ko_df2[\"dko_rr\"] = (ko_df[\"ko_rr\"] > 0).astype(int)\n",
    "\n",
    "ko_df2.loc[:, \"dko_udder\"] = ((ko_df2.dko_rr + ko_df2.dko_rf +ko_df2.dko_lr + ko_df2.dko_lf) > 0 ).astype(int)\n",
    "ko_df3 = ko_df2.groupby([\"animal_number\", \"lactation_number\"]).agg({\"dko_lr\":\"sum\", \"dko_lf\":\"sum\", \"dko_rr\":\"sum\", \"dko_rf\":\"sum\", \"dko_udder\":\"sum\"}).reset_index()\n",
    "ko_df3 = ko_df3.rename(columns ={\"dko_lr\": \"dko_lr_7d\", \"dko_lf\":\"dko_lf_7d\", \"dko_rr\":\"dko_rr_7d\", \"dko_rf\":\"dko_rf_7d\", \"dko_udder\":\"dko_udder_7d\"})\n",
    "\n",
    "ko_df3[\"dko_lr_nd_7d\"] = (ko_df3[\"dko_lr_7d\"]/7)*100\n",
    "ko_df3[\"dko_lf_nd_7d\"] = (ko_df3[\"dko_lf_7d\"]/7)*100\n",
    "ko_df3[\"dko_rf_nd_7d\"] = (ko_df3[\"dko_rf_7d\"]/7)*100\n",
    "ko_df3[\"dko_rr_nd_7d\"] = (ko_df3[\"dko_rr_7d\"]/7)*100\n",
    "ko_df3[\"dko_udder_nd_7d\"] = (ko_df3[\"dko_udder_7d\"]/7)*100\n",
    "\n",
    "kicko2 = ko_df3"
   ]
  },
  {
   "cell_type": "markdown",
   "id": "cfa6ea6e-288a-43ca-b4b9-a60b7adda720",
   "metadata": {},
   "source": [
    "# kick off visit"
   ]
  },
  {
   "cell_type": "markdown",
   "id": "ce761bfb-5f70-46ed-ac47-d2b611a424a0",
   "metadata": {},
   "source": [
    "## visits with kick offs current lactation "
   ]
  },
  {
   "cell_type": "code",
   "execution_count": 6,
   "id": "431386f3-2464-4125-9d81-dd3bd4e6c253",
   "metadata": {},
   "outputs": [],
   "source": [
    "ko_df = merged_df\n",
    "ko_df.loc[:, \"ko_udder\"] = ((ko_df.ko_rr + ko_df.ko_rf +ko_df.ko_lr + ko_df.ko_lf) > 0 ).astype(int)\n",
    "ko_df3 = ko_df.groupby([\"animal_number\", \"lactation_number\"]).agg({\"ko_lr\":\"sum\", \"ko_lf\":\"sum\", \"ko_rr\":\"sum\", \"ko_rf\":\"sum\", \"ko_udder\":\"sum\", \"date\":\"count\"}).reset_index()\n",
    "ko_df3 = ko_df3.rename(columns ={\"ko_lr\": \"vko_lr_cl\", \"ko_lf\":\"vko_lf_cl\", \"ko_rr\":\"vko_rr_cl\", \"ko_rf\":\"vko_rf_cl\", \"ko_udder\":\"vko_udder_cl\", \"date\":\"visits_cl\"})\n",
    "\n",
    "ko_df3[\"vko_lr_nv_cl\"] = (ko_df3[\"vko_lr_cl\"]/ko_df3['visits_cl'])*100\n",
    "ko_df3[\"vko_lf_nv_cl\"] = (ko_df3[\"vko_lf_cl\"]/ko_df3['visits_cl'])*100\n",
    "ko_df3[\"vko_rf_nv_cl\"] = (ko_df3[\"vko_rf_cl\"]/ko_df3['visits_cl'])*100\n",
    "ko_df3[\"vko_rr_nv_cl\"] = (ko_df3[\"vko_rr_cl\"]/ko_df3['visits_cl'])*100\n",
    "ko_df3[\"vko_udder_nv_cl\"] = (ko_df3[\"vko_udder_cl\"]/ko_df3['visits_cl'])*100\n",
    "\n",
    "kicko3 = ko_df3"
   ]
  },
  {
   "cell_type": "markdown",
   "id": "a213750e-75b1-4aaa-a6f8-326fd1164ef1",
   "metadata": {},
   "source": [
    "## visits with kick offs last 7d "
   ]
  },
  {
   "cell_type": "code",
   "execution_count": 7,
   "id": "57463c8e-452a-42ca-83b5-74356b38e3fd",
   "metadata": {},
   "outputs": [],
   "source": [
    "ko_df = merged_df[(merged_df.date >= '2023-11-10') & (merged_df.date < '2023-11-17')]\n",
    "ko_df.loc[:, \"ko_udder\"] = ((ko_df.ko_rr + ko_df.ko_rf +ko_df.ko_lr + ko_df.ko_lf) > 0 ).astype(int)\n",
    "ko_df3 = ko_df.groupby([\"animal_number\", \"lactation_number\"]).agg({\"ko_lr\":\"sum\", \"ko_lf\":\"sum\", \"ko_rr\":\"sum\", \"ko_rf\":\"sum\", \"ko_udder\":\"sum\", \"date\":\"count\"}).reset_index()\n",
    "ko_df3 = ko_df3.rename(columns ={\"ko_lr\": \"vko_lr_7d\", \"ko_lf\":\"vko_lf_7d\", \"ko_rr\":\"vko_rr_7d\", \"ko_rf\":\"vko_rf_7d\", \"ko_udder\":\"vko_udder_7d\",  \"date\":\"visits_7d\"})\n",
    "\n",
    "ko_df3[\"vko_lr_nv_7d\"] = (ko_df3[\"vko_lr_7d\"]/ko_df3['visits_7d'])*100\n",
    "ko_df3[\"vko_lf_nv_7d\"] = (ko_df3[\"vko_lf_7d\"]/ko_df3['visits_7d'])*100\n",
    "ko_df3[\"vko_rf_nv_7d\"] = (ko_df3[\"vko_rf_7d\"]/ko_df3['visits_7d'])*100\n",
    "ko_df3[\"vko_rr_nv_7d\"] = (ko_df3[\"vko_rr_7d\"]/ko_df3['visits_7d'])*100\n",
    "ko_df3[\"vko_udder_nv_7d\"] = (ko_df3[\"vko_udder_7d\"]/ko_df3['visits_7d'])*100\n",
    "\n",
    "kicko4 = ko_df3"
   ]
  },
  {
   "cell_type": "markdown",
   "id": "58d4e97b-01b3-462d-a7c2-38665296a9b3",
   "metadata": {},
   "source": [
    "# Merge and save"
   ]
  },
  {
   "cell_type": "code",
   "execution_count": 8,
   "id": "574f713d-2fdf-42c9-9d48-0e272c9742e8",
   "metadata": {},
   "outputs": [],
   "source": [
    "integrated_df = kicko1.merge(kicko2, how='left', on = [\"animal_number\", \"lactation_number\"]).merge(kicko3, how='left', on = [\"animal_number\", \"lactation_number\"]).merge(kicko4, how='left', on = [\"animal_number\", \"lactation_number\"])\n",
    "integrated_df.columns = [col.replace(\"rr\", \"rb\").replace(\"lr\", \"lb\").replace(\"animal_number\", \"cow\") for col in integrated_df.columns]\n",
    "integrated_df.to_csv(r\"data_out\\ko_integrated.csv\", index = False)"
   ]
  },
  {
   "cell_type": "code",
   "execution_count": null,
   "id": "7ccd6824-5dad-4328-9c4a-27c82fcd610a",
   "metadata": {},
   "outputs": [],
   "source": []
  },
  {
   "cell_type": "code",
   "execution_count": null,
   "id": "4161c8a6-df7a-4f8a-888e-0a3d1ea2a819",
   "metadata": {},
   "outputs": [],
   "source": []
  }
 ],
 "metadata": {
  "kernelspec": {
   "display_name": "Python 3 (ipykernel)",
   "language": "python",
   "name": "python3"
  },
  "language_info": {
   "codemirror_mode": {
    "name": "ipython",
    "version": 3
   },
   "file_extension": ".py",
   "mimetype": "text/x-python",
   "name": "python",
   "nbconvert_exporter": "python",
   "pygments_lexer": "ipython3",
   "version": "3.11.5"
  }
 },
 "nbformat": 4,
 "nbformat_minor": 5
}
