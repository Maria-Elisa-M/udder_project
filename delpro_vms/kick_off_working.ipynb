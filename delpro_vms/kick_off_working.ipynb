{
 "cells": [
  {
   "cell_type": "code",
   "execution_count": 1,
   "id": "fe717eb9-f0fb-4ba5-9961-bfc085b7b91c",
   "metadata": {
    "tags": []
   },
   "outputs": [],
   "source": [
    "#\n",
    "import matplotlib.pyplot as plt\n",
    "import pandas as pd\n",
    "import numpy as np\n",
    "import re\n",
    "import os\n",
    "import seaborn as sns\n",
    "from datetime import datetime, timedelta"
   ]
  },
  {
   "cell_type": "code",
   "execution_count": 2,
   "id": "bcbcbd9d-7771-408f-9e50-f95036ba8468",
   "metadata": {
    "tags": []
   },
   "outputs": [
    {
     "name": "stderr",
     "output_type": "stream",
     "text": [
      "C:\\Users\\marie\\AppData\\Local\\Temp\\ipykernel_19596\\1852963493.py:6: SettingWithCopyWarning: \n",
      "A value is trying to be set on a copy of a slice from a DataFrame.\n",
      "Try using .loc[row_indexer,col_indexer] = value instead\n",
      "\n",
      "See the caveats in the documentation: https://pandas.pydata.org/pandas-docs/stable/user_guide/indexing.html#returning-a-view-versus-a-copy\n",
      "  fresh_dates[\"fresh_date\"] = pd.to_datetime(fresh_dates[\"last_calving_date\"], format = '%m/%d/%Y')\n"
     ]
    }
   ],
   "source": [
    "# join with animal df to get calving date\n",
    "# dir = os.path.join(os.path.normpath(dirpath + os.sep + os.pardir),\"udder_processing\",  \"udder_features\")\n",
    "animaldf = pd.read_csv(\"animal_info.csv\", sep = \";\")\n",
    "animaldf.columns = [col.replace(\" \", \"_\").lower().replace(\"-\", \"\") for col in animaldf.columns]\n",
    "fresh_dates = animaldf[[\"animal_number\", \"last_calving_date\", \"lactation_number\"]]\n",
    "fresh_dates[\"fresh_date\"] = pd.to_datetime(fresh_dates[\"last_calving_date\"], format = '%m/%d/%Y')\n",
    "fresh_dates = fresh_dates[~fresh_dates.fresh_date.isnull()]\n",
    "fresh_dates = fresh_dates.drop(\"last_calving_date\", axis = 1)\n",
    "# filter records only on current lactation \n",
    "# get kickoffs current lactation per quarter"
   ]
  },
  {
   "cell_type": "code",
   "execution_count": 3,
   "id": "19bdc1fc-7958-4298-9cf6-2a3ce414b1a0",
   "metadata": {
    "tags": []
   },
   "outputs": [],
   "source": [
    "# filter records only on current lactation\n",
    "df = pd.read_csv(r\"kick_offs\\kick_offs_year.csv\", sep = \";\")\n",
    "df.columns = [col.replace(\" \", \"_\").lower().replace(\"-\", \"\") for col in df.columns]\n",
    "\n",
    "# [re.findall(\"U\", val) for val in df.kickoff_lr]\n",
    "df[\"ko_lr\"] = [0 if \"U\" in val else 1 for val in df.kickoff_lr]\n",
    "df[\"ko_lf\"] = [0 if \"U\" in val else 1 for val in df.kickoff_lf]\n",
    "df[\"ko_rf\"] = [0 if \"U\" in val else 1 for val in df.kickoff_rf]\n",
    "df[\"ko_rr\"] = [0 if \"U\" in val else 1 for val in df.kickoff_rr]\n",
    "\n",
    "df = df.drop([\"kickoff_rf\", \"kickoff_lf\", \"kickoff_lr\", \"kickoff_rr\"], axis = 1)\n",
    "\n",
    "df[\"date\"] = pd.to_datetime(df[\"date\"], format = '%m/%d/%Y')\n",
    "merged_df =  pd.merge(fresh_dates, df,  left_on=\"animal_number\", right_on = \"animal_number\")\n",
    "\n",
    "merged_df[\"dim\"] = (merged_df[\"date\"] - merged_df[\"fresh_date\"]).dt.days\n",
    "merged_df[\"total\"] = merged_df[\"ko_lf\"] + merged_df[\"ko_rf\"] + merged_df[\"ko_rr\"]+ merged_df[\"ko_lr\"]\n",
    "merged_df = merged_df[merged_df.dim >= 0]"
   ]
  },
  {
   "cell_type": "markdown",
   "id": "26c3ddb1-a651-4b51-9688-d0d4d9e00e5f",
   "metadata": {},
   "source": [
    "## total kick offs (all visits) current lactation"
   ]
  },
  {
   "cell_type": "code",
   "execution_count": 4,
   "id": "5c12d98b-409e-4b1c-b4e2-658586c5b97d",
   "metadata": {},
   "outputs": [],
   "source": [
    "ko_df = merged_df.groupby([\"animal_number\", \"lactation_number\"])[[\"ko_lr\",\"ko_lf\", \"ko_rf\",\"ko_rr\"]].agg(\"sum\").reset_index()\n",
    "dim_df =  merged_df.groupby(\"animal_number\")[[\"dim\"]].agg([\"max\", \"count\"]).droplevel(axis=1, level=0).reset_index()\n",
    "ko_df2 = pd.merge(ko_df, dim_df,  left_on=\"animal_number\", right_on = \"animal_number\")\n",
    "ko_df2[\"udder_ko\"] = ko_df2.ko_rr + ko_df2.ko_rf +ko_df2.ko_lr + ko_df2.ko_lf\n",
    "\n",
    "ko_df2.to_csv(\"visit_kick_offs_current_lactaion.csv\", index = False)\n",
    "visit = ko_df2"
   ]
  },
  {
   "cell_type": "markdown",
   "id": "768ad102-b755-4020-a57b-7715b1a59361",
   "metadata": {
    "tags": []
   },
   "source": [
    "## days qith kick offs current lactation "
   ]
  },
  {
   "cell_type": "code",
   "execution_count": 7,
   "id": "cd6d1b87-886e-46cf-95f5-d2c7970158c2",
   "metadata": {},
   "outputs": [],
   "source": [
    "ko_df = merged_df.groupby([\"animal_number\", \"lactation_number\", \"date\"])[[\"ko_lr\",\"ko_lf\", \"ko_rf\",\"ko_rr\"]].agg(\"sum\").reset_index()\n",
    "ko_df2 = ko_df.copy()\n",
    "ko_df2[\"dko_lr\"] = (ko_df[\"ko_lr\"] > 0).astype(int)\n",
    "ko_df2[\"dko_lf\"] = (ko_df[\"ko_lf\"] > 0).astype(int)\n",
    "ko_df2[\"dko_rf\"] = (ko_df[\"ko_rf\"] > 0).astype(int)\n",
    "ko_df2[\"dko_rr\"] = (ko_df[\"ko_rr\"] > 0).astype(int)\n",
    "\n",
    "ko_df2[\"udder_dko\"] = ko_df2.ko_rr + ko_df2.ko_rf +ko_df2.ko_lr + ko_df2.ko_lf\n",
    "ko_df2[\"total_dko\"] = (ko_df2[\"udder_dko\"] > 0).astype(int)\n",
    "\n",
    "ko_df3 = ko_df2.groupby([\"animal_number\", \"lactation_number\"])[[\"ko_lr\",\"ko_lf\", \"ko_rf\",\"ko_rr\", \"udder_dko\", \"total_dko\"]].agg(\"sum\").reset_index()\n",
    "ko_df4 = pd.merge(ko_df3, dim_df,  left_on=\"animal_number\", right_on = \"animal_number\")\n",
    "\n",
    "ko_df4[\"ko_days_pc\"] = (ko_df4[\"total_dko\"]/ko_df4[\"max\"])*100\n",
    "\n",
    "ko_df4.to_csv(\"day_kick_offs_current_lactaion.csv\", index = False)"
   ]
  },
  {
   "cell_type": "markdown",
   "id": "38ccccd6-8bf8-45f9-8f84-23cdd7c4390e",
   "metadata": {},
   "source": [
    "## last 7 days (2023-11-9 to 2023-11-16)"
   ]
  },
  {
   "cell_type": "code",
   "execution_count": 19,
   "id": "a82272ad-5728-41fa-b7f6-d8c6dee57a82",
   "metadata": {},
   "outputs": [],
   "source": [
    "merged_df7 = merged_df[(merged_df.date >= '2023-11-9') & (merged_df.date < '2023-11-17')]\n",
    "ko_df = merged_df7.groupby([\"animal_number\", \"lactation_number\", \"date\"])[[\"ko_lr\",\"ko_lf\", \"ko_rf\",\"ko_rr\"]].agg(\"sum\").reset_index()\n",
    "ko_df2 = ko_df.copy()\n",
    "ko_df2[\"dko_lr\"] = (ko_df[\"ko_lr\"] > 0).astype(int)\n",
    "ko_df2[\"dko_lf\"] = (ko_df[\"ko_lf\"] > 0).astype(int)\n",
    "ko_df2[\"dko_rf\"] = (ko_df[\"ko_rf\"] > 0).astype(int)\n",
    "ko_df2[\"dko_rr\"] = (ko_df[\"ko_rr\"] > 0).astype(int)\n",
    "\n",
    "ko_df2[\"udder_dko\"] = ko_df2.ko_rr + ko_df2.ko_rf +ko_df2.ko_lr + ko_df2.ko_lf\n",
    "ko_df2[\"total_dko\"] = (ko_df2[\"udder_dko\"] > 0).astype(int)\n",
    "\n",
    "ko_df3 = ko_df2.groupby([\"animal_number\", \"lactation_number\"])[[\"ko_lr\",\"ko_lf\", \"ko_rf\",\"ko_rr\", \"udder_dko\", \"total_dko\"]].agg(\"sum\").reset_index()\n",
    "ko_df4 = pd.merge(ko_df3, dim_df,  left_on=\"animal_number\", right_on = \"animal_number\")\n",
    "\n",
    "ko_df4[\"ko_days_pc\"] = (ko_df4[\"total_dko\"]/7)*100\n",
    "\n",
    "ko_df4.to_csv(\"day_kick_offs_last_7d.csv\", index = False)"
   ]
  },
  {
   "cell_type": "code",
   "execution_count": null,
   "id": "f50d539b-8508-483a-ab1c-2043f25c81cb",
   "metadata": {},
   "outputs": [],
   "source": []
  }
 ],
 "metadata": {
  "kernelspec": {
   "display_name": "Python 3 (ipykernel)",
   "language": "python",
   "name": "python3"
  },
  "language_info": {
   "codemirror_mode": {
    "name": "ipython",
    "version": 3
   },
   "file_extension": ".py",
   "mimetype": "text/x-python",
   "name": "python",
   "nbconvert_exporter": "python",
   "pygments_lexer": "ipython3",
   "version": "3.11.5"
  }
 },
 "nbformat": 4,
 "nbformat_minor": 5
}
