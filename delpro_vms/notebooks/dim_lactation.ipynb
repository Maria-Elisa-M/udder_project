{
 "cells": [
  {
   "cell_type": "code",
   "execution_count": 1,
   "id": "a70461f6-3246-428b-918f-1acd7f6d764d",
   "metadata": {},
   "outputs": [
    {
     "name": "stderr",
     "output_type": "stream",
     "text": [
      "C:\\Users\\marie\\AppData\\Local\\Temp\\ipykernel_36156\\1657975687.py:1: DeprecationWarning: \n",
      "Pyarrow will become a required dependency of pandas in the next major release of pandas (pandas 3.0),\n",
      "(to allow more performant data types, such as the Arrow string type, and better interoperability with other libraries)\n",
      "but was not found to be installed on your system.\n",
      "If this would cause problems for you,\n",
      "please provide us feedback at https://github.com/pandas-dev/pandas/issues/54466\n",
      "        \n",
      "  import pandas as pd\n"
     ]
    }
   ],
   "source": [
    "import pandas as pd\n",
    "import os\n",
    "from datetime import date, datetime, timedelta\n",
    "import numpy as np\n",
    "import seaborn as sns"
   ]
  },
  {
   "cell_type": "code",
   "execution_count": 3,
   "id": "0478d418-ec1b-47da-9289-65f35fcaddb8",
   "metadata": {},
   "outputs": [],
   "source": [
    "dirpath = os.getcwd()\n",
    "data_path = os.path.join(dirpath, \"..\", \"data\")\n",
    "\n",
    "df = pd.read_csv(os.path.join(data_path, \"delpro_visit_lactation.csv\")) # , header = 0,  names = names, dtype = dtypes)\n",
    "df = df[df['date'].notna()]\n",
    "df.date = [datetime.strptime(day, \"%Y-%m-%d\") for day in df.date]\n",
    "\n",
    "agg_df = df[[\"animal_number\", \"date\", \"days_in_milk\"]].drop_duplicates().groupby(\"animal_number\")\\\n",
    "    .agg(min_date = (\"date\", \"min\"), \\\n",
    "         max_date = (\"date\", \"max\"), \\\n",
    "         count_date = (\"date\", \"count\"), \\\n",
    "         min_dim = (\"days_in_milk\", \"min\"), \\\n",
    "         max_dim = (\"days_in_milk\", \"max\")).reset_index()\n",
    "\n",
    "agg_df.to_csv(os.path.join(data_path, \"dim_lactation.csv\"), index = False)"
   ]
  },
  {
   "cell_type": "code",
   "execution_count": 7,
   "id": "365680ef-cb21-4289-8d84-ca2ac6975d24",
   "metadata": {},
   "outputs": [
    {
     "data": {
      "text/html": [
       "<div>\n",
       "<style scoped>\n",
       "    .dataframe tbody tr th:only-of-type {\n",
       "        vertical-align: middle;\n",
       "    }\n",
       "\n",
       "    .dataframe tbody tr th {\n",
       "        vertical-align: top;\n",
       "    }\n",
       "\n",
       "    .dataframe thead th {\n",
       "        text-align: right;\n",
       "    }\n",
       "</style>\n",
       "<table border=\"1\" class=\"dataframe\">\n",
       "  <thead>\n",
       "    <tr style=\"text-align: right;\">\n",
       "      <th></th>\n",
       "      <th>animal_number</th>\n",
       "      <th>min_date</th>\n",
       "      <th>max_date</th>\n",
       "      <th>count_date</th>\n",
       "      <th>min_dim</th>\n",
       "      <th>max_dim</th>\n",
       "    </tr>\n",
       "  </thead>\n",
       "  <tbody>\n",
       "    <tr>\n",
       "      <th>66</th>\n",
       "      <td>1127</td>\n",
       "      <td>2023-10-06</td>\n",
       "      <td>2024-12-16</td>\n",
       "      <td>440</td>\n",
       "      <td>0.0</td>\n",
       "      <td>437.0</td>\n",
       "    </tr>\n",
       "    <tr>\n",
       "      <th>140</th>\n",
       "      <td>1314</td>\n",
       "      <td>2023-11-16</td>\n",
       "      <td>2024-11-20</td>\n",
       "      <td>374</td>\n",
       "      <td>0.0</td>\n",
       "      <td>370.0</td>\n",
       "    </tr>\n",
       "    <tr>\n",
       "      <th>151</th>\n",
       "      <td>1352</td>\n",
       "      <td>2023-11-13</td>\n",
       "      <td>2024-11-20</td>\n",
       "      <td>381</td>\n",
       "      <td>0.0</td>\n",
       "      <td>373.0</td>\n",
       "    </tr>\n",
       "    <tr>\n",
       "      <th>221</th>\n",
       "      <td>1475</td>\n",
       "      <td>2023-10-09</td>\n",
       "      <td>2024-12-16</td>\n",
       "      <td>437</td>\n",
       "      <td>0.0</td>\n",
       "      <td>434.0</td>\n",
       "    </tr>\n",
       "    <tr>\n",
       "      <th>225</th>\n",
       "      <td>1479</td>\n",
       "      <td>2023-11-13</td>\n",
       "      <td>2024-12-09</td>\n",
       "      <td>402</td>\n",
       "      <td>0.0</td>\n",
       "      <td>392.0</td>\n",
       "    </tr>\n",
       "  </tbody>\n",
       "</table>\n",
       "</div>"
      ],
      "text/plain": [
       "     animal_number   min_date   max_date  count_date  min_dim  max_dim\n",
       "66            1127 2023-10-06 2024-12-16         440      0.0    437.0\n",
       "140           1314 2023-11-16 2024-11-20         374      0.0    370.0\n",
       "151           1352 2023-11-13 2024-11-20         381      0.0    373.0\n",
       "221           1475 2023-10-09 2024-12-16         437      0.0    434.0\n",
       "225           1479 2023-11-13 2024-12-09         402      0.0    392.0"
      ]
     },
     "execution_count": 7,
     "metadata": {},
     "output_type": "execute_result"
    }
   ],
   "source": [
    "last_date = datetime.strptime(\"2024-11-18\", \"%Y-%m-%d\")\n",
    "agg_df[agg_df.max_date > last_date]"
   ]
  },
  {
   "cell_type": "code",
   "execution_count": null,
   "id": "d3eaa420-1bf1-4142-a509-71425c706d92",
   "metadata": {},
   "outputs": [],
   "source": []
  }
 ],
 "metadata": {
  "kernelspec": {
   "display_name": "Python 3 (ipykernel)",
   "language": "python",
   "name": "python3"
  },
  "language_info": {
   "codemirror_mode": {
    "name": "ipython",
    "version": 3
   },
   "file_extension": ".py",
   "mimetype": "text/x-python",
   "name": "python",
   "nbconvert_exporter": "python",
   "pygments_lexer": "ipython3",
   "version": "3.11.5"
  }
 },
 "nbformat": 4,
 "nbformat_minor": 5
}
