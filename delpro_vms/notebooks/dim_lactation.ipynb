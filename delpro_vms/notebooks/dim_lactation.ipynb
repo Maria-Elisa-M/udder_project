{
 "cells": [
  {
   "cell_type": "code",
   "execution_count": 1,
   "id": "a70461f6-3246-428b-918f-1acd7f6d764d",
   "metadata": {},
   "outputs": [
    {
     "name": "stderr",
     "output_type": "stream",
     "text": [
      "C:\\Users\\marie\\AppData\\Local\\Temp\\ipykernel_36156\\1657975687.py:1: DeprecationWarning: \n",
      "Pyarrow will become a required dependency of pandas in the next major release of pandas (pandas 3.0),\n",
      "(to allow more performant data types, such as the Arrow string type, and better interoperability with other libraries)\n",
      "but was not found to be installed on your system.\n",
      "If this would cause problems for you,\n",
      "please provide us feedback at https://github.com/pandas-dev/pandas/issues/54466\n",
      "        \n",
      "  import pandas as pd\n"
     ]
    }
   ],
   "source": [
    "import pandas as pd\n",
    "import os\n",
    "from datetime import date, datetime, timedelta\n",
    "import numpy as np\n",
    "import seaborn as sns"
   ]
  },
  {
   "cell_type": "code",
   "execution_count": 3,
   "id": "0478d418-ec1b-47da-9289-65f35fcaddb8",
   "metadata": {},
   "outputs": [],
   "source": [
    "dirpath = os.getcwd()\n",
    "data_path = os.path.join(dirpath, \"..\", \"data\")\n",
    "\n",
    "df = pd.read_csv(os.path.join(data_path, \"delpro_visit_lactation.csv\")) # , header = 0,  names = names, dtype = dtypes)\n",
    "df = df[df['date'].notna()]\n",
    "df.date = [datetime.strptime(day, \"%Y-%m-%d\") for day in df.date]\n",
    "\n",
    "agg_df = df[[\"animal_number\", \"date\", \"days_in_milk\"]].drop_duplicates().groupby(\"animal_number\")\\\n",
    "    .agg(min_date = (\"date\", \"min\"), \\\n",
    "         max_date = (\"date\", \"max\"), \\\n",
    "         count_date = (\"date\", \"count\"), \\\n",
    "         min_dim = (\"days_in_milk\", \"min\"), \\\n",
    "         max_dim = (\"days_in_milk\", \"max\")).reset_index()\n",
    "\n",
    "agg_df.to_csv(os.path.join(data_path, \"dim_lactation.csv\"), index = False)"
   ]
  },
  {
   "cell_type": "code",
   "execution_count": null,
   "id": "365680ef-cb21-4289-8d84-ca2ac6975d24",
   "metadata": {},
   "outputs": [],
   "source": []
  },
  {
   "cell_type": "code",
   "execution_count": null,
   "id": "d3eaa420-1bf1-4142-a509-71425c706d92",
   "metadata": {},
   "outputs": [],
   "source": []
  }
 ],
 "metadata": {
  "kernelspec": {
   "display_name": "Python 3 (ipykernel)",
   "language": "python",
   "name": "python3"
  },
  "language_info": {
   "codemirror_mode": {
    "name": "ipython",
    "version": 3
   },
   "file_extension": ".py",
   "mimetype": "text/x-python",
   "name": "python",
   "nbconvert_exporter": "python",
   "pygments_lexer": "ipython3",
   "version": "3.11.5"
  }
 },
 "nbformat": 4,
 "nbformat_minor": 5
}
