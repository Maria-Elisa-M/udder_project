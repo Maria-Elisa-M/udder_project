{
 "cells": [
  {
   "cell_type": "code",
   "execution_count": 1,
   "id": "8ae54b1a-e1cd-4ec6-8dda-2f0beb6eaae6",
   "metadata": {},
   "outputs": [
    {
     "name": "stderr",
     "output_type": "stream",
     "text": [
      "C:\\Users\\marie\\AppData\\Local\\Temp\\ipykernel_2348\\1657975687.py:1: DeprecationWarning: \n",
      "Pyarrow will become a required dependency of pandas in the next major release of pandas (pandas 3.0),\n",
      "(to allow more performant data types, such as the Arrow string type, and better interoperability with other libraries)\n",
      "but was not found to be installed on your system.\n",
      "If this would cause problems for you,\n",
      "please provide us feedback at https://github.com/pandas-dev/pandas/issues/54466\n",
      "        \n",
      "  import pandas as pd\n"
     ]
    }
   ],
   "source": [
    "import pandas as pd\n",
    "import os\n",
    "from datetime import date, datetime, timedelta\n",
    "import numpy as np\n",
    "import seaborn as sns"
   ]
  },
  {
   "cell_type": "code",
   "execution_count": 2,
   "id": "1e53006d-2cbd-4cc7-837a-2d49e9ae12f3",
   "metadata": {},
   "outputs": [],
   "source": [
    "def interval_seconds(interval_str):\n",
    "    if len(interval_str.split(\" d \")) > 1:\n",
    "        days = int(interval_str.split(\" d \")[0])\n",
    "        times = interval_str.split(\" d \")[1].split(\":\")\n",
    "    else:\n",
    "        days = 0\n",
    "        times = interval_str.split(\" d \")[-1].split(\":\")\n",
    "    hours = int(times[0])\n",
    "    minutes = int(times[1])\n",
    "    seconds = int(times[2])\n",
    "    interval = timedelta(days = days, hours = hours, minutes = minutes, seconds = seconds).total_seconds()\n",
    "    return interval"
   ]
  },
  {
   "cell_type": "code",
   "execution_count": 7,
   "id": "96167d22-25d8-46cc-b7d6-e3426e747bc5",
   "metadata": {},
   "outputs": [],
   "source": [
    "dirpath = os.getcwd()\n",
    "data_path = os.path.join(dirpath, \"..\", \"data\")\n",
    "\n",
    "df = pd.read_csv(os.path.join(data_path, \"delpro_visit_lactation.csv\")) # , header = 0,  names = names, dtype = dtypes)\n",
    "df = df[df['date'].notna()]\n",
    "# remove visits with yield 0 \n",
    "df = df[df[\"incomplete_milkings\"] == 0].reset_index(drop = True)\n",
    "df = df[df[\"milk_flow_duration\"] > 0 ].reset_index(drop = True)\n",
    "# date formats: date, begin time, end time\n",
    "df.date = [datetime.strptime(day, \"%Y-%m-%d\") for day in df.date]\n",
    "df.begin_time = [datetime.strptime(day, \"%m/%d/%Y %I:%M %p\") for day in df.begin_time]\n",
    "df.end_time = [datetime.strptime(day, \"%I:%M %p\") for day in df.end_time]\n",
    "df[\"end_time2\"] = [rec[2] + timedelta(days=1, hours = rec[1].time().hour, minutes = rec[1].time().minute) \\\n",
    "                   if rec[0].time() > rec[1].time() else rec[2] + timedelta(days=0, hours = rec[1].time().hour, minutes = rec[1].time().minute) \\\n",
    "                   for rec in zip(df.begin_time, df.end_time, df.date)]\n",
    "df[\"total_visit_duration\"] = [stamp.total_seconds() for stamp in  (df.end_time2 - df.begin_time)]\n",
    "df[\"notmilk_visit_duration\"] = [num for num in (df.total_visit_duration - df.milk_flow_duration)]\n",
    "df[\"interval_sec\"] = [interval_seconds(rec) for rec in df.interval]\n",
    "\n",
    "agg_df = df[[\"animal_number\", \"notmilk_visit_duration\", \"milk_flow_duration\", \"date\", \\\n",
    "             \"yield\", \"yield_lf\", \"yield_lr\", \"yield_rr\", \"yield_rf\",\\\n",
    "            \"peak_flow_lf\", \"peak_flow_lr\", \"peak_flow_rr\", \"peak_flow_rf\", \"interval_sec\"]]\\\n",
    "    .groupby(\"animal_number\")\\\n",
    "    .agg(milk_flow_duration_mean = ('milk_flow_duration', 'mean'),\\\n",
    "         yield_visit_mean = ('yield', 'mean'),\\\n",
    "         yield_lf_visit_mean = ('yield_lf', 'mean'),\\\n",
    "         yield_lr_visit_mean = ('yield_lr', 'mean'),\\\n",
    "         yield_rr_visit_mean = ('yield_rr', 'mean'),\\\n",
    "         yield_rf_visit_mean = ('yield_rf', 'mean'),\\\n",
    "         peak_flow_rf_mean = ('peak_flow_rf', 'mean'),\\\n",
    "         peak_flow_lf_mean = ('peak_flow_lf', 'mean'),\\\n",
    "         peak_flow_rr_mean = ('peak_flow_rr', 'mean'),\\\n",
    "         peak_flow_lr_mean = ('peak_flow_lr', 'mean'),\\\n",
    "         notmilk_visit_duration_mean = (\"notmilk_visit_duration\",'mean'),\\\n",
    "         notmilk_visit_duration_std = (\"notmilk_visit_duration\",'std'),\\\n",
    "         interval_sec_mean = (\"interval_sec\", 'mean')).reset_index()\n",
    "\n",
    "agg_df.to_csv(os.path.join(data_path, \"duration_lactation.csv\"), index = False)"
   ]
  },
  {
   "cell_type": "code",
   "execution_count": null,
   "id": "422e6f93-0e5d-47ef-8829-b359f29edcde",
   "metadata": {},
   "outputs": [],
   "source": [
    "sns.scatterplot(data=agg_df, x=\"notmilk_visit_duration\", y=\"milk_flow_duration\")"
   ]
  },
  {
   "cell_type": "code",
   "execution_count": null,
   "id": "e0a29856-7a0f-45b1-b790-5ff4f6f99048",
   "metadata": {},
   "outputs": [],
   "source": []
  },
  {
   "cell_type": "code",
   "execution_count": null,
   "id": "791167a7-e4db-4b83-abab-5a33edb6f869",
   "metadata": {},
   "outputs": [],
   "source": [
    "sns.scatterplot(data=df, x=\"days_in_milk\", y=\"milk_flow_duration\")"
   ]
  },
  {
   "cell_type": "code",
   "execution_count": null,
   "id": "4ff9585e-719c-43f7-986a-a32cdd14aa16",
   "metadata": {},
   "outputs": [],
   "source": [
    "sns.scatterplot(data=df, x=\"yield\", y=\"milk_flow_duration\")"
   ]
  },
  {
   "cell_type": "code",
   "execution_count": null,
   "id": "fdae6708-36bc-4fcf-80be-176709964571",
   "metadata": {},
   "outputs": [],
   "source": [
    "df[df[\"incomplete_milkings\"] ==1]"
   ]
  },
  {
   "cell_type": "code",
   "execution_count": null,
   "id": "ef7b341c-def9-424e-8576-500988ed20e8",
   "metadata": {},
   "outputs": [],
   "source": []
  }
 ],
 "metadata": {
  "kernelspec": {
   "display_name": "Python 3 (ipykernel)",
   "language": "python",
   "name": "python3"
  },
  "language_info": {
   "codemirror_mode": {
    "name": "ipython",
    "version": 3
   },
   "file_extension": ".py",
   "mimetype": "text/x-python",
   "name": "python",
   "nbconvert_exporter": "python",
   "pygments_lexer": "ipython3",
   "version": "3.11.5"
  }
 },
 "nbformat": 4,
 "nbformat_minor": 5
}
