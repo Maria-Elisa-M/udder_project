{
 "cells": [
  {
   "cell_type": "code",
   "execution_count": 3,
   "id": "87f61cfd-1441-4276-821e-270c1ad74af2",
   "metadata": {},
   "outputs": [],
   "source": [
    "import pandas as pd\n",
    "import os\n",
    "from datetime import date, datetime\n",
    "import numpy as np"
   ]
  },
  {
   "cell_type": "code",
   "execution_count": 4,
   "id": "2cddcd0a-2875-44f3-9dd7-e3ea0eef5a92",
   "metadata": {},
   "outputs": [
    {
     "name": "stdout",
     "output_type": "stream",
     "text": [
      "239\n",
      "239\n",
      "239\n",
      "239\n",
      "239\n"
     ]
    }
   ],
   "source": [
    "dirpath = os.getcwd()\n",
    "data_path = os.path.join(dirpath, \"..\", \"data\")\n",
    "\n",
    "df1 = pd.read_csv(os.path.join(data_path, \"duration_lactation.csv\"))\n",
    "print(len(df1))\n",
    "df2 = pd.read_csv(os.path.join(data_path, \"kickoff_lactation.csv\"))\n",
    "print(len(df2))\n",
    "df3 = pd.read_csv(os.path.join(data_path, \"yield_lactation.csv\"))\n",
    "print(len(df3))\n",
    "df4 = pd.read_csv(os.path.join(data_path, \"dim_lactation.csv\"))\n",
    "print(len(df4))\n",
    "\n",
    "df_merged = df4.merge(df1, how='left', on = \"animal_number\").merge(df2, how='left', on = \"animal_number\").merge(df3, how='left', on = \"animal_number\")\n",
    "print(len(df_merged))\n",
    "\n",
    "df_merged.to_csv(os.path.join(data_path, \"merged_lactation.csv\"), index = False)"
   ]
  },
  {
   "cell_type": "code",
   "execution_count": null,
   "id": "7e43512e-8c57-4a80-8810-1f84e7d07117",
   "metadata": {},
   "outputs": [],
   "source": []
  }
 ],
 "metadata": {
  "kernelspec": {
   "display_name": "Python 3 (ipykernel)",
   "language": "python",
   "name": "python3"
  },
  "language_info": {
   "codemirror_mode": {
    "name": "ipython",
    "version": 3
   },
   "file_extension": ".py",
   "mimetype": "text/x-python",
   "name": "python",
   "nbconvert_exporter": "python",
   "pygments_lexer": "ipython3",
   "version": "3.12.3"
  }
 },
 "nbformat": 4,
 "nbformat_minor": 5
}
