{
 "cells": [
  {
   "cell_type": "code",
   "execution_count": 8,
   "id": "46c17539-cbed-4860-bae7-f0842ae3afa2",
   "metadata": {
    "tags": []
   },
   "outputs": [],
   "source": [
    "import pandas as pd\n",
    "import numpy as np\n",
    "from datetime import datetime, timedelta\n",
    "import re\n",
    "import os"
   ]
  },
  {
   "cell_type": "code",
   "execution_count": 9,
   "id": "18aef408-8ce2-499f-8ede-b9fdcfe459b7",
   "metadata": {
    "tags": []
   },
   "outputs": [],
   "source": [
    "dirpath = os.getcwd()\n",
    "videopath = os.path.join(dirpath, \"..\", \"..\", \"udder_video\", \"video_metadata\")\n",
    "video =  pd.read_csv(os.path.join(videopath, \"video_metadata_20231117.csv\"))\n",
    "data_path = os.path.join(dirpath, \"..\", \"data\")"
   ]
  },
  {
   "cell_type": "code",
   "execution_count": 10,
   "id": "648c940f-1988-4af3-8bce-3dc3d5756942",
   "metadata": {},
   "outputs": [],
   "source": [
    "milk_df= pd.read_csv(os.path.join(data_path, \"delpro_visit_lactation.csv\")) # , header = 0,  names = names, dtype = dtypes)\n",
    "milk_df = milk_df[milk_df['date'].notna()]\n",
    "# date formats: date, begin time, end time\n",
    "milk_df.date = [datetime.strptime(day, \"%Y-%m-%d\") for day in milk_df.date]\n",
    "milk_df.begin_time = [datetime.strptime(day, \"%m/%d/%Y %I:%M %p\") for day in milk_df.begin_time]\n",
    "# milk report time is in AM -PM format\n",
    "milk_df[\"start_hour\"]=[date.hour for date in milk_df.begin_time]\n",
    "milk_df[\"day\"]=[date.day for date in milk_df.begin_time]\n",
    "milk_df[\"month\"]=[date.month for date in milk_df.begin_time]\n",
    "milk_df[\"year\"]=[date.year for date in milk_df.begin_time]\n",
    "milk_df = milk_df[(milk_df.day == 17) & (milk_df.month == 11) & (milk_df.year == 2023)].reset_index()\n",
    "milk_df = milk_df.drop([\"date\",\"day\", \"year\", \"month\"], axis = 1)\n",
    "\n",
    "# fix time and date to make them match\n",
    "# I give a +-10 min margin form video to milking\n",
    "video[\"start_hour0\"]=[datetime.strptime(date, '%H:%M:%S').hour for date in video.time]\n",
    "video[\"start_hour1\"]=[datetime.strptime(date, '%H:%M:%S') + timedelta(minutes = 10) for date in video.time]\n",
    "video[\"start_hour1\"]=[hour.hour for hour in video.start_hour1]\n",
    "video[\"start_hour2\"]=[datetime.strptime(date, '%H:%M:%S') - timedelta(minutes = 10) for date in video.time]\n",
    "video[\"start_hour2\"]=[hour.hour for hour in video.start_hour2]\n",
    "\n",
    "milk_videos = pd.concat([pd.merge(video, milk_df,  left_on=[\"cow\", \"start_hour0\"], right_on=[\"animal_number\", \"start_hour\"]),  \\\n",
    "                         pd.merge(video, milk_df,  left_on=[\"cow\", \"start_hour1\"], right_on=[\"animal_number\", \"start_hour\"]), \\\n",
    "                         pd.merge(video, milk_df,  left_on=[\"cow\", \"start_hour2\"], right_on=[\"animal_number\", \"start_hour\"])],\\\n",
    "                        axis= 0, ignore_index = True).drop_duplicates().reset_index(drop = True)\n",
    "\n",
    "milk_videos = milk_videos.drop([\"start_hour\", \"start_hour0\", \"start_hour1\", \"start_hour2\"], axis = 1)\n",
    "milk_videos.to_csv(os.path.join(data_path, \"milk_videos_visit.csv\"), index = False)"
   ]
  },
  {
   "cell_type": "code",
   "execution_count": 16,
   "id": "3e895c2b-2410-4e15-b3b0-24ece8f215a7",
   "metadata": {},
   "outputs": [],
   "source": [
    "lac_df= pd.read_csv(os.path.join(data_path, \"merged2_lactation.csv\"))\n",
    "lac_videos = pd.merge(video, lac_df, how = \"left\",  left_on=\"cow\", right_on=\"animal_number\")\n",
    "lac_videos = lac_videos.drop([\"start_hour0\", \"start_hour1\", \"start_hour2\"], axis = 1)\n",
    "lac_videos.to_csv(os.path.join(data_path, \"merged2_videos_lactation.csv\"), index = False)"
   ]
  },
  {
   "cell_type": "code",
   "execution_count": null,
   "id": "f7e303ce-5614-4cb1-9568-6f6750c32f14",
   "metadata": {},
   "outputs": [],
   "source": []
  }
 ],
 "metadata": {
  "kernelspec": {
   "display_name": "Python 3 (ipykernel)",
   "language": "python",
   "name": "python3"
  },
  "language_info": {
   "codemirror_mode": {
    "name": "ipython",
    "version": 3
   },
   "file_extension": ".py",
   "mimetype": "text/x-python",
   "name": "python",
   "nbconvert_exporter": "python",
   "pygments_lexer": "ipython3",
   "version": "3.11.5"
  }
 },
 "nbformat": 4,
 "nbformat_minor": 5
}
