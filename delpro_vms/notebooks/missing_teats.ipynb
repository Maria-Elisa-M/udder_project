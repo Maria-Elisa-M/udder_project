{
 "cells": [
  {
   "cell_type": "code",
   "execution_count": 1,
   "id": "8c5639e3-ee79-4568-a52f-dd644bbc9d9b",
   "metadata": {},
   "outputs": [],
   "source": [
    "import pandas as pd\n",
    "import os\n",
    "from datetime import date, datetime\n",
    "import numpy as np"
   ]
  },
  {
   "cell_type": "code",
   "execution_count": 2,
   "id": "c7aa51c7-c25d-4e02-a2cb-3e622a323764",
   "metadata": {},
   "outputs": [],
   "source": [
    "dirpath = os.getcwd()\n",
    "data_path = os.path.join(dirpath, \"..\", \"data\")\n",
    "df = pd.read_csv(os.path.join(data_path, \"merged_lactation.csv\"))\n"
   ]
  },
  {
   "cell_type": "markdown",
   "id": "a01be1ce-1ce9-498f-aa80-8257b229dd71",
   "metadata": {},
   "source": [
    "## find the teats that did not produce milk"
   ]
  },
  {
   "cell_type": "code",
   "execution_count": 3,
   "id": "bd0a6894-56cd-49c2-989f-86a2cf483b6e",
   "metadata": {},
   "outputs": [],
   "source": [
    "list_temp = []\n",
    "thres = 5\n",
    "for cow in df.animal_number:\n",
    "    cow_line = df[df.animal_number == cow]\n",
    "    lfy = cow_line[\"yield_lf_visit_sum\"].values[0]\n",
    "    rfy = cow_line[\"yield_rf_visit_sum\"].values[0]\n",
    "    lby = cow_line[\"yield_lr_visit_sum\"].values[0]\n",
    "    rby = cow_line[\"yield_rr_visit_sum\"].values[0]\n",
    "    if lfy < thres:\n",
    "        list_temp.append([cow, 'lf', lfy])\n",
    "    if rfy < thres:\n",
    "        list_temp.append([cow, 'rf', rfy])\n",
    "    if lby < thres:\n",
    "        list_temp.append([cow, 'rr', lby])\n",
    "    if rby < thres:\n",
    "        list_temp.append([cow, 'lr',rby])\n",
    "\n",
    "missing_teat_df = pd.DataFrame(list_temp, columns = [\"cow\", \"teat\", 'y'])\n",
    "missing_teat_df.to_csv(os.path.join(data_path,\"missing_teats.csv\"), index = False)"
   ]
  },
  {
   "cell_type": "markdown",
   "id": "e4372975-ff32-4064-baeb-a7b529b30cc8",
   "metadata": {},
   "source": [
    "## change values from missing teats to NA"
   ]
  },
  {
   "cell_type": "code",
   "execution_count": 4,
   "id": "b56e09d0-fcfc-4a09-a9de-854a11ed63b8",
   "metadata": {},
   "outputs": [],
   "source": [
    "df2 = df.copy()\n",
    "cows_missing = np.unique(missing_teat_df.cow)\n",
    "\n",
    "for cow in cows_missing:\n",
    "    teats_missing = missing_teat_df[missing_teat_df.cow == cow].reset_index()[\"teat\"]\n",
    "    for teat in teats_missing:\n",
    "        columns_na = [col for col in df.columns if teat in col]\n",
    "        idx = np.where(df2.animal_number == cow)[0]\n",
    "        df2.loc[idx, columns_na] = np.nan\n",
    "\n",
    "df2.to_csv(os.path.join(data_path,\"merged2_lactation.csv\"), index = False)"
   ]
  },
  {
   "cell_type": "markdown",
   "id": "74085e17-ee74-4123-aa5c-e224305de25f",
   "metadata": {},
   "source": []
  },
  {
   "cell_type": "code",
   "execution_count": 5,
   "id": "0f982d8b-9754-41be-a25a-2bba0c118e7c",
   "metadata": {},
   "outputs": [
    {
     "data": {
      "text/plain": [
       "Index(['animal_number', 'min_date', 'max_date', 'count_date', 'min_dim',\n",
       "       'max_dim', 'milk_flow_duration_mean', 'yield_visit_mean',\n",
       "       'yield_lf_visit_mean', 'yield_lr_visit_mean', 'yield_rr_visit_mean',\n",
       "       'yield_rf_visit_mean', 'peak_flow_rf_mean', 'peak_flow_lf_mean',\n",
       "       'peak_flow_rr_mean', 'peak_flow_lr_mean', 'notmilk_visit_duration_mean',\n",
       "       'kickoff_lf_sum', 'kickoff_lr_sum', 'kickoff_rf_sum', 'kickoff_rr_sum',\n",
       "       'kickoff_front_sum', 'kickoff_back_sum', 'kickoff_any_sum',\n",
       "       'total_yield', 'total_visits', 'kickoff_lf_perc', 'kickoff_lr_perc',\n",
       "       'kickoff_rf_perc', 'kickoff_rr_perc', 'kickoff_front_perc',\n",
       "       'kickoff_back_perc', 'kickoff_any_perc', 'yield_lf_visit_sum',\n",
       "       'yield_lr_visit_sum', 'yield_rr_visit_sum', 'yield_rf_visit_sum',\n",
       "       'interval_visit_mean'],\n",
       "      dtype='object')"
      ]
     },
     "execution_count": 5,
     "metadata": {},
     "output_type": "execute_result"
    }
   ],
   "source": [
    "df2.columns"
   ]
  }
 ],
 "metadata": {
  "kernelspec": {
   "display_name": "Python 3 (ipykernel)",
   "language": "python",
   "name": "python3"
  },
  "language_info": {
   "codemirror_mode": {
    "name": "ipython",
    "version": 3
   },
   "file_extension": ".py",
   "mimetype": "text/x-python",
   "name": "python",
   "nbconvert_exporter": "python",
   "pygments_lexer": "ipython3",
   "version": "3.12.3"
  }
 },
 "nbformat": 4,
 "nbformat_minor": 5
}
