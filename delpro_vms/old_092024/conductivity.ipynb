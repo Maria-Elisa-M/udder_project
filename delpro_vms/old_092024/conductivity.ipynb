{
 "cells": [
  {
   "cell_type": "code",
   "execution_count": 1,
   "id": "a491ef36-06b6-4187-8fa6-5718aeef0f95",
   "metadata": {},
   "outputs": [],
   "source": [
    "import matplotlib.pyplot as plt\n",
    "import pandas as pd\n",
    "import numpy as np\n",
    "import re\n",
    "import os\n",
    "import seaborn as sns\n",
    "from datetime import datetime, timedelta"
   ]
  },
  {
   "cell_type": "code",
   "execution_count": 2,
   "id": "4495479e-8068-4561-b85b-535e72ca3fdf",
   "metadata": {},
   "outputs": [
    {
     "name": "stderr",
     "output_type": "stream",
     "text": [
      "C:\\Users\\marie\\AppData\\Local\\Temp\\ipykernel_18984\\2556778765.py:4: SettingWithCopyWarning: \n",
      "A value is trying to be set on a copy of a slice from a DataFrame.\n",
      "Try using .loc[row_indexer,col_indexer] = value instead\n",
      "\n",
      "See the caveats in the documentation: https://pandas.pydata.org/pandas-docs/stable/user_guide/indexing.html#returning-a-view-versus-a-copy\n",
      "  fresh_dates[\"fresh_date\"] = pd.to_datetime(fresh_dates[\"last_calving_date\"], format = '%m/%d/%Y')\n"
     ]
    }
   ],
   "source": [
    "animaldf = pd.read_csv(\"animal_info.csv\", sep = \";\")\n",
    "animaldf.columns = [col.replace(\" \", \"_\").lower().replace(\"-\", \"\") for col in animaldf.columns]\n",
    "fresh_dates = animaldf[[\"animal_number\", \"last_calving_date\"]]\n",
    "fresh_dates[\"fresh_date\"] = pd.to_datetime(fresh_dates[\"last_calving_date\"], format = '%m/%d/%Y')\n",
    "fresh_dates = fresh_dates[~fresh_dates.fresh_date.isnull()]\n",
    "fresh_dates = fresh_dates.drop(\"last_calving_date\", axis = 1)\n",
    "fresh_dates = fresh_dates[(~fresh_dates.animal_number.isna())]\n",
    "\n",
    "df = pd.read_csv(r\"more_reports\\oneyear_data.csv\", sep = \";\")\n",
    "df.columns = [col.replace(\" \", \"_\").lower().replace(\"-\", \"\") for col in df.columns]\n",
    "df[\"date\"] = pd.to_datetime(df[\"date\"], format = '%m/%d/%Y')\n",
    "merged_df =  pd.merge(fresh_dates, df,  left_on=\"animal_number\", right_on = \"animal_number\")\n",
    "\n",
    "merged_df[\"dim\"] = (merged_df[\"date\"] - merged_df[\"fresh_date\"]).dt.days\n",
    "df2 = merged_df[merged_df.dim >= 0]\n"
   ]
  },
  {
   "cell_type": "code",
   "execution_count": 3,
   "id": "41639df4-752c-4452-9701-3f68b4111c2c",
   "metadata": {},
   "outputs": [],
   "source": [
    "cond_df = df2[['animal_number', 'conductivity_lf', 'conductivity_lr', 'conductivity_rf', 'conductivity_rr', 'dim']]\n",
    "cond_gdf = cond_df.groupby(['animal_number']).agg({'conductivity_lf': 'mean', 'conductivity_lr':'mean', 'conductivity_rf': 'mean', 'conductivity_rr': 'mean', 'dim':'max'}).reset_index()\n",
    "cond_gdf = cond_gdf.rename(columns = {'conductivity_lf': 'conductivity_lf_cl', 'conductivity_lr':'conductivity_lr_cl', 'conductivity_rf':'conductivity_rf_cl', 'conductivity_rr': 'conductivity_rr_cl'})\n",
    "\n",
    "cond1 = cond_gdf"
   ]
  },
  {
   "cell_type": "code",
   "execution_count": 4,
   "id": "8b1c1560-ff78-44d3-bfe6-1839acba292e",
   "metadata": {},
   "outputs": [],
   "source": [
    "cond_df = df2[(df2.date >= '2023-11-10') & (df2.date < '2023-11-17')]\n",
    "cond_df = cond_df[['animal_number', 'conductivity_lf', 'conductivity_lr', 'conductivity_rf', 'conductivity_rr']]\n",
    "cond_gdf = cond_df.groupby(['animal_number']).agg({'conductivity_lf': 'mean', 'conductivity_lr':'mean', 'conductivity_rf': 'mean', 'conductivity_rr': 'mean'}).reset_index()\n",
    "cond_gdf = cond_gdf.rename(columns = {'conductivity_lf': 'conductivity_lf_7d', 'conductivity_lr':'conductivity_lr_7d', 'conductivity_rf':'conductivity_rf_7d', 'conductivity_rr': 'conductivity_rr_7d'})\n",
    "cond2 = cond_gdf"
   ]
  },
  {
   "cell_type": "code",
   "execution_count": 5,
   "id": "b5458382-0fb4-4132-b99d-fcda8acce2bd",
   "metadata": {},
   "outputs": [],
   "source": [
    "integrated_df = cond1.merge(cond2, how='left', on = \"animal_number\")\n",
    "integrated_df.columns = [col.replace(\"rr\", \"rb\").replace(\"lr\", \"lb\").replace(\"animal_number\", \"cow\") for col in integrated_df.columns]\n",
    "integrated_df.to_csv(r\"data_out\\cond_integrated.csv\", index = False)"
   ]
  }
 ],
 "metadata": {
  "kernelspec": {
   "display_name": "Python 3 (ipykernel)",
   "language": "python",
   "name": "python3"
  },
  "language_info": {
   "codemirror_mode": {
    "name": "ipython",
    "version": 3
   },
   "file_extension": ".py",
   "mimetype": "text/x-python",
   "name": "python",
   "nbconvert_exporter": "python",
   "pygments_lexer": "ipython3",
   "version": "3.11.5"
  }
 },
 "nbformat": 4,
 "nbformat_minor": 5
}
