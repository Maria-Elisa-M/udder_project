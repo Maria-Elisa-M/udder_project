{
 "cells": [
  {
   "cell_type": "code",
   "execution_count": 1,
   "id": "46c17539-cbed-4860-bae7-f0842ae3afa2",
   "metadata": {
    "tags": []
   },
   "outputs": [],
   "source": [
    "import pandas as pd\n",
    "import numpy as np\n",
    "from datetime import datetime, timedelta\n",
    "import re\n",
    "import os"
   ]
  },
  {
   "cell_type": "code",
   "execution_count": 3,
   "id": "18aef408-8ce2-499f-8ede-b9fdcfe459b7",
   "metadata": {
    "tags": []
   },
   "outputs": [],
   "source": [
    "dirpath = os.getcwd()\n",
    "videopath = os.path.join(os.path.normpath(dirpath + os.sep + os.pardir), r'udder_video\\video_metadata')\n",
    "video =  pd.read_csv(os.path.join(videopath, \"video_metadata_20231117.csv\"))"
   ]
  },
  {
   "cell_type": "code",
   "execution_count": 4,
   "id": "9a17b457-df99-425b-b2eb-33ee97fbda9f",
   "metadata": {
    "tags": []
   },
   "outputs": [],
   "source": [
    "# VMS reoports are semicolon separates and column names have spacces and capital letters\n",
    "cows_df = pd.read_csv(\"animal_info.csv\", sep = \";\")\n",
    "cows_df.columns = [col.replace(\" \", \"_\").lower() for col in cows_df.columns]\n",
    "milk_df = pd.read_csv(\"milk_quarter.csv\", sep = \";\") \n",
    "milk_df.columns = [col.replace(\" \", \"_\").lower() for col in milk_df.columns]\n",
    "\n",
    "# add number of quaters with yield data \n",
    "for i in range(len(milk_df)):\n",
    "    milk_qt = np.array(milk_df[[\"yield_lr\", \"yield_lf\", \"yield_rr\", \"yield_rf\"]].iloc[i])\n",
    "    milk_df.loc[i, \"quarters_num\"] = len(milk_qt[~np.isnan(milk_qt)])\n",
    "    \n",
    "# fix time and date to make them match\n",
    "# I give a +-10 min margin form video to milking\n",
    "video[\"start_hour0\"]=[datetime.strptime(date, '%H:%M:%S').hour for date in video.time]\n",
    "video[\"start_hour1\"]=[datetime.strptime(date, '%H:%M:%S') + timedelta(minutes = 10) for date in video.time]\n",
    "video[\"start_hour1\"]=[hour.hour for hour in video.start_hour1]\n",
    "video[\"start_hour2\"]=[datetime.strptime(date, '%H:%M:%S') - timedelta(minutes = 10) for date in video.time]\n",
    "video[\"start_hour2\"]=[hour.hour for hour in video.start_hour2]\n",
    "\n",
    "# milk report time is in AM -PM format\n",
    "milk_df[\"start_hour\"]=[datetime.strptime(str(datetime.strptime(date, '%m/%d/%Y %H:%M %p')), '%Y-%m-%d %H:%M:%S').hour for date in milk_df.begin_time]\n",
    "milk_df[\"day\"]=[datetime.strptime(str(datetime.strptime(date, '%m/%d/%Y %H:%M %p')), '%Y-%m-%d %H:%M:%S').day for date in milk_df.begin_time]\n",
    "milk_df[\"AMPM\"] = [re.findall(r\"[A-Z]+\", date)[0] for date in milk_df.begin_time]\n",
    "for i in range(len(milk_df[\"start_hour\"])):\n",
    "    if (milk_df.loc[i, \"AMPM\"] == \"PM\") & (milk_df.loc[i, \"start_hour\"] < 12):\n",
    "        milk_df.loc[i, \"start_hour\"]  =  milk_df.loc[i, \"start_hour\"] + 12\n",
    "    elif (milk_df.loc[i, \"AMPM\"] == \"AM\") & (milk_df.loc[i, \"start_hour\"] ==12):\n",
    "        milk_df.loc[i, \"start_hour\"]  =  0\n",
    "        \n",
    "# verify that all  milkins are from november 17 \n",
    "milk_df[\"end_hour\"]=milk_df[\"start_hour\"]+1\n",
    "milk_df = milk_df[milk_df.day ==17]\n",
    "milk_df = milk_df.drop([\"date\",\"day\"], axis = 1)\n",
    "\n",
    "# Merge reports\n",
    "viedo_counts = video[[\"cow\", \"filename\"]].groupby(\"cow\").agg(num_videos = (\"filename\",\"count\")).reset_index()\n",
    "merged_cows = viedo_counts.set_index('cow').join(cows_df.set_index(\"animal_number\"), how = \"left\").reset_index()\n",
    "milk_videos = pd.concat([pd.merge(video, milk_df,  left_on=[\"cow\", \"start_hour0\"], right_on=[\"animal_number\", \"start_hour\"]),  pd.merge(video, milk_df,  left_on=[\"cow\", \"start_hour1\"], right_on=[\"animal_number\", \"start_hour\"]), pd.merge(video, milk_df,  left_on=[\"cow\", \"start_hour2\"], right_on=[\"animal_number\", \"start_hour\"])], axis= 0, ignore_index = True).drop_duplicates()\n",
    "milk_videos = milk_videos.drop([\"start_hour0\", \"start_hour1\",\"start_hour2\", \"start_hour\", \"end_hour\", \"AMPM\", \"animal_number\", \"lactation_number\"], axis = 1)\n",
    "milk_videos = pd.merge(milk_videos, merged_cows,  left_on=\"cow\", right_on = \"cow\")\n",
    "\n",
    "# save merged file\n",
    "milk_videos.to_csv(\"milk_videos.csv\", index = False)"
   ]
  },
  {
   "cell_type": "code",
   "execution_count": null,
   "id": "fe72e365-9d25-48b0-99e8-f796401afa94",
   "metadata": {},
   "outputs": [],
   "source": []
  }
 ],
 "metadata": {
  "kernelspec": {
   "display_name": "Python 3 (ipykernel)",
   "language": "python",
   "name": "python3"
  },
  "language_info": {
   "codemirror_mode": {
    "name": "ipython",
    "version": 3
   },
   "file_extension": ".py",
   "mimetype": "text/x-python",
   "name": "python",
   "nbconvert_exporter": "python",
   "pygments_lexer": "ipython3",
   "version": "3.11.5"
  }
 },
 "nbformat": 4,
 "nbformat_minor": 5
}
