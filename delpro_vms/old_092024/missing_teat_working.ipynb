{
 "cells": [
  {
   "cell_type": "code",
   "execution_count": 1,
   "id": "3fafa1ca-5969-45c0-8c91-cdafbe36cc80",
   "metadata": {},
   "outputs": [],
   "source": [
    "# cows missing teats\n",
    "import os\n",
    "import pandas as pd\n",
    "import numpy as np \n"
   ]
  },
  {
   "cell_type": "code",
   "execution_count": 2,
   "id": "f320813c-1aa2-4a41-ba80-1f03ef402284",
   "metadata": {},
   "outputs": [
    {
     "name": "stderr",
     "output_type": "stream",
     "text": [
      "C:\\Users\\marie\\AppData\\Local\\Temp\\ipykernel_16844\\2002124528.py:4: DtypeWarning: Columns (21,22,23,24) have mixed types. Specify dtype option on import or set low_memory=False.\n",
      "  features_df = pd.read_csv(features_path)\n"
     ]
    }
   ],
   "source": [
    "features_path = r\"C:\\Users\\marie\\rep_codes\\udder_project\\udder_processing\\features_dict\\feature_table.csv\"\n",
    "data_path = r\"C:\\Users\\marie\\rep_codes\\udder_project\\delpro_vms\\data_out\"\n",
    "\n",
    "features_df = pd.read_csv(features_path)\n",
    "yield_df = pd.read_csv(os.path.join(data_path, \"yield_integrated.csv\"))"
   ]
  },
  {
   "cell_type": "code",
   "execution_count": 3,
   "id": "886d0c98-d8ef-44c9-92b4-b3e30f5bd858",
   "metadata": {},
   "outputs": [],
   "source": [
    "list_temp = []\n",
    "for cow in yield_df.cow:\n",
    "    cow_line = yield_df[yield_df.cow == cow]\n",
    "    lfy = cow_line[\"dyield_lf_cl\"].values[0]\n",
    "    rfy = cow_line[\"dyield_rf_cl\"].values[0]\n",
    "    lby = cow_line[\"dyield_lb_cl\"].values[0]\n",
    "    rby = cow_line[\"dyield_rb_cl\"].values[0]\n",
    "    if lfy < 2:\n",
    "        list_temp.append([cow, 'lf', lfy])\n",
    "    if rfy < 2:\n",
    "        list_temp.append([cow, 'rf', rfy])\n",
    "    if lby < 2:\n",
    "        list_temp.append([cow, 'rb', lby])\n",
    "    if rby < 2:\n",
    "        list_temp.append([cow, 'lb',rby])\n",
    "\n",
    "missing_teat_df = pd.DataFrame(list_temp, columns = [\"cow\", \"teat\", 'y'])\n",
    "missing_teat_df.to_csv(\"missing_teats.csv\", index = False)"
   ]
  },
  {
   "cell_type": "code",
   "execution_count": 33,
   "id": "fa7269cb-956d-42c1-bc12-f8848f180517",
   "metadata": {},
   "outputs": [],
   "source": []
  },
  {
   "cell_type": "code",
   "execution_count": null,
   "id": "ce082690-f29c-4704-b71b-314996590451",
   "metadata": {},
   "outputs": [],
   "source": []
  }
 ],
 "metadata": {
  "kernelspec": {
   "display_name": "Python 3 (ipykernel)",
   "language": "python",
   "name": "python3"
  },
  "language_info": {
   "codemirror_mode": {
    "name": "ipython",
    "version": 3
   },
   "file_extension": ".py",
   "mimetype": "text/x-python",
   "name": "python",
   "nbconvert_exporter": "python",
   "pygments_lexer": "ipython3",
   "version": "3.11.5"
  }
 },
 "nbformat": 4,
 "nbformat_minor": 5
}
