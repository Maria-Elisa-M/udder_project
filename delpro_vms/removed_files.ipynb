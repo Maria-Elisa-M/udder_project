{
 "cells": [
  {
   "cell_type": "code",
   "execution_count": 7,
   "id": "fb436248-c5b3-4a35-8897-9467a33a49b6",
   "metadata": {
    "tags": []
   },
   "outputs": [
    {
     "data": {
      "text/plain": [
       "{'1184_20231117_172549.bag',\n",
       " '20231117_153008.bag',\n",
       " '738_20231117_104922.bag',\n",
       " '855_20231117_170701.bag'}"
      ]
     },
     "execution_count": 7,
     "metadata": {},
     "output_type": "execute_result"
    }
   ],
   "source": [
    "import pandas as pd\n",
    "\n",
    "met_df = pd.read_csv(\"video_metadata_20231117_p1.csv\")\n",
    "with open(\"20231117_maria.txt\", \"r\") as f:\n",
    "    allfiles = [file.split(\"/\")[2] for file in f.read().split(\"\\n\")]\n",
    "    \n",
    "maria_deleted_files = set(allfiles).difference(set(met_df.filename))\n",
    "\n",
    "met_df = pd.read_csv(\"video_metadata_20231117_p3.csv\")\n",
    "with open(\"20231117_lab.txt\", \"r\") as f:\n",
    "    allfiles = [file.split(\"/\")[1] for file in f.read().split(\"\\n\")]\n",
    "    \n",
    "lab_deleted_files = set(allfiles).difference(set(met_df.filename))\n",
    "\n",
    "met_df = pd.read_csv(\"video_metadata_20231117_p2.csv\")\n",
    "with open(\"20231117_guilherme.txt\", \"r\") as f:\n",
    "    allfiles = [file.split(\"/\")[2] for file in f.read().split(\"\\n\")]\n",
    "    \n",
    "guilherme_deleted_files = set(allfiles).difference(set(met_df.filename))\n",
    "\n",
    "maria_deleted_files.union(guilherme_deleted_files).union(lab_deleted_files)"
   ]
  }
 ],
 "metadata": {
  "kernelspec": {
   "display_name": "Python 3 (ipykernel)",
   "language": "python",
   "name": "python3"
  },
  "language_info": {
   "codemirror_mode": {
    "name": "ipython",
    "version": 3
   },
   "file_extension": ".py",
   "mimetype": "text/x-python",
   "name": "python",
   "nbconvert_exporter": "python",
   "pygments_lexer": "ipython3",
   "version": "3.11.5"
  }
 },
 "nbformat": 4,
 "nbformat_minor": 5
}
