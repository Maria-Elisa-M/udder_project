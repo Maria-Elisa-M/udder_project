{
 "cells": [
  {
   "cell_type": "code",
   "execution_count": 1,
   "id": "f281af39-f37c-47c5-82aa-e3bb6eb5c63a",
   "metadata": {},
   "outputs": [],
   "source": [
    "#\n",
    "import matplotlib.pyplot as plt\n",
    "import pandas as pd\n",
    "import numpy as np\n",
    "import re\n",
    "import os\n",
    "import seaborn as sns\n",
    "from datetime import datetime, timedelta\n",
    "import warnings\n",
    "warnings.filterwarnings('ignore')"
   ]
  },
  {
   "cell_type": "code",
   "execution_count": 2,
   "id": "d752ac7c-4ed3-4e6d-95fc-eb6638ba5070",
   "metadata": {
    "scrolled": true
   },
   "outputs": [],
   "source": [
    "animaldf = pd.read_csv(\"animal_info.csv\", sep = \";\")\n",
    "animaldf.columns = [col.replace(\" \", \"_\").lower().replace(\"-\", \"\") for col in animaldf.columns]\n",
    "fresh_dates = animaldf[[\"animal_number\", \"last_calving_date\"]]\n",
    "fresh_dates[\"fresh_date\"] = pd.to_datetime(fresh_dates[\"last_calving_date\"], format = '%m/%d/%Y')\n",
    "fresh_dates = fresh_dates[~fresh_dates.fresh_date.isnull()]\n",
    "fresh_dates = fresh_dates.drop(\"last_calving_date\", axis = 1)\n",
    "fresh_dates = fresh_dates[(~fresh_dates.animal_number.isna())]"
   ]
  },
  {
   "cell_type": "code",
   "execution_count": 3,
   "id": "2427a4bc-f5cf-4f9b-9a29-98bf74f4965f",
   "metadata": {},
   "outputs": [],
   "source": [
    "df = pd.read_csv(r\"more_reports\\oneyear_data.csv\", sep = \";\")\n",
    "df.columns = [col.replace(\" \", \"_\").lower().replace(\"-\", \"\") for col in df.columns]\n",
    "df[\"date\"] = pd.to_datetime(df[\"date\"], format = '%m/%d/%Y')\n",
    "merged_df =  pd.merge(fresh_dates, df,  left_on=\"animal_number\", right_on = \"animal_number\")\n",
    "\n",
    "merged_df[\"dim\"] = (merged_df[\"date\"] - merged_df[\"fresh_date\"]).dt.days\n",
    "df2 = merged_df[merged_df.dim >= 0]"
   ]
  },
  {
   "cell_type": "markdown",
   "id": "205000df-117f-45ee-a946-7caeb60b1bde",
   "metadata": {},
   "source": [
    "# Teats not found daily"
   ]
  },
  {
   "cell_type": "markdown",
   "id": "2f82c5f8-37dd-49e6-bd4f-9670f0dbdf17",
   "metadata": {},
   "source": [
    "## current lactation"
   ]
  },
  {
   "cell_type": "code",
   "execution_count": 4,
   "id": "9abd76bb-e9b2-4ffb-a70e-0bb4744f915c",
   "metadata": {},
   "outputs": [],
   "source": [
    "tnf_df = df2[['animal_number', 'date', 'dim', 'teats_not_found']]\n",
    "idx = ~ tnf_df.teats_not_found.isnull()\n",
    "tnf_df2 = tnf_df[idx]\n",
    "\n",
    "for i in tnf_df2.index:\n",
    "    tnf_val = tnf_df.loc[i].teats_not_found\n",
    "    vals = tnf_val.split(\",\")\n",
    "    for val in vals:\n",
    "        val2 = str(val.replace(\" \", \"\"))\n",
    "        tnf_df.loc[i, val2] = 1\n",
    "tnf_df = tnf_df.drop([\"teats_not_found\"], axis = 1)\n",
    "\n",
    "\n",
    "tnf_dfg = tnf_df.groupby([\"animal_number\", \"date\", \"dim\"]).agg(\"sum\").reset_index()\n",
    "tnf_dfg['udder'] = tnf_dfg.LR + tnf_dfg.LF + tnf_dfg.RR + tnf_dfg.RF\n",
    "tnf_dfg['dudder']  = [1 if val >0 else 0 for val in tnf_dfg.udder]\n",
    "tnf_dfg['dtnf_lr'] = [1 if val >0 else 0 for val in tnf_dfg.LR]\n",
    "tnf_dfg['dtnf_lf'] = [1 if val >0 else 0 for val in tnf_dfg.LF]\n",
    "tnf_dfg['dtnf_rf'] = [1 if val >0 else 0 for val in tnf_dfg.RF]\n",
    "tnf_dfg['dtnf_rr'] = [1 if val >0 else 0 for val in tnf_dfg.RR]\n",
    "\n",
    "dtnf_dfg = tnf_dfg.drop(\"date\", axis = 1).groupby(\"animal_number\").agg({\"dudder\":\"sum\", 'dtnf_lr':\"sum\", 'dtnf_lf':\"sum\", 'dtnf_rf':\"sum\",\t'dtnf_rr':\"sum\" , \"All\" :\"sum\", \"dim\":\"max\"}).reset_index()\n",
    "dtnf_dfg = dtnf_dfg.rename(columns = {\"dudder\":\"dudder_cl\", 'dtnf_lr':'dtnf_lr_cl', 'dtnf_lf':'dtnf_lf_cl', 'dtnf_rf':'dtnf_rf_cl', 'dtnf_rr':'dtnf_rr_cl' , \"All\" :\"all_cl\"})\n",
    "\n",
    "dtnf_dfg[\"dtnf_udder_dim_cl\"] = (dtnf_dfg[\"dudder_cl\"]/dtnf_dfg[\"dim\"])*100\n",
    "dtnf_dfg[\"dtnf_lf_dim_cl\"] = (dtnf_dfg['dtnf_lf_cl']/dtnf_dfg[\"dim\"])*100\n",
    "dtnf_dfg[\"dtnf_lr_dim_cl\"] = (dtnf_dfg['dtnf_lr_cl']/dtnf_dfg[\"dim\"])*100\n",
    "dtnf_dfg[\"dtnf_rf_dim_cl\"] = (dtnf_dfg['dtnf_rf_cl']/dtnf_dfg[\"dim\"])*100\n",
    "dtnf_dfg[\"dtnf_rr_dim_cl\"] = (dtnf_dfg['dtnf_rr_cl']/dtnf_dfg[\"dim\"])*100\n",
    "dtnf_dfg[\"dtnf_all_dim_cl\"] = (dtnf_dfg[\"all_cl\"]/dtnf_dfg[\"dim\"])*100\n",
    "\n",
    "tnf1 = dtnf_dfg"
   ]
  },
  {
   "cell_type": "markdown",
   "id": "71bc16bd-e13c-4379-9111-679bad34d76e",
   "metadata": {},
   "source": [
    "## Last 7 days"
   ]
  },
  {
   "cell_type": "code",
   "execution_count": 5,
   "id": "7863b45c-be9c-4e3e-a6f3-ea7859ac4472",
   "metadata": {},
   "outputs": [],
   "source": [
    "tnf_df = df2[(df2.date >= '2023-11-10') & (df2.date < '2023-11-17')]\n",
    "tnf_df = tnf_df[['animal_number', 'date', 'teats_not_found']]\n",
    "idx = ~ tnf_df.teats_not_found.isnull()\n",
    "tnf_df2 = tnf_df[idx]\n",
    "\n",
    "for i in tnf_df2.index:\n",
    "    tnf_val = tnf_df.loc[i].teats_not_found\n",
    "    vals = tnf_val.split(\",\")\n",
    "    for val in vals:\n",
    "        val2 = str(val.replace(\" \", \"\"))\n",
    "        tnf_df.loc[i, val2] = 1\n",
    "tnf_df = tnf_df.drop([\"teats_not_found\"], axis = 1)\n",
    "\n",
    "\n",
    "tnf_dfg = tnf_df.groupby([\"animal_number\", \"date\"]).agg(\"sum\").reset_index()\n",
    "tnf_dfg['udder'] = tnf_dfg.LR + tnf_dfg.LF + tnf_dfg.RR + tnf_dfg.RF\n",
    "tnf_dfg['dudder']  = [1 if val >0 else 0 for val in tnf_dfg.udder]\n",
    "tnf_dfg['dtnf_lr'] = [1 if val >0 else 0 for val in tnf_dfg.LR]\n",
    "tnf_dfg['dtnf_lf'] = [1 if val >0 else 0 for val in tnf_dfg.LF]\n",
    "tnf_dfg['dtnf_rf'] = [1 if val >0 else 0 for val in tnf_dfg.RF]\n",
    "tnf_dfg['dtnf_rr'] = [1 if val >0 else 0 for val in tnf_dfg.RR]\n",
    "\n",
    "dtnf_dfg = tnf_dfg.drop(\"date\", axis = 1).groupby(\"animal_number\").agg({\"dudder\":\"sum\", 'dtnf_lr':\"sum\", 'dtnf_lf':\"sum\", 'dtnf_rf':\"sum\",\t'dtnf_rr':\"sum\" , \"All\" :\"sum\"}).reset_index()\n",
    "dtnf_dfg = dtnf_dfg.rename(columns = {\"dudder\":\"dudder_7d\", 'dtnf_lr':'dtnf_lr_7d', 'dtnf_lf':'dtnf_lf_7d', 'dtnf_rf':'dtnf_rf_7d', 'dtnf_rr':'dtnf_rr_7d' , \"All\" :\"all_7d\"})\n",
    "\n",
    "dtnf_dfg[\"dtnf_udder_dim_7d\"] = (dtnf_dfg[\"dudder_7d\"]/7)*100\n",
    "dtnf_dfg[\"dtnf_lf_dim_7d\"] = (dtnf_dfg['dtnf_lf_7d']/7)*100\n",
    "dtnf_dfg[\"dtnf_lr_dim_7d\"] = (dtnf_dfg['dtnf_lr_7d']/7)*100\n",
    "dtnf_dfg[\"dtnf_rf_dim_7d\"] = (dtnf_dfg['dtnf_rf_7d']/7)*100\n",
    "dtnf_dfg[\"dtnf_rr_dim_7d\"] = (dtnf_dfg['dtnf_rr_7d']/7)*100\n",
    "dtnf_dfg[\"dtnf_all_dim_7d\"] = (dtnf_dfg[\"all_7d\"]/7)*100\n",
    "\n",
    "tnf2 = dtnf_dfg"
   ]
  },
  {
   "cell_type": "markdown",
   "id": "f8bc03f6-a01a-430b-b39c-8c6a036fefc4",
   "metadata": {},
   "source": [
    "# Teats not found visits"
   ]
  },
  {
   "cell_type": "markdown",
   "id": "6d7144cb-ca40-4f00-8a78-e8d76924afbe",
   "metadata": {},
   "source": [
    "## current lactation"
   ]
  },
  {
   "cell_type": "code",
   "execution_count": 6,
   "id": "695fdec7-3c31-4bb3-b1e3-e4f6ba5506de",
   "metadata": {},
   "outputs": [],
   "source": [
    "tnf_df = df2[['animal_number', 'date', 'dim', 'teats_not_found']]\n",
    "idx = ~ tnf_df.teats_not_found.isnull()\n",
    "tnf_df2 = tnf_df[idx]\n",
    "\n",
    "for i in tnf_df2.index:\n",
    "    tnf_val = tnf_df.loc[i].teats_not_found\n",
    "    vals = tnf_val.split(\",\")\n",
    "    for val in vals:\n",
    "        val2 = str(val.replace(\" \", \"\"))\n",
    "        tnf_df.loc[i, val2] = 1\n",
    "tnf_df = tnf_df.drop([\"teats_not_found\"], axis = 1)\n",
    "\n",
    "\n",
    "tnf_df = tnf_df.rename(columns = {\"LR\": \"vtnf_lr\", \"LF\": \"vtnf_lf\", \"RR\": \"vtnf_rr\", \"RF\": \"vtnf_rf\", \"All\":\"vall\"})\n",
    "tnf_df['udder'] = tnf_df.vtnf_lr + tnf_df.vtnf_lf + tnf_df.vtnf_rf + tnf_df.vtnf_rr\n",
    "tnf_df['vudder']  = [1 if val >0 else 0 for val in tnf_df.udder]\n",
    "\n",
    "vtnf_dfg = tnf_df.groupby(\"animal_number\").agg({\"vudder\":\"sum\", 'vtnf_lr':\"sum\", 'vtnf_lf':\"sum\", 'vtnf_rf':\"sum\",\t'vtnf_rr':\"sum\" , \"vall\" :\"sum\", \"date\":\"count\"}).reset_index()\n",
    "vtnf_dfg = vtnf_dfg.rename(columns = {\"vudder\":\"vudder_cl\", 'vtnf_lr':'vtnf_lr_cl', 'vtnf_lf':'vtnf_lf_cl', 'vtnf_rf':'vtnf_rf_cl', 'vtnf_rr':'vtnf_rr_cl' , \"vall\" :\"all_cl\", \"date\":\"visits_cl\"})\n",
    "\n",
    "vtnf_dfg[\"vtnf_udder_nv_cl\"] = (vtnf_dfg[\"vudder_cl\"]/vtnf_dfg[\"visits_cl\"])*100\n",
    "vtnf_dfg[\"vtnf_lf_nv_cl\"] = (vtnf_dfg['vtnf_lf_cl']/vtnf_dfg[\"visits_cl\"])*100\n",
    "vtnf_dfg[\"vtnf_lr_nv_cl\"] = (vtnf_dfg['vtnf_lr_cl']/vtnf_dfg[\"visits_cl\"])*100\n",
    "vtnf_dfg[\"vtnf_rf_nv_cl\"] = (vtnf_dfg['vtnf_rf_cl']/vtnf_dfg[\"visits_cl\"])*100\n",
    "vtnf_dfg[\"vtnf_rr_nv_cl\"] = (vtnf_dfg['vtnf_rr_cl']/vtnf_dfg[\"visits_cl\"])*100\n",
    "vtnf_dfg[\"vtnf_all_nv_cl\"] = (vtnf_dfg[\"all_cl\"]/vtnf_dfg[\"visits_cl\"])*100\n",
    "\n",
    "tnf3 = vtnf_dfg"
   ]
  },
  {
   "cell_type": "markdown",
   "id": "2ee9c090-ff0f-4b8c-8f37-cbeaad0525ac",
   "metadata": {},
   "source": [
    "## 7 days"
   ]
  },
  {
   "cell_type": "code",
   "execution_count": 7,
   "id": "a3f64652-3e67-4b17-82e5-d606ffe4ba79",
   "metadata": {},
   "outputs": [],
   "source": [
    "tnf_df = df2[(df2.date >= '2023-11-10') & (df2.date < '2023-11-17')]\n",
    "tnf_df = tnf_df[['animal_number', 'date', 'dim', 'teats_not_found']]\n",
    "idx = ~ tnf_df.teats_not_found.isnull()\n",
    "tnf_df2 = tnf_df[idx]\n",
    "\n",
    "for i in tnf_df2.index:\n",
    "    tnf_val = tnf_df.loc[i].teats_not_found\n",
    "    vals = tnf_val.split(\",\")\n",
    "    for val in vals:\n",
    "        val2 = str(val.replace(\" \", \"\"))\n",
    "        tnf_df.loc[i, val2] = 1\n",
    "tnf_df = tnf_df.drop([\"teats_not_found\"], axis = 1)\n",
    "\n",
    "\n",
    "tnf_df = tnf_df.rename(columns = {\"LR\": \"vtnf_lr\", \"LF\": \"vtnf_lf\", \"RR\": \"vtnf_rr\", \"RF\": \"vtnf_rf\", \"All\":\"vall\"})\n",
    "tnf_df['udder'] = tnf_df.vtnf_lr + tnf_df.vtnf_lf + tnf_df.vtnf_rf + tnf_df.vtnf_rr\n",
    "tnf_df['vudder']  = [1 if val >0 else 0 for val in tnf_df.udder]\n",
    "\n",
    "vtnf_dfg = tnf_df.groupby(\"animal_number\").agg({\"vudder\":\"sum\", 'vtnf_lr':\"sum\", 'vtnf_lf':\"sum\", 'vtnf_rf':\"sum\",\t'vtnf_rr':\"sum\" , \"vall\" :\"sum\", \"date\":\"count\"}).reset_index()\n",
    "vtnf_dfg = vtnf_dfg.rename(columns = {\"vudder\":\"vudder_7d\", 'vtnf_lr':'vtnf_lr_7d', 'vtnf_lf':'vtnf_lf_7d', 'vtnf_rf':'vtnf_rf_7d', 'vtnf_rr':'vtnf_rr_7d' , \"vall\" :\"all_7d\", \"date\":\"visits_7d\"})\n",
    "\n",
    "vtnf_dfg[\"vtnf_udder_nv_7d\"] = (vtnf_dfg[\"vudder_7d\"]/vtnf_dfg[\"visits_7d\"])*100\n",
    "vtnf_dfg[\"vtnf_lf_nv_7d\"] = (vtnf_dfg['vtnf_lf_7d']/vtnf_dfg[\"visits_7d\"])*100\n",
    "vtnf_dfg[\"vtnf_lr_nv_7d\"] = (vtnf_dfg['vtnf_lr_7d']/vtnf_dfg[\"visits_7d\"])*100\n",
    "vtnf_dfg[\"vtnf_rf_nv_7d\"] = (vtnf_dfg['vtnf_rf_7d']/vtnf_dfg[\"visits_7d\"])*100\n",
    "vtnf_dfg[\"vtnf_rr_nv_7d\"] = (vtnf_dfg['vtnf_rr_7d']/vtnf_dfg[\"visits_7d\"])*100\n",
    "vtnf_dfg[\"vtnf_all_nv_7d\"] = (vtnf_dfg[\"all_7d\"]/vtnf_dfg[\"visits_7d\"])*100\n",
    "\n",
    "tnf4 = vtnf_dfg"
   ]
  },
  {
   "cell_type": "markdown",
   "id": "b225c6b1-3017-45c1-9093-0f3fc09b255b",
   "metadata": {},
   "source": [
    "# Merge and save "
   ]
  },
  {
   "cell_type": "code",
   "execution_count": 8,
   "id": "4c2697c8-9562-4345-80ec-992d79007e95",
   "metadata": {},
   "outputs": [],
   "source": [
    "integrated_df = tnf1.merge(tnf2, how='left', on = \"animal_number\").merge(tnf3, how='left', on = \"animal_number\").merge(tnf2, how='left', on = \"animal_number\")\n",
    "integrated_df.columns = [col.replace(\"rr\", \"rb\").replace(\"lr\", \"lb\").replace(\"animal_number\", \"cow\") for col in integrated_df.columns]\n",
    "integrated_df.to_csv(r\"data_out\\tnf_integrated.csv\", index = False)"
   ]
  },
  {
   "cell_type": "code",
   "execution_count": null,
   "id": "72432bc1-a90e-453a-b318-4c0db0eed8c3",
   "metadata": {},
   "outputs": [],
   "source": []
  }
 ],
 "metadata": {
  "kernelspec": {
   "display_name": "Python 3 (ipykernel)",
   "language": "python",
   "name": "python3"
  },
  "language_info": {
   "codemirror_mode": {
    "name": "ipython",
    "version": 3
   },
   "file_extension": ".py",
   "mimetype": "text/x-python",
   "name": "python",
   "nbconvert_exporter": "python",
   "pygments_lexer": "ipython3",
   "version": "3.11.5"
  }
 },
 "nbformat": 4,
 "nbformat_minor": 5
}
