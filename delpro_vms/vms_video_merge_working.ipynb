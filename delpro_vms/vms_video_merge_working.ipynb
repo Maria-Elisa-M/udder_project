{
 "cells": [
  {
   "cell_type": "code",
   "execution_count": 53,
   "id": "88a65143-5e81-4ef2-898b-fe2c297a4397",
   "metadata": {
    "tags": []
   },
   "outputs": [],
   "source": [
    "import pandas as pd\n",
    "import numpy as np\n",
    "from datetime import datetime, timedelta\n",
    "import re\n",
    "import os "
   ]
  },
  {
   "cell_type": "code",
   "execution_count": 54,
   "id": "3ee04b07-62e3-4147-bb82-cb8bf69cbd8e",
   "metadata": {
    "tags": []
   },
   "outputs": [],
   "source": [
    "# video metadata path\n",
    "dirpath = os.getcwd()\n",
    "vieo_path = os.path.join(os.path.normpath(dirpath + os.sep + os.pardir), r'udder_video\\video_metadata')\n",
    "video_df = pd.read_csv(os.path.join(vieo_path, \"video_metadata_20231117.csv\"))\n",
    "remove_files = [\"1184_20231117_172549.bag\", \"1223_20231117_153008.bag\", \"738_20231117_104922.bag\", \"855_20231117_170701.bag\"] # look at readdme in udder_video for more info\n",
    "video_df = video_df[~video_df.filename.isin(remove_files)]"
   ]
  },
  {
   "cell_type": "code",
   "execution_count": 55,
   "id": "2238a16e-7b4c-4ca4-bffb-d060fbfddbff",
   "metadata": {
    "tags": []
   },
   "outputs": [],
   "source": [
    "# VMS reoports are semicolon separates and column names have spacces and capital letters\n",
    "cows_df = pd.read_csv(\"animal_info.csv\", sep = \";\")\n",
    "cows_df.columns = [col.replace(\" \", \"_\").lower() for col in cows_df.columns]\n",
    "milk_df = pd.read_csv(\"milk_quarter.csv\", sep = \";\") \n",
    "milk_df.columns = [col.replace(\" \", \"_\").lower() for col in milk_df.columns]"
   ]
  },
  {
   "cell_type": "code",
   "execution_count": 56,
   "id": "f2997fed-bbea-4033-8721-11253d4a3f76",
   "metadata": {
    "tags": []
   },
   "outputs": [],
   "source": [
    "# add number of quaters with yield data \n",
    "for i in range(len(milk_df)):\n",
    "    milk_qt = np.array(milk_df[[\"yield_lr\", \"yield_lf\", \"yield_rr\", \"yield_rf\"]].iloc[i])\n",
    "    milk_df.loc[i, \"quarters_num\"] = len(milk_qt[~np.isnan(milk_qt)])\n",
    "\n",
    "# fix time and date to make them match\n",
    "# I give a +-10 min margin form video to milking\n",
    "video_df[\"start_hour0\"]=[datetime.strptime(date, '%H:%M:%S').hour for date in video_df.time]\n",
    "video_df[\"start_hour1\"]=[datetime.strptime(date, '%H:%M:%S') + timedelta(minutes = 10) for date in video_df.time]\n",
    "video_df[\"start_hour1\"]=[hour.hour for hour in video_df.start_hour1]\n",
    "video_df[\"start_hour2\"]=[datetime.strptime(date, '%H:%M:%S') - timedelta(minutes = 10) for date in video_df.time]\n",
    "video_df[\"start_hour2\"]=[hour.hour for hour in video_df.start_hour2]"
   ]
  },
  {
   "cell_type": "code",
   "execution_count": 57,
   "id": "2ed5d005-5285-47f0-b21d-a54c360f9f6d",
   "metadata": {
    "tags": []
   },
   "outputs": [],
   "source": [
    "# milk report time is in AM -PM format\n",
    "milk_df[\"start_hour\"]=[datetime.strptime(str(datetime.strptime(date, '%m/%d/%Y %H:%M %p')), '%Y-%m-%d %H:%M:%S').hour for date in milk_df.begin_time]\n",
    "milk_df[\"day\"]=[datetime.strptime(str(datetime.strptime(date, '%m/%d/%Y %H:%M %p')), '%Y-%m-%d %H:%M:%S').day for date in milk_df.begin_time]\n",
    "milk_df[\"AMPM\"] = [re.findall(r\"[A-Z]+\", date)[0] for date in milk_df.begin_time]\n",
    "for i in range(len(milk_df[\"start_hour\"])):\n",
    "    if (milk_df.loc[i, \"AMPM\"] == \"PM\") & (milk_df.loc[i, \"start_hour\"] < 12):\n",
    "        milk_df.loc[i, \"start_hour\"]  =  milk_df.loc[i, \"start_hour\"] + 12\n",
    "    elif (milk_df.loc[i, \"AMPM\"] == \"AM\") & (milk_df.loc[i, \"start_hour\"] ==12):\n",
    "        milk_df.loc[i, \"start_hour\"]  =  0\n",
    "        \n",
    "# verify that all  milkins are from november 17 \n",
    "milk_df[\"end_hour\"]=milk_df[\"start_hour\"]+1\n",
    "milk_df = milk_df[milk_df.day ==17]\n",
    "milk_df = milk_df.drop([\"date\",\"day\"], axis = 1)\n",
    "\n",
    "# Merge reports\n",
    "viedo_counts = video_df[[\"cow\", \"filename\"]].groupby(\"cow\").agg(num_videos = (\"filename\",\"count\")).reset_index()\n",
    "# Merge reports\n",
    "viedo_counts = video_df[[\"cow\", \"filename\"]].groupby(\"cow\").agg(num_videos = (\"filename\",\"count\")).reset_index()\n",
    "merged_cows = viedo_counts.set_index('cow').join(cows_df.set_index(\"animal_number\"), how = \"left\").reset_index()\n",
    "milk_videos = pd.concat([pd.merge(video_df, milk_df,  left_on=[\"cow\", \"start_hour0\"], right_on=[\"animal_number\", \"start_hour\"]),  pd.merge(video_df, milk_df,  left_on=[\"cow\", \"start_hour1\"], right_on=[\"animal_number\", \"start_hour\"]), pd.merge(video_df, milk_df,  left_on=[\"cow\", \"start_hour2\"], right_on=[\"animal_number\", \"start_hour\"])], axis= 0, ignore_index = True).drop_duplicates()\n",
    "milk_videos = milk_videos.drop([\"start_hour0\", \"start_hour1\",\"start_hour2\", \"start_hour\", \"end_hour\", \"AMPM\", \"animal_number\", \"lactation_number\"], axis = 1)\n",
    "milk_videos = pd.merge(milk_videos, merged_cows,  left_on=\"cow\", right_on = \"cow\")\n",
    "\n",
    "# save merged file\n",
    "milk_videos.to_csv(\"milk_videos.csv\", index = False)"
   ]
  },
  {
   "cell_type": "code",
   "execution_count": null,
   "id": "efdd36d4-185b-4f01-91c2-9b3c03e57a41",
   "metadata": {},
   "outputs": [],
   "source": []
  }
 ],
 "metadata": {
  "kernelspec": {
   "display_name": "Python 3 (ipykernel)",
   "language": "python",
   "name": "python3"
  },
  "language_info": {
   "codemirror_mode": {
    "name": "ipython",
    "version": 3
   },
   "file_extension": ".py",
   "mimetype": "text/x-python",
   "name": "python",
   "nbconvert_exporter": "python",
   "pygments_lexer": "ipython3",
   "version": "3.10.13"
  }
 },
 "nbformat": 4,
 "nbformat_minor": 5
}
