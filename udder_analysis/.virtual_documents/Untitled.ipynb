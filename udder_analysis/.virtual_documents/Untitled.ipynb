# Merged files 
import os
import pandas as pd
import numpy as np


dirpath = os.getcwd()
features_dir = os.path.join(os.path.normpath(dirpath + os.sep + os.pardir),"udder_processing",  "udder_features")
dfv1 = pd.read_csv(os.path.join(features_dir, "volumes.csv"), index_col=0)
dfr1 = pd.read_csv(os.path.join(features_dir, "region_props.csv"))
dfr1["lp_group"] = "l"
dfv1["lp_group"] = "l"
dfv2 = pd.read_csv(os.path.join(features_dir, "volumes_newcows.csv"), index_col=0)
dfr2 = pd.read_csv(os.path.join(features_dir, "region_props_newcows.csv"))
dfr2["lp_group"] = "p"
dfv2["lp_group"] = "p"

dfr = pd.concat([dfr1, dfr2], axis = 0, ignore_index = True)
dfv = pd.concat([dfv1, dfv2], axis = 0, ignore_index = True)

dfg =  pd.read_csv("geodesic_all.csv")

df_all = dfr.merge(dfv, on=["cow","filename", "lp_group"]).drop(["cow",  "lp_group"], axis = 1)
df_all = dfg.merge(df_all, on=["filename"])



features = df_all.columns.drop(["cow", "lp_group", "filename"])


id_vars = ["cow", "lp_group"]
df_all2= pd.melt(df_all, id_vars = id_vars, value_vars = features)
grouped = df_all2[["cow","lp_group" ,"variable", "value"]].groupby(["cow", "lp_group", "variable"]).agg([np.nanmedian, np.nanmin,np.nanmax,np.nanmean])
grouped.columns = [b.replace("nan", "") if b else a for a, b in grouped.columns]
grouped = grouped.reset_index()


len(grouped)



id_vars = ["cow", "lp_group"]
df_all2= pd.melt(df_all, id_vars = id_vars, value_vars = features).reset_index()
grouped = df_all2[["cow","lp_group" ,"variable", "value"]].groupby(["cow", "lp_group", "variable"]).agg([np.nanmedian, np.nanmin,np.nanmax,np.nanmean, "count"])
grouped.columns = [b.replace("nan", "") if b else a for a, b in grouped.columns]
grouped = grouped.reset_index()

grouped_wide = grouped[["cow", "lp_group", "variable", "median"]].pivot(index = id_vars, columns = "variable", values = "median").reset_index()
grouped_wide2 = grouped[["cow", "lp_group", "variable", "mean"]].pivot(index = id_vars, columns = "variable", values = "mean").reset_index()

grouped_wide.to_csv("udder_features_median.csv", index = False)
grouped_wide2.to_csv("udder_features_mean.csv", index = False)
df_all.to_csv("udder_features_raw.csv", index = False)
grouped.to_csv("udder_features_grouped.csv", index = False)


counts = df_all[["cow", "filename"]].groupby("cow").agg("count").reset_index()


np.mean(counts.filename)


np.std(counts.filename)


np.min(counts.filename)


np.max(counts.filename)



