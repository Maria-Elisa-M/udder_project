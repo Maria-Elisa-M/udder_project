import os
import pandas as pd
import numpy as np
import matplotlib.pyplot as plt
import seaborn as sns


dirpath = os.getcwd()
vms_dir = os.path.join(os.path.normpath(dirpath + os.sep + os.pardir),"delpro_vms")

vms_df = pd.read_csv(os.path.join(vms_dir, "milk_videos_filtered.csv"))
features_df = pd.read_csv("udder_features_mean.csv")
merged = features_df.merge(vms_df, on ="cow", how= "left")


merged.columns


var_list = ['lb_ecc', 'lb_vol', 'lf_ecc', 'lf_vol', 'rb_ecc', 'rb_vol', 'rf_ecc', 'rf_vol', 'udder_ecc', 'volume', 'yield', 'conductivity_lf', 'conductivity_lr', 'conductivity_rf', 'conductivity_rr', 'mean_flow_lf', 'mean_flow_lr', 'mean_flow_rf','mean_flow_rr', 'yield_lf', 'yield_lr', 'yield_rf', 'yield_rr', 'days_in_milk', "occ(*1000_cells/ml)"]
var_list2 = ['lb_ecc', 'lb_vol', 'lf_ecc', 'lf_vol', 'rb_ecc', 'rb_vol', 'rf_ecc', 'rf_vol', 'udder_ecc', 'volume', 'peak_yield', 'avg._flow_last_7_days', 'peak_flow_lf', 'peak_flow_lr', 'peak_flow_rf','peak_flow_rr']





sns.set(font_scale=0.5)
merged2 = merged[ var_list]
corr = merged2.corr(method = 'pearson')
plt.figure(figsize=(10,10), dpi =500)
sns.heatmap(corr,annot=True,fmt=".2f", linewidth=.5)
plt.show()



merged2 = merged.loc[merged.lactation_number >1, var_list]
corr = merged2.corr(method = 'pearson')
plt.figure(figsize=(10,8), dpi =500)
sns.heatmap(corr,annot=True,fmt=".2f", linewidth=.5)
plt.show()



merged2 = merged.loc[merged.lactation_number ==1, var_list2]
corr = merged2.corr(method = 'pearson')
plt.figure(figsize=(10,10), dpi =500)
sns.heatmap(corr,annot=True,fmt=".2f", linewidth=.5)
plt.show()



len(merged2)


merged2 = merged[var_list2]
corr = merged2.corr(method = 'pearson')
plt.figure(figsize=(10,10), dpi =500)
sns.heatmap(corr,annot=True,fmt=".2f", linewidth=.5)
plt.show()


np.unique(merged["occ(*1000_cells/ml)"])
