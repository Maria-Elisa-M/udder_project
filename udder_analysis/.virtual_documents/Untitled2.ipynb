import os
import pandas as pd
import numpy as np
import matplotlib.pyplot as plt
import seaborn as sns
from scipy import stats


dirpath = os.getcwd()
vms_dir = os.path.join(os.path.normpath(dirpath + os.sep + os.pardir),"delpro_vms")

vms_df = pd.read_csv(os.path.join(vms_dir, "milk_videos_filtered.csv"))
features_df = pd.read_csv("udder_features_median.csv")
merged = features_df.merge(vms_df, on ="cow", how= "left")





merged2 = merged[["lf_vol2", "yield_lf"]].dropna()
x = merged2.lf_vol2
y = merged2.yield_lf
res = stats.pearsonr(x, y)
plt.plot(x,y, "*b")
print(res)


merged2 = merged[["rf_vol2", "yield_rf"]].dropna()
x = merged2.rf_vol2
y = merged2.yield_rf
res = stats.pearsonr(x, y)
plt.plot(x,y, "*b")
print(res)


merged2 = merged[["rb_vol", "yield_rr"]].dropna()
x = merged2.rb_vol
y = merged2.yield_rr
res = stats.pearsonr(x, y)
plt.plot(x,y, "*b")
print(res)


merged2 = merged[["lb_vol2", "yield_lr"]].dropna()
x = merged2.lb_vol2
y = merged2.yield_lr
res = stats.pearsonr(x, y)
plt.plot(x,y, "*b")
print(res)


merged2 = merged[["volume2", "yield"]].dropna()
x = merged2.volume2
y = merged2["yield"]
res = stats.pearsonr(x, y)
plt.plot(x,y, "*b")
print(res)





merged2 = merged[["area", "yield"]].dropna()
x = merged2.area
y = merged2["yield"]
res = stats.pearsonr(x, y)
plt.plot(x,y, "*b")
print(res)








merged2 = merged[["front_geo", "yield_rf", "yield_lf"]].dropna()
x = merged2.front_geo
y = merged2["yield_rf"] + merged2["yield_lf"]
res = stats.pearsonr(x, y)
plt.plot(x,y, "*b")
print(res)


merged2 = merged[["rf_circ", "peak_flow_rf"]].dropna()
x = merged2.rf_circ
y = merged2.peak_flow_rf
res = stats.pearsonr(x, y)
plt.plot(x,y, "*b")
print(res)


merged2 = merged[["front_geo", "yield"]].dropna()
x = merged2.front_geo
y = merged2["yield"]
res = stats.pearsonr(x, y)
plt.plot(x,y, "*b")
print(res)


merged2 = merged[["back_geo", "yield"]].dropna()
x = merged2.back_geo
y = merged2["yield"]
res = stats.pearsonr(x, y)
plt.plot(x,y, "*b")
print(res)





merged2 = merged[["udder_circ", "total_kick-offs_last_7d"]].dropna()
x = merged2.udder_circ
y = merged2["total_kick-offs_last_7d"]
res = stats.pearsonr(x, y)
plt.plot(x,y, "*b")
print(res)


merged2 = merged[["udder_ecc", "total_kick-offs_last_7d"]].dropna()
x = merged2.udder_ecc
y = merged2["total_kick-offs_last_7d"]
res = stats.pearsonr(x, y)
plt.plot(x,y, "*b")
print(res)


merged2 = merged[["lb_circ", "total_kick-offs_last_7d"]].dropna()
x = merged2.lb_circ
y = merged2["total_kick-offs_last_7d"]
res = stats.pearsonr(x, y)
plt.plot(x,y, "*b")
print(res)





merged2 = merged[["lf_ecc", "mean_flow_lf"]].dropna()
x = merged2.lf_ecc
y = merged2.mean_flow_lf
res = stats.pearsonr(x, y)
res


merged2 = merged[["volume", "occ(*1000_cells/ml)"]].dropna()
x = merged2.volume
y = merged2["occ(*1000_cells/ml)"+]
res = stats.pearsonr(x, y)
res


features_df.columns





merged2 = merged[["lf_circ", "yield_lf"]].dropna()
x = merged2.lf_circ
y = merged2.yield_lf
res = stats.pearsonr(x, y)
res
plt.plot(x,y, "*b")
print(res)


merged2 = merged[["lb_circ", "yield_lr"]].dropna()
x = merged2.lb_circ
y = merged2.yield_lr
res = stats.pearsonr(x, y)
res
plt.plot(x,y, "*b")
print(res)


merged2 = merged[["rf_circ", "yield_rf"]].dropna()
x = merged2.rf_circ
y = merged2.yield_rf
res = stats.pearsonr(x, y)
res
plt.plot(x,y, "*b")
print(res)


merged2 = merged[["rb_circ", "yield_rr"]].dropna()
x = merged2.rb_circ
y = merged2.yield_rr
res = stats.pearsonr(x, y)
res
plt.plot(x,y, "*b")
print(res)


merged2 = merged[["udder_circ", "days_in_milk"]].dropna()
x = merged2.udder_circ
y = merged2.days_in_milk
res = stats.pearsonr(x, y)
res
plt.plot(x,y, "*b")
print(res)


g = sns.FacetGrid(merged, col="lactation_number")
g.map(sns.scatterplot, "yield", "front_geo")


g = sns.FacetGrid(merged, col="lactation_number")
g.map(sns.scatterplot, "yield", "back_geo")


merged["total_kick-offs_last_7d"] = [0 if np.isnan(val) else val for val in merged["total_kick-offs_last_7d"]]
sns.scatterplot(data = merged, x= "total_kick-offs_last_7d", y = "lactation_number")


sns.scatterplot(data = merged, x= "front_geo", y = "avg._yield_per_milking_last_7d", hue = "lactation_number")


front_geo


sns.scatterplot(data = merged, x= "back_geo", y = "avg._yield_per_milking_last_7d", hue = "lactation_number")


sns.scatterplot(data = merged, x= "area", y = "peak_yield", hue = "lactation_number")
