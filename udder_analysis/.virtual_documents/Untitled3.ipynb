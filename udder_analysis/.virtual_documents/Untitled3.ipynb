import os
import pandas as pd
import numpy as np


dirpath = os.getcwd()
features_dir = os.path.join(os.path.normpath(dirpath + os.sep + os.pardir),"udder_processing",  "udder_features")
dfg1 = pd.read_csv(os.path.join(features_dir, "geosedic_newcows_p1.csv"))
dfg2 = pd.read_csv(os.path.join(features_dir, "geosedic_newcows_p2.csv"))
dfg3 = pd.read_csv(os.path.join(features_dir, "geosedic_newcows_p3.csv"), index_col=0)
dfg =  pd.read_csv(os.path.join(features_dir, "geosedic.csv"))
dfg1["lp_group"] = "p"
dfg2["lp_group"] = "p"
dfg3["lp_group"] = "p"
dfg["lp_group"] = "l"

df = pd.concat([dfg1, dfg2, dfg3, dfg], axis = 0, ignore_index = True)
df = df.drop(["arealf_vol2"], axis=1)
df.to_csv("geodesic_all.csv", index = False)


dfg



