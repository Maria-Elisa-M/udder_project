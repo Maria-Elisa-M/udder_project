


import os
import pandas as pd
import seaborn as sns
import numpy as np
import matplotlib.pyplot as plt





dirpath = os.getcwd()
features_dir = os.path.join(os.path.normpath(dirpath + os.sep + os.pardir),"udder_processing",  "udder_features")
dfv = pd.read_csv(os.path.join(features_dir, "volumes.csv"))
dfr = pd.read_csv(os.path.join(features_dir, "region_props.csv"))
dfg = pd.read_csv(os.path.join(features_dir, "geosedic.csv"))


sns.boxplot(x="cow", y="volume",data = dfv)
sns.despine(offset=10, trim=True)


sns.boxplot(x="cow", y="volume2",data = dfg)
sns.despine(offset=10, trim=True)


sns.boxplot(x="cow", y="udder_ecc",data = dfr)
sns.despine(offset=10, trim=True)


sns.boxplot(x="cow", y="udder_circ",data = dfr)
sns.despine(offset=10, trim=True)


np.sort(np.unique(dfr.udder_circ))


dfv2 = pd.melt(dfv, id_vars = "cow", value_vars = ["volume", "lf_vol", "rf_vol", "lb_vol", "rb_vol"]).reset_index()
grouped = dfv2[["cow", "variable", "value"]].groupby(["cow", "variable"]).agg([np.nanmedian, np.nanmin,np.nanmax,np.nanmean])
grouped.columns = ['%s%s' % (a, '_%s' % b if b else '') for a, b in grouped.columns]
grouped = grouped.reset_index()
grouped2 = pd.melt(grouped, id_vars = ["cow", "variable"], value_vars = ["value_nanmedian", "value_nanmin","value_nanmax", "value_nanmean"], var_name = "measure")
g = sns.FacetGrid(grouped2,row="variable", col = "measure")
g.map_dataframe(sns.histplot, x="value")


dfr2 = pd.melt(dfr, id_vars = "cow", value_vars = ["udder_ecc", "lf_ecc", "rf_ecc", "lb_ecc", "rb_ecc"]).reset_index()
grouped = dfr2[["cow", "variable", "value"]].groupby(["cow", "variable"]).agg([np.nanmedian, np.nanmin,np.nanmax,np.nanmean])
grouped.columns = ['%s%s' % (a, '_%s' % b if b else '') for a, b in grouped.columns]
grouped = grouped.reset_index()
grouped2 = pd.melt(grouped, id_vars = ["cow", "variable"], value_vars = ["value_nanmedian", "value_nanmin","value_nanmax", "value_nanmean"], var_name = "measure")
g = sns.FacetGrid(grouped2,row="variable", col = "measure")
g.map_dataframe(sns.histplot, x="value")





dirpath = os.getcwd()
features_dir = os.path.join(os.path.normpath(dirpath + os.sep + os.pardir),"udder_processing",  "udder_features")
dfv = pd.read_csv(os.path.join(features_dir, "volumes_newcows.csv"))
dfr = pd.read_csv(os.path.join(features_dir, "region_props_newcows.csv"))
dfg = pd.read_csv(os.path.join(features_dir, "geosedic.csv"))


sns.boxplot(x="cow", y="volume",data = dfv)
sns.despine(offset=10, trim=True)


sns.boxplot(x="cow", y="udder_circ",data = dfr)
sns.despine(offset=10, trim=True)


dfv2 = pd.melt(dfv, id_vars = "cow", value_vars = ["volume", "lf_vol", "rf_vol", "lb_vol", "rb_vol"]).reset_index()
grouped = dfv2[["cow", "variable", "value"]].groupby(["cow", "variable"]).agg([np.nanmedian, np.nanmin,np.nanmax,np.nanmean])
grouped.columns = ['%s%s' % (a, '_%s' % b if b else '') for a, b in grouped.columns]
grouped = grouped.reset_index()
grouped2 = pd.melt(grouped, id_vars = ["cow", "variable"], value_vars = ["value_nanmedian", "value_nanmin","value_nanmax", "value_nanmean"], var_name = "measure")
g = sns.FacetGrid(grouped2,row="variable", col = "measure")
g.map_dataframe(sns.histplot, x="value")


dfr2 = pd.melt(dfr, id_vars = "cow", value_vars = ["udder_ecc", "lf_ecc", "rf_ecc", "lb_ecc", "rb_ecc"]).reset_index()
grouped = dfr2[["cow", "variable", "value"]].groupby(["cow", "variable"]).agg([np.nanmedian, np.nanmin,np.nanmax,np.nanmean])
grouped.columns = ['%s%s' % (a, '_%s' % b if b else '') for a, b in grouped.columns]
grouped = grouped.reset_index()
grouped2 = pd.melt(grouped, id_vars = ["cow", "variable"], value_vars = ["value_nanmedian", "value_nanmin","value_nanmax", "value_nanmean"], var_name = "measure")
g = sns.FacetGrid(grouped2,row="variable", col = "measure")
g.map_dataframe(sns.histplot, x="value")
