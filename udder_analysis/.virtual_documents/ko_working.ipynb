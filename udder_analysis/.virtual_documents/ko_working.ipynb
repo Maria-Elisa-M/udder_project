# import
import os
import pandas as pd
import numpy as np 


# read files
features_path = r"C:\Users\marie\rep_codes\udder_project\udder_processing\features_dict\gmfeature_table.csv"
data_path = r"C:\Users\marie\rep_codes\udder_project\delpro_vms\data_out"

fdf = pd.read_csv(features_path)
ddf = pd.read_csv(os.path.join(data_path, "mko_integrated.csv"))


# merge files 


# find cows with keick offs and label
