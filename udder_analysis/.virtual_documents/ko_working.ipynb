# import
import os
import pandas as pd
import numpy as np 
import matplotlib.pyplot as plt
import seaborn as sns


# read files
features_path = r"C:\Users\marie\rep_codes\udder_project\udder_processing\features_dict\gmfeature_table.csv"
data_path = r"C:\Users\marie\rep_codes\udder_project\delpro_vms\data_out"

fdf = pd.read_csv(features_path)
fdf[fdf.columns[3:]] = fdf[fdf.columns[3:]].apply(pd.to_numeric, errors='coerce')
ddf = pd.read_csv(os.path.join(data_path, "mko_integrated.csv"))


fdfg = fdf.filter(regex = 'cow|_len|eu|gd|lfrb').groupby("cow").median().reset_index()


# merge files 
df = fdfg.merge(ddf, on = ["cow"], how = "left")
df["ko_cow"] = [1 if df.iloc[i].dko_udder_dim_cl > 10 else 0 for i in range(len(df.cow))]
df["ko_back"] = [1 if (df.iloc[i].dko_lb_dim_cl > 5) |  (df.iloc[i].dko_rb_dim_cl > 5) else 0 for i in range(len(df.cow))]
df["ko_front"] = [1 if (df.iloc[i].dko_lf_dim_cl > 5) |  (df.iloc[i].dko_rf_dim_cl > 5) else 0 for i in range(len(df.cow))]
df["ko_right"] = [1 if (df.iloc[i].dko_rf_dim_cl > 5) |  (df.iloc[i].dko_rb_dim_cl > 5) else 0 for i in range(len(df.cow))]
df["ko_left"] = [1 if (df.iloc[i].dko_lf_dim_cl > 5) |  (df.iloc[i].dko_lb_dim_cl > 5) else 0 for i in range(len(df.cow))]


# df2 = df.filter(regex = r'cow|len|eu|dko_.*dim_cl')
# df2[df2.ko_cow ==1]


mdf = pd.melt(df, value_vars = ['back_eu', 'front_eu', 'right_eu', 'left_eu'], id_vars =['cow', "ko_cow", "ko_right","ko_back", "ko_front", "ko_left"])


sns.boxplot(data=mdf, y="value", x = "variable", hue = "ko_back")


sns.boxplot(data=mdf, y="value", x = "variable", hue = "ko_front")


sns.boxplot(data=mdf, y="value", x = "variable", hue = "ko_right")


sns.boxplot(data=mdf, y="value", x = "variable", hue = "ko_left")
