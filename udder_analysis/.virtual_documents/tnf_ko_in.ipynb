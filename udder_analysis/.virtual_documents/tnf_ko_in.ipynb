import os
import pandas as pd
import numpy as np 
import matplotlib.pyplot as plt


features_path = r"C:\Users\marie\rep_codes\udder_project\udder_processing\features_dict\gmfeature_table.csv"
data_path = r"C:\Users\marie\rep_codes\udder_project\delpro_vms\data_out"
data_path2 = r"C:\Users\marie\rep_codes\udder_project\delpro_vms\more_reports\oneyear_data.csv"


animaldf = pd.read_csv(r"C:\Users\marie\rep_codes\udder_project\delpro_vms\animal_info.csv", sep = ";")
animaldf.columns = [col.replace(" ", "_").lower().replace("-", "") for col in animaldf.columns]
fresh_dates = animaldf[["animal_number", "last_calving_date"]]
fresh_dates["fresh_date"] = pd.to_datetime(fresh_dates["last_calving_date"], format = '%m/%d/%Y')
fresh_dates = fresh_dates[~fresh_dates.fresh_date.isnull()]
fresh_dates = fresh_dates.drop("last_calving_date", axis = 1)
fresh_dates = fresh_dates[(~fresh_dates.animal_number.isna())]
df = pd.read_csv(data_path2, sep = ";")
df.columns = [col.replace(" ", "_").lower().replace("-", "") for col in df.columns]
df["date"] = pd.to_datetime(df["date"], format = '%m/%d/%Y')
merged_df =  pd.merge(fresh_dates, df,  left_on="animal_number", right_on = "animal_number")

merged_df["dim"] = (merged_df["date"] - merged_df["fresh_date"]).dt.days
df2 = merged_df[merged_df.dim >= 0]


tnf_d = pd.read_csv( r"C:\Users\marie\rep_codes\udder_project\delpro_vms\data_out\tnf_daily.csv")
ko_d = pd.read_csv( r"C:\Users\marie\rep_codes\udder_project\delpro_vms\data_out\ko_daily.csv").drop(["date", "lactation_number"], axis = 1)


temp = df2[['animal_number', 'days_in_milk', 'incomplete']].merge(tnf_d, left_on = ['animal_number', 'days_in_milk'], right_on = ['animal_number', 'dim'], how = 'right').merge(ko_d, on = ['animal_number', 'dim'], how = 'right')
pd.set_option('display.max_columns', None)
temp[temp.incomplete ==1]


file = "ko_integrated.csv"
data_df = pd.read_csv(os.path.join(data_path, file))
x = data_df["dko_udder_dim_cl"]
plt.hist(x)
sum(x>0)
cows_ko = set(data_df[x>10].cow)
len(cows_ko)


file = "mtnf_integrated.csv"
data_df = pd.read_csv(os.path.join(data_path, file))
x = data_df["dtnf_udder_nd_7d"]
plt.hist(x)
sum(x>0)
cows_tnf = set(data_df[x>5].cow)
len(cows_tnf)


file = "inc_integrated.csv"
data_df = pd.read_csv(os.path.join(data_path, file))
x = data_df["dinc_nd_7d"]
plt.hist(x)
cows_inc = set(data_df[x>5].cow)
len(cows_inc)


print(len(cows_inc.intersection(cows_tnf)))
print(len(cows_inc.intersection(cows_ko)))
print(len(cows_ko.intersection(cows_tnf)))
print(len(cows_ko.intersection(cows_tnf).intersection(cows_inc)))


cows_tnf


cows_ko



