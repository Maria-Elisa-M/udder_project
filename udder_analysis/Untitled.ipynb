{
 "cells": [
  {
   "cell_type": "code",
   "execution_count": 1,
   "id": "58d07667-e6fc-4847-92ec-cf907c7155ac",
   "metadata": {
    "tags": []
   },
   "outputs": [],
   "source": [
    "# Merged files \n",
    "import os\n",
    "import pandas as pd\n",
    "import numpy as np"
   ]
  },
  {
   "cell_type": "code",
   "execution_count": 3,
   "id": "16b0c8de-ca6e-4aed-85cb-d312755ec5f2",
   "metadata": {
    "tags": []
   },
   "outputs": [],
   "source": [
    "dirpath = os.getcwd()\n",
    "features_dir = os.path.join(os.path.normpath(dirpath + os.sep + os.pardir),\"udder_processing\",  \"udder_features\")\n",
    "dfv1 = pd.read_csv(os.path.join(features_dir, \"volumes.csv\"), index_col=0)\n",
    "dfr1 = pd.read_csv(os.path.join(features_dir, \"region_props.csv\"), index_col=0)\n",
    "dfr1[\"lp_group\"] = \"l\"\n",
    "dfv1[\"lp_group\"] = \"l\"\n",
    "dfv2 = pd.read_csv(os.path.join(features_dir, \"volumes_newcows.csv\"), index_col=0)\n",
    "dfr2 = pd.read_csv(os.path.join(features_dir, \"region_props_newcows.csv\"), index_col=0)\n",
    "dfr2[\"lp_group\"] = \"p\"\n",
    "dfv2[\"lp_group\"] = \"p\"\n",
    "\n",
    "dfr = pd.concat([dfr1, dfr2], axis = 0, ignore_index = True)\n",
    "dfv = pd.concat([dfv1, dfv2], axis = 0, ignore_index = True)\n",
    "\n",
    "df_all = dfr.merge(dfv, on=[\"cow\", \"filename\", \"lp_group\"])\n",
    "\n",
    "id_vars = [\"cow\", \"lp_group\"]\n",
    "features = [\"udder_ecc\", \"lf_ecc\", \"rf_ecc\", \"lb_ecc\", \"rb_ecc\", \"volume\", \"lf_vol\", \"rf_vol\", \"lb_vol\", \"rb_vol\"]\n",
    "df_all2= pd.melt(df_all, id_vars = id_vars, value_vars = features).reset_index()\n",
    "grouped = df_all2[[\"cow\",\"lp_group\" ,\"variable\", \"value\"]].groupby([\"cow\", \"lp_group\", \"variable\"]).agg([np.nanmedian, np.nanmin,np.nanmax,np.nanmean, \"count\"])\n",
    "grouped.columns = [b.replace(\"nan\", \"\") if b else a for a, b in grouped.columns]\n",
    "grouped = grouped.reset_index()\n",
    "\n",
    "grouped_wide = grouped[[\"cow\", \"lp_group\", \"variable\", \"median\"]].pivot(index = id_vars, columns = \"variable\", values = \"median\").reset_index()\n",
    "\n",
    "grouped_wide.to_csv(\"udder_features_median.csv\", index = False)\n",
    "df_all.to_csv(\"udder_features_raw.csv\", index = False)\n",
    "grouped.to_csv(\"udder_features_grouped.csv\", index = False)"
   ]
  },
  {
   "cell_type": "code",
   "execution_count": null,
   "id": "ffbd6e17-5a67-48c7-8c86-8a62cee923d5",
   "metadata": {},
   "outputs": [],
   "source": []
  }
 ],
 "metadata": {
  "kernelspec": {
   "display_name": "Python 3 (ipykernel)",
   "language": "python",
   "name": "python3"
  },
  "language_info": {
   "codemirror_mode": {
    "name": "ipython",
    "version": 3
   },
   "file_extension": ".py",
   "mimetype": "text/x-python",
   "name": "python",
   "nbconvert_exporter": "python",
   "pygments_lexer": "ipython3",
   "version": "3.11.5"
  }
 },
 "nbformat": 4,
 "nbformat_minor": 5
}
