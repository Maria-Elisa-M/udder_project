{
 "cells": [
  {
   "cell_type": "code",
   "execution_count": 18,
   "id": "77a6a00b-1a49-4da2-aef4-e3adfbce4c13",
   "metadata": {},
   "outputs": [],
   "source": [
    "import pandas as pd\n",
    "import numpy as np\n",
    "from mlxtend.feature_selection import SequentialFeatureSelector\n",
    "from sklearn.model_selection  import train_test_split\n",
    "from sklearn.linear_model import LinearRegression\n",
    "from sklearn import preprocessing"
   ]
  },
  {
   "cell_type": "code",
   "execution_count": 19,
   "id": "bc3d4a10-9aaf-449f-b62d-e211614b1146",
   "metadata": {},
   "outputs": [
    {
     "name": "stdout",
     "output_type": "stream",
     "text": [
      "(43, 16)\n",
      "    cow  vol_udder  sarea_udder   peri_udder  area_udder  circ_udder  \\\n",
      "5   778   7.435424  2315.909903  1204.187950     88234.0    0.768021   \n",
      "11  868   3.687446  2171.163275  1118.388960     78328.0    0.787254   \n",
      "12  915   9.792706  2299.151507  1202.593542     86760.0    0.755408   \n",
      "13  922   8.601104  2022.001979  1169.234631     86290.0    0.794134   \n",
      "15  929  10.490411  2178.960033  1221.785930     94098.0    0.789787   \n",
      "\n",
      "    exc_udder      date           begin_time  days_in_milk device_name  \\\n",
      "5    0.576754  20231117  2023-11-17 14:02:00          54.0       VMS_2   \n",
      "11   0.614288  20231117  2023-11-17 14:24:00          60.0       VMS_1   \n",
      "12   0.561817  20231117  2023-11-17 12:33:00         246.0       VMS_1   \n",
      "13   0.740400  20231117  2023-11-17 14:12:00         181.0       VMS_2   \n",
      "15   0.697942  20231117  2023-11-17 15:15:00          14.0       VMS_2   \n",
      "\n",
      "    lactation_number  interval_sec  yield is_incomplete    occ  \n",
      "5                  5       21352.0  13.87     Unchecked  157.0  \n",
      "11                 4       15383.0  10.84     Unchecked   34.0  \n",
      "12                 4       38212.0  21.33     Unchecked  402.0  \n",
      "13                 4       28439.0  16.26     Unchecked   11.0  \n",
      "15                 4       32413.0  20.90     Unchecked  782.0  \n"
     ]
    }
   ],
   "source": [
    "df= pd.read_csv(r\"long_format_df/visit_ft_long_udder.csv\")\n",
    "df = df.dropna()\n",
    "print(df.shape)\n",
    "print(df.head())\n"
   ]
  },
  {
   "cell_type": "code",
   "execution_count": 25,
   "id": "1ae3df77-4687-407c-b812-8408b71b8603",
   "metadata": {},
   "outputs": [],
   "source": [
    "y = df[\"yield\"]\n",
    "X=df[[\"sarea_udder\", \"vol_udder\", \n",
    "          \"days_in_milk\", \"area_udder\",  \"peri_udder\",\n",
    "          \"exc_udder\", \"circ_udder\",\"interval_sec\"]]\n",
    "\n",
    "X_train,X_test,y_train,y_test =train_test_split(X,y,test_size=0.3,\n",
    "random_state=42)\n",
    "scaler = preprocessing.StandardScaler().fit(X)\n",
    "X_scaled = scaler.transform(X)"
   ]
  },
  {
   "cell_type": "code",
   "execution_count": 26,
   "id": "907bdbdd-8a88-40cd-8047-a51f9d7dd311",
   "metadata": {},
   "outputs": [
    {
     "name": "stderr",
     "output_type": "stream",
     "text": [
      "Features: 4/4"
     ]
    }
   ],
   "source": [
    "linearreg = LinearRegression()\n",
    "forwad = SequentialFeatureSelector(\n",
    "linearreg,\n",
    "k_features=4,\n",
    "forward=True,\n",
    "verbose=1,\n",
    "scoring=\"neg_mean_squared_error\"\n",
    ")\n",
    "sf = forwad.fit(X_scaled,y)"
   ]
  },
  {
   "cell_type": "code",
   "execution_count": 24,
   "id": "f4a6d2f4-f300-4f3c-bbb2-c742f98240d3",
   "metadata": {},
   "outputs": [
    {
     "name": "stdout",
     "output_type": "stream",
     "text": [
      "['2', '4', '6', '7']\n",
      "(2, 4, 6, 7)\n"
     ]
    }
   ],
   "source": [
    "feat_names = list(sf.k_feature_names_)\n",
    "print(feat_names)\n",
    "\n",
    "print(sf.k_feature_idx_)"
   ]
  },
  {
   "cell_type": "code",
   "execution_count": 35,
   "id": "b2d36cfa-b613-46bd-b9df-3cda15a0ad68",
   "metadata": {},
   "outputs": [
    {
     "data": {
      "text/html": [
       "<table class=\"simpletable\">\n",
       "<caption>OLS Regression Results</caption>\n",
       "<tr>\n",
       "  <th>Dep. Variable:</th>          <td>yield</td>      <th>  R-squared:         </th> <td>   0.630</td>\n",
       "</tr>\n",
       "<tr>\n",
       "  <th>Model:</th>                   <td>OLS</td>       <th>  Adj. R-squared:    </th> <td>   0.591</td>\n",
       "</tr>\n",
       "<tr>\n",
       "  <th>Method:</th>             <td>Least Squares</td>  <th>  F-statistic:       </th> <td>   16.19</td>\n",
       "</tr>\n",
       "<tr>\n",
       "  <th>Date:</th>             <td>Sun, 19 Jan 2025</td> <th>  Prob (F-statistic):</th> <td>8.03e-08</td>\n",
       "</tr>\n",
       "<tr>\n",
       "  <th>Time:</th>                 <td>10:50:59</td>     <th>  Log-Likelihood:    </th> <td> -99.102</td>\n",
       "</tr>\n",
       "<tr>\n",
       "  <th>No. Observations:</th>      <td>    43</td>      <th>  AIC:               </th> <td>   208.2</td>\n",
       "</tr>\n",
       "<tr>\n",
       "  <th>Df Residuals:</th>          <td>    38</td>      <th>  BIC:               </th> <td>   217.0</td>\n",
       "</tr>\n",
       "<tr>\n",
       "  <th>Df Model:</th>              <td>     4</td>      <th>                     </th>     <td> </td>   \n",
       "</tr>\n",
       "<tr>\n",
       "  <th>Covariance Type:</th>      <td>nonrobust</td>    <th>                     </th>     <td> </td>   \n",
       "</tr>\n",
       "</table>\n",
       "<table class=\"simpletable\">\n",
       "<tr>\n",
       "    <td></td>       <th>coef</th>     <th>std err</th>      <th>t</th>      <th>P>|t|</th>  <th>[0.025</th>    <th>0.975]</th>  \n",
       "</tr>\n",
       "<tr>\n",
       "  <th>const</th> <td>   18.6977</td> <td>    0.393</td> <td>   47.533</td> <td> 0.000</td> <td>   17.901</td> <td>   19.494</td>\n",
       "</tr>\n",
       "<tr>\n",
       "  <th>x1</th>    <td>   -1.0484</td> <td>    0.426</td> <td>   -2.459</td> <td> 0.019</td> <td>   -1.912</td> <td>   -0.185</td>\n",
       "</tr>\n",
       "<tr>\n",
       "  <th>x2</th>    <td>    0.4338</td> <td>    0.416</td> <td>    1.043</td> <td> 0.304</td> <td>   -0.409</td> <td>    1.276</td>\n",
       "</tr>\n",
       "<tr>\n",
       "  <th>x3</th>    <td>   -0.3524</td> <td>    0.420</td> <td>   -0.839</td> <td> 0.407</td> <td>   -1.203</td> <td>    0.498</td>\n",
       "</tr>\n",
       "<tr>\n",
       "  <th>x4</th>    <td>    3.1607</td> <td>    0.429</td> <td>    7.365</td> <td> 0.000</td> <td>    2.292</td> <td>    4.029</td>\n",
       "</tr>\n",
       "</table>\n",
       "<table class=\"simpletable\">\n",
       "<tr>\n",
       "  <th>Omnibus:</th>       <td> 2.268</td> <th>  Durbin-Watson:     </th> <td>   1.927</td>\n",
       "</tr>\n",
       "<tr>\n",
       "  <th>Prob(Omnibus):</th> <td> 0.322</td> <th>  Jarque-Bera (JB):  </th> <td>   1.790</td>\n",
       "</tr>\n",
       "<tr>\n",
       "  <th>Skew:</th>          <td>-0.499</td> <th>  Prob(JB):          </th> <td>   0.409</td>\n",
       "</tr>\n",
       "<tr>\n",
       "  <th>Kurtosis:</th>      <td> 2.961</td> <th>  Cond. No.          </th> <td>    1.59</td>\n",
       "</tr>\n",
       "</table><br/><br/>Notes:<br/>[1] Standard Errors assume that the covariance matrix of the errors is correctly specified."
      ],
      "text/latex": [
       "\\begin{center}\n",
       "\\begin{tabular}{lclc}\n",
       "\\toprule\n",
       "\\textbf{Dep. Variable:}    &      yield       & \\textbf{  R-squared:         } &     0.630   \\\\\n",
       "\\textbf{Model:}            &       OLS        & \\textbf{  Adj. R-squared:    } &     0.591   \\\\\n",
       "\\textbf{Method:}           &  Least Squares   & \\textbf{  F-statistic:       } &     16.19   \\\\\n",
       "\\textbf{Date:}             & Sun, 19 Jan 2025 & \\textbf{  Prob (F-statistic):} &  8.03e-08   \\\\\n",
       "\\textbf{Time:}             &     10:50:59     & \\textbf{  Log-Likelihood:    } &   -99.102   \\\\\n",
       "\\textbf{No. Observations:} &          43      & \\textbf{  AIC:               } &     208.2   \\\\\n",
       "\\textbf{Df Residuals:}     &          38      & \\textbf{  BIC:               } &     217.0   \\\\\n",
       "\\textbf{Df Model:}         &           4      & \\textbf{                     } &             \\\\\n",
       "\\textbf{Covariance Type:}  &    nonrobust     & \\textbf{                     } &             \\\\\n",
       "\\bottomrule\n",
       "\\end{tabular}\n",
       "\\begin{tabular}{lcccccc}\n",
       "               & \\textbf{coef} & \\textbf{std err} & \\textbf{t} & \\textbf{P$> |$t$|$} & \\textbf{[0.025} & \\textbf{0.975]}  \\\\\n",
       "\\midrule\n",
       "\\textbf{const} &      18.6977  &        0.393     &    47.533  &         0.000        &       17.901    &       19.494     \\\\\n",
       "\\textbf{x1}    &      -1.0484  &        0.426     &    -2.459  &         0.019        &       -1.912    &       -0.185     \\\\\n",
       "\\textbf{x2}    &       0.4338  &        0.416     &     1.043  &         0.304        &       -0.409    &        1.276     \\\\\n",
       "\\textbf{x3}    &      -0.3524  &        0.420     &    -0.839  &         0.407        &       -1.203    &        0.498     \\\\\n",
       "\\textbf{x4}    &       3.1607  &        0.429     &     7.365  &         0.000        &        2.292    &        4.029     \\\\\n",
       "\\bottomrule\n",
       "\\end{tabular}\n",
       "\\begin{tabular}{lclc}\n",
       "\\textbf{Omnibus:}       &  2.268 & \\textbf{  Durbin-Watson:     } &    1.927  \\\\\n",
       "\\textbf{Prob(Omnibus):} &  0.322 & \\textbf{  Jarque-Bera (JB):  } &    1.790  \\\\\n",
       "\\textbf{Skew:}          & -0.499 & \\textbf{  Prob(JB):          } &    0.409  \\\\\n",
       "\\textbf{Kurtosis:}      &  2.961 & \\textbf{  Cond. No.          } &     1.59  \\\\\n",
       "\\bottomrule\n",
       "\\end{tabular}\n",
       "%\\caption{OLS Regression Results}\n",
       "\\end{center}\n",
       "\n",
       "Notes: \\newline\n",
       " [1] Standard Errors assume that the covariance matrix of the errors is correctly specified."
      ],
      "text/plain": [
       "<class 'statsmodels.iolib.summary.Summary'>\n",
       "\"\"\"\n",
       "                            OLS Regression Results                            \n",
       "==============================================================================\n",
       "Dep. Variable:                  yield   R-squared:                       0.630\n",
       "Model:                            OLS   Adj. R-squared:                  0.591\n",
       "Method:                 Least Squares   F-statistic:                     16.19\n",
       "Date:                Sun, 19 Jan 2025   Prob (F-statistic):           8.03e-08\n",
       "Time:                        10:50:59   Log-Likelihood:                -99.102\n",
       "No. Observations:                  43   AIC:                             208.2\n",
       "Df Residuals:                      38   BIC:                             217.0\n",
       "Df Model:                           4                                         \n",
       "Covariance Type:            nonrobust                                         \n",
       "==============================================================================\n",
       "                 coef    std err          t      P>|t|      [0.025      0.975]\n",
       "------------------------------------------------------------------------------\n",
       "const         18.6977      0.393     47.533      0.000      17.901      19.494\n",
       "x1            -1.0484      0.426     -2.459      0.019      -1.912      -0.185\n",
       "x2             0.4338      0.416      1.043      0.304      -0.409       1.276\n",
       "x3            -0.3524      0.420     -0.839      0.407      -1.203       0.498\n",
       "x4             3.1607      0.429      7.365      0.000       2.292       4.029\n",
       "==============================================================================\n",
       "Omnibus:                        2.268   Durbin-Watson:                   1.927\n",
       "Prob(Omnibus):                  0.322   Jarque-Bera (JB):                1.790\n",
       "Skew:                          -0.499   Prob(JB):                        0.409\n",
       "Kurtosis:                       2.961   Cond. No.                         1.59\n",
       "==============================================================================\n",
       "\n",
       "Notes:\n",
       "[1] Standard Errors assume that the covariance matrix of the errors is correctly specified.\n",
       "\"\"\""
      ]
     },
     "execution_count": 35,
     "metadata": {},
     "output_type": "execute_result"
    }
   ],
   "source": [
    "import statsmodels.api as sm\n",
    "X_opt = np.append(arr=np.ones((len(df),1)).astype(int), values = X_scaled[:,[2, 4, 6, 7]], axis=1)\n",
    "regressor_OLS = sm.OLS(endog=y,exog=X_opt).fit()\n",
    "regressor_OLS.summary()"
   ]
  },
  {
   "cell_type": "code",
   "execution_count": 34,
   "id": "81ee066b-2192-4455-b773-686cda474064",
   "metadata": {},
   "outputs": [
    {
     "data": {
      "text/plain": [
       "array(['days_in_milk', 'peri_udder', 'circ_udder', 'interval_sec'],\n",
       "      dtype='<U12')"
      ]
     },
     "execution_count": 34,
     "metadata": {},
     "output_type": "execute_result"
    }
   ],
   "source": [
    "var = np.array([\"sarea_udder\", \"vol_udder\", \n",
    "          \"days_in_milk\", \"area_udder\",  \"peri_udder\",\n",
    "          \"exc_udder\", \"circ_udder\",\"interval_sec\"])\n",
    "var[[2,4,6,7]]"
   ]
  }
 ],
 "metadata": {
  "kernelspec": {
   "display_name": "Python 3 (ipykernel)",
   "language": "python",
   "name": "python3"
  },
  "language_info": {
   "codemirror_mode": {
    "name": "ipython",
    "version": 3
   },
   "file_extension": ".py",
   "mimetype": "text/x-python",
   "name": "python",
   "nbconvert_exporter": "python",
   "pygments_lexer": "ipython3",
   "version": "3.12.3"
  }
 },
 "nbformat": 4,
 "nbformat_minor": 5
}
