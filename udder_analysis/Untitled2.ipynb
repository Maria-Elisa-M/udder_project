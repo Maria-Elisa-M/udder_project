{
 "cells": [
  {
   "cell_type": "code",
   "execution_count": 1,
   "id": "0c7d17c3-e60d-46f7-acb6-a92866ad1253",
   "metadata": {
    "tags": []
   },
   "outputs": [],
   "source": [
    "import os\n",
    "import pandas as pd\n",
    "import numpy as np\n",
    "import matplotlib.pyplot as plt\n",
    "import seaborn as sns\n",
    "from scipy import stats"
   ]
  },
  {
   "cell_type": "code",
   "execution_count": 2,
   "id": "fad29230-1f82-46fd-80a1-56fe50297a69",
   "metadata": {
    "tags": []
   },
   "outputs": [],
   "source": [
    "dirpath = os.getcwd()\n",
    "vms_dir = os.path.join(os.path.normpath(dirpath + os.sep + os.pardir),\"delpro_vms\")\n",
    "\n",
    "vms_df = pd.read_csv(os.path.join(vms_dir, \"milk_videos_filtered.csv\"))\n",
    "features_df = pd.read_csv(\"udder_features_median.csv\")\n",
    "merged = features_df.merge(vms_df, on =\"cow\", how= \"left\")"
   ]
  },
  {
   "cell_type": "markdown",
   "id": "d967ac5b-743f-437c-ace9-5732e00d3e98",
   "metadata": {},
   "source": [
    "## Volume and yield"
   ]
  },
  {
   "cell_type": "code",
   "execution_count": 6,
   "id": "2da42c44-ba1d-4c02-9d77-63beeb8932f9",
   "metadata": {
    "tags": []
   },
   "outputs": [
    {
     "data": {
      "text/plain": [
       "PearsonRResult(statistic=0.5232837320429277, pvalue=1.6861857713783278e-10)"
      ]
     },
     "execution_count": 6,
     "metadata": {},
     "output_type": "execute_result"
    }
   ],
   "source": [
    "merged2 = merged[[\"lf_vol\", \"yield_lf\"]].dropna()\n",
    "x = merged2.lf_vol\n",
    "y = merged2.yield_lf\n",
    "res = stats.pearsonr(x, y)\n",
    "res"
   ]
  },
  {
   "cell_type": "code",
   "execution_count": 7,
   "id": "c12be161-661a-4765-9f40-8c7a7300a91d",
   "metadata": {
    "tags": []
   },
   "outputs": [
    {
     "data": {
      "text/plain": [
       "PearsonRResult(statistic=0.3479817703005885, pvalue=3.5403417090873076e-05)"
      ]
     },
     "execution_count": 7,
     "metadata": {},
     "output_type": "execute_result"
    }
   ],
   "source": [
    "merged2 = merged[[\"rf_vol\", \"yield_rf\"]].dropna()\n",
    "x = merged2.rf_vol\n",
    "y = merged2.yield_rf\n",
    "res = stats.pearsonr(x, y)\n",
    "res"
   ]
  },
  {
   "cell_type": "code",
   "execution_count": 9,
   "id": "73bf0066-e385-4806-ad0a-ea59f023b342",
   "metadata": {
    "tags": []
   },
   "outputs": [
    {
     "data": {
      "text/plain": [
       "PearsonRResult(statistic=0.2840386981071631, pvalue=0.0008811507896493289)"
      ]
     },
     "execution_count": 9,
     "metadata": {},
     "output_type": "execute_result"
    }
   ],
   "source": [
    "merged2 = merged[[\"rb_vol\", \"yield_rr\"]].dropna()\n",
    "x = merged2.rb_vol\n",
    "y = merged2.yield_rr\n",
    "res = stats.pearsonr(x, y)\n",
    "res"
   ]
  },
  {
   "cell_type": "code",
   "execution_count": 11,
   "id": "5d7971bf-7765-49a8-a27a-3b551c6ca1d0",
   "metadata": {
    "tags": []
   },
   "outputs": [
    {
     "data": {
      "text/plain": [
       "PearsonRResult(statistic=0.24215110210668425, pvalue=0.00481855226475735)"
      ]
     },
     "execution_count": 11,
     "metadata": {},
     "output_type": "execute_result"
    }
   ],
   "source": [
    "merged2 = merged[[\"lb_vol\", \"yield_lr\"]].dropna()\n",
    "x = merged2.lb_vol\n",
    "y = merged2.yield_lr\n",
    "res = stats.pearsonr(x, y)\n",
    "res"
   ]
  },
  {
   "cell_type": "code",
   "execution_count": 15,
   "id": "09cd177e-2757-44f4-8051-e5b643cba375",
   "metadata": {
    "tags": []
   },
   "outputs": [
    {
     "data": {
      "text/plain": [
       "PearsonRResult(statistic=0.4379565977918889, pvalue=7.791436288427527e-08)"
      ]
     },
     "execution_count": 15,
     "metadata": {},
     "output_type": "execute_result"
    }
   ],
   "source": [
    "merged2 = merged[[\"volume\", \"yield\"]].dropna()\n",
    "x = merged2.volume\n",
    "y = merged2[\"yield\"]\n",
    "res = stats.pearsonr(x, y)\n",
    "res"
   ]
  },
  {
   "cell_type": "markdown",
   "id": "e72e3329-f5df-4a30-8f0e-9b4d919ab1ee",
   "metadata": {},
   "source": [
    "## Eccentricity and peak flow"
   ]
  },
  {
   "cell_type": "code",
   "execution_count": 12,
   "id": "d67e0e24-dd51-45db-bf01-c44459799cb6",
   "metadata": {
    "tags": []
   },
   "outputs": [
    {
     "data": {
      "text/plain": [
       "PearsonRResult(statistic=0.09876698202099429, pvalue=0.26357700465325173)"
      ]
     },
     "execution_count": 12,
     "metadata": {},
     "output_type": "execute_result"
    }
   ],
   "source": [
    "merged2 = merged[[\"lf_ecc\", \"peak_flow_lf\"]].dropna()\n",
    "x = merged2.lf_ecc\n",
    "y = merged2.peak_flow_lf\n",
    "res = stats.pearsonr(x, y)\n",
    "res"
   ]
  }
 ],
 "metadata": {
  "kernelspec": {
   "display_name": "Python 3 (ipykernel)",
   "language": "python",
   "name": "python3"
  },
  "language_info": {
   "codemirror_mode": {
    "name": "ipython",
    "version": 3
   },
   "file_extension": ".py",
   "mimetype": "text/x-python",
   "name": "python",
   "nbconvert_exporter": "python",
   "pygments_lexer": "ipython3",
   "version": "3.11.5"
  }
 },
 "nbformat": 4,
 "nbformat_minor": 5
}
