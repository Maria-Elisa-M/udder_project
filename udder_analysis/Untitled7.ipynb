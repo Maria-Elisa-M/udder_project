{
 "cells": [
  {
   "cell_type": "code",
   "execution_count": 17,
   "id": "ee42c445-45d5-4287-9b7c-2bf838c244d4",
   "metadata": {},
   "outputs": [],
   "source": [
    "import os\n",
    "import pandas as pd\n",
    "import numpy as np\n",
    "import seaborn as sns\n",
    "from datetime import date, datetime, timedelta\n",
    "from sklearn import linear_model"
   ]
  },
  {
   "cell_type": "code",
   "execution_count": 18,
   "id": "86416494-3629-4e12-ae87-c133cc7c69ff",
   "metadata": {},
   "outputs": [],
   "source": [
    "def interval_seconds(interval_str):\n",
    "    if len(interval_str.split(\" d \")) > 1:\n",
    "        days = int(interval_str.split(\" d \")[0])\n",
    "        times = interval_str.split(\" d \")[1].split(\":\")\n",
    "    else:\n",
    "        days = 0\n",
    "        times = interval_str.split(\" d \")[-1].split(\":\")\n",
    "    hours = int(times[0])\n",
    "    minutes = int(times[1])\n",
    "    seconds = int(times[2])\n",
    "    interval = timedelta(days = days, hours = hours, minutes = minutes, seconds = seconds).total_seconds()\n",
    "    return interval"
   ]
  },
  {
   "cell_type": "code",
   "execution_count": 19,
   "id": "e048566c-c7e4-4992-a47e-e771f817b246",
   "metadata": {},
   "outputs": [],
   "source": [
    "dirpath = os.getcwd()\n",
    "data_path = os.path.join(dirpath, \"..\", \"delpro_vms\", \"data\")\n",
    "# read vistit data\n",
    "visit_df = pd.read_csv(os.path.join(data_path, \"milk_videos_visit.csv\"))\n",
    "visit_df[\"interval_sec\"] = [interval_seconds(rec) for rec in visit_df.interval]\n",
    "# read features\n",
    "feature_df = pd.read_csv(\"udder_features_median.csv\")"
   ]
  },
  {
   "cell_type": "code",
   "execution_count": 20,
   "id": "86a1f0ea-96f8-4276-a21a-7a7565acc911",
   "metadata": {},
   "outputs": [],
   "source": [
    "temp = feature_df.merge(visit_df, on = \"cow\", how = \"left\")"
   ]
  },
  {
   "cell_type": "code",
   "execution_count": 29,
   "id": "d4b2557e-63ab-4e86-8d77-fda7d58ad54c",
   "metadata": {},
   "outputs": [
    {
     "name": "stdout",
     "output_type": "stream",
     "text": [
      "[1.02823682e+00 2.85779082e-04]\n"
     ]
    }
   ],
   "source": [
    "X = temp[[\"volume2\", \"interval_sec\"]].to_numpy()\n",
    "y = temp[\"yield\"].to_numpy()\n",
    "regr = linear_model.LinearRegression()\n",
    "regr.fit(X, y)\n",
    "print(regr.coef_)"
   ]
  },
  {
   "cell_type": "code",
   "execution_count": 28,
   "id": "01fe4d66-b0e6-4c3f-a393-270bd09fb583",
   "metadata": {},
   "outputs": [
    {
     "name": "stdout",
     "output_type": "stream",
     "text": [
      "[ 1.52344474e-01 -1.41883306e-05]\n"
     ]
    }
   ],
   "source": [
    "\n",
    "X = temp[[\"yield\", \"interval_sec\"]].to_numpy()\n",
    "y = temp[\"volume2\"].to_numpy()\n",
    "regr = linear_model.LinearRegression()\n",
    "regr.fit(X, y)\n",
    "print(regr.coef_)"
   ]
  },
  {
   "cell_type": "code",
   "execution_count": null,
   "id": "0b1fa296-16b1-4f92-950b-cfca8200ce5c",
   "metadata": {},
   "outputs": [],
   "source": []
  }
 ],
 "metadata": {
  "kernelspec": {
   "display_name": "Python 3 (ipykernel)",
   "language": "python",
   "name": "python3"
  },
  "language_info": {
   "codemirror_mode": {
    "name": "ipython",
    "version": 3
   },
   "file_extension": ".py",
   "mimetype": "text/x-python",
   "name": "python",
   "nbconvert_exporter": "python",
   "pygments_lexer": "ipython3",
   "version": "3.11.5"
  }
 },
 "nbformat": 4,
 "nbformat_minor": 5
}
