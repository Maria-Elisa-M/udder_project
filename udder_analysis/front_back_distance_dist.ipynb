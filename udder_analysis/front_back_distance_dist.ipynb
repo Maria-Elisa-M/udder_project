{
 "cells": [
  {
   "cell_type": "code",
   "execution_count": 17,
   "id": "dbd67f7d-6fd5-4f12-8f75-f727d195fad0",
   "metadata": {},
   "outputs": [],
   "source": [
    "import os\n",
    "import pandas as pd\n",
    "import numpy as np\n",
    "from datetime import date, datetime, timedelta\n",
    "from sklearn import linear_model\n",
    "import statistics"
   ]
  },
  {
   "cell_type": "code",
   "execution_count": 21,
   "id": "87eca81b-2e40-4ad0-98f9-3c57e8b9d8e8",
   "metadata": {},
   "outputs": [],
   "source": [
    "dirpath = os.getcwd()\n",
    "feature_df = pd.read_csv(r\"C:\\Users\\marie\\rep_codes\\udder_project\\udder_processing\\features_dict\\gmfeature_table.csv\")"
   ]
  },
  {
   "cell_type": "code",
   "execution_count": 41,
   "id": "3e219112-8eac-421b-8f09-86cb46696fb4",
   "metadata": {},
   "outputs": [
    {
     "name": "stdout",
     "output_type": "stream",
     "text": [
      "3.274631029273919\n",
      "15.409756597448833\n"
     ]
    }
   ],
   "source": [
    "# print(statistics.stdev(feature_df.front_eu))\n",
    "print(statistics.stdev(ft.front_eu.dropna()))\n",
    "print(statistics.mean(ft.front_eu.dropna()))"
   ]
  },
  {
   "cell_type": "code",
   "execution_count": 42,
   "id": "626d47e4-2e5c-4d61-91d6-775e81d6d683",
   "metadata": {},
   "outputs": [
    {
     "name": "stdout",
     "output_type": "stream",
     "text": [
      "2.3988975456440595\n",
      "7.615738131375041\n"
     ]
    }
   ],
   "source": [
    "print(statistics.stdev(ft.back_eu.dropna()))\n",
    "print(statistics.mean(ft.back_eu.dropna()))"
   ]
  }
 ],
 "metadata": {
  "kernelspec": {
   "display_name": "Python 3 (ipykernel)",
   "language": "python",
   "name": "python3"
  },
  "language_info": {
   "codemirror_mode": {
    "name": "ipython",
    "version": 3
   },
   "file_extension": ".py",
   "mimetype": "text/x-python",
   "name": "python",
   "nbconvert_exporter": "python",
   "pygments_lexer": "ipython3",
   "version": "3.12.3"
  }
 },
 "nbformat": 4,
 "nbformat_minor": 5
}
