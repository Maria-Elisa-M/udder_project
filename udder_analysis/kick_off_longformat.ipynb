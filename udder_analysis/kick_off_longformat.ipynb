{
 "cells": [
  {
   "cell_type": "code",
   "execution_count": 29,
   "id": "e2c4a0f2-8ea2-4b40-9329-9e13abbfb9ac",
   "metadata": {},
   "outputs": [],
   "source": [
    "import os\n",
    "import pandas as pd\n",
    "import numpy as np\n",
    "import seaborn as sns"
   ]
  },
  {
   "cell_type": "code",
   "execution_count": 30,
   "id": "4b8873b7-8087-4730-be5d-8fe5d5dd8a6d",
   "metadata": {},
   "outputs": [],
   "source": [
    "def merge_long(df, info_cols, col_dict):\n",
    "    for i, key in enumerate(col_dict.keys()):\n",
    "        sel_cols = info_cols + col_dict[key]\n",
    "        temp = df[sel_cols]\n",
    "        # select columns and melt \n",
    "        temp2 = pd.wide_to_long(temp, [key], i = info_cols, j=\"teat\", sep='_', suffix=r'\\w+').reset_index()\n",
    "        if i == 0:\n",
    "            df_long = temp2.copy()\n",
    "        else:\n",
    "            df_long = pd.merge(df_long, temp2, on = info_cols + [\"teat\"])\n",
    "    return df_long\n",
    "\n",
    "def get_col_dict(df, teat_list):\n",
    "    # find columns with teats\n",
    "    columns_q = [col for col in df.columns if col.split(\"_\")[-1] in teat_list]\n",
    "    col_dict = {}\n",
    "    for col in  columns_q:\n",
    "        key = \"_\".join(col.split(\"_\")[0:-1])\n",
    "        if key in col_dict.keys():\n",
    "            col_dict[key].append(col)\n",
    "        else:\n",
    "            col_dict[key] = [col]\n",
    "    return col_dict"
   ]
  },
  {
   "cell_type": "code",
   "execution_count": 32,
   "id": "a876f40a-63d8-4db2-8673-5d04a094e1b4",
   "metadata": {},
   "outputs": [],
   "source": [
    "dirpath = os.getcwd()\n",
    "data_path = os.path.join(dirpath, \"..\", \"delpro_vms\", \"data\")\n",
    "feature_path = os.path.join(dirpath, \"..\", \"udder_processing\", \"features_dict\")\n",
    "out_dir = \"long_format_df\"\n",
    "# read vistit data\n",
    "all_df = pd.read_csv(os.path.join(data_path, \"delpro_visit_lactation.csv\"))\n",
    "# read feature data \n",
    "feature_df = pd.read_csv(os.path.join(feature_path, \"gmfeature_table.csv\"))\n",
    "feature_df = feature_df.rename(columns = lambda col: \"_\".join(col.split(\"_\")[::-1]) if \"_\" in col else col)\n",
    "# 'eu_back', 'geo_back', 'eu_front','geo_front'\n",
    "all_df[\"ko_front\"] = [0 if (\"U\" in str(all_df.kickoff_lf[i])) | (\"U\" in str(all_df.kickoff_rf[i])) else 1 for i in range(len(all_df[['kickoff_lf', 'kickoff_rf']]))]\n",
    "all_df[\"ko_back\"] = [0 if (\"U\" in str(all_df.kickoff_lr[i])) | (\"U\" in str(all_df.kickoff_rr[i])) else 1 for i in range(len(all_df[['kickoff_lr', 'kickoff_rr']]))]"
   ]
  },
  {
   "cell_type": "code",
   "execution_count": 33,
   "id": "589183f0-8461-4b81-b0f7-3eae06202220",
   "metadata": {},
   "outputs": [],
   "source": [
    "# ko long format\n",
    "info_cols = [\"animal_number\", \"begin_time\", \"days_in_milk\", \"lactation_number\"]\n",
    "col_dict = get_col_dict(all_df, [\"lf\", \"lr\", \"rr\", \"rf\"])\n",
    "ko_long = merge_long(all_df, info_cols, col_dict)\n",
    "ko_long[\"ko_bin\"] = [0 if \"U\" in str(ko) else 1 for ko in ko_long.kickoff]\n",
    "# feature long format\n",
    "info_cols = [\"cow\"]\n",
    "col_dict = get_col_dict(feature_df, [\"lf\", \"lb\", \"rb\", \"rf\"])\n",
    "ft_long = merge_long(feature_df, info_cols, col_dict)\n",
    "ft_long[\"teat\"] = [t.replace(\"b\", \"r\") for t in ft_long.teat]\n",
    "\n",
    "merged_long = pd.merge(ft_long, ko_long, left_on = [\"cow\", \"teat\"], right_on = [\"animal_number\", \"teat\"])\n",
    "merged_long.to_csv(os.path.join(out_dir, \"ko_ft_long_teat.csv\"), index = False)"
   ]
  },
  {
   "cell_type": "code",
   "execution_count": 34,
   "id": "c9450d88-ff3c-4b47-9489-b0b7f22b839b",
   "metadata": {},
   "outputs": [],
   "source": [
    "# ko long format\n",
    "info_cols = [\"animal_number\", \"begin_time\", \"days_in_milk\", \"lactation_number\"]\n",
    "col_dict = get_col_dict(all_df, [\"front\",\"back\"])\n",
    "ko_long = merge_long(all_df, info_cols, col_dict)\n",
    "# ko_long[\"ko_bin\"] = [0 if \"U\" in str(ko) else 1 for ko in ko_long.kickoff]\n",
    "# feature long format\n",
    "info_cols = [\"cow\"]\n",
    "col_dict = get_col_dict(feature_df,  [\"front\",\"back\"])\n",
    "ft_long = merge_long(feature_df, info_cols, col_dict)\n",
    "\n",
    "merged_long = pd.merge(ft_long, ko_long, left_on = [\"cow\", \"teat\"], right_on = [\"animal_number\", \"teat\"])\n",
    "merged_long.rename(columns = {\"teat\":\"side\"}, inplace = True)\n",
    "merged_long.to_csv(os.path.join(out_dir, \"ko_ft_long_side.csv\"), index = False)"
   ]
  },
  {
   "cell_type": "code",
   "execution_count": null,
   "id": "c4025329-bd56-4ece-b762-8a6e9a091201",
   "metadata": {},
   "outputs": [],
   "source": [
    "np.unique(merged_long.cow)"
   ]
  },
  {
   "cell_type": "code",
   "execution_count": null,
   "id": "dbfa6b9b-1d93-4b92-ac49-09bbd0240fe1",
   "metadata": {},
   "outputs": [],
   "source": []
  },
  {
   "cell_type": "code",
   "execution_count": null,
   "id": "9bfe5ed1-0ac4-4a59-9901-e3c107f37440",
   "metadata": {},
   "outputs": [],
   "source": []
  }
 ],
 "metadata": {
  "kernelspec": {
   "display_name": "Python 3 (ipykernel)",
   "language": "python",
   "name": "python3"
  },
  "language_info": {
   "codemirror_mode": {
    "name": "ipython",
    "version": 3
   },
   "file_extension": ".py",
   "mimetype": "text/x-python",
   "name": "python",
   "nbconvert_exporter": "python",
   "pygments_lexer": "ipython3",
   "version": "3.11.5"
  }
 },
 "nbformat": 4,
 "nbformat_minor": 5
}
