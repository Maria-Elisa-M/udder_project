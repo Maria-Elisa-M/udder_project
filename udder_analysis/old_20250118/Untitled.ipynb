{
 "cells": [
  {
   "cell_type": "code",
   "execution_count": 86,
   "id": "58d07667-e6fc-4847-92ec-cf907c7155ac",
   "metadata": {
    "tags": []
   },
   "outputs": [],
   "source": [
    "# Merged files \n",
    "import os\n",
    "import pandas as pd\n",
    "import numpy as np"
   ]
  },
  {
   "cell_type": "code",
   "execution_count": 87,
   "id": "16b0c8de-ca6e-4aed-85cb-d312755ec5f2",
   "metadata": {
    "tags": []
   },
   "outputs": [],
   "source": [
    "dirpath = os.getcwd()\n",
    "features_dir = os.path.join(os.path.normpath(dirpath + os.sep + os.pardir),\"udder_processing\",  \"udder_features\")\n",
    "dfv1 = pd.read_csv(os.path.join(features_dir, \"volumes.csv\"), index_col=0)\n",
    "dfr1 = pd.read_csv(os.path.join(features_dir, \"region_props.csv\"))\n",
    "dfr1[\"lp_group\"] = \"l\"\n",
    "dfv1[\"lp_group\"] = \"l\"\n",
    "dfv2 = pd.read_csv(os.path.join(features_dir, \"volumes_newcows.csv\"), index_col=0)\n",
    "dfr2 = pd.read_csv(os.path.join(features_dir, \"region_props_newcows.csv\"))\n",
    "dfr2[\"lp_group\"] = \"p\"\n",
    "dfv2[\"lp_group\"] = \"p\"\n",
    "\n",
    "dfr = pd.concat([dfr1, dfr2], axis = 0, ignore_index = True)\n",
    "dfv = pd.concat([dfv1, dfv2], axis = 0, ignore_index = True)\n",
    "\n",
    "dfg =  pd.read_csv(\"geodesic_all.csv\")\n",
    "\n",
    "df_all = dfr.merge(dfv, on=[\"cow\",\"filename\", \"lp_group\"])\n",
    "df_all = dfg.merge(df_all, on=[\"cow\",\"filename\", \"lp_group\"])\n"
   ]
  },
  {
   "cell_type": "code",
   "execution_count": 88,
   "id": "7650f2e0-ced3-4f5c-9108-bfc8d92a3474",
   "metadata": {},
   "outputs": [],
   "source": [
    "features = df_all.columns.drop([\"cow\", \"lp_group\", \"filename\"])"
   ]
  },
  {
   "cell_type": "code",
   "execution_count": 89,
   "id": "cb6c1f73-9433-4009-a6a0-e3dbbf4fd29e",
   "metadata": {},
   "outputs": [
    {
     "name": "stderr",
     "output_type": "stream",
     "text": [
      "C:\\Users\\marie\\AppData\\Local\\Temp\\ipykernel_12676\\3526364812.py:3: FutureWarning: The provided callable <function nanmedian at 0x00000277C694F560> is currently using SeriesGroupBy.median. In a future version of pandas, the provided callable will be used directly. To keep current behavior pass the string \"median\" instead.\n",
      "  grouped = df_all2[[\"cow\",\"lp_group\" ,\"variable\", \"value\"]].groupby([\"cow\", \"lp_group\", \"variable\"]).agg([np.nanmedian, np.nanmin,np.nanmax,np.nanmean])\n",
      "C:\\Users\\marie\\AppData\\Local\\Temp\\ipykernel_12676\\3526364812.py:3: FutureWarning: The provided callable <function nanmin at 0x00000277C694E840> is currently using SeriesGroupBy.min. In a future version of pandas, the provided callable will be used directly. To keep current behavior pass the string \"min\" instead.\n",
      "  grouped = df_all2[[\"cow\",\"lp_group\" ,\"variable\", \"value\"]].groupby([\"cow\", \"lp_group\", \"variable\"]).agg([np.nanmedian, np.nanmin,np.nanmax,np.nanmean])\n",
      "C:\\Users\\marie\\AppData\\Local\\Temp\\ipykernel_12676\\3526364812.py:3: FutureWarning: The provided callable <function nanmax at 0x00000277C694E980> is currently using SeriesGroupBy.max. In a future version of pandas, the provided callable will be used directly. To keep current behavior pass the string \"max\" instead.\n",
      "  grouped = df_all2[[\"cow\",\"lp_group\" ,\"variable\", \"value\"]].groupby([\"cow\", \"lp_group\", \"variable\"]).agg([np.nanmedian, np.nanmin,np.nanmax,np.nanmean])\n",
      "C:\\Users\\marie\\AppData\\Local\\Temp\\ipykernel_12676\\3526364812.py:3: FutureWarning: The provided callable <function nanmean at 0x00000277C694F240> is currently using SeriesGroupBy.mean. In a future version of pandas, the provided callable will be used directly. To keep current behavior pass the string \"mean\" instead.\n",
      "  grouped = df_all2[[\"cow\",\"lp_group\" ,\"variable\", \"value\"]].groupby([\"cow\", \"lp_group\", \"variable\"]).agg([np.nanmedian, np.nanmin,np.nanmax,np.nanmean])\n"
     ]
    }
   ],
   "source": [
    "id_vars = [\"cow\", \"lp_group\"]\n",
    "df_all2= pd.melt(df_all, id_vars = id_vars, value_vars = features)\n",
    "grouped = df_all2[[\"cow\",\"lp_group\" ,\"variable\", \"value\"]].groupby([\"cow\", \"lp_group\", \"variable\"]).agg([np.nanmedian, np.nanmin,np.nanmax,np.nanmean])\n",
    "grouped.columns = [b.replace(\"nan\", \"\") if b else a for a, b in grouped.columns]\n",
    "grouped = grouped.reset_index()"
   ]
  },
  {
   "cell_type": "code",
   "execution_count": 90,
   "id": "d3baf418-f1f9-473e-931c-66046ef12503",
   "metadata": {},
   "outputs": [
    {
     "data": {
      "text/plain": [
       "4002"
      ]
     },
     "execution_count": 90,
     "metadata": {},
     "output_type": "execute_result"
    }
   ],
   "source": [
    "len(grouped)"
   ]
  },
  {
   "cell_type": "code",
   "execution_count": 91,
   "id": "82063638-22a0-4b01-a067-7b73c7e13b59",
   "metadata": {},
   "outputs": [
    {
     "name": "stderr",
     "output_type": "stream",
     "text": [
      "C:\\Users\\marie\\AppData\\Local\\Temp\\ipykernel_12676\\3202310750.py:3: FutureWarning: The provided callable <function nanmedian at 0x00000277C694F560> is currently using SeriesGroupBy.median. In a future version of pandas, the provided callable will be used directly. To keep current behavior pass the string \"median\" instead.\n",
      "  grouped = df_all2[[\"cow\",\"lp_group\" ,\"variable\", \"value\"]].groupby([\"cow\", \"lp_group\", \"variable\"]).agg([np.nanmedian, np.nanmin,np.nanmax,np.nanmean, \"count\"])\n",
      "C:\\Users\\marie\\AppData\\Local\\Temp\\ipykernel_12676\\3202310750.py:3: FutureWarning: The provided callable <function nanmin at 0x00000277C694E840> is currently using SeriesGroupBy.min. In a future version of pandas, the provided callable will be used directly. To keep current behavior pass the string \"min\" instead.\n",
      "  grouped = df_all2[[\"cow\",\"lp_group\" ,\"variable\", \"value\"]].groupby([\"cow\", \"lp_group\", \"variable\"]).agg([np.nanmedian, np.nanmin,np.nanmax,np.nanmean, \"count\"])\n",
      "C:\\Users\\marie\\AppData\\Local\\Temp\\ipykernel_12676\\3202310750.py:3: FutureWarning: The provided callable <function nanmax at 0x00000277C694E980> is currently using SeriesGroupBy.max. In a future version of pandas, the provided callable will be used directly. To keep current behavior pass the string \"max\" instead.\n",
      "  grouped = df_all2[[\"cow\",\"lp_group\" ,\"variable\", \"value\"]].groupby([\"cow\", \"lp_group\", \"variable\"]).agg([np.nanmedian, np.nanmin,np.nanmax,np.nanmean, \"count\"])\n",
      "C:\\Users\\marie\\AppData\\Local\\Temp\\ipykernel_12676\\3202310750.py:3: FutureWarning: The provided callable <function nanmean at 0x00000277C694F240> is currently using SeriesGroupBy.mean. In a future version of pandas, the provided callable will be used directly. To keep current behavior pass the string \"mean\" instead.\n",
      "  grouped = df_all2[[\"cow\",\"lp_group\" ,\"variable\", \"value\"]].groupby([\"cow\", \"lp_group\", \"variable\"]).agg([np.nanmedian, np.nanmin,np.nanmax,np.nanmean, \"count\"])\n"
     ]
    }
   ],
   "source": [
    "\n",
    "id_vars = [\"cow\", \"lp_group\"]\n",
    "df_all2= pd.melt(df_all, id_vars = id_vars, value_vars = features).reset_index()\n",
    "grouped = df_all2[[\"cow\",\"lp_group\" ,\"variable\", \"value\"]].groupby([\"cow\", \"lp_group\", \"variable\"]).agg([np.nanmedian, np.nanmin,np.nanmax,np.nanmean, \"count\"])\n",
    "grouped.columns = [b.replace(\"nan\", \"\") if b else a for a, b in grouped.columns]\n",
    "grouped = grouped.reset_index()\n",
    "\n",
    "grouped_wide = grouped[[\"cow\", \"lp_group\", \"variable\", \"median\"]].pivot(index = id_vars, columns = \"variable\", values = \"median\").reset_index()\n",
    "grouped_wide2 = grouped[[\"cow\", \"lp_group\", \"variable\", \"mean\"]].pivot(index = id_vars, columns = \"variable\", values = \"mean\").reset_index()\n",
    "\n",
    "grouped_wide.to_csv(\"udder_features_median.csv\", index = False)\n",
    "grouped_wide2.to_csv(\"udder_features_mean.csv\", index = False)\n",
    "df_all.to_csv(\"udder_features_raw.csv\", index = False)\n",
    "grouped.to_csv(\"udder_features_grouped.csv\", index = False)"
   ]
  },
  {
   "cell_type": "code",
   "execution_count": 78,
   "id": "ffbd6e17-5a67-48c7-8c86-8a62cee923d5",
   "metadata": {
    "tags": []
   },
   "outputs": [],
   "source": [
    "counts = df_all[[\"cow\", \"filename\"]].groupby(\"cow\").agg(\"count\").reset_index()"
   ]
  },
  {
   "cell_type": "code",
   "execution_count": 79,
   "id": "19afc5b1-13b1-42f7-afb8-cc290564b59d",
   "metadata": {
    "tags": []
   },
   "outputs": [
    {
     "data": {
      "text/plain": [
       "170.54347826086956"
      ]
     },
     "execution_count": 79,
     "metadata": {},
     "output_type": "execute_result"
    }
   ],
   "source": [
    "np.mean(counts.filename)"
   ]
  },
  {
   "cell_type": "code",
   "execution_count": 80,
   "id": "614dcf60-bc22-4fbd-b26c-93e949e5fe8b",
   "metadata": {
    "tags": []
   },
   "outputs": [
    {
     "data": {
      "text/plain": [
       "191.67942438568946"
      ]
     },
     "execution_count": 80,
     "metadata": {},
     "output_type": "execute_result"
    }
   ],
   "source": [
    "np.std(counts.filename)"
   ]
  },
  {
   "cell_type": "code",
   "execution_count": 67,
   "id": "b304ff26-7c24-4333-b39b-9543880f4de2",
   "metadata": {
    "tags": []
   },
   "outputs": [
    {
     "data": {
      "text/plain": [
       "1"
      ]
     },
     "execution_count": 67,
     "metadata": {},
     "output_type": "execute_result"
    }
   ],
   "source": [
    "np.min(counts.filename)"
   ]
  },
  {
   "cell_type": "code",
   "execution_count": 68,
   "id": "b91feb62-5e78-43a5-97b4-3d7091756560",
   "metadata": {
    "tags": []
   },
   "outputs": [
    {
     "data": {
      "text/plain": [
       "631"
      ]
     },
     "execution_count": 68,
     "metadata": {},
     "output_type": "execute_result"
    }
   ],
   "source": [
    "np.max(counts.filename)"
   ]
  },
  {
   "cell_type": "code",
   "execution_count": null,
   "id": "9f7d202c-ba90-4b34-b70d-388d171746c5",
   "metadata": {},
   "outputs": [],
   "source": []
  }
 ],
 "metadata": {
  "kernelspec": {
   "display_name": "Python 3 (ipykernel)",
   "language": "python",
   "name": "python3"
  },
  "language_info": {
   "codemirror_mode": {
    "name": "ipython",
    "version": 3
   },
   "file_extension": ".py",
   "mimetype": "text/x-python",
   "name": "python",
   "nbconvert_exporter": "python",
   "pygments_lexer": "ipython3",
   "version": "3.11.5"
  }
 },
 "nbformat": 4,
 "nbformat_minor": 5
}
