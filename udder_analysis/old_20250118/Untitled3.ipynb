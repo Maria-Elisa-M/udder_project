{
 "cells": [
  {
   "cell_type": "code",
   "execution_count": 1,
   "id": "8a568b76-6848-4a53-a782-145c492aa13c",
   "metadata": {},
   "outputs": [],
   "source": [
    "# import\n",
    "import os\n",
    "import pandas as pd\n",
    "import numpy as np \n",
    "import matplotlib.pyplot as plt\n",
    "import seaborn as sns"
   ]
  },
  {
   "cell_type": "code",
   "execution_count": 10,
   "id": "f4418933-eed9-45da-b50a-3e035f3a75d8",
   "metadata": {},
   "outputs": [],
   "source": [
    "# read files\n",
    "features_path = r\"C:\\Users\\marie\\rep_codes\\udder_project\\udder_processing\\features_dict\\gmfeature_table.csv\"\n",
    "data_path = r\"C:\\Users\\marie\\rep_codes\\udder_project\\delpro_vms\\data_out\"\n",
    "\n",
    "fdf = pd.read_csv(features_path)\n",
    "fdf[fdf.columns[3:]] = fdf[fdf.columns[3:]].apply(pd.to_numeric, errors='coerce')\n",
    "ddf = pd.read_csv(os.path.join(data_path, \"mtnf_integrated.csv\"))"
   ]
  },
  {
   "cell_type": "code",
   "execution_count": 11,
   "id": "17369753-dc93-44af-adf7-8df107684396",
   "metadata": {},
   "outputs": [],
   "source": [
    "fdfg = fdf.filter(regex = 'cow|_len|eu|gd').groupby(\"cow\").median().reset_index()"
   ]
  },
  {
   "cell_type": "code",
   "execution_count": 26,
   "id": "3b9214a5-2e23-48fd-b064-c0ff53211399",
   "metadata": {},
   "outputs": [],
   "source": [
    "df = fdfg.merge(ddf, on = [\"cow\"], how = \"left\")\n",
    "df[\"tnf_cow\"] = [1 if df.iloc[i].dtnf_udder_dim_cl > 10 else 0 for i in range(len(df.cow))]\n",
    "df[\"tnf_back\"] = [1 if (df.iloc[i].dtnf_lb_dim_cl > 5) |  (df.iloc[i].dtnf_rb_dim_cl > 5) else 0 for i in range(len(df.cow))]\n",
    "df[\"tnf_front\"] = [1 if (df.iloc[i].dtnf_lf_dim_cl > 5) |  (df.iloc[i].dtnf_rf_dim_cl > 5) else 0 for i in range(len(df.cow))]\n",
    "\n",
    "for i in range(len(df.cow)):\n",
    "    # print(df.iloc[i].dko_rf_dim_cl)\n",
    "    if (df.iloc[i].dtnf_lf_dim_cl > 5):\n",
    "        df.loc[i,\"kolf\"] = 'a' \n",
    "    if (df.iloc[i].dtnf_rf_dim_cl > 5):\n",
    "        df.loc[i, \"korf\"] = 'a'\n",
    "    if (df.iloc[i].dtnf_rb_dim_cl > 5):\n",
    "        df.loc[i,\"korb\"] = 'a'\n",
    "    if (df.iloc[i].dtnf_lb_dim_cl > 5):\n",
    "        df.loc[i, \"kolb\"] = 'a'"
   ]
  },
  {
   "cell_type": "code",
   "execution_count": 27,
   "id": "d004228f-7e70-4b4a-b693-6e663b744aca",
   "metadata": {},
   "outputs": [
    {
     "data": {
      "text/plain": [
       "<Axes: xlabel='tnf_front', ylabel='front_eu'>"
      ]
     },
     "execution_count": 27,
     "metadata": {},
     "output_type": "execute_result"
    },
    {
     "data": {
      "image/png": "[encoded data removed]",
      "text/plain": [
       "<Figure size 640x480 with 1 Axes>"
      ]
     },
     "metadata": {},
     "output_type": "display_data"
    }
   ],
   "source": [
    "sns.boxplot(data=df, y=\"front_eu\", x = \"tnf_front\", hue = \"tnf_front\")"
   ]
  },
  {
   "cell_type": "code",
   "execution_count": 28,
   "id": "dc8d6da0-34ec-404a-ac74-8cb49fa2f704",
   "metadata": {},
   "outputs": [
    {
     "data": {
      "text/plain": [
       "<Axes: xlabel='tnf_back', ylabel='back_eu'>"
      ]
     },
     "execution_count": 28,
     "metadata": {},
     "output_type": "execute_result"
    },
    {
     "data": {
      "image/png": "[encoded data removed]",
      "text/plain": [
       "<Figure size 640x480 with 1 Axes>"
      ]
     },
     "metadata": {},
     "output_type": "display_data"
    }
   ],
   "source": [
    "sns.boxplot(data=df, y=\"back_eu\", x = \"tnf_back\", hue = \"tnf_back\")"
   ]
  },
  {
   "cell_type": "code",
   "execution_count": 33,
   "id": "74dc5973-7fc5-4fa2-9b8f-21d95e635349",
   "metadata": {},
   "outputs": [],
   "source": [
    "mdf = pd.melt(df, value_vars = ['rf_len', 'rb_len', 'lb_len', 'lf_len'], id_vars =['cow', \"tnf_cow\", \"kolf\", \"korf\", \"korb\", \"kolb\"])"
   ]
  },
  {
   "cell_type": "code",
   "execution_count": 62,
   "id": "57f1ce6d-2c1d-4249-886e-d351f95020c5",
   "metadata": {},
   "outputs": [],
   "source": [
    "mdfg = mdf[[\"cow\", \"tnf_cow\", \"value\"]].groupby([\"cow\", \"tnf_cow\"]).agg([\"min\", \"max\"]).reset_index()\n",
    "mdfg.columns = [col[1] if len(col[1])>0 else col[0] for col in mdfg.columns]"
   ]
  },
  {
   "cell_type": "code",
   "execution_count": 64,
   "id": "6fe41913-9f5c-4d8c-bdf7-2c267f9ff090",
   "metadata": {},
   "outputs": [],
   "source": [
    "mdfg[\"diff\"] = mdfg[\"max\"] -mdfg[\"min\"]"
   ]
  },
  {
   "cell_type": "code",
   "execution_count": 66,
   "id": "83ee18d3-7d77-43ca-8288-c52ae29a0f3a",
   "metadata": {},
   "outputs": [
    {
     "data": {
      "text/html": [
       "<div>\n",
       "<style scoped>\n",
       "    .dataframe tbody tr th:only-of-type {\n",
       "        vertical-align: middle;\n",
       "    }\n",
       "\n",
       "    .dataframe tbody tr th {\n",
       "        vertical-align: top;\n",
       "    }\n",
       "\n",
       "    .dataframe thead th {\n",
       "        text-align: right;\n",
       "    }\n",
       "</style>\n",
       "<table border=\"1\" class=\"dataframe\">\n",
       "  <thead>\n",
       "    <tr style=\"text-align: right;\">\n",
       "      <th></th>\n",
       "      <th>cow</th>\n",
       "      <th>tnf_cow</th>\n",
       "      <th>min</th>\n",
       "      <th>max</th>\n",
       "      <th>diff</th>\n",
       "    </tr>\n",
       "  </thead>\n",
       "  <tbody>\n",
       "    <tr>\n",
       "      <th>0</th>\n",
       "      <td>627</td>\n",
       "      <td>0</td>\n",
       "      <td>36.358942</td>\n",
       "      <td>42.078602</td>\n",
       "      <td>5.719660</td>\n",
       "    </tr>\n",
       "    <tr>\n",
       "      <th>1</th>\n",
       "      <td>723</td>\n",
       "      <td>0</td>\n",
       "      <td>32.716431</td>\n",
       "      <td>47.956094</td>\n",
       "      <td>15.239662</td>\n",
       "    </tr>\n",
       "    <tr>\n",
       "      <th>2</th>\n",
       "      <td>729</td>\n",
       "      <td>0</td>\n",
       "      <td>37.343963</td>\n",
       "      <td>60.757677</td>\n",
       "      <td>23.413714</td>\n",
       "    </tr>\n",
       "    <tr>\n",
       "      <th>3</th>\n",
       "      <td>736</td>\n",
       "      <td>0</td>\n",
       "      <td>49.515135</td>\n",
       "      <td>51.872415</td>\n",
       "      <td>2.357280</td>\n",
       "    </tr>\n",
       "    <tr>\n",
       "      <th>4</th>\n",
       "      <td>764</td>\n",
       "      <td>0</td>\n",
       "      <td>37.066922</td>\n",
       "      <td>44.013406</td>\n",
       "      <td>6.946484</td>\n",
       "    </tr>\n",
       "    <tr>\n",
       "      <th>...</th>\n",
       "      <td>...</td>\n",
       "      <td>...</td>\n",
       "      <td>...</td>\n",
       "      <td>...</td>\n",
       "      <td>...</td>\n",
       "    </tr>\n",
       "    <tr>\n",
       "      <th>133</th>\n",
       "      <td>1486</td>\n",
       "      <td>0</td>\n",
       "      <td>23.264238</td>\n",
       "      <td>37.961439</td>\n",
       "      <td>14.697201</td>\n",
       "    </tr>\n",
       "    <tr>\n",
       "      <th>134</th>\n",
       "      <td>1487</td>\n",
       "      <td>0</td>\n",
       "      <td>26.069107</td>\n",
       "      <td>51.276823</td>\n",
       "      <td>25.207716</td>\n",
       "    </tr>\n",
       "    <tr>\n",
       "      <th>135</th>\n",
       "      <td>1495</td>\n",
       "      <td>0</td>\n",
       "      <td>27.101730</td>\n",
       "      <td>44.635441</td>\n",
       "      <td>17.533710</td>\n",
       "    </tr>\n",
       "    <tr>\n",
       "      <th>136</th>\n",
       "      <td>1501</td>\n",
       "      <td>0</td>\n",
       "      <td>35.086378</td>\n",
       "      <td>47.620275</td>\n",
       "      <td>12.533897</td>\n",
       "    </tr>\n",
       "    <tr>\n",
       "      <th>137</th>\n",
       "      <td>1504</td>\n",
       "      <td>0</td>\n",
       "      <td>41.050008</td>\n",
       "      <td>51.345718</td>\n",
       "      <td>10.295711</td>\n",
       "    </tr>\n",
       "  </tbody>\n",
       "</table>\n",
       "<p>138 rows × 5 columns</p>\n",
       "</div>"
      ],
      "text/plain": [
       "      cow  tnf_cow        min        max       diff\n",
       "0     627        0  36.358942  42.078602   5.719660\n",
       "1     723        0  32.716431  47.956094  15.239662\n",
       "2     729        0  37.343963  60.757677  23.413714\n",
       "3     736        0  49.515135  51.872415   2.357280\n",
       "4     764        0  37.066922  44.013406   6.946484\n",
       "..    ...      ...        ...        ...        ...\n",
       "133  1486        0  23.264238  37.961439  14.697201\n",
       "134  1487        0  26.069107  51.276823  25.207716\n",
       "135  1495        0  27.101730  44.635441  17.533710\n",
       "136  1501        0  35.086378  47.620275  12.533897\n",
       "137  1504        0  41.050008  51.345718  10.295711\n",
       "\n",
       "[138 rows x 5 columns]"
      ]
     },
     "execution_count": 66,
     "metadata": {},
     "output_type": "execute_result"
    }
   ],
   "source": [
    "mdfg"
   ]
  },
  {
   "cell_type": "code",
   "execution_count": 67,
   "id": "cda042ad-9feb-4f61-9f8a-ed15a1b6d3db",
   "metadata": {},
   "outputs": [
    {
     "data": {
      "text/plain": [
       "<Axes: xlabel='tnf_cow', ylabel='diff'>"
      ]
     },
     "execution_count": 67,
     "metadata": {},
     "output_type": "execute_result"
    },
    {
     "data": {
      "image/png": "[encoded data removed]",
      "text/plain": [
       "<Figure size 640x480 with 1 Axes>"
      ]
     },
     "metadata": {},
     "output_type": "display_data"
    }
   ],
   "source": [
    "sns.scatterplot(data=mdfg, y=\"diff\", x = \"tnf_cow\", hue = \"tnf_cow\")"
   ]
  },
  {
   "cell_type": "code",
   "execution_count": 32,
   "id": "f7be93af-4227-4f58-94a4-1ecfeb8f50ed",
   "metadata": {},
   "outputs": [
    {
     "data": {
      "text/html": [
       "<div>\n",
       "<style scoped>\n",
       "    .dataframe tbody tr th:only-of-type {\n",
       "        vertical-align: middle;\n",
       "    }\n",
       "\n",
       "    .dataframe tbody tr th {\n",
       "        vertical-align: top;\n",
       "    }\n",
       "\n",
       "    .dataframe thead th {\n",
       "        text-align: right;\n",
       "    }\n",
       "</style>\n",
       "<table border=\"1\" class=\"dataframe\">\n",
       "  <thead>\n",
       "    <tr style=\"text-align: right;\">\n",
       "      <th></th>\n",
       "      <th>cow</th>\n",
       "      <th>tnf_cow</th>\n",
       "      <th>kolf</th>\n",
       "      <th>korf</th>\n",
       "      <th>korb</th>\n",
       "      <th>kolb</th>\n",
       "      <th>variable</th>\n",
       "      <th>value</th>\n",
       "    </tr>\n",
       "  </thead>\n",
       "  <tbody>\n",
       "    <tr>\n",
       "      <th>0</th>\n",
       "      <td>627</td>\n",
       "      <td>0</td>\n",
       "      <td>n</td>\n",
       "      <td>n</td>\n",
       "      <td>n</td>\n",
       "      <td>n</td>\n",
       "      <td>rf_len</td>\n",
       "      <td>41.337529</td>\n",
       "    </tr>\n",
       "    <tr>\n",
       "      <th>1</th>\n",
       "      <td>723</td>\n",
       "      <td>0</td>\n",
       "      <td>n</td>\n",
       "      <td>n</td>\n",
       "      <td>n</td>\n",
       "      <td>n</td>\n",
       "      <td>rf_len</td>\n",
       "      <td>47.956094</td>\n",
       "    </tr>\n",
       "    <tr>\n",
       "      <th>2</th>\n",
       "      <td>729</td>\n",
       "      <td>0</td>\n",
       "      <td>n</td>\n",
       "      <td>n</td>\n",
       "      <td>n</td>\n",
       "      <td>n</td>\n",
       "      <td>rf_len</td>\n",
       "      <td>60.757677</td>\n",
       "    </tr>\n",
       "    <tr>\n",
       "      <th>3</th>\n",
       "      <td>736</td>\n",
       "      <td>0</td>\n",
       "      <td>n</td>\n",
       "      <td>n</td>\n",
       "      <td>n</td>\n",
       "      <td>n</td>\n",
       "      <td>rf_len</td>\n",
       "      <td>NaN</td>\n",
       "    </tr>\n",
       "    <tr>\n",
       "      <th>4</th>\n",
       "      <td>764</td>\n",
       "      <td>0</td>\n",
       "      <td>n</td>\n",
       "      <td>n</td>\n",
       "      <td>n</td>\n",
       "      <td>n</td>\n",
       "      <td>rf_len</td>\n",
       "      <td>44.013406</td>\n",
       "    </tr>\n",
       "    <tr>\n",
       "      <th>...</th>\n",
       "      <td>...</td>\n",
       "      <td>...</td>\n",
       "      <td>...</td>\n",
       "      <td>...</td>\n",
       "      <td>...</td>\n",
       "      <td>...</td>\n",
       "      <td>...</td>\n",
       "      <td>...</td>\n",
       "    </tr>\n",
       "    <tr>\n",
       "      <th>547</th>\n",
       "      <td>1486</td>\n",
       "      <td>0</td>\n",
       "      <td>n</td>\n",
       "      <td>n</td>\n",
       "      <td>n</td>\n",
       "      <td>n</td>\n",
       "      <td>lf_len</td>\n",
       "      <td>37.961439</td>\n",
       "    </tr>\n",
       "    <tr>\n",
       "      <th>548</th>\n",
       "      <td>1487</td>\n",
       "      <td>0</td>\n",
       "      <td>n</td>\n",
       "      <td>n</td>\n",
       "      <td>n</td>\n",
       "      <td>n</td>\n",
       "      <td>lf_len</td>\n",
       "      <td>42.302186</td>\n",
       "    </tr>\n",
       "    <tr>\n",
       "      <th>549</th>\n",
       "      <td>1495</td>\n",
       "      <td>0</td>\n",
       "      <td>n</td>\n",
       "      <td>n</td>\n",
       "      <td>n</td>\n",
       "      <td>n</td>\n",
       "      <td>lf_len</td>\n",
       "      <td>31.150010</td>\n",
       "    </tr>\n",
       "    <tr>\n",
       "      <th>550</th>\n",
       "      <td>1501</td>\n",
       "      <td>0</td>\n",
       "      <td>n</td>\n",
       "      <td>n</td>\n",
       "      <td>n</td>\n",
       "      <td>n</td>\n",
       "      <td>lf_len</td>\n",
       "      <td>47.620275</td>\n",
       "    </tr>\n",
       "    <tr>\n",
       "      <th>551</th>\n",
       "      <td>1504</td>\n",
       "      <td>0</td>\n",
       "      <td>n</td>\n",
       "      <td>n</td>\n",
       "      <td>n</td>\n",
       "      <td>n</td>\n",
       "      <td>lf_len</td>\n",
       "      <td>NaN</td>\n",
       "    </tr>\n",
       "  </tbody>\n",
       "</table>\n",
       "<p>552 rows × 8 columns</p>\n",
       "</div>"
      ],
      "text/plain": [
       "      cow  tnf_cow kolf korf korb kolb variable      value\n",
       "0     627        0    n    n    n    n   rf_len  41.337529\n",
       "1     723        0    n    n    n    n   rf_len  47.956094\n",
       "2     729        0    n    n    n    n   rf_len  60.757677\n",
       "3     736        0    n    n    n    n   rf_len        NaN\n",
       "4     764        0    n    n    n    n   rf_len  44.013406\n",
       "..    ...      ...  ...  ...  ...  ...      ...        ...\n",
       "547  1486        0    n    n    n    n   lf_len  37.961439\n",
       "548  1487        0    n    n    n    n   lf_len  42.302186\n",
       "549  1495        0    n    n    n    n   lf_len  31.150010\n",
       "550  1501        0    n    n    n    n   lf_len  47.620275\n",
       "551  1504        0    n    n    n    n   lf_len        NaN\n",
       "\n",
       "[552 rows x 8 columns]"
      ]
     },
     "execution_count": 32,
     "metadata": {},
     "output_type": "execute_result"
    },
    {
     "data": {
      "image/png": "[encoded data removed]",
      "text/plain": [
       "<Figure size 640x480 with 1 Axes>"
      ]
     },
     "metadata": {},
     "output_type": "display_data"
    }
   ],
   "source": [
    "sns.boxplot(data=mdf, y=\"value\", x = \"variable\", hue = \"korb\")\n",
    "mdf"
   ]
  },
  {
   "cell_type": "code",
   "execution_count": null,
   "id": "337b32ed-6109-43aa-9ebc-89314051d9b3",
   "metadata": {},
   "outputs": [],
   "source": []
  }
 ],
 "metadata": {
  "kernelspec": {
   "display_name": "Python 3 (ipykernel)",
   "language": "python",
   "name": "python3"
  },
  "language_info": {
   "codemirror_mode": {
    "name": "ipython",
    "version": 3
   },
   "file_extension": ".py",
   "mimetype": "text/x-python",
   "name": "python",
   "nbconvert_exporter": "python",
   "pygments_lexer": "ipython3",
   "version": "3.11.5"
  }
 },
 "nbformat": 4,
 "nbformat_minor": 5
}
