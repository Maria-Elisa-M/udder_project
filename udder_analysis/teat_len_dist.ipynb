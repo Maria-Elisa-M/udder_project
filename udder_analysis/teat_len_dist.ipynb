{
 "cells": [
  {
   "cell_type": "code",
   "execution_count": 1,
   "id": "d63dc85f-d1c3-4f9e-a564-96928ec1a4d1",
   "metadata": {},
   "outputs": [],
   "source": [
    "import os\n",
    "import pandas as pd\n",
    "import numpy as np \n",
    "import seaborn as sns\n",
    "import matplotlib.pyplot as plt"
   ]
  },
  {
   "cell_type": "code",
   "execution_count": 2,
   "id": "aae6ddd7-2e72-49df-9ba6-57cd6d7505bc",
   "metadata": {},
   "outputs": [],
   "source": [
    "dirpath = os.getcwd()\n",
    "features_path = r\"C:\\Users\\marie\\rep_codes\\udder_project\\udder_processing\\features_dict\\gmfeature_table.csv\"\n",
    "data_path = r\"C:\\Users\\marie\\rep_codes\\udder_project\\delpro_vms\\animal_info.csv\"\n",
    "miss_path = r\"C:\\Users\\marie\\rep_codes\\udder_project\\delpro_vms\\missing_teats.csv\"\n",
    "out_path = os.path.join(dirpath, \"teat_len_dist\")\n",
    "\n",
    "data1 = pd.read_csv(features_path)\n",
    "data2 = pd.read_csv(data_path, sep = \";\")[[\"Animal Number\", \"Lactation Number\"]]\n",
    "\n",
    "data2.columns = [\"cow\", \"parity\"]\n",
    "data = data1.merge(data2, on = \"cow\", how = \"left\")\n",
    "cols = [col for col in data.columns if col.endswith(\"len\")]\n",
    "data = data[[\"cow\", \"parity\"] + cols]"
   ]
  },
  {
   "cell_type": "code",
   "execution_count": 3,
   "id": "86bfed36-fcb0-4708-a37e-110cab5fe75a",
   "metadata": {},
   "outputs": [],
   "source": [
    "mt_df = pd.read_csv(miss_path)\n",
    "mt_df[\"teat\"] = [teat + \"_len\" for teat in mt_df[\"teat\"]]\n",
    "mt_df[\"y\"] = 1\n",
    "mt_df = mt_df.rename(columns={\"teat\": \"variable\"})"
   ]
  },
  {
   "cell_type": "code",
   "execution_count": 4,
   "id": "d3850369-3e60-48c3-9053-98aefb177b8a",
   "metadata": {},
   "outputs": [],
   "source": [
    "melted_df = pd.melt(data, id_vars=['cow', 'parity'], value_vars=cols)\n",
    "melted_df2 = pd.merge(melted_df, mt_df, on = [\"cow\", \"variable\"], how = \"left\")\n",
    "melted_df2[\"rem\"] = np.isnan(melted_df2.y) & np.isnan(melted_df2.value)"
   ]
  },
  {
   "cell_type": "code",
   "execution_count": 7,
   "id": "dfd83e69-99be-4623-8a6e-a5d37332ff2c",
   "metadata": {},
   "outputs": [],
   "source": [
    "gdf = melted_df2.groupby([\"parity\", \"variable\"]).agg({'value' : ['mean', 'std',  'min', 'max', 'median', 'count'], 'y' : ['sum'], 'rem': ['sum'], 'cow': ['count']}).reset_index()\n",
    "gdf.columns = [\"_\".join(col) if len(col[1]) > 0 else col[0] for col in gdf.columns]\n",
    "gdf = gdf.rename(columns = {\"y_sum\": \"teat_missing\", \"rem_sum\":\"extreme_value_removed\"})\n",
    "gdf.to_csv(os.path.join(out_path, \"teat_length_summary_parity.csv\"), index = False)"
   ]
  },
  {
   "cell_type": "code",
   "execution_count": 8,
   "id": "f8a731b6-ee17-4af7-b884-f7bedfd50bdb",
   "metadata": {},
   "outputs": [],
   "source": [
    "gdf = melted_df2.groupby([\"variable\"]).agg({'value' : ['mean', 'std',  'min', 'max', 'median', 'count'], 'y' : ['sum'], 'rem': ['sum'], 'cow': ['count']}).reset_index()\n",
    "gdf.columns = [\"_\".join(col) if len(col[1]) > 0 else col[0] for col in gdf.columns]\n",
    "gdf = gdf.rename(columns = {\"y_sum\": \"teat_missing\", \"rem_sum\":\"extreme_value_removed\"})\n",
    "gdf.to_csv(os.path.join(out_path, \"teat_length_summary.csv\"), index = False)"
   ]
  }
 ],
 "metadata": {
  "kernelspec": {
   "display_name": "Python 3 (ipykernel)",
   "language": "python",
   "name": "python3"
  },
  "language_info": {
   "codemirror_mode": {
    "name": "ipython",
    "version": 3
   },
   "file_extension": ".py",
   "mimetype": "text/x-python",
   "name": "python",
   "nbconvert_exporter": "python",
   "pygments_lexer": "ipython3",
   "version": "3.12.3"
  }
 },
 "nbformat": 4,
 "nbformat_minor": 5
}
