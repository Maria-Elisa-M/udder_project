{
 "cells": [
  {
   "cell_type": "code",
   "execution_count": 1,
   "id": "7c97ce99-bf61-47cb-b293-4265473f6002",
   "metadata": {},
   "outputs": [
    {
     "name": "stderr",
     "output_type": "stream",
     "text": [
      "C:\\Users\\marie\\AppData\\Local\\Temp\\ipykernel_10332\\3435604520.py:3: DeprecationWarning: \n",
      "Pyarrow will become a required dependency of pandas in the next major release of pandas (pandas 3.0),\n",
      "(to allow more performant data types, such as the Arrow string type, and better interoperability with other libraries)\n",
      "but was not found to be installed on your system.\n",
      "If this would cause problems for you,\n",
      "please provide us feedback at https://github.com/pandas-dev/pandas/issues/54466\n",
      "        \n",
      "  import pandas as pd\n"
     ]
    }
   ],
   "source": [
    "# imports\n",
    "import plotly.graph_objects as go\n",
    "import pandas as pd\n",
    "import os\n",
    "import numpy as np \n",
    "import json\n",
    "import plotly.io as pio\n",
    "pio.renderers.default = \"browser\""
   ]
  },
  {
   "cell_type": "code",
   "execution_count": 2,
   "id": "cf3791c6-3392-4afb-ac03-0784c9e7c5d2",
   "metadata": {},
   "outputs": [
    {
     "name": "stderr",
     "output_type": "stream",
     "text": [
      "C:\\Users\\marie\\AppData\\Local\\Temp\\ipykernel_10332\\617256814.py:26: DtypeWarning:\n",
      "\n",
      "Columns (21,22,23,24) have mixed types. Specify dtype option on import or set low_memory=False.\n",
      "\n"
     ]
    }
   ],
   "source": [
    "# data sources\n",
    "pc_path = r\"C:\\Users\\marie\\rep_codes\\udder_project\\udder_processing\\point_clouds\"\n",
    "feature_path = r\"C:\\Users\\marie\\rep_codes\\udder_project\\udder_processing\\features_dict\"\n",
    "udder_pc_path = os.path.join(pc_path, \"udder\")\n",
    "quarter_pc_path = os.path.join(pc_path, \"quarters\")\n",
    "keypoint_pc_path = os.path.join(pc_path, \"keypoints\")\n",
    "# teat_pc_path = os.path.join(pc_path, \"keypoints\")\n",
    "teat_pc_path = os.path.join(pc_path, \"teat\")\n",
    "teat_len_path = os.path.join(feature_path,  \"teat_length\")\n",
    "distance_path = os.path.join(feature_path,  \"distance\")\n",
    "filenames = [file.replace(\".json\", \"\") for file in os.listdir(teat_len_path)]\n",
    "\n",
    "color_dict = {'lf': 'cyan', 'rf': 'skyblue', 'lb': 'royalblue', 'rb': 'dodgerblue', 'front':'cyan', \n",
    "             'right': 'skyblue', 'left': 'royalblue', 'back': 'dodgerblue', 'udder': 'plum'}\n",
    "\n",
    "file_dict = {}\n",
    "for file in filenames:\n",
    "    cow = file.split(\"_\")[0]\n",
    "    frame = file.split(\"_\")[-1]\n",
    "    if cow in set(file_dict.keys()):\n",
    "        file_dict[cow][frame] = file\n",
    "    else:\n",
    "        file_dict[cow] ={frame: file}\n",
    "\n",
    "cow_list = np.unique(list(file_dict.keys()))\n",
    "df = pd.read_csv(os.path.join(\"data\", \"feature_table.csv\"))"
   ]
  },
  {
   "cell_type": "code",
   "execution_count": 3,
   "id": "fa6900bd-f238-4065-a3df-f58e91ce26b2",
   "metadata": {},
   "outputs": [],
   "source": [
    "keyword_dict = [{'label':'volume', 'value':'vol'},\n",
    "                {'label':'surface area', 'value': 'sarea'},\n",
    "                {'label':'circularity', 'value':'circ'},\n",
    "                {'label':'excentricity', 'value': 'exc'},\n",
    "                {'label': 'Euclidean distance', 'value': 'eu'},\n",
    "                {'label': 'geodesic distance', 'value': 'gd'},\n",
    "                {'label': 'teat length', 'value': 'len'}]\n",
    "statvar_dict = [{'label': 'mean', 'value': 'mean'},{'label': 'median', 'value': 'median'},]"
   ]
  },
  {
   "cell_type": "code",
   "execution_count": 4,
   "id": "57d713ce-5c9c-4b48-a9a5-575808d898eb",
   "metadata": {},
   "outputs": [],
   "source": [
    "def udder_plot(file):\n",
    "    udder_pc = np.load(os.path.join(udder_pc_path, file +\".npy\"))\n",
    "\n",
    "    with open(os.path.join(quarter_pc_path, file + \".json\")) as f:\n",
    "        quarter_dict = json.load(f)\n",
    "    \n",
    "    with open(os.path.join(keypoint_pc_path, file + \".json\")) as f:\n",
    "        keypoint_dict = json.load(f)\n",
    "    \n",
    "    with open(os.path.join(distance_path, file + \".json\")) as f:\n",
    "        distance_dict = json.load(f)\n",
    "    \n",
    "    with open(os.path.join(teat_pc_path, file + \".json\")) as f:\n",
    "        teat_pc_dict = json.load(f)\n",
    "    \n",
    "    with open(os.path.join(teat_len_path, file + \".json\")) as f:\n",
    "        teat_len_dict = json.load(f)\n",
    "    \n",
    "    kploc = np.zeros((5,3)) # use five so the Euclidean distance lines close\n",
    "    for i, teat in enumerate([\"lf\", \"rf\", \"rb\", \"lb\", \"lf\"]):\n",
    "        kploc[i, :] = keypoint_dict[teat][\"xyz_tf\"]\n",
    "    \n",
    "    bottoms = np.zeros((4,3))\n",
    "    tips = np.zeros((4,3))\n",
    "    lines = {}\n",
    "    for i, key in enumerate(teat_len_dict.keys()):\n",
    "        bottoms[i, :] = teat_len_dict[key][\"bottom\"]\n",
    "        tips[i, :] = teat_len_dict[key][\"tip\"]\n",
    "        lines[key] = np.row_stack([teat_len_dict[key][\"tip\"], teat_len_dict[key][\"bottom\"]])\n",
    "    \n",
    "    points = udder_pc\n",
    "    fig =  go.Figure(data=[go.Scatter3d(x = points[:, 0], y = points[:, 1], z=points[:, 2],mode='markers',\n",
    "     marker=dict(size=2, color=points[:, 2], colorscale='gray'), name = \"Udder\")])\n",
    "\n",
    "    fig.add_trace(go.Scatter3d(x = points[:, 0], y = points[:, 1], z=points[:, 2],mode='markers', marker=dict(size=2, color=\"steelblue\" , opacity=0.3), name = \"Udder2\"))\n",
    "    for i, key in enumerate(quarter_dict):\n",
    "        sl = True if i == 0 else False\n",
    "        points = np.array(quarter_dict[key])\n",
    "        c = color_dict[key]\n",
    "        fig.add_trace(go.Scatter3d(x= points[:, 0], y = points[:, 1], z=points[:, 2], mode='markers', marker=dict(color=c, size = 2), name = \"quarters\", legendgroup = \"quarters\", showlegend = sl))\n",
    "    \n",
    "    for i, key in enumerate(distance_dict):\n",
    "        sl = True if i == 0 else False\n",
    "        points = np.array(distance_dict[key]['path'])\n",
    "        fig.add_trace(go.Scatter3d(x= points[:, 0], y = points[:, 1], z=points[:, 2], mode='markers', marker=dict(color='red', size = 2), name = \"geodesic\", legendgroup= \"geodesic\", showlegend = sl))\n",
    "    \n",
    "    for i, key in enumerate(teat_pc_dict.keys()):\n",
    "        sl = True if i == 0 else False\n",
    "        name = 'obs_pts'\n",
    "        points = np.array(teat_pc_dict[key][name])\n",
    "        fig.add_trace(go.Scatter3d(x= points[:, 0], y = points[:, 1], z=points[:, 2], mode='markers', marker=dict(color=\"steelblue\", size = 2), name = name, legendgroup= name, showlegend = sl))\n",
    "        name = 'pred_pts'\n",
    "        points = np.array(teat_pc_dict[key][name])\n",
    "        fig.add_trace(go.Scatter3d(x= points[:, 0], y = points[:, 1], z=points[:, 2], mode='markers', marker=dict(color=\"gray\", size = 2), name = name, legendgroup= name, showlegend = sl))\n",
    "        \n",
    "    for i, key in enumerate(lines.keys()):\n",
    "        sl = True if i == 0 else False\n",
    "        data = lines[key]\n",
    "        fig.add_trace(go.Scatter3d(x = data[:, 0], y = data[:, 1], z= data[:, 2], mode='lines', line=dict(color=\"red\",  width = 3), name = \"teat_len\", legendgroup=\"teat_len\", showlegend = sl))\n",
    "    \n",
    "    fig.add_trace(go.Scatter3d(x = tips[:, 0], y = tips[:, 1], z= tips[:, 2], mode='markers', marker=dict(color=\"red\", size = 4), name = \"teat_point1\", legendgroup =\"teat_point1\", showlegend = False))\n",
    "    fig.add_trace(go.Scatter3d(x = bottoms[:, 0], y = bottoms[:, 1], z= bottoms[:, 2], mode='markers', marker=dict(color=\"red\", size = 4), name = \"teat_point2\", legendgroup =\"teat_point2\"))\n",
    "        \n",
    "    points = kploc\n",
    "    fig.add_trace(go.Scatter3d(x= points[:, 0], y = points[:, 1], z=points[:, 2], mode='lines', line=dict(color=\"red\", width = 2), name = \"euclidean\"))\n",
    "    \n",
    "    fig.update_scenes(xaxis_visible=False, yaxis_visible=False,zaxis_visible=False)\n",
    "    fig.update_layout(autosize=False, width=1000, height=800)\n",
    "    return fig "
   ]
  },
  {
   "cell_type": "code",
   "execution_count": 5,
   "id": "87efd725-33cc-4613-a277-58be5fe1a7a4",
   "metadata": {},
   "outputs": [],
   "source": [
    "\n",
    "fig = udder_plot(file)\n",
    "\n",
    "file = file_dict['1240']['222']\n",
    "dirpath = os.getcwd()\n",
    "plotdir = os.path.join(os.path.normpath(dirpath + os.sep + os.pardir), \"adsa\", \"examples\")\n",
    "fig.write_html(os.path.join(plotdir, \"teat_example.html\"))"
   ]
  },
  {
   "cell_type": "code",
   "execution_count": null,
   "id": "d6f6e497-cadd-428b-b5a4-8c5e9c45065f",
   "metadata": {},
   "outputs": [],
   "source": []
  },
  {
   "cell_type": "code",
   "execution_count": null,
   "id": "b8d7bedd-c877-43bb-a16b-9862214d5997",
   "metadata": {},
   "outputs": [],
   "source": []
  }
 ],
 "metadata": {
  "kernelspec": {
   "display_name": "Python 3 (ipykernel)",
   "language": "python",
   "name": "python3"
  },
  "language_info": {
   "codemirror_mode": {
    "name": "ipython",
    "version": 3
   },
   "file_extension": ".py",
   "mimetype": "text/x-python",
   "name": "python",
   "nbconvert_exporter": "python",
   "pygments_lexer": "ipython3",
   "version": "3.11.5"
  }
 },
 "nbformat": 4,
 "nbformat_minor": 5
}
