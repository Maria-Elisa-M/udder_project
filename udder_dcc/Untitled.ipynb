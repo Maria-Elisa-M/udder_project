{
 "cells": [
  {
   "cell_type": "code",
   "execution_count": 1,
   "id": "b2e1d3a7-7783-4606-a96a-102f24040576",
   "metadata": {},
   "outputs": [],
   "source": [
    "import os \n",
    "import numpy as np"
   ]
  },
  {
   "cell_type": "code",
   "execution_count": 28,
   "id": "cfcaccd8-c0e3-40a0-a841-af5eaa0d9f8b",
   "metadata": {},
   "outputs": [
    {
     "name": "stdout",
     "output_type": "stream",
     "text": [
      "mean: 34.27, sd: 3.97\n",
      "mean: 32.38, sd: 3.65\n"
     ]
    }
   ],
   "source": [
    "dirpath = os.getcwd() \n",
    "label_dir = os.path.join(dirpath, \"labels\", \"segments\")\n",
    "file_list = os.listdir(label_dir)\n",
    "\n",
    "cow_list = [file.split(\"_\")[1] for file in file_list]\n",
    "\n",
    "cows, count = np.unique(cow_list, return_counts = True)\n",
    "print(f\"mean: {np.mean(count).round(2)}, sd: {np.std(count).round(2)}\")\n",
    "\n",
    "# add the counts of the other cows \n",
    "all_cows = np.concatenate((count, np.full((50), 30)))\n",
    "\n",
    "print(f\"mean: {np.mean(all_cows).round(2)}, sd: {np.std(all_cows).round(2)}\")"
   ]
  },
  {
   "cell_type": "code",
   "execution_count": null,
   "id": "b624d9b2-6f36-496a-8c35-26cb482c0b59",
   "metadata": {},
   "outputs": [],
   "source": []
  }
 ],
 "metadata": {
  "kernelspec": {
   "display_name": "Python 3 (ipykernel)",
   "language": "python",
   "name": "python3"
  },
  "language_info": {
   "codemirror_mode": {
    "name": "ipython",
    "version": 3
   },
   "file_extension": ".py",
   "mimetype": "text/x-python",
   "name": "python",
   "nbconvert_exporter": "python",
   "pygments_lexer": "ipython3",
   "version": "3.12.4"
  }
 },
 "nbformat": 4,
 "nbformat_minor": 5
}
