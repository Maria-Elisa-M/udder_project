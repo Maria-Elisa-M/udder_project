{
 "cells": [
  {
   "cell_type": "code",
   "execution_count": 2,
   "id": "bae8647b-2e37-4ee1-a4a4-0a9e97a92703",
   "metadata": {
    "tags": []
   },
   "outputs": [],
   "source": [
    "# import os\n",
    "\n",
    "# with open(\"filelist_toframe.txt\", \"r\") as f:\n",
    "  #  video_files = [file.replace(\"\\n\", \"\").split(\",\") for file in f.readlines()]\n",
    "    \n",
    "# dirpath = os.getcwd()\n",
    "# objpath = os.path.join(dirpath, r\"labels\\class\")\n",
    "# array_list = os.listdir(objpath)\n",
    "\n",
    "# cow_file_dict = {int(file[1].split(\"_\")[0]): \"_\".join(file[1].split(\"_\")[2:3]).replace(\".bag\", \"\") for file in video_files}\n",
    "\n",
    "# for file in array_list:\n",
    "#     cow = int(file.split(\"_\")[0])\n",
    "#     old_name = file\n",
    "#     name_parts = file.split(\"_\")\n",
    "#     new_name =\"_\".join(name_parts[0:2] + [cow_file_dict[int(cow)]] +name_parts[-2:])\n",
    "#     os.rename(os.path.join(objpath, old_name), os.path.join(objpath, new_name))"
   ]
  }
 ],
 "metadata": {
  "kernelspec": {
   "display_name": "Python 3 (ipykernel)",
   "language": "python",
   "name": "python3"
  },
  "language_info": {
   "codemirror_mode": {
    "name": "ipython",
    "version": 3
   },
   "file_extension": ".py",
   "mimetype": "text/x-python",
   "name": "python",
   "nbconvert_exporter": "python",
   "pygments_lexer": "ipython3",
   "version": "3.11.5"
  }
 },
 "nbformat": 4,
 "nbformat_minor": 5
}
