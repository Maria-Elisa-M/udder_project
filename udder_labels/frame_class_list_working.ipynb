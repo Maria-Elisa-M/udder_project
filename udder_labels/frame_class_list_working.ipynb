{
 "cells": [
  {
   "cell_type": "code",
   "execution_count": 4,
   "id": "8f7cfd2d-59b2-42a1-852e-76aef4899161",
   "metadata": {
    "tags": []
   },
   "outputs": [],
   "source": [
    "import os\n",
    "import pandas as pd\n",
    "\n",
    "# cow, file name, class\n",
    "# list all labels\n",
    "label_path = os.path.join(os.getcwd(), r'labels\\class') \n",
    "label_list = os.listdir(label_path)\n",
    "filenames = [file.replace(\".txt\", \"\") for file in label_list]\n",
    "cow_list = [file.split(\"_\")[0] for file in label_list]\n",
    "class_list = []\n",
    "for label in label_list:\n",
    "    with open(os.path.join(label_path, label), \"r\") as f:\n",
    "        class_list.append(f.read())\n",
    "        \n",
    "df = pd.DataFrame({\"filename\":filenames , \"cow\":cow_list, \"frame_class\": class_list})\n",
    "df.to_csv(\"frame_class_list.csv\", index = False)"
   ]
  }
 ],
 "metadata": {
  "kernelspec": {
   "display_name": "Python 3 (ipykernel)",
   "language": "python",
   "name": "python3"
  },
  "language_info": {
   "codemirror_mode": {
    "name": "ipython",
    "version": 3
   },
   "file_extension": ".py",
   "mimetype": "text/x-python",
   "name": "python",
   "nbconvert_exporter": "python",
   "pygments_lexer": "ipython3",
   "version": "3.10.13"
  }
 },
 "nbformat": 4,
 "nbformat_minor": 5
}
