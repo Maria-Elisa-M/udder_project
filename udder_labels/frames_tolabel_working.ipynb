{
 "cells": [
  {
   "cell_type": "code",
   "execution_count": 1,
   "id": "ca24ad1b-8b3e-4c74-ab8c-f870201d9274",
   "metadata": {
    "tags": []
   },
   "outputs": [],
   "source": [
    "import os\n",
    "import pandas as pd\n",
    "import numpy as np\n",
    "import shutil"
   ]
  },
  {
   "cell_type": "code",
   "execution_count": 2,
   "id": "b4d613bc-814d-47ec-9342-9230e381996c",
   "metadata": {
    "tags": []
   },
   "outputs": [],
   "source": [
    "def make_dir(newdir_path):\n",
    "    try: \n",
    "        os.mkdir(newdir_path)\n",
    "    except:\n",
    "        pass"
   ]
  },
  {
   "cell_type": "code",
   "execution_count": 3,
   "id": "5e8d8b51-919b-46b3-ac53-82eef083869c",
   "metadata": {
    "tags": []
   },
   "outputs": [],
   "source": [
    "dirpath = os.getcwd()\n",
    "tolbl_path = os.path.join(dirpath, r\"frames_tolabel_depth\")\n",
    "image_path = os.path.join(os.path.normpath(dirpath + os.sep + os.pardir), r'udder_video\\depth_images')\n",
    "\n",
    "class_df = pd.read_csv(\"frame_class_list.csv\")\n",
    "good_df = class_df[class_df.frame_class == 1]\n",
    "cow_fileno = good_df[[\"cow\", \"filename\"]].groupby(\"cow\").agg(\"count\").reset_index()\n",
    "selframes_df = pd.DataFrame(columns = [\"cow\", \"filename\"])\n",
    "frame_dict = {}\n",
    "\n",
    "for cow in cow_fileno.cow:\n",
    "    cow_frames = list(good_df[good_df.cow == cow][\"filename\"])\n",
    "    np.random.seed(5)\n",
    "    np.random.shuffle(cow_frames)\n",
    "    selected_frames = cow_frames[:30]\n",
    "    temp_df = pd.DataFrame({\"cow\": [cow]*30, \"filename\": selected_frames} )\n",
    "    selframes_df = pd.concat([selframes_df, temp_df], axis = 0, ignore_index = True)\n",
    "    frame_dict[cow] = selected_frames\n",
    "    \n",
    "selframes_df.to_csv(\"frames_tolabel.csv\", index = False)"
   ]
  },
  {
   "cell_type": "code",
   "execution_count": 4,
   "id": "7d676a2c-9c5b-4edc-9cdd-30a4bdfbc9a9",
   "metadata": {
    "tags": []
   },
   "outputs": [],
   "source": [
    "for cow in list(frame_dict.keys()):\n",
    "    src_path = os.path.join(image_path, str(cow))\n",
    "    dest_path = os.path.join(tolbl_path, str(cow))\n",
    "    make_dir(dest_path)\n",
    "    cow_frames = frame_dict[cow]\n",
    "    for frame in cow_frames:\n",
    "        frame_path = os.path.join(src_path, frame +\".tif\")\n",
    "        frame_path2 = os.path.join(dest_path, frame +\".tif\")\n",
    "        shutil.copy(frame_path, dest_path)"
   ]
  },
  {
   "cell_type": "code",
   "execution_count": null,
   "id": "53b25d8f-a6a2-47ff-af5f-2f0112384cb2",
   "metadata": {},
   "outputs": [],
   "source": []
  }
 ],
 "metadata": {
  "kernelspec": {
   "display_name": "Python 3 (ipykernel)",
   "language": "python",
   "name": "python3"
  },
  "language_info": {
   "codemirror_mode": {
    "name": "ipython",
    "version": 3
   },
   "file_extension": ".py",
   "mimetype": "text/x-python",
   "name": "python",
   "nbconvert_exporter": "python",
   "pygments_lexer": "ipython3",
   "version": "3.11.5"
  }
 },
 "nbformat": 4,
 "nbformat_minor": 5
}
