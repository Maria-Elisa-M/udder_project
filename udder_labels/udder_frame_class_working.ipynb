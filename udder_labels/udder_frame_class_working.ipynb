{
 "cells": [
  {
   "cell_type": "code",
   "execution_count": 1,
   "id": "740184a4-9238-4ece-b32f-3796a0aea218",
   "metadata": {
    "tags": []
   },
   "outputs": [],
   "source": [
    "import os\n",
    "import cv2"
   ]
  },
  {
   "cell_type": "code",
   "execution_count": 4,
   "id": "4abefab3-7664-4378-9d8a-b5e398b49350",
   "metadata": {
    "tags": []
   },
   "outputs": [],
   "source": [
    "dirpath = os.getcwd()\n",
    "image_path = os.path.join(os.path.normpath(dirpath + os.sep + os.pardir), r'udder_video\\color_images')\n",
    "label_path = os.path.join(dirpath, r'labels\\class') \n",
    "label_list = [file.replace(\".txt\", \"\") for file in  os.listdir(label_path)]\n",
    "\n",
    "# list files in cow folders\n",
    "img_list = []\n",
    "cow_dirs = [f.name for f in os.scandir(image_path) if  f.is_dir()]\n",
    "for cow in cow_dirs:\n",
    "    cow_path = os.path.join(image_path, cow)\n",
    "    files =  [file.replace(\".tif\", \"\") for file in os.listdir(cow_path)]\n",
    "    img_list.extend(files)\n",
    "\n",
    "unlabeled_img = sorted(list(set(img_list).difference(set(label_list))))\n",
    "todo_imgs = len(unlabeled_img)"
   ]
  },
  {
   "cell_type": "code",
   "execution_count": 12,
   "id": "be2a49b3-08a5-4966-9d74-5e07f1112b6e",
   "metadata": {
    "tags": []
   },
   "outputs": [],
   "source": [
    "def save_class(label, dst):\n",
    "    with open(dst, \"w\") as f:\n",
    "    # good 1: udder is there\n",
    "    # bad 0: no udder\n",
    "        f.write(str(label))"
   ]
  },
  {
   "cell_type": "code",
   "execution_count": 18,
   "id": "46874010-7bdd-4142-91fd-617c0500e910",
   "metadata": {
    "tags": []
   },
   "outputs": [
    {
     "name": "stdout",
     "output_type": "stream",
     "text": [
      "Instructions: Use g for class good and b for class bad \n",
      " Press s to save class,\n",
      " r to restart,\n",
      " and c to close \n",
      "\n",
      "\n",
      "There are: 36662 images to annotate\n",
      "\n"
     ]
    },
    {
     "ename": "NameError",
     "evalue": "name 'label' is not defined",
     "output_type": "error",
     "traceback": [
      "\u001b[1;31m---------------------------------------------------------------------------\u001b[0m",
      "\u001b[1;31mNameError\u001b[0m                                 Traceback (most recent call last)",
      "Cell \u001b[1;32mIn[18], line 39\u001b[0m\n\u001b[0;32m     37\u001b[0m         cv2\u001b[38;5;241m.\u001b[39mdestroyAllWindows()\n\u001b[0;32m     38\u001b[0m         \u001b[38;5;66;03m# save label to text file\u001b[39;00m\n\u001b[1;32m---> 39\u001b[0m         save_class(label, dst)\n\u001b[0;32m     40\u001b[0m         \u001b[38;5;28;01mbreak\u001b[39;00m\n\u001b[0;32m     42\u001b[0m \u001b[38;5;28;01melif\u001b[39;00m key \u001b[38;5;241m==\u001b[39m \u001b[38;5;28mord\u001b[39m(\u001b[38;5;124m\"\u001b[39m\u001b[38;5;124mr\u001b[39m\u001b[38;5;124m\"\u001b[39m):\n",
      "\u001b[1;31mNameError\u001b[0m: name 'label' is not defined"
     ]
    }
   ],
   "source": [
    "print('Instructions: Use g for class good and b for class bad \\n Press s to save class,\\n r to restart,\\n and c to close \\n\\n')\n",
    "print(f'There are: {todo_imgs} images to annotate\\n')\n",
    "# open the image with open cv and get user input\n",
    "close = False\n",
    "for img_num in list(range(todo_imgs)):\n",
    "    window_name = 'image_' + str(img_num+1) +' _from_' + str(todo_imgs)\n",
    "    image_name = unlabeled_img[img_num]\n",
    "    cow_dir = os.path.join(image_path, image_name.split(\"_\")[0])\n",
    "    # image path is cow ID + image name\n",
    "    src = os.path.join(cow_dir, image_name + \".tif\")\n",
    "    dst = os.path.join(label_path, image_name +\".txt\")\n",
    "     # open a widow with the ith image\n",
    "    img = cv2.imread(src)\n",
    "    clone = img.copy()\n",
    "    cv2.namedWindow(window_name)\n",
    "    \n",
    "    while True:\n",
    "        cv2.imshow(window_name, img)\n",
    "        key = cv2.waitKey(0)\n",
    "        \n",
    "        if key == ord(\"g\"):\n",
    "            name = 'good'\n",
    "            label = 1\n",
    "            cv2.putText(img, f'Class: {name}', (100,50),cv2.FONT_HERSHEY_SIMPLEX, 1, (255, 255, 255), 2)\n",
    "            \n",
    "        elif key == ord(\"b\"):\n",
    "            label = 0\n",
    "            name = 'bad'\n",
    "            cv2.putText(img, f'Class: {name}', (100,50),cv2.FONT_HERSHEY_SIMPLEX, 1, (255, 255, 255), 2)\n",
    "                 \n",
    "        elif key == ord(\"c\"):\n",
    "            cv2.destroyAllWindows()\n",
    "            close = True\n",
    "            break\n",
    "            \n",
    "        if key == ord(\"s\"):\n",
    "                cv2.destroyAllWindows()\n",
    "                # save label to text file\n",
    "                save_class(label, dst)\n",
    "                break\n",
    "                \n",
    "        elif key == ord(\"r\"):\n",
    "            img = clone.copy()\n",
    "            del label\n",
    "            \n",
    "    if close == True:\n",
    "        break\n",
    "\n",
    "print(f'You have annotaded: {img_num +1} image(s)\\n')\n",
    "print(f'There are: {todo_imgs - (img_num+1)} image(s) left\\n')"
   ]
  }
 ],
 "metadata": {
  "kernelspec": {
   "display_name": "Python 3 (ipykernel)",
   "language": "python",
   "name": "python3"
  },
  "language_info": {
   "codemirror_mode": {
    "name": "ipython",
    "version": 3
   },
   "file_extension": ".py",
   "mimetype": "text/x-python",
   "name": "python",
   "nbconvert_exporter": "python",
   "pygments_lexer": "ipython3",
   "version": "3.10.13"
  }
 },
 "nbformat": 4,
 "nbformat_minor": 5
}
