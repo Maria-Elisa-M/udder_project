{
 "cells": [
  {
   "cell_type": "code",
   "execution_count": 1,
   "id": "273bd199-1ae1-4fd8-8eed-72074ca8b475",
   "metadata": {
    "tags": []
   },
   "outputs": [],
   "source": [
    "import cv2\n",
    "import os"
   ]
  },
  {
   "cell_type": "code",
   "execution_count": 3,
   "id": "bf2ed752-08c7-4437-8157-1e80aacfa577",
   "metadata": {
    "tags": []
   },
   "outputs": [
    {
     "name": "stdout",
     "output_type": "stream",
     "text": [
      "Instructions:\n",
      " Press s to save annotated points,\n",
      " r to restart,\n",
      " f to skip a point,\n",
      " and c to close \n",
      "\n",
      "\n",
      "There are: 3 images to annotate\n",
      "\n"
     ]
    }
   ],
   "source": [
    "# directory stuff\n",
    "image_path = os.path.join(os.getcwd(), 'frames')\n",
    "box_path = os.path.join(os.getcwd(), r'labels\\bbox')\n",
    "label_path = os.path.join(os.getcwd(), r'labels\\keypoints') \n",
    "\n",
    "# list of images\n",
    "img_list = [file.replace(\".txt\", \"\") for file in  os.listdir(box_path)]\n",
    "# list of annotated images\n",
    "label_list = [file.replace(\".txt\", \"\") for file in  os.listdir(label_path)]\n",
    "# images to annotate\n",
    "unlabeled_img = list(set(img_list).difference(set(label_list)))\n",
    "\n",
    "keyPts = ['LF', 'RF', 'LR', 'RR']\n",
    "num_kp = len(keyPts)\n",
    "\n",
    "# print instructions\n",
    "print(f'Instructions:\\n Press s to save annotated points,\\n r to restart,\\n f to skip a point,\\n and c to close \\n\\n')\n",
    "todo_imgs = len(unlabeled_img)\n",
    "print(f'There are: {todo_imgs} images to annotate\\n')"
   ]
  },
  {
   "cell_type": "code",
   "execution_count": 4,
   "id": "54c67ac1-7dd9-4b46-a3b3-70b69fa2698c",
   "metadata": {
    "tags": []
   },
   "outputs": [],
   "source": [
    "# function to save keypoints\n",
    "def click_and_save(event, x, y, flags, param):\n",
    "    global refPt, count, img\n",
    "    if event == cv2.EVENT_LBUTTONDOWN:\n",
    "        im_width = img.shape[1]\n",
    "        im_height = img.shape[0]\n",
    "        name = keyPts[count]\n",
    "        Pt = [x/im_width, y/im_height, 2]\n",
    "        refPt[count] = Pt\n",
    "        cv2.circle(img, (x,y), 3, (255,255,255), -1)\n",
    "        cv2.putText(img, f'{name}', (x,y),cv2.FONT_HERSHEY_SIMPLEX, 1, (0, 0, 0), 2)\n",
    "        count = count + 1 \n",
    "\n",
    "        # fuction to save annotation to a table\n",
    "def save_points(img_name, refPt):\n",
    "    global label_path, box_path\n",
    "    file_name = os.path.join(label_path, img_name+ \".txt\")\n",
    "    bbox_name =  os.path.join(box_path, img_name+ \".txt\")\n",
    "    with open(bbox_name, \"r\") as f:\n",
    "        bbox = f.read()\n",
    "        \n",
    "    refPt_long = [str(pt) for p in refPt for pt in p]\n",
    "    annotation = \" \".join(refPt_long)\n",
    "    \n",
    "    with open(file_name, \"w\") as f:\n",
    "        text = bbox + \" \"+ annotation\n",
    "        f.write(text)        "
   ]
  },
  {
   "cell_type": "code",
   "execution_count": 5,
   "id": "f9753abe-c9f5-48d3-a059-15d22a63a4a9",
   "metadata": {
    "tags": []
   },
   "outputs": [],
   "source": [
    "# this is the annotating part!\n",
    "close = False\n",
    "for img_num in list(range(todo_imgs)):\n",
    "    refPt = [[] for x in range(num_kp)]\n",
    "    count = 0\n",
    "    skips = []\n",
    "    window_name = 'image_' + str(img_num+1) +' _from_' + str(todo_imgs)\n",
    "    image_name = unlabeled_img[img_num]\n",
    "    src = os.path.join(image_path, image_name +\".png\")\n",
    "    img = cv2.imread(src)\n",
    "    clone = img.copy()\n",
    "    cv2.namedWindow(window_name)\n",
    "    cv2.setMouseCallback(window_name, click_and_save)\n",
    "    while True:\n",
    "        cv2.imshow(window_name, img)\n",
    "        key = cv2.waitKey(1)\n",
    "        if key == ord(\"f\"):\n",
    "            Pt = [0, 0, 0]\n",
    "            refPt[count] = Pt\n",
    "            skips.append([count])\n",
    "            count = count +1    \n",
    "        elif key == ord(\"s\"):\n",
    "            # save points \n",
    "            cv2.destroyAllWindows()\n",
    "            # save points \n",
    "            save_points(image_name, refPt)\n",
    "            break\n",
    "        elif key == ord(\"r\"):\n",
    "            img = clone.copy()\n",
    "            refPt = [[] for x in range(num_kp)]\n",
    "            count = 0\n",
    "            skips = []\n",
    "        elif key == ord(\"c\"):\n",
    "            cv2.destroyAllWindows()\n",
    "            close = True\n",
    "            break\n",
    "    if close == True:\n",
    "        break\n"
   ]
  },
  {
   "cell_type": "code",
   "execution_count": 6,
   "id": "f3f5ff00-a428-4c53-a788-717dfd64e328",
   "metadata": {
    "tags": []
   },
   "outputs": [
    {
     "name": "stdout",
     "output_type": "stream",
     "text": [
      "You have annotaded: 2 image(s)\n",
      "\n",
      "There are: 1 image(s) left\n",
      "\n"
     ]
    }
   ],
   "source": [
    "print(f'You have annotaded: {img_num +1} image(s)\\n')\n",
    "print(f'There are: {todo_imgs - (img_num+1)} image(s) left\\n')"
   ]
  }
 ],
 "metadata": {
  "kernelspec": {
   "display_name": "Python 3 (ipykernel)",
   "language": "python",
   "name": "python3"
  },
  "language_info": {
   "codemirror_mode": {
    "name": "ipython",
    "version": 3
   },
   "file_extension": ".py",
   "mimetype": "text/x-python",
   "name": "python",
   "nbconvert_exporter": "python",
   "pygments_lexer": "ipython3",
   "version": "3.10.13"
  }
 },
 "nbformat": 4,
 "nbformat_minor": 5
}
