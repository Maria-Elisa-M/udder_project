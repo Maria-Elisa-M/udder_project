{
 "cells": [
  {
   "cell_type": "code",
   "execution_count": 3,
   "id": "8dca936e-19ba-4385-bedc-18ed7de4b431",
   "metadata": {
    "tags": []
   },
   "outputs": [
    {
     "name": "stdout",
     "output_type": "stream",
     "text": [
      "C:\\Users\\Maria\\Documents\\udder_project_3\\udder_video\\depth_images\\1003\\1003_20231117_163646_frame_118.tif\n",
      "C:\\Users\\Maria\\Documents\\udder_project_3\\udder_labels\\labels\\segments\\1003_20231117_163646_frame_118.txt\n",
      "C:\\Users\\Maria\\Documents\\udder_project_3\\segement\\datasets\\images\\train\\1003_20231117_163646_frame_118.tif\n",
      "C:\\Users\\Maria\\Documents\\udder_project_3\\segement\\datasets\\labels\\train\\1003_20231117_163646_frame_118.txt\n"
     ]
    }
   ],
   "source": [
    "import os \n",
    "import pandas as pd\n",
    "import shutil\n",
    "\n",
    "# segment sest df\n",
    "sets_df = pd.read_csv(\"segment_sets.csv\")\n",
    "\n",
    "# directories\n",
    "dirpath = os.getcwd()\n",
    "newimg_dir = os.path.join(os.path.normpath(dirpath + os.sep + os.pardir), r'udder_video\\depth_images')\n",
    "oldimg_dir = os.path.join(os.path.normpath(dirpath + os.sep + os.pardir), r'udder_dcc\\images')\n",
    "\n",
    "newlbl_dir = os.path.join(os.path.normpath(dirpath + os.sep + os.pardir), r'udder_labels\\labels\\segments')\n",
    "oldlbl_dir = os.path.join(os.path.normpath(dirpath + os.sep + os.pardir), r'udder_dcc\\labels\\segments')\n",
    "\n",
    "data_imdir = os.path.join(dirpath, r\"datasets\\images\")\n",
    "data_lbldir = os.path.join(dirpath, r\"datasets\\labels\")\n",
    "\n",
    "# data collection groups\n",
    "imgdir_dict = {20210625:{\"lab\": oldimg_dir}, \\\n",
    "              20211022: {\"lab\": oldimg_dir}, \\\n",
    "              20231117:{\"guilherme\": newimg_dir , \\\n",
    "                        \"maria\": newimg_dir}}\n",
    "# data collection groups\n",
    "labeldir_dict = {20210625:{\"lab\": oldlbl_dir}, \\\n",
    "              20211022: {\"lab\": oldlbl_dir}, \\\n",
    "              20231117:{\"guilherme\": newlbl_dir, \\\n",
    "                        \"maria\":newlbl_dir}}\n",
    "\n",
    "def mk_dest_dir(data_dir , file_set):\n",
    "    if not os.path.exists(data_dir):\n",
    "        os.mkdir(data_dir)\n",
    "    set_dir = os.path.join(data_dir, file_set)\n",
    "    if not os.path.exists(set_dir):\n",
    "        os.mkdir(set_dir)\n",
    "        \n",
    "for file in sets_df.filename[:1]:\n",
    "    file_line = sets_df[sets_df.filename == file]\n",
    "    # find source directory\n",
    "    file_date = file_line[\"date\"].values[0]\n",
    "    computer  = file_line[\"computer\"].values[0]\n",
    "    \n",
    "    imsrc_dir = imgdir_dict[file_date][computer]\n",
    "    folder = file.split(\"_\")[0]\n",
    "    img_dir = os.path.join(imsrc_dir, folder, file + \".tif\")\n",
    "    print(img_dir)\n",
    "    \n",
    "    lbsrc_dir = labeldir_dict[file_date][computer]\n",
    "    lbl_dir = os.path.join(lbsrc_dir, file + \".txt\")\n",
    "    print(lbl_dir)\n",
    "    \n",
    "    # find/create dest directoy\n",
    "    file_set = file_line[\"set_name\"].values[0]\n",
    "    mk_dest_dir(data_imdir, file_set)\n",
    "    mk_dest_dir(data_lbldir, file_set)\n",
    "    imdest_dir = os.path.join(data_imdir, file_set, file + \".tif\")\n",
    "    lbdest_dir = os.path.join(data_lbldir, file_set, file + \".txt\")\n",
    "    print(imdest_dir)\n",
    "    print(lbdest_dir)\n",
    "    \n",
    "    # copy image\n",
    "    shutil.copy(img_dir, imdest_dir)\n",
    "    shutil.copy(lbl_dir, lbdest_dir)"
   ]
  }
 ],
 "metadata": {
  "kernelspec": {
   "display_name": "Python 3 (ipykernel)",
   "language": "python",
   "name": "python3"
  },
  "language_info": {
   "codemirror_mode": {
    "name": "ipython",
    "version": 3
   },
   "file_extension": ".py",
   "mimetype": "text/x-python",
   "name": "python",
   "nbconvert_exporter": "python",
   "pygments_lexer": "ipython3",
   "version": "3.10.9"
  }
 },
 "nbformat": 4,
 "nbformat_minor": 5
}
