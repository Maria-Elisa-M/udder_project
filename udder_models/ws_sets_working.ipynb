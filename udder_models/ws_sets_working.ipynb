{
 "cells": [
  {
   "cell_type": "code",
   "execution_count": 41,
   "id": "d347c9b5-76c2-4d8a-a140-411242e799b2",
   "metadata": {
    "tags": []
   },
   "outputs": [],
   "source": [
    "import os \n",
    "import pandas as pd\n",
    "import shutil\n",
    "import numpy as np\n",
    "from sklearn.model_selection import StratifiedGroupKFold\n",
    "\n",
    "seed = 5\n",
    "# directories\n",
    "dirpath = os.getcwd()\n",
    "img_dir = os.path.join(os.path.normpath(dirpath + os.sep + os.pardir), r'udder_processing\\validate_watershed\\watershed_data\\masked_frame')\n",
    "arr_dir =  os.path.join(os.path.normpath(dirpath + os.sep + os.pardir), r'udder_processing\\validate_watershed\\watershed_data\\array')\n",
    "msk_dir =  os.path.join(os.path.normpath(dirpath + os.sep + os.pardir), r'udder_processing\\validate_watershed\\watershed_data\\ws_mask')\n",
    "data2_dir = os.path.join(dirpath, r\"ws_classify\\array\\folds\")\n",
    "data1_dir = os.path.join(dirpath, r\"ws_classify\\masked_frame\\folds\")\n",
    "data3_dir = os.path.join(dirpath, r\"ws_classify\\ws_mask\\folds\")\n",
    "# class sest df\n",
    "class_df = pd.read_csv(os.path.join(os.path.normpath(dirpath + os.sep + os.pardir), r'udder_processing\\validate_watershed\\survey_results.csv'))\n",
    "class_dict = {0:\"bad\", 1:\"good\"}\n",
    "\n",
    "def mk_dest_dir(data_dir, fold, file_set, file_class):\n",
    "    if not os.path.exists(data_dir):\n",
    "        os.mkdir(data_dir)\n",
    "    fold_dir = os.path.join(data_dir,fold)\n",
    "    if not os.path.exists(fold_dir):\n",
    "        os.mkdir(fold_dir)\n",
    "    set_dir = os.path.join(fold_dir, file_set)\n",
    "    if not os.path.exists(set_dir):\n",
    "        os.mkdir(set_dir)\n",
    "    class_dir = os.path.join(set_dir, file_class)\n",
    "    if not os.path.exists(class_dir):\n",
    "        os.mkdir(class_dir)"
   ]
  },
  {
   "cell_type": "code",
   "execution_count": 42,
   "id": "ae0b6f33-2174-4476-8da8-a511510149dd",
   "metadata": {
    "tags": []
   },
   "outputs": [],
   "source": [
    "splits = 5\n",
    "fold_df = pd.DataFrame(columns=[\"cow\", \"fold_group\"])\n",
    "x = np.array(list(class_df.filename))\n",
    "group_cows = np.array(list(class_df.cow))\n",
    "group_class = np.array(list(class_df.img_class))\n",
    "sgkf = StratifiedGroupKFold(n_splits=5)\n",
    "sgkf.get_n_splits(x, group_class)\n",
    "test_list = []\n",
    "fold_list = []\n",
    "for i, (train_index, test_index) in enumerate(sgkf.split(x, group_class, group_cows)):\n",
    "    test_cows = np.unique(group_cows[test_index])\n",
    "    test_list.extend(list(test_cows))\n",
    "    fold_list.extend([i]*len(test_cows))\n",
    "temp_df = pd.DataFrame({\"cow\": test_list, \"fold_group\": fold_list})\n",
    "fold_df = pd.concat([fold_df , temp_df], axis = 0, ignore_index = True)\n",
    "    \n",
    "merged = pd.merge(class_df, fold_df, on = \"cow\")\n",
    "\n"
   ]
  },
  {
   "cell_type": "code",
   "execution_count": 43,
   "id": "ad55c663-4055-4282-9777-a64eccebc7ef",
   "metadata": {
    "tags": []
   },
   "outputs": [],
   "source": [
    "split_groups = list(range(splits))\n",
    "set_folds_df = pd.DataFrame()\n",
    "for group in split_groups:\n",
    "    non_test = split_groups.copy()\n",
    "    non_test.remove(group)\n",
    "    np.random.seed(seed+group)\n",
    "    np.random.shuffle(non_test)\n",
    "    all_test = non_test +[group]\n",
    "    set_list = [\"train\"] * 3 + [\"val\"] +[\"test\"]\n",
    "    set_df = pd.DataFrame({\"fold_group\":all_test, \"kfold\":group, \"set_name\": set_list})\n",
    "    set_folds_df = pd.concat([set_folds_df, set_df], axis =0, ignore_index = True)\n",
    "merged2 = pd.merge(merged, set_folds_df, on = \"fold_group\")\n",
    "merged2.to_csv(\"wsclass_sets.csv\", index = False)"
   ]
  },
  {
   "cell_type": "code",
   "execution_count": 44,
   "id": "1173c168-ef13-40f8-a436-7270c76ea9e1",
   "metadata": {
    "tags": []
   },
   "outputs": [
    {
     "data": {
      "text/html": [
       "<div>\n",
       "<style scoped>\n",
       "    .dataframe tbody tr th:only-of-type {\n",
       "        vertical-align: middle;\n",
       "    }\n",
       "\n",
       "    .dataframe tbody tr th {\n",
       "        vertical-align: top;\n",
       "    }\n",
       "\n",
       "    .dataframe thead th {\n",
       "        text-align: right;\n",
       "    }\n",
       "</style>\n",
       "<table border=\"1\" class=\"dataframe\">\n",
       "  <thead>\n",
       "    <tr style=\"text-align: right;\">\n",
       "      <th></th>\n",
       "      <th>cow</th>\n",
       "      <th>filename</th>\n",
       "      <th>img_class</th>\n",
       "      <th>fold_group</th>\n",
       "      <th>kfold</th>\n",
       "      <th>set_name</th>\n",
       "    </tr>\n",
       "  </thead>\n",
       "  <tbody>\n",
       "    <tr>\n",
       "      <th>0</th>\n",
       "      <td>1057</td>\n",
       "      <td>1057_20231117_140050_frame_621</td>\n",
       "      <td>1</td>\n",
       "      <td>2</td>\n",
       "      <td>0</td>\n",
       "      <td>train</td>\n",
       "    </tr>\n",
       "    <tr>\n",
       "      <th>1</th>\n",
       "      <td>1057</td>\n",
       "      <td>1057_20231117_140050_frame_621</td>\n",
       "      <td>1</td>\n",
       "      <td>2</td>\n",
       "      <td>1</td>\n",
       "      <td>train</td>\n",
       "    </tr>\n",
       "    <tr>\n",
       "      <th>2</th>\n",
       "      <td>1057</td>\n",
       "      <td>1057_20231117_140050_frame_621</td>\n",
       "      <td>1</td>\n",
       "      <td>2</td>\n",
       "      <td>2</td>\n",
       "      <td>test</td>\n",
       "    </tr>\n",
       "    <tr>\n",
       "      <th>3</th>\n",
       "      <td>1057</td>\n",
       "      <td>1057_20231117_140050_frame_621</td>\n",
       "      <td>1</td>\n",
       "      <td>2</td>\n",
       "      <td>3</td>\n",
       "      <td>train</td>\n",
       "    </tr>\n",
       "    <tr>\n",
       "      <th>4</th>\n",
       "      <td>1057</td>\n",
       "      <td>1057_20231117_140050_frame_621</td>\n",
       "      <td>1</td>\n",
       "      <td>2</td>\n",
       "      <td>4</td>\n",
       "      <td>val</td>\n",
       "    </tr>\n",
       "    <tr>\n",
       "      <th>...</th>\n",
       "      <td>...</td>\n",
       "      <td>...</td>\n",
       "      <td>...</td>\n",
       "      <td>...</td>\n",
       "      <td>...</td>\n",
       "      <td>...</td>\n",
       "    </tr>\n",
       "    <tr>\n",
       "      <th>1495</th>\n",
       "      <td>1003</td>\n",
       "      <td>1003_20231117_163646_frame_264</td>\n",
       "      <td>1</td>\n",
       "      <td>3</td>\n",
       "      <td>0</td>\n",
       "      <td>train</td>\n",
       "    </tr>\n",
       "    <tr>\n",
       "      <th>1496</th>\n",
       "      <td>1003</td>\n",
       "      <td>1003_20231117_163646_frame_264</td>\n",
       "      <td>1</td>\n",
       "      <td>3</td>\n",
       "      <td>1</td>\n",
       "      <td>val</td>\n",
       "    </tr>\n",
       "    <tr>\n",
       "      <th>1497</th>\n",
       "      <td>1003</td>\n",
       "      <td>1003_20231117_163646_frame_264</td>\n",
       "      <td>1</td>\n",
       "      <td>3</td>\n",
       "      <td>2</td>\n",
       "      <td>train</td>\n",
       "    </tr>\n",
       "    <tr>\n",
       "      <th>1498</th>\n",
       "      <td>1003</td>\n",
       "      <td>1003_20231117_163646_frame_264</td>\n",
       "      <td>1</td>\n",
       "      <td>3</td>\n",
       "      <td>3</td>\n",
       "      <td>test</td>\n",
       "    </tr>\n",
       "    <tr>\n",
       "      <th>1499</th>\n",
       "      <td>1003</td>\n",
       "      <td>1003_20231117_163646_frame_264</td>\n",
       "      <td>1</td>\n",
       "      <td>3</td>\n",
       "      <td>4</td>\n",
       "      <td>train</td>\n",
       "    </tr>\n",
       "  </tbody>\n",
       "</table>\n",
       "<p>1500 rows × 6 columns</p>\n",
       "</div>"
      ],
      "text/plain": [
       "       cow                        filename  img_class fold_group  kfold  \\\n",
       "0     1057  1057_20231117_140050_frame_621          1          2      0   \n",
       "1     1057  1057_20231117_140050_frame_621          1          2      1   \n",
       "2     1057  1057_20231117_140050_frame_621          1          2      2   \n",
       "3     1057  1057_20231117_140050_frame_621          1          2      3   \n",
       "4     1057  1057_20231117_140050_frame_621          1          2      4   \n",
       "...    ...                             ...        ...        ...    ...   \n",
       "1495  1003  1003_20231117_163646_frame_264          1          3      0   \n",
       "1496  1003  1003_20231117_163646_frame_264          1          3      1   \n",
       "1497  1003  1003_20231117_163646_frame_264          1          3      2   \n",
       "1498  1003  1003_20231117_163646_frame_264          1          3      3   \n",
       "1499  1003  1003_20231117_163646_frame_264          1          3      4   \n",
       "\n",
       "     set_name  \n",
       "0       train  \n",
       "1       train  \n",
       "2        test  \n",
       "3       train  \n",
       "4         val  \n",
       "...       ...  \n",
       "1495    train  \n",
       "1496      val  \n",
       "1497    train  \n",
       "1498     test  \n",
       "1499    train  \n",
       "\n",
       "[1500 rows x 6 columns]"
      ]
     },
     "execution_count": 44,
     "metadata": {},
     "output_type": "execute_result"
    }
   ],
   "source": [
    "merged2"
   ]
  },
  {
   "cell_type": "code",
   "execution_count": 3,
   "id": "78cddfe5-3658-4ef4-ad99-b1cb82766beb",
   "metadata": {
    "tags": []
   },
   "outputs": [],
   "source": [
    "# merged_group = merged[[\"fold_group\", \"cow\", \"img_class\"]].groupby([\"fold_group\", \"cow\"]).agg([\"sum\", \"count\"]).reset_index()\n",
    "# merged_group.columns = [\"_\".join(name) if len(name[1]) >1 else name[0] for name in merged_group.columns]\n",
    "# merged_group.sort_values(by =[\"fold_group\", \"cow\"]).reset_index(drop = True)"
   ]
  },
  {
   "cell_type": "code",
   "execution_count": 29,
   "id": "2561c284-8417-460b-8286-18f8fc9c77a1",
   "metadata": {
    "tags": []
   },
   "outputs": [
    {
     "name": "stdout",
     "output_type": "stream",
     "text": [
      "{1288, 778, 1291, 915, 1300, 1057, 929, 1315, 808, 1320, 1325, 948, 837, 1223, 1354, 973, 975, 1360, 978, 723, 1236, 981, 729, 1116, 868, 1003, 1262, 1271}\n",
      "{1288, 778, 1291, 915, 1300, 1057, 929, 1315, 808, 1320, 1325, 948, 837, 1223, 1354, 973, 975, 1360, 978, 723, 1236, 981, 729, 1116, 868, 1003, 1262, 1271}\n",
      "{1288, 778, 1291, 915, 1300, 1057, 929, 1315, 808, 1320, 1325, 948, 837, 1223, 1354, 973, 975, 1360, 978, 723, 1236, 981, 729, 1116, 868, 1003, 1262, 1271}\n"
     ]
    }
   ],
   "source": [
    "# verify cows do not reapeatd\n",
    "train_cows = set(merged2[merged2.set_name == \"train\"][\"cow\"].values)\n",
    "test_cows = set(merged2[merged2.set_name == \"test\"][\"cow\"].values)\n",
    "val_cows = set(merged2[merged2.set_name == \"val\"][\"cow\"].values)\n",
    "print(val_cows.intersection(test_cows, train_cows))\n",
    "print(train_cows.intersection(test_cows, val_cows))\n",
    "print(test_cows.intersection(val_cows, train_cows))"
   ]
  },
  {
   "cell_type": "code",
   "execution_count": 45,
   "id": "f7ed1683-1696-4782-856e-0a237b0ff9b3",
   "metadata": {
    "tags": []
   },
   "outputs": [],
   "source": [
    "# class sest df\n",
    "sets_df = pd.read_csv(\"wsclass_sets.csv\")"
   ]
  },
  {
   "cell_type": "code",
   "execution_count": 55,
   "id": "b6aebd57-b101-4350-9b9d-33cea9476bdf",
   "metadata": {
    "tags": []
   },
   "outputs": [],
   "source": [
    "for file in range(len(sets_df.filename)):\n",
    "    file_line = sets_df.iloc[file]\n",
    "    name = file_line.filename\n",
    "    src3 = os.path.join(msk_dir, name +\".png\")\n",
    "    src1 = os.path.join(img_dir, name +\".png\")\n",
    "    src2 = os.path.join(arr_dir, name +\".npy\")\n",
    "    fold =  \"data_k\"+ str(file_line[\"kfold\"])\n",
    "    # find/create dest directoy\n",
    "    file_set = file_line[\"set_name\"]\n",
    "    file_class = class_dict[file_line[\"img_class\"]]\n",
    "    mk_dest_dir(data1_dir, fold, file_set, file_class)\n",
    "    mk_dest_dir(data2_dir, fold, file_set, file_class)\n",
    "    mk_dest_dir(data3_dir, fold, file_set, file_class)\n",
    "    dest1_dir = os.path.join(data1_dir,fold , file_set, file_class)\n",
    "    dest2_dir = os.path.join(data2_dir,fold, file_set, file_class)\n",
    "    dest3_dir = os.path.join(data3_dir,fold, file_set, file_class)\n",
    "    # print(dest1_dir)\n",
    "    shutil.copy(src1, dest1_dir)\n",
    "    shutil.copy(src2, dest2_dir)\n",
    "    shutil.copy(src3, dest3_dir)"
   ]
  }
 ],
 "metadata": {
  "kernelspec": {
   "display_name": "Python 3 (ipykernel)",
   "language": "python",
   "name": "python3"
  },
  "language_info": {
   "codemirror_mode": {
    "name": "ipython",
    "version": 3
   },
   "file_extension": ".py",
   "mimetype": "text/x-python",
   "name": "python",
   "nbconvert_exporter": "python",
   "pygments_lexer": "ipython3",
   "version": "3.11.5"
  }
 },
 "nbformat": 4,
 "nbformat_minor": 5
}
