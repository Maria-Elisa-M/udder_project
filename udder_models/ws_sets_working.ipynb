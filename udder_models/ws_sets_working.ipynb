{
 "cells": [
  {
   "cell_type": "code",
   "execution_count": 7,
   "id": "d347c9b5-76c2-4d8a-a140-411242e799b2",
   "metadata": {
    "tags": []
   },
   "outputs": [],
   "source": [
    "import os \n",
    "import pandas as pd\n",
    "import shutil\n",
    "import numpy as np\n",
    "from sklearn.model_selection import StratifiedGroupKFold\n",
    "\n",
    "seed = 5\n",
    "# directories\n",
    "dirpath = os.getcwd()\n",
    "img_dir = os.path.join(os.path.normpath(dirpath + os.sep + os.pardir), r'udder_processing\\validate_watershed\\watershed_data\\masked_frame')\n",
    "arr_dir =  os.path.join(os.path.normpath(dirpath + os.sep + os.pardir), r'udder_processing\\validate_watershed\\watershed_data\\array')\n",
    "data2_dir = os.path.join(dirpath, r\"ws_classify\\array\\data\")\n",
    "data1_dir = os.path.join(dirpath, r\"ws_classify\\masked_frame\\data\")\n",
    "# class sest df\n",
    "class_df = pd.read_csv(os.path.join(os.path.normpath(dirpath + os.sep + os.pardir), r'udder_processing\\validate_watershed\\survey_results.csv'))\n",
    "class_dict = {0:\"bad\", 1:\"good\"}\n",
    "\n",
    "def mk_dest_dir(data_dir , file_set, file_class):\n",
    "    if not os.path.exists(data_dir):\n",
    "        os.mkdir(data_dir)\n",
    "    set_dir = os.path.join(data_dir, file_set)\n",
    "    if not os.path.exists(set_dir):\n",
    "        os.mkdir(set_dir)\n",
    "    class_dir = os.path.join(set_dir, file_class)\n",
    "    if not os.path.exists(class_dir):\n",
    "        os.mkdir(class_dir)"
   ]
  },
  {
   "cell_type": "code",
   "execution_count": 8,
   "id": "ae0b6f33-2174-4476-8da8-a511510149dd",
   "metadata": {
    "tags": []
   },
   "outputs": [],
   "source": [
    "splits = 5\n",
    "fold_df = pd.DataFrame(columns=[\"cow\", \"fold_group\"])\n",
    "x = np.array(list(class_df.filename))\n",
    "group_cows = np.array(list(class_df.cow))\n",
    "group_class = np.array(list(class_df.img_class))\n",
    "sgkf = StratifiedGroupKFold(n_splits=5)\n",
    "sgkf.get_n_splits(x, group_class)\n",
    "test_list = []\n",
    "fold_list = []\n",
    "for i, (train_index, test_index) in enumerate(sgkf.split(x, group_class, group_cows)):\n",
    "    test_cows = np.unique(group_cows[test_index])\n",
    "    test_list.extend(list(test_cows))\n",
    "    fold_list.extend([i]*len(test_cows))\n",
    "temp_df = pd.DataFrame({\"cow\": test_list, \"fold_group\": fold_list})\n",
    "fold_df = pd.concat([fold_df , temp_df], axis = 0, ignore_index = True)\n",
    "    \n",
    "merged = pd.merge(class_df, fold_df, on = \"cow\")\n",
    "\n",
    "split_groups = list(range(splits))\n",
    "np.random.seed(seed)\n",
    "np.random.shuffle(split_groups)\n",
    "proportions = np.multiply(splits,[0.6, 0.2, 0.2]).astype(int)\n",
    "set_list = [\"train\"] * proportions[0] + [\"val\"] * proportions[1] + [\"test\"] * proportions[2]\n",
    "set_df = pd.DataFrame({\"fold_group\":split_groups, \"set_name\": set_list})\n",
    "\n",
    "merged2 = pd.merge(merged, set_df, on = \"fold_group\")\n",
    "merged2.to_csv(\"wsclass_sets.csv\", index = False)"
   ]
  },
  {
   "cell_type": "code",
   "execution_count": 9,
   "id": "78cddfe5-3658-4ef4-ad99-b1cb82766beb",
   "metadata": {
    "tags": []
   },
   "outputs": [],
   "source": [
    "merged_group = merged[[\"fold_group\", \"cow\", \"img_class\"]].groupby([\"fold_group\", \"cow\"]).agg([\"sum\", \"count\"]).reset_index()\n",
    "merged_group.columns = [\"_\".join(name) if len(name[1]) >1 else name[0] for name in merged_group.columns]\n",
    "# merged_group.sort_values(by =[\"fold_group\", \"cow\"]).reset_index(drop = True)"
   ]
  },
  {
   "cell_type": "code",
   "execution_count": 10,
   "id": "2561c284-8417-460b-8286-18f8fc9c77a1",
   "metadata": {
    "tags": []
   },
   "outputs": [
    {
     "name": "stdout",
     "output_type": "stream",
     "text": [
      "set()\n",
      "set()\n",
      "set()\n"
     ]
    }
   ],
   "source": [
    "# verify cows do not reapeatd\n",
    "train_cows = set(merged2[merged2.set_name == \"train\"][\"cow\"].values)\n",
    "test_cows = set(merged2[merged2.set_name == \"test\"][\"cow\"].values)\n",
    "val_cows = set(merged2[merged2.set_name == \"val\"][\"cow\"].values)\n",
    "print(val_cows.intersection(test_cows, train_cows))\n",
    "print(train_cows.intersection(test_cows, val_cows))\n",
    "print(test_cows.intersection(val_cows, train_cows))"
   ]
  },
  {
   "cell_type": "code",
   "execution_count": 11,
   "id": "f7ed1683-1696-4782-856e-0a237b0ff9b3",
   "metadata": {
    "tags": []
   },
   "outputs": [],
   "source": [
    "# class sest df\n",
    "sets_df = pd.read_csv(\"wsclass_sets.csv\")"
   ]
  },
  {
   "cell_type": "code",
   "execution_count": 13,
   "id": "b6aebd57-b101-4350-9b9d-33cea9476bdf",
   "metadata": {
    "tags": []
   },
   "outputs": [],
   "source": [
    "for file in sets_df.filename:\n",
    "    file_line = sets_df[sets_df.filename == file]\n",
    "    src1 = os.path.join(img_dir, file +\".png\")\n",
    "    src2 = os.path.join(arr_dir, file +\".npy\")\n",
    "    # find/create dest directoy\n",
    "    file_set = file_line[\"set_name\"].values[0]\n",
    "    file_class = class_dict[file_line[\"img_class\"].values[0]]\n",
    "    mk_dest_dir(data1_dir , file_set, file_class)\n",
    "    mk_dest_dir(data2_dir , file_set, file_class)\n",
    "    dest1_dir = os.path.join(data1_dir , file_set, file_class)\n",
    "    dest2_dir = os.path.join(data2_dir , file_set, file_class)\n",
    "    # print(dest1_dir)\n",
    "    shutil.copy(src1, dest1_dir)\n",
    "    shutil.copy(src2, dest2_dir)"
   ]
  },
  {
   "cell_type": "code",
   "execution_count": null,
   "id": "f0945193-424f-4d05-9adb-2dbdde840300",
   "metadata": {},
   "outputs": [],
   "source": []
  }
 ],
 "metadata": {
  "kernelspec": {
   "display_name": "Python 3 (ipykernel)",
   "language": "python",
   "name": "python3"
  },
  "language_info": {
   "codemirror_mode": {
    "name": "ipython",
    "version": 3
   },
   "file_extension": ".py",
   "mimetype": "text/x-python",
   "name": "python",
   "nbconvert_exporter": "python",
   "pygments_lexer": "ipython3",
   "version": "3.11.5"
  }
 },
 "nbformat": 4,
 "nbformat_minor": 5
}
