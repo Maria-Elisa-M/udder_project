


# read udder and quarter point coulds

# calculate volumne 

# calculate surcae area


