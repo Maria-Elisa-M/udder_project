{
 "cells": [
  {
   "cell_type": "code",
   "execution_count": 7,
   "id": "fbe6bdf1-a24d-46bf-aab9-140def49c309",
   "metadata": {
    "tags": []
   },
   "outputs": [],
   "source": [
    "import os\n",
    "import skimage as ski\n",
    "import watershed_udder as wu\n",
    "import numpy as np\n",
    "import matplotlib.pyplot as plt\n",
    "import pandas as pd\n",
    "import pyrealsense2 as rs\n",
    "from skimage.restoration import inpaint\n",
    "import shapely\n",
    "from skimage.measure import find_contours\n",
    "from shapely import LineString, MultiPoint, Polygon\n",
    "from skimage.transform import rotate\n",
    "from astropy.convolution import Gaussian2DKernel, convolve,interpolate_replace_nans"
   ]
  },
  {
   "cell_type": "code",
   "execution_count": 3,
   "id": "60038717-3f88-4bbc-96e5-ffca1036fc4f",
   "metadata": {
    "tags": []
   },
   "outputs": [],
   "source": [
    "def get_angle(right_kp, left_kp):\n",
    "    angle = np.arctan2(right_kp[1]-left_kp[1], right_kp[0]-left_kp[0])\n",
    "    return angle\n",
    "\n",
    "def get_center(right_kp, left_kp):\n",
    "    return shapely.centroid(MultiPoint([right_kp, left_kp])).coords[0] \n",
    "\n",
    "def get_orientation(right_kp, left_kp):\n",
    "    if right_kp[0] < left_kp[0]:\n",
    "        orientation = -1 # up \n",
    "    else: \n",
    "        orientation = 1 # down\n",
    "    return orientation\n",
    "\n",
    "def rotate_udder(udder, right_kp, left_kp):\n",
    "    k = get_orientation(right_kp, left_kp)\n",
    "    center = get_center(right_kp, left_kp)\n",
    "    angle = get_angle(right_kp, left_kp)\n",
    "    rotated_udder = rotate(udder, np.rad2deg(k*angle), center = center, preserve_range = True)\n",
    "    return rotated_udder\n",
    "\n",
    "def rotate_points(right_kp, left_kp):\n",
    "    k = get_orientation(right_kp, left_kp)\n",
    "    points = np.concatenate([[right_kp], [left_kp]])\n",
    "    points2 = points.copy()\n",
    "    angle = get_angle(right_kp, left_kp)\n",
    "    center = get_center(right_kp, left_kp)\n",
    "    rot_mat = np.array([[np.cos(-k*angle), -np.sin(-k*angle)], [np.sin(-k*angle), np.cos(-k*angle)]])\n",
    "    #\n",
    "    points2[:, 0] = points[:, 0] - center[0]\n",
    "    points2[:, 1] = points[:, 1] - center[1]\n",
    "    # \n",
    "    points2 = np.transpose(np.dot(rot_mat, np.transpose(points2[:, :2])))\n",
    "    points2[:, 0] = points2[:, 0] + center[0]\n",
    "    points2[:, 1] = points2[:, 1] + center[1]\n",
    "    rotated_points = points2.copy()\n",
    "    \n",
    "    return rotated_points\n",
    "\n",
    "\n",
    "def udder_line(udder_object, udder_shp, rf_kp, lf_kp):\n",
    "    img = udder_object.img\n",
    "    im_width =udder_object.size[1]\n",
    "    udder2 = rotate_udder(img, rf_kp, lf_kp)\n",
    "    points2 = rotate_points(rf_kp, lf_kp)\n",
    "    yloc = np.floor(points2[0,1]).astype(int)\n",
    "    # fig, ax = plt.subplots()\n",
    "    for i in range(-10,10):\n",
    "        yloc2 = yloc + i \n",
    "        line = LineString([(0, yloc2), (im_width, yloc2)])\n",
    "        intersection = udder_shp.exterior.intersection(line).geoms\n",
    "        endpoints = np.array([list(intersection[0].coords[0]), list(intersection[1].coords[0])])\n",
    "        start = np.floor(endpoints[np.argmin(endpoints[:, 0])]).astype(int)\n",
    "        end = np.floor(endpoints[np.argmax(endpoints[:, 0])]).astype(int)\n",
    "        line_vals = udder2[yloc2][list(range(start[0], end[0]))]\n",
    "        plt.plot(line_vals)"
   ]
  },
  {
   "cell_type": "code",
   "execution_count": 8,
   "id": "28e8e03f-4cd6-47ff-a5cf-96940ed2360d",
   "metadata": {
    "tags": []
   },
   "outputs": [],
   "source": [
    "def update_kp(kp_ws, ws_label, img):\n",
    "    newkp_dict = {}\n",
    "    # fig, axs = plt.subplots(ncols = 4, nrows= 1, figsize = (12, 4))\n",
    "    for key in kp_ws.keys():\n",
    "        label = kp_ws[key]\n",
    "        mask = ws_label.copy()\n",
    "        mask[mask!= label] = 0\n",
    "        mask[mask == label] = 1\n",
    "        quarter = (mask*img).astype(float)\n",
    "        quarter[quarter==0] =np.nan\n",
    "        mins = np.argwhere(quarter== np.nanmin(quarter))\n",
    "        x = np.round(np.median(mins[:, 1]), 0).astype(int)\n",
    "        y = np.round(np.median(mins[:, 0]), 0).astype(int)\n",
    "        newkp_dict[key] = (x,y)\n",
    "    \n",
    "    return newkp_dict"
   ]
  },
  {
   "cell_type": "code",
   "execution_count": 9,
   "id": "102faf16-73f4-415b-8c8e-bf7dd37a517b",
   "metadata": {
    "tags": []
   },
   "outputs": [
    {
     "ename": "FileNotFoundError",
     "evalue": "[WinError 3] The system cannot find the path specified: 'validate_watershed\\\\watershed_segments'",
     "output_type": "error",
     "traceback": [
      "\u001b[1;31m---------------------------------------------------------------------------\u001b[0m",
      "\u001b[1;31mFileNotFoundError\u001b[0m                         Traceback (most recent call last)",
      "Cell \u001b[1;32mIn[9], line 9\u001b[0m\n\u001b[0;32m      7\u001b[0m sg_dir \u001b[38;5;241m=\u001b[39m os\u001b[38;5;241m.\u001b[39mpath\u001b[38;5;241m.\u001b[39mjoin(label_dir, \u001b[38;5;124mr\u001b[39m\u001b[38;5;124m\"\u001b[39m\u001b[38;5;124msegments\u001b[39m\u001b[38;5;124m\"\u001b[39m)\n\u001b[0;32m      8\u001b[0m img_dir \u001b[38;5;241m=\u001b[39m os\u001b[38;5;241m.\u001b[39mpath\u001b[38;5;241m.\u001b[39mjoin(os\u001b[38;5;241m.\u001b[39mpath\u001b[38;5;241m.\u001b[39mnormpath(dirpath \u001b[38;5;241m+\u001b[39m os\u001b[38;5;241m.\u001b[39msep \u001b[38;5;241m+\u001b[39m os\u001b[38;5;241m.\u001b[39mpardir), \u001b[38;5;124mr\u001b[39m\u001b[38;5;124m\"\u001b[39m\u001b[38;5;124mudder_video\u001b[39m\u001b[38;5;124m\\\u001b[39m\u001b[38;5;124mdepth_images\u001b[39m\u001b[38;5;124m\"\u001b[39m)\n\u001b[1;32m----> 9\u001b[0m filenames \u001b[38;5;241m=\u001b[39m [file\u001b[38;5;241m.\u001b[39mreplace(\u001b[38;5;124m\"\u001b[39m\u001b[38;5;124m.npy\u001b[39m\u001b[38;5;124m\"\u001b[39m, \u001b[38;5;124m\"\u001b[39m\u001b[38;5;124m\"\u001b[39m) \u001b[38;5;28;01mfor\u001b[39;00m file \u001b[38;5;129;01min\u001b[39;00m \u001b[43mos\u001b[49m\u001b[38;5;241;43m.\u001b[39;49m\u001b[43mlistdir\u001b[49m\u001b[43m(\u001b[49m\u001b[43mws_dir\u001b[49m\u001b[43m)\u001b[49m]\n",
      "\u001b[1;31mFileNotFoundError\u001b[0m: [WinError 3] The system cannot find the path specified: 'validate_watershed\\\\watershed_segments'"
     ]
    }
   ],
   "source": [
    "# list files \n",
    "dirpath = os.getcwd()\n",
    "ws_dir = r\"validate_watershed\\watershed_segments\"\n",
    "corr_dir = r\"validate_watershed\\watershed_correspondence\"\n",
    "label_dir = os.path.join(dirpath, r\"validate_watershed\\pred_labels\")\n",
    "kp_dir = os.path.join(label_dir, r\"keypoints\")\n",
    "sg_dir = os.path.join(label_dir, r\"segments\")\n",
    "img_dir = os.path.join(os.path.normpath(dirpath + os.sep + os.pardir), r\"udder_video\\depth_images\")\n",
    "filenames = [file.replace(\".npy\", \"\") for file in os.listdir(ws_dir)]"
   ]
  },
  {
   "cell_type": "code",
   "execution_count": 5,
   "id": "03a7a248-c5d2-4abc-a34a-726b55851142",
   "metadata": {
    "tags": []
   },
   "outputs": [
    {
     "ename": "NameError",
     "evalue": "name 'dirpath' is not defined",
     "output_type": "error",
     "traceback": [
      "\u001b[1;31m---------------------------------------------------------------------------\u001b[0m",
      "\u001b[1;31mNameError\u001b[0m                                 Traceback (most recent call last)",
      "Cell \u001b[1;32mIn[5], line 1\u001b[0m\n\u001b[1;32m----> 1\u001b[0m video_path \u001b[38;5;241m=\u001b[39m  os\u001b[38;5;241m.\u001b[39mpath\u001b[38;5;241m.\u001b[39mjoin(os\u001b[38;5;241m.\u001b[39mpath\u001b[38;5;241m.\u001b[39mnormpath(\u001b[43mdirpath\u001b[49m \u001b[38;5;241m+\u001b[39m os\u001b[38;5;241m.\u001b[39msep \u001b[38;5;241m+\u001b[39m os\u001b[38;5;241m.\u001b[39mpardir), \u001b[38;5;124mr\u001b[39m\u001b[38;5;124m\"\u001b[39m\u001b[38;5;124mudder_video\u001b[39m\u001b[38;5;124m\\\u001b[39m\u001b[38;5;124mvideo_files\u001b[39m\u001b[38;5;124m\\\u001b[39m\u001b[38;5;124mvideo_example.bag\u001b[39m\u001b[38;5;124m\"\u001b[39m)\n\u001b[0;32m      3\u001b[0m config \u001b[38;5;241m=\u001b[39m rs\u001b[38;5;241m.\u001b[39mconfig()\n\u001b[0;32m      4\u001b[0m rs\u001b[38;5;241m.\u001b[39mconfig\u001b[38;5;241m.\u001b[39menable_device_from_file(config, video_path, repeat_playback \u001b[38;5;241m=\u001b[39m \u001b[38;5;28;01mFalse\u001b[39;00m)\n",
      "\u001b[1;31mNameError\u001b[0m: name 'dirpath' is not defined"
     ]
    }
   ],
   "source": [
    "video_path =  os.path.join(os.path.normpath(dirpath + os.sep + os.pardir), r\"udder_video\\video_files\\video_example.bag\")\n",
    "\n",
    "config = rs.config()\n",
    "rs.config.enable_device_from_file(config, video_path, repeat_playback = False)\n",
    "pipeline = rs.pipeline()\n",
    "cfg = pipeline.start(config) # Start pipeline and get the configuration it found\n",
    "profile = cfg.get_stream(rs.stream.depth) # Fetch stream profile for depth stream\n",
    "intr = profile.as_video_stream_profile().get_intrinsics() # Downcast to video_stream_profile and fetch intrinsics"
   ]
  },
  {
   "cell_type": "code",
   "execution_count": null,
   "id": "8451d547-f364-4481-8114-1529613f0528",
   "metadata": {
    "tags": []
   },
   "outputs": [],
   "source": [
    "for file in filenames[:1]:\n",
    "    # udder object\n",
    "    udder = wu.udder_object(file + \".tif\", img_dir, label_dir, array = 0)\n",
    "    # read image\n",
    "    img = udder.img\n",
    "    # read labels\n",
    "    segment = udder.get_segment()\n",
    "    points = udder.get_keypoints()\n",
    "    \n",
    "    # reas WS segmentation\n",
    "    ws_label = np.load(os.path.join(ws_dir, file + \".npy\"))\n",
    "    kp_ws = pd.read_csv(os.path.join(corr_dir, file +\".csv\")).loc[0].to_dict()\n",
    "\n",
    "    new_kp = update_kp(kp_ws, ws_label, img)\n",
    "    plt.imshow(img*udder.get_mask())\n",
    "    plt.plot(new_kp[\"lf\"][0], new_kp[\"lf\"][1], \"*r\")\n",
    "    plt.plot(new_kp[\"rf\"][0], new_kp[\"rf\"][1], \"*b\")\n",
    "    plt.plot(new_kp[\"lb\"][0], new_kp[\"lb\"][1], \"*r\")\n",
    "    plt.plot(new_kp[\"rb\"][0], new_kp[\"rb\"][1], \"*b\")\n",
    "    plt.show()"
   ]
  },
  {
   "cell_type": "code",
   "execution_count": 97,
   "id": "3c2f4ad4-27a7-4da3-b598-9f6333402848",
   "metadata": {
    "tags": []
   },
   "outputs": [],
   "source": [
    "def udder_line(udder_object, udder_shp, rf_kp, lf_kp):\n",
    "    img = udder_object.img.copy().astype(float)\n",
    "    im_width =udder_object.size[1]\n",
    "    img[img ==0] = np.nan\n",
    "    kernel = Gaussian2DKernel(x_stddev=1)\n",
    "    udder_conv = convolve(img, kernel)\n",
    "    udder2 = rotate_udder(udder_conv, rf_kp, lf_kp)\n",
    "    points2 = rotate_points(rf_kp, lf_kp)\n",
    "    yloc = np.floor(points2[0,1]).astype(int)\n",
    "    # fig, ax = plt.subplots()\n",
    "    # for i in range(0,1):\n",
    "    yloc2 = yloc #  + i \n",
    "    line = LineString([(0, yloc2), (im_width, yloc2)])\n",
    "    intersection = udder_shp.exterior.intersection(line).geoms\n",
    "    endpoints = np.array([list(intersection[0].coords[0]), list(intersection[1].coords[0])])\n",
    "    start = np.floor(endpoints[np.argmin(endpoints[:, 0])]).astype(int)\n",
    "    end = np.floor(endpoints[np.argmax(endpoints[:, 0])]).astype(int)\n",
    "    line_vals = udder2[yloc2][list(range(start[0], end[0]))]\n",
    "    x = np.array(list(range(start[0],  end[0])))\n",
    "    y = np.array([yloc]*len(x))\n",
    "    z = line_vals\n",
    "    return np.column_stack((x, y, z))"
   ]
  },
  {
   "cell_type": "code",
   "execution_count": 109,
   "id": "06b0fedf-25c5-41f3-a20e-efcac2751d2a",
   "metadata": {
    "tags": []
   },
   "outputs": [],
   "source": [
    "# derotate points \n",
    "def derotate_points(right_kp, left_kp, rotated_points):\n",
    "    k = get_orientation(right_kp, left_kp)\n",
    "    angle = -get_angle(right_kp, left_kp)\n",
    "    center = get_center(right_kp, left_kp)\n",
    "    rot_mat = np.array([[np.cos(-k*angle), -np.sin(-k*angle)], [np.sin(-k*angle), np.cos(-k*angle)]])\n",
    "    points = rotated_points.copy()\n",
    "    points[:, 0] = rotated_points[:, 0] - center[0]\n",
    "    points[:, 1] = rotated_points[:, 1] - center[1]\n",
    "    \n",
    "    points = np.transpose(np.dot(rot_mat, np.transpose(points[:, :2])))\n",
    "    \n",
    "    points[:, 0] = points[:, 0] + center[0]\n",
    "    points[:, 1] = points[:, 1] + center[1]\n",
    "    \n",
    "    derotated_points = np.floor(points).astype(int)\n",
    "    return derotated_points"
   ]
  },
  {
   "cell_type": "code",
   "execution_count": 133,
   "id": "9c52c03c-2500-46b3-8763-c9862f4d4a10",
   "metadata": {
    "tags": []
   },
   "outputs": [],
   "source": [
    "udder_shp = udder.get_shape()\n",
    "line_vals = udder_line(udder, udder_shp, new_kp[\"rf\"], new_kp[\"lf\"])\n",
    "line_vals_xy = derotate_points(new_kp[\"rf\"], new_kp[\"lf\"], line_vals[:, :2])\n",
    "line_vals2 = np.column_stack((line_vals_xy[:, 0],line_vals_xy[:, 1], line_vals[:, 2]))\n",
    "line_vals2 = line_vals2[~np.isnan(line_vals2[:, 2])]\n",
    "\n",
    "line_vals2[:, 2] = line_vals2[:, 2]*scale"
   ]
  },
  {
   "cell_type": "code",
   "execution_count": 135,
   "id": "73a484f1-96e9-488d-91e3-7e8c0fc2599e",
   "metadata": {
    "tags": []
   },
   "outputs": [
    {
     "data": {
      "text/plain": [
       "[-0.09610024839639664, 0.12390340864658356, 0.6283929944038391]"
      ]
     },
     "execution_count": 135,
     "metadata": {},
     "output_type": "execute_result"
    }
   ],
   "source": [
    "rs.rs2_deproject_pixel_to_point(intr, [line_vals2[0, 0], line_vals2[0, 1]], line_vals2[0, 2])"
   ]
  },
  {
   "cell_type": "code",
   "execution_count": 136,
   "id": "4aac5ce7-f9d2-43f0-a8c0-c5739434ee9b",
   "metadata": {
    "tags": []
   },
   "outputs": [
    {
     "data": {
      "text/plain": [
       "[-0.09468232095241547, 0.12393789738416672, 0.6285679340362549]"
      ]
     },
     "execution_count": 136,
     "metadata": {},
     "output_type": "execute_result"
    }
   ],
   "source": [
    "rs.rs2_deproject_pixel_to_point(intr, [line_vals2[1, 0], line_vals2[1, 1]], line_vals2[1, 2])"
   ]
  },
  {
   "cell_type": "code",
   "execution_count": null,
   "id": "79c70958-8f2e-4383-8c93-025c8988553f",
   "metadata": {},
   "outputs": [],
   "source": [
    "rs.rs2_deproject_pixel_to_point(depth_intrin, [color_point[0], color_point[1]], depth"
   ]
  }
 ],
 "metadata": {
  "kernelspec": {
   "display_name": "Python 3 (ipykernel)",
   "language": "python",
   "name": "python3"
  },
  "language_info": {
   "codemirror_mode": {
    "name": "ipython",
    "version": 3
   },
   "file_extension": ".py",
   "mimetype": "text/x-python",
   "name": "python",
   "nbconvert_exporter": "python",
   "pygments_lexer": "ipython3",
   "version": "3.11.5"
  }
 },
 "nbformat": 4,
 "nbformat_minor": 5
}
