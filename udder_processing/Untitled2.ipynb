{
 "cells": [
  {
   "cell_type": "code",
   "execution_count": 3,
   "id": "113c8348-0380-4efa-8a42-620be3e4f17e",
   "metadata": {
    "tags": []
   },
   "outputs": [
    {
     "name": "stdout",
     "output_type": "stream",
     "text": [
      "Unexpected exception formatting exception. Falling back to standard exception\n"
     ]
    },
    {
     "name": "stderr",
     "output_type": "stream",
     "text": [
      "Traceback (most recent call last):\n",
      "  File \"C:\\Users\\marie\\anaconda3\\envs\\napari\\lib\\site-packages\\IPython\\core\\interactiveshell.py\", line 3553, in run_code\n",
      "  File \"C:\\Users\\marie\\AppData\\Local\\Temp\\ipykernel_3584\\736828575.py\", line 6, in <module>\n",
      "    import napari_process_points_and_surfaces as nppas\n",
      "  File \"C:\\Users\\marie\\anaconda3\\envs\\napari\\lib\\site-packages\\napari_process_points_and_surfaces\\__init__.py\", line 11, in <module>\n",
      "    import stackview\n",
      "  File \"C:\\Users\\marie\\anaconda3\\envs\\napari\\lib\\site-packages\\stackview\\__init__.py\", line 6, in <module>\n",
      "    from ._crop import crop\n",
      "  File \"C:\\Users\\marie\\anaconda3\\envs\\napari\\lib\\site-packages\\stackview\\_crop.py\", line 1, in <module>\n",
      "    from ipywidgets import VBox\n",
      "ModuleNotFoundError: No module named 'ipywidgets'\n",
      "\n",
      "During handling of the above exception, another exception occurred:\n",
      "\n",
      "Traceback (most recent call last):\n",
      "  File \"C:\\Users\\marie\\anaconda3\\envs\\napari\\lib\\site-packages\\pygments\\styles\\__init__.py\", line 89, in get_style_by_name\n",
      "ModuleNotFoundError: No module named 'pygments.styles.default'\n",
      "\n",
      "During handling of the above exception, another exception occurred:\n",
      "\n",
      "Traceback (most recent call last):\n",
      "  File \"C:\\Users\\marie\\anaconda3\\envs\\napari\\lib\\site-packages\\IPython\\core\\interactiveshell.py\", line 2144, in showtraceback\n",
      "  File \"C:\\Users\\marie\\anaconda3\\envs\\napari\\lib\\site-packages\\IPython\\core\\ultratb.py\", line 1435, in structured_traceback\n",
      "  File \"C:\\Users\\marie\\anaconda3\\envs\\napari\\lib\\site-packages\\IPython\\core\\ultratb.py\", line 1326, in structured_traceback\n",
      "  File \"C:\\Users\\marie\\anaconda3\\envs\\napari\\lib\\site-packages\\IPython\\core\\ultratb.py\", line 1173, in structured_traceback\n",
      "  File \"C:\\Users\\marie\\anaconda3\\envs\\napari\\lib\\site-packages\\IPython\\core\\ultratb.py\", line 1063, in format_exception_as_a_whole\n",
      "  File \"C:\\Users\\marie\\anaconda3\\envs\\napari\\lib\\site-packages\\IPython\\core\\ultratb.py\", line 1114, in get_records\n",
      "  File \"C:\\Users\\marie\\anaconda3\\envs\\napari\\lib\\site-packages\\pygments\\styles\\__init__.py\", line 91, in get_style_by_name\n",
      "pygments.util.ClassNotFound: Could not find style module 'default', though it should be builtin.\n"
     ]
    }
   ],
   "source": [
    "#%%\n",
    "import vedo\n",
    "import napari\n",
    "import numpy as np\n",
    "from pygeodesic import geodesic\n",
    "import napari_process_points_and_surfaces as nppas\n",
    "from astropy.convolution import Gaussian2DKernel, convolve,interpolate_replace_nans\n",
    "import os\n",
    "import pandas as pd\n",
    "import watershed_udder as wu\n",
    "import numpy as np\n",
    "import matplotlib.pyplot as plt\n",
    "import pandas as pd\n",
    "import pyrealsense2 as rs"
   ]
  },
  {
   "cell_type": "code",
   "execution_count": null,
   "id": "34a3337c-4ffa-44a0-b335-9fb4dff2fb77",
   "metadata": {
    "tags": []
   },
   "outputs": [],
   "source": [
    "def points_toworld(points):\n",
    "    points2 = points.copy()\n",
    "    for i in range(len(points)):\n",
    "        points2[i, :] = rs.rs2_deproject_pixel_to_point(intr, [points[i, 0], points[i, 1]], points[i, 2])\n",
    "    return points2"
   ]
  },
  {
   "cell_type": "code",
   "execution_count": 2,
   "id": "c00e1737-e16e-4f75-a5c7-26b8903165f2",
   "metadata": {
    "tags": []
   },
   "outputs": [
    {
     "name": "stdout",
     "output_type": "stream",
     "text": [
      "Unexpected exception formatting exception. Falling back to standard exception\n"
     ]
    },
    {
     "name": "stderr",
     "output_type": "stream",
     "text": [
      "Traceback (most recent call last):\n",
      "  File \"C:\\Users\\marie\\anaconda3\\envs\\napari\\lib\\site-packages\\IPython\\core\\interactiveshell.py\", line 3553, in run_code\n",
      "  File \"C:\\Users\\marie\\AppData\\Local\\Temp\\ipykernel_3584\\2811628374.py\", line 1, in <module>\n",
      "    dirpath = os.getcwd()\n",
      "NameError: name 'os' is not defined\n",
      "\n",
      "During handling of the above exception, another exception occurred:\n",
      "\n",
      "Traceback (most recent call last):\n",
      "  File \"C:\\Users\\marie\\anaconda3\\envs\\napari\\lib\\site-packages\\pygments\\styles\\__init__.py\", line 89, in get_style_by_name\n",
      "ModuleNotFoundError: No module named 'pygments.styles.default'\n",
      "\n",
      "During handling of the above exception, another exception occurred:\n",
      "\n",
      "Traceback (most recent call last):\n",
      "  File \"C:\\Users\\marie\\anaconda3\\envs\\napari\\lib\\site-packages\\IPython\\core\\interactiveshell.py\", line 2144, in showtraceback\n",
      "  File \"C:\\Users\\marie\\anaconda3\\envs\\napari\\lib\\site-packages\\IPython\\core\\ultratb.py\", line 1435, in structured_traceback\n",
      "  File \"C:\\Users\\marie\\anaconda3\\envs\\napari\\lib\\site-packages\\IPython\\core\\ultratb.py\", line 1326, in structured_traceback\n",
      "  File \"C:\\Users\\marie\\anaconda3\\envs\\napari\\lib\\site-packages\\IPython\\core\\ultratb.py\", line 1173, in structured_traceback\n",
      "  File \"C:\\Users\\marie\\anaconda3\\envs\\napari\\lib\\site-packages\\IPython\\core\\ultratb.py\", line 1063, in format_exception_as_a_whole\n",
      "  File \"C:\\Users\\marie\\anaconda3\\envs\\napari\\lib\\site-packages\\IPython\\core\\ultratb.py\", line 1114, in get_records\n",
      "  File \"C:\\Users\\marie\\anaconda3\\envs\\napari\\lib\\site-packages\\pygments\\styles\\__init__.py\", line 91, in get_style_by_name\n",
      "pygments.util.ClassNotFound: Could not find style module 'default', though it should be builtin.\n"
     ]
    }
   ],
   "source": [
    "\n",
    "dirpath = os.getcwd()\n",
    "ws_dir = r\"validate_watershed\\watershed_segments\"\n",
    "corr_dir = r\"validate_watershed\\watershed_correspondence\"\n",
    "label_dir = os.path.join(dirpath, r\"validate_watershed\\pred_labels\")\n",
    "kp_dir = os.path.join(label_dir, r\"keypoints\")\n",
    "sg_dir = os.path.join(label_dir, r\"segments\")\n",
    "img_dir = os.path.join(os.path.normpath(dirpath + os.sep + os.pardir), r\"udder_video\\depth_images\")\n",
    "results = pd.read_csv(r\"validate_watershed\\ws_class_predictions_I.csv\")\n",
    "good = results[results.thr09 == 1]\n",
    "filenames = [file.replace(\".npy\", \"\") for file in os.listdir(ws_dir)]\n",
    "cows = set()\n",
    "filenames2 = []\n",
    "for file in filenames: \n",
    "    cow = file.split(\"_\")[0]\n",
    "    if cow not in cows:\n",
    "        cows.add(cow)\n",
    "        filenames2.append(file)\n",
    "\n",
    "video_path =  os.path.join(os.path.normpath(dirpath + os.sep + os.pardir), r\"udder_video\\video_files\\example_video.bag\")\n",
    "\n",
    "results_df = pd.DataFrame(columns = [\"cow\", \"filename\", \"volume\", \"lf_vol\", \"rf_vol\", \"lb_vol\", \"rb_vol\"])\n",
    "\n",
    "config = rs.config()\n",
    "rs.config.enable_device_from_file(config, video_path, repeat_playback = False)\n",
    "pipeline = rs.pipeline()\n",
    "cfg = pipeline.start(config) # Start pipeline and get the configuration it found\n",
    "profile = cfg.get_stream(rs.stream.depth) # Fetch stream profile for depth stream\n",
    "intr = profile.as_video_stream_profile().get_intrinsics() # Downcast to video_stream_profile and fetch intrinsics\n",
    "# depth_sensor = profile.as_video_stream_profile().get_device().first_depth_sensor()\n",
    "# depth_scale = depth_sensor.get_depth_scale()\n",
    "\n",
    "# quarter assignment - according to ws_map \n",
    "# lf - yelow (255,255,0)\n",
    "# rf - cian (0, 255, 255)\n",
    "# lb - magenta (255, 0, 255)\n",
    "# rb - white (255,255,255)\n",
    "# background - black\n",
    "color_dict = {\"lf\":[1,1,0], \"rf\": [0, 1, 1], \"lb\":[1, 0,1], \"rb\":[0.5,0.5,0.5], \"bg\": [0, 0, 0]}\n",
    "\n",
    "for file in good.filename[:1]:\n",
    "    cow = file.split(\"_\")[0]\n",
    "    cow_line = {\"cow\": cow, \"filename\":file, \"volume\": np.nan, \"lf_vol\":np.nan, \"rf_vol\": np.nan, \"lb_vol\":np.nan, \"rb_vol\":np.nan}\n",
    "    # udder object\n",
    "    udder = wu.udder_object(file + \".tif\", img_dir, label_dir, array = 0)\n",
    "    # read image\n",
    "    img = udder.img\n",
    "    # read labels\n",
    "    segment = udder.get_segment()\n",
    "    points = udder.get_keypoints()\n",
    "    # reas WS segmentation\n",
    "    ws_label = np.load(os.path.join(ws_dir, file + \".npy\"))\n",
    "    kp_ws = pd.read_csv(os.path.join(corr_dir, file +\".csv\")).loc[0].to_dict()\n",
    "    ws_map = dict((v, k) for k, v in kp_ws.items())\n",
    "    ws_map[0] = \"bg\"\n",
    "    new_kp = wu.update_kp(kp_ws, ws_label, img)\n",
    "    \n",
    "    scale = 0.001\n",
    "    img = udder.img.copy().astype(float)\n",
    "    img[img ==0] = np.nan\n",
    "    kernel = Gaussian2DKernel(x_stddev=1)\n",
    "    udder_conv = convolve(img, kernel)\n",
    "    udder_conv[np.isnan(udder_conv)] = 0\n",
    "    \n",
    "    masked_udder =  udder.get_mask() * udder_conv \n",
    "    rows, cols = np.nonzero(masked_udder)\n",
    "    values = masked_udder[rows, cols]\n",
    "    quarter_lbls = ws_label[rows, cols]\n",
    "    quarter_colors = quarter_colors = np.array([color_dict[ws_map[point]] if point in ws_map.keys() else [0,0,0]for point in quarter_lbls ])\n",
    "    udder_points = np.column_stack((np.transpose(cols), np.transpose(rows), np.transpose(values))).astype(float)\n",
    "    udder_points[:, 2] = udder_points[:, 2] *scale\n",
    "    pts = points_toworld(udder_points)"
   ]
  },
  {
   "cell_type": "code",
   "execution_count": null,
   "id": "9a730eb0-7ba6-4ed8-9367-26c29e0c249b",
   "metadata": {
    "tags": []
   },
   "outputs": [
    {
     "name": "stderr",
     "output_type": "stream",
     "text": [
      "WARNING: QObject::moveToThread: Current thread (0x1fe3be82630) is not the object's thread (0x1fe419059f0).\n",
      "Cannot move to target thread (0x1fe3be82630)\n",
      "\n",
      "WARNING: Could not load the Qt platform plugin \"windows\" in \"\" even though it was found.\n"
     ]
    }
   ],
   "source": [
    "viewer = napari.Viewer(ndisplay=3)"
   ]
  },
  {
   "cell_type": "code",
   "execution_count": 1,
   "id": "445e8b64-bbfd-472b-b9a0-6d044b3fb558",
   "metadata": {
    "tags": []
   },
   "outputs": [
    {
     "ename": "NameError",
     "evalue": "name 'hide_all' is not defined",
     "output_type": "error",
     "traceback": [
      "\u001b[1;31m---------------------------------------------------------------------------\u001b[0m",
      "\u001b[1;31mNameError\u001b[0m                                 Traceback (most recent call last)",
      "Cell \u001b[1;32mIn[1], line 1\u001b[0m\n\u001b[1;32m----> 1\u001b[0m \u001b[43mhide_all\u001b[49m(viewer)\n\u001b[0;32m      3\u001b[0m viewer\u001b[38;5;241m.\u001b[39madd_surface(nppas\u001b[38;5;241m.\u001b[39mcreate_convex_hull_from_points(centroids))\n\u001b[0;32m      5\u001b[0m napari\u001b[38;5;241m.\u001b[39mutils\u001b[38;5;241m.\u001b[39mnbscreenshot(viewer)\n",
      "\u001b[1;31mNameError\u001b[0m: name 'hide_all' is not defined"
     ]
    }
   ],
   "source": [
    "hide_all(viewer)\n",
    "\n",
    "viewer.add_surface(nppas.create_convex_hull_from_points(centroids))\n",
    "\n",
    "napari.utils.nbscreenshot(viewer)"
   ]
  }
 ],
 "metadata": {
  "kernelspec": {
   "display_name": "Python 3 (ipykernel)",
   "language": "python",
   "name": "python3"
  },
  "language_info": {
   "codemirror_mode": {
    "name": "ipython",
    "version": 3
   },
   "file_extension": ".py",
   "mimetype": "text/x-python",
   "name": "python",
   "nbconvert_exporter": "python",
   "pygments_lexer": "ipython3",
   "version": "3.11.5"
  }
 },
 "nbformat": 4,
 "nbformat_minor": 5
}
