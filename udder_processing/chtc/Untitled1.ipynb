{
 "cells": [
  {
   "cell_type": "code",
   "execution_count": 1,
   "id": "07f0c4de-ad92-48b6-8a74-ba985a51f7e3",
   "metadata": {},
   "outputs": [
    {
     "name": "stdout",
     "output_type": "stream",
     "text": [
      "['1003_20231117_163646_frame_10', '1003_20231117_163646_frame_101', '1003_20231117_163646_frame_102', '1003_20231117_163646_frame_103', '1003_20231117_163646_frame_104', '1003_20231117_163646_frame_106', '1003_20231117_163646_frame_107', '1003_20231117_163646_frame_108', '1003_20231117_163646_frame_109', '1003_20231117_163646_frame_11']\n"
     ]
    },
    {
     "name": "stderr",
     "output_type": "stream",
     "text": [
      "C:\\Users\\marie\\AppData\\Local\\Temp\\ipykernel_22648\\734286143.py:3: DeprecationWarning: \n",
      "Pyarrow will become a required dependency of pandas in the next major release of pandas (pandas 3.0),\n",
      "(to allow more performant data types, such as the Arrow string type, and better interoperability with other libraries)\n",
      "but was not found to be installed on your system.\n",
      "If this would cause problems for you,\n",
      "please provide us feedback at https://github.com/pandas-dev/pandas/issues/54466\n",
      "        \n",
      "  import pandas as pd\n"
     ]
    }
   ],
   "source": [
    "import zipfile\n",
    "import os \n",
    "import pandas as pd\n",
    "import numpy as np\n",
    "import json \n",
    "import sys\n",
    "import point_cloud_utils as pcu\n",
    "# import open3d as o3d\n",
    "# from sklearn.gaussian_process import GaussianProcessRegressor\n",
    "# from sklearn.gaussian_process.kernels import RBF, WhiteKernel, Matern, Sum, CompoundKernel\n",
    "\n",
    "# dirpath = r'/mnt/cephfs/fuse/staging/groups/dorea_group/maria'\n",
    "dirpath = r\"C:\\Users\\marie\\rep_codes\\udder_project\\udder_processing\\chtc\"\n",
    "job_num = \"test\"# str(sys.argv[1])\n",
    "job_path = os.path.join(dirpath, job_num)\n",
    "pcd_path = os.path.join(job_path, \"point_clouds\")\n",
    "kp_path = os.path.join(pcd_path, \"keypoints\")\n",
    "quarter_path = os.path.join(pcd_path, \"quarters\")\n",
    "\n",
    "out_path = os.path.join(dirpath, \"features_dict\")\n",
    "filenames = [file.replace(\".json\", \"\") for file in os.listdir(kp_path) if file.endswith(\".json\")]\n",
    "\n",
    "print(filenames)"
   ]
  },
  {
   "cell_type": "code",
   "execution_count": 12,
   "id": "a0cb0036-9fa6-4e9a-8f03-f34d8cb0bbfa",
   "metadata": {},
   "outputs": [],
   "source": [
    "def down_sample(points):\n",
    "    downpcd = pcu.downsample_point_cloud_on_voxel_grid(voxel_size=0.005, points = points)\n",
    "    return downpcd\n",
    "\n",
    "\n"
   ]
  },
  {
   "cell_type": "code",
   "execution_count": 2,
   "id": "f35b3c6e-bf8e-45ea-a068-eeb8d42f820c",
   "metadata": {},
   "outputs": [],
   "source": [
    "file = filenames[0]\n",
    "with open(os.path.join(quarter_path, file + \".json\")) as f:\n",
    "        quarter_dict = json.load(f)"
   ]
  },
  {
   "cell_type": "code",
   "execution_count": 10,
   "id": "ea5def58-28ff-4ffe-9bd9-6f0f4cb7e262",
   "metadata": {},
   "outputs": [],
   "source": [
    "points = np.array(quarter_dict['lf'])"
   ]
  }
 ],
 "metadata": {
  "kernelspec": {
   "display_name": "Python 3 (ipykernel)",
   "language": "python",
   "name": "python3"
  },
  "language_info": {
   "codemirror_mode": {
    "name": "ipython",
    "version": 3
   },
   "file_extension": ".py",
   "mimetype": "text/x-python",
   "name": "python",
   "nbconvert_exporter": "python",
   "pygments_lexer": "ipython3",
   "version": "3.11.5"
  }
 },
 "nbformat": 4,
 "nbformat_minor": 5
}
