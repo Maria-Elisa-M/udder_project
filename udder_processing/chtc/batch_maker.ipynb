{
 "cells": [
  {
   "cell_type": "code",
   "execution_count": 1,
   "id": "d539621e-725a-41d4-89c3-31c1de15712c",
   "metadata": {},
   "outputs": [],
   "source": [
    "# split the files in batches of 200 files each to run a mutltijob in CHTC"
   ]
  },
  {
   "cell_type": "code",
   "execution_count": 4,
   "id": "49c2705b-e498-4dbf-be6c-b7f2117459c4",
   "metadata": {},
   "outputs": [],
   "source": [
    "import os \n",
    "import pandas as pd\n",
    "import shutil\n",
    "import json"
   ]
  },
  {
   "cell_type": "code",
   "execution_count": 5,
   "id": "be7d9737-859a-4ce6-97b7-c826202817b9",
   "metadata": {},
   "outputs": [],
   "source": [
    "def create_dir(path):\n",
    "    if not os.path.exists(path):\n",
    "        os.mkdir(path)\n",
    "\n",
    "dirpath = r'C:\\Users\\marie\\rep_codes\\udder_project\\udder_processing'\n",
    "pcd_path = os.path.join(dirpath, \"point_clouds\")\n",
    "kp_path = os.path.join(pcd_path, \"keypoints\")\n",
    "dir_list = [\"keypoints\",\"quarters\"]\n",
    "wd = os.getcwd()\n",
    "filenames = os.listdir(kp_path)\n",
    "job_list = pd.read_csv(\"job_idx.csv\", header = None, index_col = 0)"
   ]
  },
  {
   "cell_type": "code",
   "execution_count": 21,
   "id": "72220c17-2c9f-40c3-a88b-c62584224ce8",
   "metadata": {},
   "outputs": [
    {
     "ename": "FileNotFoundError",
     "evalue": "[Errno 2] No such file or directory: 'C:\\\\Users\\\\marie\\\\rep_codes\\\\udder_project\\\\udder_processing\\\\point_clouds\\\\keypoints\\\\1003_20231117_163646_frame_10.json'",
     "output_type": "error",
     "traceback": [
      "\u001b[1;31m---------------------------------------------------------------------------\u001b[0m",
      "\u001b[1;31mFileNotFoundError\u001b[0m                         Traceback (most recent call last)",
      "File \u001b[1;32m~\\miniconda3\\Lib\\shutil.py:825\u001b[0m, in \u001b[0;36mmove\u001b[1;34m(src, dst, copy_function)\u001b[0m\n\u001b[0;32m    824\u001b[0m \u001b[38;5;28;01mtry\u001b[39;00m:\n\u001b[1;32m--> 825\u001b[0m     os\u001b[38;5;241m.\u001b[39mrename(src, real_dst)\n\u001b[0;32m    826\u001b[0m \u001b[38;5;28;01mexcept\u001b[39;00m \u001b[38;5;167;01mOSError\u001b[39;00m:\n",
      "\u001b[1;31mFileNotFoundError\u001b[0m: [WinError 2] The system cannot find the file specified: 'C:\\\\Users\\\\marie\\\\rep_codes\\\\udder_project\\\\udder_processing\\\\point_clouds\\\\keypoints\\\\1003_20231117_163646_frame_10.json' -> 'C:\\\\Users\\\\marie\\\\rep_codes\\\\udder_project\\\\udder_processing\\\\chtc\\\\0\\\\point_clouds\\\\keypoints\\\\1003_20231117_163646_frame_10.json'",
      "\nDuring handling of the above exception, another exception occurred:\n",
      "\u001b[1;31mFileNotFoundError\u001b[0m                         Traceback (most recent call last)",
      "Cell \u001b[1;32mIn[21], line 22\u001b[0m\n\u001b[0;32m     20\u001b[0m src_path  \u001b[38;5;241m=\u001b[39m os\u001b[38;5;241m.\u001b[39mpath\u001b[38;5;241m.\u001b[39mjoin(src, file)\n\u001b[0;32m     21\u001b[0m dest_path  \u001b[38;5;241m=\u001b[39m os\u001b[38;5;241m.\u001b[39mpath\u001b[38;5;241m.\u001b[39mjoin(dest, file)\n\u001b[1;32m---> 22\u001b[0m \u001b[43mshutil\u001b[49m\u001b[38;5;241;43m.\u001b[39;49m\u001b[43mmove\u001b[49m\u001b[43m(\u001b[49m\u001b[43msrc_path\u001b[49m\u001b[43m,\u001b[49m\u001b[43m \u001b[49m\u001b[43mdest_path\u001b[49m\u001b[43m)\u001b[49m\n",
      "File \u001b[1;32m~\\miniconda3\\Lib\\shutil.py:845\u001b[0m, in \u001b[0;36mmove\u001b[1;34m(src, dst, copy_function)\u001b[0m\n\u001b[0;32m    843\u001b[0m         rmtree(src)\n\u001b[0;32m    844\u001b[0m     \u001b[38;5;28;01melse\u001b[39;00m:\n\u001b[1;32m--> 845\u001b[0m         \u001b[43mcopy_function\u001b[49m\u001b[43m(\u001b[49m\u001b[43msrc\u001b[49m\u001b[43m,\u001b[49m\u001b[43m \u001b[49m\u001b[43mreal_dst\u001b[49m\u001b[43m)\u001b[49m\n\u001b[0;32m    846\u001b[0m         os\u001b[38;5;241m.\u001b[39munlink(src)\n\u001b[0;32m    847\u001b[0m \u001b[38;5;28;01mreturn\u001b[39;00m real_dst\n",
      "File \u001b[1;32m~\\miniconda3\\Lib\\shutil.py:436\u001b[0m, in \u001b[0;36mcopy2\u001b[1;34m(src, dst, follow_symlinks)\u001b[0m\n\u001b[0;32m    434\u001b[0m \u001b[38;5;28;01mif\u001b[39;00m os\u001b[38;5;241m.\u001b[39mpath\u001b[38;5;241m.\u001b[39misdir(dst):\n\u001b[0;32m    435\u001b[0m     dst \u001b[38;5;241m=\u001b[39m os\u001b[38;5;241m.\u001b[39mpath\u001b[38;5;241m.\u001b[39mjoin(dst, os\u001b[38;5;241m.\u001b[39mpath\u001b[38;5;241m.\u001b[39mbasename(src))\n\u001b[1;32m--> 436\u001b[0m \u001b[43mcopyfile\u001b[49m\u001b[43m(\u001b[49m\u001b[43msrc\u001b[49m\u001b[43m,\u001b[49m\u001b[43m \u001b[49m\u001b[43mdst\u001b[49m\u001b[43m,\u001b[49m\u001b[43m \u001b[49m\u001b[43mfollow_symlinks\u001b[49m\u001b[38;5;241;43m=\u001b[39;49m\u001b[43mfollow_symlinks\u001b[49m\u001b[43m)\u001b[49m\n\u001b[0;32m    437\u001b[0m copystat(src, dst, follow_symlinks\u001b[38;5;241m=\u001b[39mfollow_symlinks)\n\u001b[0;32m    438\u001b[0m \u001b[38;5;28;01mreturn\u001b[39;00m dst\n",
      "File \u001b[1;32m~\\miniconda3\\Lib\\shutil.py:256\u001b[0m, in \u001b[0;36mcopyfile\u001b[1;34m(src, dst, follow_symlinks)\u001b[0m\n\u001b[0;32m    254\u001b[0m     os\u001b[38;5;241m.\u001b[39msymlink(os\u001b[38;5;241m.\u001b[39mreadlink(src), dst)\n\u001b[0;32m    255\u001b[0m \u001b[38;5;28;01melse\u001b[39;00m:\n\u001b[1;32m--> 256\u001b[0m     \u001b[38;5;28;01mwith\u001b[39;00m \u001b[38;5;28;43mopen\u001b[39;49m\u001b[43m(\u001b[49m\u001b[43msrc\u001b[49m\u001b[43m,\u001b[49m\u001b[43m \u001b[49m\u001b[38;5;124;43m'\u001b[39;49m\u001b[38;5;124;43mrb\u001b[39;49m\u001b[38;5;124;43m'\u001b[39;49m\u001b[43m)\u001b[49m \u001b[38;5;28;01mas\u001b[39;00m fsrc:\n\u001b[0;32m    257\u001b[0m         \u001b[38;5;28;01mtry\u001b[39;00m:\n\u001b[0;32m    258\u001b[0m             \u001b[38;5;28;01mwith\u001b[39;00m \u001b[38;5;28mopen\u001b[39m(dst, \u001b[38;5;124m'\u001b[39m\u001b[38;5;124mwb\u001b[39m\u001b[38;5;124m'\u001b[39m) \u001b[38;5;28;01mas\u001b[39;00m fdst:\n\u001b[0;32m    259\u001b[0m                 \u001b[38;5;66;03m# macOS\u001b[39;00m\n",
      "\u001b[1;31mFileNotFoundError\u001b[0m: [Errno 2] No such file or directory: 'C:\\\\Users\\\\marie\\\\rep_codes\\\\udder_project\\\\udder_processing\\\\point_clouds\\\\keypoints\\\\1003_20231117_163646_frame_10.json'"
     ]
    }
   ],
   "source": [
    "for i in [0]:# range(len(job_list))[:0]:\n",
    "    job = str(i)\n",
    "    job_path = os.path.join(wd, job)\n",
    "    start_i = job_list.iloc[i][1]\n",
    "    end_i = job_list.iloc[i][2]\n",
    "    if end_i >len(filenames):\n",
    "        job_files = filenames[start_i:]\n",
    "    else:\n",
    "        job_files = filenames[start_i:end_i]\n",
    "    create_dir(job)\n",
    "    job_pc_path = os.path.join(job_path, \"point_clouds\")\n",
    "    create_dir(job_pc_path)\n",
    "    create_dir(os.path.join(job_pc_path, \"teat\"))\n",
    "    create_dir(os.path.join(job_path, \"features_dict\"))\n",
    "    for dirname in dir_list:\n",
    "        src = os.path.join(pcd_path, dirname)\n",
    "        dest = os.path.join(job_pc_path, dirname)\n",
    "        create_dir(dest)\n",
    "        for file in job_files:\n",
    "            src_path  = os.path.join(src, file)\n",
    "            dest_path  = os.path.join(dest, file)\n",
    "            shutil.move(src_path, dest_path)"
   ]
  },
  {
   "cell_type": "code",
   "execution_count": 10,
   "id": "99008875-7038-403a-9856-427768421483",
   "metadata": {},
   "outputs": [],
   "source": [
    "folder_list = os.listdir(\"jobs\")"
   ]
  },
  {
   "cell_type": "code",
   "execution_count": 20,
   "id": "e903c129-cf01-4a8c-80fc-f518a01832bb",
   "metadata": {},
   "outputs": [
    {
     "name": "stdout",
     "output_type": "stream",
     "text": [
      "C:\\Users\\marie\\rep_codes\\udder_project\\udder_processing\\chtc\\jobs\\0\n"
     ]
    }
   ],
   "source": [
    "for folder in ['0']: #folder_list:\n",
    "    folder_path = os.path.join(wd, \"jobs\", folder)\n",
    "    shutil.make_archive(folder_path, 'zip', folder_path)\n",
    "    shutil.rmtree(folder_path)\n",
    "    print(folder_path)\n",
    "    # create zipfile"
   ]
  },
  {
   "cell_type": "code",
   "execution_count": 11,
   "id": "1575958a-5039-47f0-ae47-69b2c608e7a7",
   "metadata": {},
   "outputs": [],
   "source": [
    "job_file_dict = {}\n",
    "for i in range(len(job_list)): \n",
    "    start_i = job_list.iloc[i][1]\n",
    "    end_i = job_list.iloc[i][2]\n",
    "    \n",
    "    if end_i >len(filenames):\n",
    "        job_files = filenames[start_i:]\n",
    "    else:\n",
    "        job_files = filenames[start_i:end_i]\n",
    "    job_file_dict[i] = job_files"
   ]
  },
  {
   "cell_type": "code",
   "execution_count": 12,
   "id": "ed6db71d-fee6-4fdb-bb12-edc7c4cf2660",
   "metadata": {},
   "outputs": [],
   "source": [
    "with open(os.path.join(wd, \"job_file_dict.json\"), 'w') as f:\n",
    "        json.dump(job_file_dict, f)"
   ]
  },
  {
   "cell_type": "code",
   "execution_count": null,
   "id": "4bf81292-649c-47a9-9a0d-6ad36d404434",
   "metadata": {},
   "outputs": [],
   "source": []
  }
 ],
 "metadata": {
  "kernelspec": {
   "display_name": "Python 3 (ipykernel)",
   "language": "python",
   "name": "python3"
  },
  "language_info": {
   "codemirror_mode": {
    "name": "ipython",
    "version": 3
   },
   "file_extension": ".py",
   "mimetype": "text/x-python",
   "name": "python",
   "nbconvert_exporter": "python",
   "pygments_lexer": "ipython3",
   "version": "3.11.5"
  }
 },
 "nbformat": 4,
 "nbformat_minor": 5
}
