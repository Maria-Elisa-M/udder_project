{
 "cells": [
  {
   "cell_type": "code",
   "execution_count": 1,
   "id": "6369a2d2-94c3-4a37-9bab-8040f70c5f2c",
   "metadata": {},
   "outputs": [],
   "source": [
    "import os\n",
    "import shutil\n"
   ]
  },
  {
   "cell_type": "code",
   "execution_count": 9,
   "id": "0b9cb6f8-0fc9-4d63-8d1d-9a3000ab4862",
   "metadata": {},
   "outputs": [],
   "source": [
    "def create_dir(path):\n",
    "    if not os.path.exists(path):\n",
    "        os.mkdir(path)"
   ]
  },
  {
   "cell_type": "code",
   "execution_count": 11,
   "id": "b7cdfce5-595c-4bf4-bf1c-199ce7540668",
   "metadata": {},
   "outputs": [],
   "source": [
    "wd = os.getcwd()\n",
    "with open(os.path.join(wd, \"redo_files.txt\"), 'r') as f:\n",
    "    redo_list = f.read().split(\"\\n\")\n",
    "redo_list.remove('')\n",
    "\n",
    "dirpath = r'C:\\Users\\marie\\rep_codes\\udder_project\\udder_processing'\n",
    "pcd_path = os.path.join(dirpath, \"point_clouds\")\n",
    "kp_path = os.path.join(pcd_path, \"keypoints\")\n",
    "dir_list = [\"keypoints\",\"quarters\"]\n",
    "\n",
    "out_path = os.path.join(wd, \"redos\")\n",
    "create_dir(out_path)\n"
   ]
  },
  {
   "cell_type": "code",
   "execution_count": 13,
   "id": "9f23610f-8c13-4a31-a7fb-3b0f9e072bed",
   "metadata": {},
   "outputs": [],
   "source": [
    "for dirname in dir_list:\n",
    "    src = os.path.join(pcd_path, dirname)\n",
    "    dest = os.path.join(out_path, dirname)\n",
    "    create_dir(dest)\n",
    "    for file in redo_list:\n",
    "        src_path  = os.path.join(src, file + '.json')\n",
    "        dest_path  = os.path.join(dest, file + '.json')\n",
    "        shutil.copy(src_path, dest_path)"
   ]
  },
  {
   "cell_type": "code",
   "execution_count": 2,
   "id": "c743464b-59c6-47f7-990a-30fe89826aa6",
   "metadata": {},
   "outputs": [],
   "source": [
    "wd = os.getcwd()\n",
    "with open(os.path.join(wd, \"redo_files.txt\"), 'r') as f:\n",
    "    redo_list = f.read().split(\"\\n\")\n",
    "redo_list.remove('')"
   ]
  },
  {
   "cell_type": "code",
   "execution_count": 3,
   "id": "75d201e5-6dac-4b17-bbb8-8e68ef4d3a4e",
   "metadata": {},
   "outputs": [
    {
     "data": {
      "text/plain": [
       "277"
      ]
     },
     "execution_count": 3,
     "metadata": {},
     "output_type": "execute_result"
    }
   ],
   "source": [
    "len(redo_list)"
   ]
  }
 ],
 "metadata": {
  "kernelspec": {
   "display_name": "Python 3 (ipykernel)",
   "language": "python",
   "name": "python3"
  },
  "language_info": {
   "codemirror_mode": {
    "name": "ipython",
    "version": 3
   },
   "file_extension": ".py",
   "mimetype": "text/x-python",
   "name": "python",
   "nbconvert_exporter": "python",
   "pygments_lexer": "ipython3",
   "version": "3.11.5"
  }
 },
 "nbformat": 4,
 "nbformat_minor": 5
}
