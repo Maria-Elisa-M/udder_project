{
 "cells": [
  {
   "cell_type": "code",
   "execution_count": 2,
   "id": "14304458-642f-4ca1-925c-68be14280baa",
   "metadata": {},
   "outputs": [
    {
     "name": "stderr",
     "output_type": "stream",
     "text": [
      "C:\\Users\\marie\\AppData\\Local\\Temp\\ipykernel_22040\\1884870223.py:2: DeprecationWarning: \n",
      "Pyarrow will become a required dependency of pandas in the next major release of pandas (pandas 3.0),\n",
      "(to allow more performant data types, such as the Arrow string type, and better interoperability with other libraries)\n",
      "but was not found to be installed on your system.\n",
      "If this would cause problems for you,\n",
      "please provide us feedback at https://github.com/pandas-dev/pandas/issues/54466\n",
      "        \n",
      "  import pandas as pd\n"
     ]
    }
   ],
   "source": [
    "import os \n",
    "import pandas as pd\n",
    "import json"
   ]
  },
  {
   "cell_type": "code",
   "execution_count": 6,
   "id": "f12d627f-5939-4a16-8e63-670a1f47844e",
   "metadata": {},
   "outputs": [],
   "source": [
    "wd = os.getcwd()\n",
    "dirpath = r'C:\\Users\\marie\\rep_codes\\udder_project\\udder_processing\\features_dict'\n",
    "with open(os.path.join(wd, \"job_file_dict.json\")) as f:\n",
    "        job_dict = json.load(f)\n",
    "skip_path = os.path.join(dirpath, \"skip_files\")\n",
    "teat_path = os.path.join(dirpath, \"teat_length\")\n",
    "skip_files =  os.listdir(skip_path)\n",
    "teat_files = [file.replace(\".json\", \"\") for file in os.listdir(teat_path)]\n",
    "\n",
    "failed_jobs = [29, 31, 55]\n",
    "failed_filenames = []\n",
    "for job in failed_jobs:\n",
    "    failed_filenames.extend(job_dict[str(job)])\n",
    "failed_filenames = [file.replace(\".json\", \"\" ) for file in failed_filenames]\n",
    "\n",
    "skip_flies_list = []\n",
    "for file in skip_files:\n",
    "    file_path = os.path.join(skip_path, file)\n",
    "    with open(file_path, \"r\") as f:\n",
    "        temp = f.read().split('\\n')\n",
    "    skip_flies_list.extend(temp)\n",
    "\n",
    "skip_files_set = set(skip_flies_list)\n",
    "skip_files_set.remove('')\n",
    "failed_files_set = set(failed_filenames)\n",
    "all_files_set = set(teat_files)\n",
    "success_files_set = all_files_set.difference(skip_files_set)\n",
    "fmiss_set = failed_files_set.difference(success_files_set)\n",
    "\n",
    "cows = cows = set([file.split(\"_\")[0] for file in fmiss_set])\n",
    "\n",
    "with open(os.path.join(wd, \"redo_files.txt\"), 'a') as f:\n",
    "    for line in fmiss_set:\n",
    "            f.write(f\"{line}\\n\") "
   ]
  },
  {
   "cell_type": "code",
   "execution_count": 31,
   "id": "58ff6f92-2e6c-4885-bde9-61eb946e878f",
   "metadata": {},
   "outputs": [
    {
     "name": "stdout",
     "output_type": "stream",
     "text": [
      "1\n",
      "1\n",
      "0\n",
      "try running teat length on these files see why the code breaks\n",
      "['1171_20231117_170904_frame_497.json', '1231_20231117_134357_frame_295.json', '1300_20231117_130153_frame_651.json']\n"
     ]
    }
   ],
   "source": [
    "probelm_files = []\n",
    "for job in failed_jobs:\n",
    "    job_files = job_dict[str(job)]\n",
    "    for i,jf in enumerate(job_files):\n",
    "        jfname = jf.replace(\".json\", \"\")\n",
    "        if jfname in fmiss_set:\n",
    "            next_file = job_files[i]\n",
    "            print(i)\n",
    "            probelm_files.append(next_file)\n",
    "            break\n",
    "\n",
    "print(\"try running teat length on these files see why the code breaks\")\n",
    "print(probelm_files) # try running teat length on these files see why the code breaks"
   ]
  },
  {
   "cell_type": "code",
   "execution_count": null,
   "id": "1b48adaf-0bbb-42da-b204-a4962e3ca8c2",
   "metadata": {},
   "outputs": [],
   "source": []
  }
 ],
 "metadata": {
  "kernelspec": {
   "display_name": "Python 3 (ipykernel)",
   "language": "python",
   "name": "python3"
  },
  "language_info": {
   "codemirror_mode": {
    "name": "ipython",
    "version": 3
   },
   "file_extension": ".py",
   "mimetype": "text/x-python",
   "name": "python",
   "nbconvert_exporter": "python",
   "pygments_lexer": "ipython3",
   "version": "3.11.5"
  }
 },
 "nbformat": 4,
 "nbformat_minor": 5
}
