{
 "cells": [
  {
   "cell_type": "code",
   "execution_count": 1,
   "id": "1e5229d1-61ab-4c24-a01e-8a22424e5c1b",
   "metadata": {},
   "outputs": [],
   "source": [
    "import numpy as np\n",
    "import os"
   ]
  },
  {
   "cell_type": "code",
   "execution_count": 2,
   "id": "2bccf5e9-30ea-48ed-afa9-adff055b8c8c",
   "metadata": {},
   "outputs": [],
   "source": [
    "inpath = \"frames_tosave\"\n",
    "array_path = \"arrays\"\n",
    "depthpath = \"depth_images\"\n",
    "file_list = os.listdir(array_path)"
   ]
  },
  {
   "cell_type": "code",
   "execution_count": 6,
   "id": "b5f87b6f-9a39-4881-9845-8e6c0eced01c",
   "metadata": {},
   "outputs": [],
   "source": [
    "frame_count = 0\n",
    "for file in file_list:\n",
    "    # open array \n",
    "    # get length\n",
    "    # add lengt to list\n",
    "    src = os.path.join(array_path, file)\n",
    "    depth_array = np.load(src, mmap_mode=\"r\")\n",
    "    temp = len(depth_array)\n",
    "    # print(temp)\n",
    "    frame_count+=temp\n",
    "    # read len fo frames to save"
   ]
  },
  {
   "cell_type": "code",
   "execution_count": 5,
   "id": "0075ce72-90f9-42d8-99be-7fe4a7f054f7",
   "metadata": {},
   "outputs": [
    {
     "data": {
      "text/plain": [
       "70712"
      ]
     },
     "execution_count": 5,
     "metadata": {},
     "output_type": "execute_result"
    }
   ],
   "source": [
    "frame_count"
   ]
  }
 ],
 "metadata": {
  "kernelspec": {
   "display_name": "Python 3 (ipykernel)",
   "language": "python",
   "name": "python3"
  },
  "language_info": {
   "codemirror_mode": {
    "name": "ipython",
    "version": 3
   },
   "file_extension": ".py",
   "mimetype": "text/x-python",
   "name": "python",
   "nbconvert_exporter": "python",
   "pygments_lexer": "ipython3",
   "version": "3.11.5"
  }
 },
 "nbformat": 4,
 "nbformat_minor": 5
}
