{
 "cells": [
  {
   "cell_type": "code",
   "execution_count": 1,
   "id": "a88536a7-6b3b-4808-8814-fff7064c5b8a",
   "metadata": {},
   "outputs": [],
   "source": [
    "import numpy as np\n",
    "import json \n",
    "import pandas as pd\n",
    "import os"
   ]
  },
  {
   "cell_type": "code",
   "execution_count": 2,
   "id": "dc39988f-fd6b-45b7-bf99-9c8213a7f08b",
   "metadata": {},
   "outputs": [
    {
     "ename": "FileNotFoundError",
     "evalue": "[WinError 3] The system cannot find the path specified: 'C:\\\\Users\\\\marie\\\\rep_codes\\\\udder_project\\\\udder_processing\\\\features_dict\\\\distance'",
     "output_type": "error",
     "traceback": [
      "\u001b[1;31m---------------------------------------------------------------------------\u001b[0m",
      "\u001b[1;31mFileNotFoundError\u001b[0m                         Traceback (most recent call last)",
      "Cell \u001b[1;32mIn[2], line 9\u001b[0m\n\u001b[0;32m      6\u001b[0m shape_path \u001b[38;5;241m=\u001b[39m os\u001b[38;5;241m.\u001b[39mpath\u001b[38;5;241m.\u001b[39mjoin(feature_path, \u001b[38;5;124m\"\u001b[39m\u001b[38;5;124mshape\u001b[39m\u001b[38;5;124m\"\u001b[39m)\n\u001b[0;32m      7\u001b[0m teat_path \u001b[38;5;241m=\u001b[39m os\u001b[38;5;241m.\u001b[39mpath\u001b[38;5;241m.\u001b[39mjoin(feature_path, \u001b[38;5;124m\"\u001b[39m\u001b[38;5;124mteat_length\u001b[39m\u001b[38;5;124m\"\u001b[39m)\n\u001b[1;32m----> 9\u001b[0m filenames \u001b[38;5;241m=\u001b[39m [file\u001b[38;5;241m.\u001b[39mreplace(\u001b[38;5;124m\"\u001b[39m\u001b[38;5;124m.json\u001b[39m\u001b[38;5;124m\"\u001b[39m, \u001b[38;5;124m\"\u001b[39m\u001b[38;5;124m\"\u001b[39m) \u001b[38;5;28;01mfor\u001b[39;00m file \u001b[38;5;129;01min\u001b[39;00m os\u001b[38;5;241m.\u001b[39mlistdir(distance_path)]\n",
      "\u001b[1;31mFileNotFoundError\u001b[0m: [WinError 3] The system cannot find the path specified: 'C:\\\\Users\\\\marie\\\\rep_codes\\\\udder_project\\\\udder_processing\\\\features_dict\\\\distance'"
     ]
    }
   ],
   "source": [
    "dirpath = os.getcwd()\n",
    "feature_path = os.path.join(dirpath, \"features_dict\")\n",
    "volume_path = os.path.join(feature_path, \"volumes\")\n",
    "angle_path = os.path.join(feature_path, \"angles\")\n",
    "distance_path = os.path.join(feature_path, \"distance\")\n",
    "shape_path = os.path.join(feature_path, \"shape\")\n",
    "teat_path = os.path.join(feature_path, \"teat_length\")\n",
    "\n",
    "filenames = [file.replace(\".json\", \"\") for file in os.listdir(distance_path)]"
   ]
  },
  {
   "cell_type": "code",
   "execution_count": null,
   "id": "c3b6bba7-d1a5-4868-a01b-b9685b7a1f66",
   "metadata": {},
   "outputs": [],
   "source": [
    "sides = ['front', 'back', 'right', 'left']\n",
    "teats = [\"lf\", \"rf\", \"lb\", \"rb\"]\n",
    "quarters = [\"udder\"] + teats\n",
    "shapes = ['peri', 'area', 'circ', 'exc']\n",
    "quarters_shapes =  [q +'_'+ s for q in quarters for s in shapes]\n",
    "\n",
    "eudist_df = pd.DataFrame(columns = sides, index = filenames)\n",
    "gddist_df = pd.DataFrame(columns = sides, index = filenames)\n",
    "angles_df = pd.DataFrame(columns = teats, index = filenames)\n",
    "area_df = pd.DataFrame(columns =[\"lfrb\", \"rflb\"], index = filenames)\n",
    "volume_df = pd.DataFrame(columns = quarters, index = filenames)\n",
    "sarea_df = pd.DataFrame(columns =  quarters, index = filenames)\n",
    "shape_df = pd.DataFrame(columns =  quarters_shapes, index = filenames)\n",
    "teat_df = pd.DataFrame(columns =  teats, index = filenames)\n",
    "\n",
    "for file in filenames[:1]: \n",
    "    with open(os.path.join(distance_path, file + \".json\")) as f:\n",
    "        distance_dict = json.load(f)\n",
    "    with open(os.path.join(volume_path, file + \".json\")) as f:\n",
    "        volume_dict = json.load(f)\n",
    "    with open(os.path.join(angle_path, file + \".json\")) as f:\n",
    "        angle_dict = json.load(f)\n",
    "    with open(os.path.join(shape_path, file + \".json\")) as f:\n",
    "        shape_dict = json.load(f)\n",
    "    with open(os.path.join(teat_path, file + \".json\")) as f:\n",
    "        teat_dict = json.load(f)\n",
    "        \n",
    "    volume_df.loc[file, \"udder\"] = volume_dict[\"udder\"][\"volume\"]\n",
    "    sarea_df.loc[file, \"udder\"] = volume_dict[\"udder\"][\"sarea\"]*100*100\n",
    "    for shape in shape_dict[\"udder\"].keys():\n",
    "        col  = 'udder' +'_'+ shape\n",
    "        shape_df.loc[file, col] = shape_dict['udder'][shape]\n",
    "    for teat in angle_dict.keys():\n",
    "        angles_df.loc[file, teat] = angle_dict[teat][\"angle\"]\n",
    "    for teat in teat_dict.keys():\n",
    "        teat_df.loc[file, teat] = teat_dict[teat][\"length\"]*1000\n",
    "    for side in distance_dict.keys():\n",
    "        eudist_df.loc[file, side] = distance_dict[side][\"eu\"]*100\n",
    "        gddist_df.loc[file, side] = distance_dict[side][\"geo\"]*100\n",
    "    for quarter in volume_dict['quarters'].keys():\n",
    "        volume_df.loc[file, quarter] = volume_dict['quarters'][quarter][\"volume\"]\n",
    "        sarea_df.loc[file, quarter] = volume_dict['quarters'][quarter][\"sarea\"] *100*100\n",
    "    for quarter in shape_dict['quarters'].keys():\n",
    "        qshape_dict = shape_dict['quarters'][quarter]\n",
    "        for shape in qshape_dict.keys():\n",
    "            col  = quarter+'_'+shape\n",
    "            shape_df.loc[file, col] = qshape_dict[shape]\n",
    "        \n",
    "    area_df.loc[file, \"lfrb\"] = (angle_dict[\"lf\"][\"area\"] + angle_dict[\"rb\"][\"area\"]) *100*100\n",
    "    area_df.loc[file, \"rflb\"] = (angle_dict[\"rf\"][\"area\"] + angle_dict[\"lb\"][\"area\"]) *100*100\n",
    "\n",
    "volume_df.columns = [col +\"_vol\" for col in  volume_df.columns]\n",
    "sarea_df.columns = [col +\"_sarea\" for col in  sarea_df.columns]\n",
    "angles_df.columns = [col +\"_angle\" for col in  angles_df.columns]\n",
    "teat_df.columns = [col +\"_len\" for col in  teat_df.columns]\n",
    "eudist_df.columns = [col +\"_eu\" for col in  eudist_df.columns]\n",
    "gddist_df.columns = [col +\"_gd\" for col in  gddist_df.columns]\n",
    "\n",
    "merged_df = volume_df.join(sarea_df).join(angles_df).join(eudist_df).join(gddist_df).join(shape_df).join(teat_df).reset_index().rename(columns={'index': 'filename'})\n",
    "cols = ['cow', 'frame'] +  merged_df.columns.tolist()\n",
    "merged_df[[\"cow\", \"frame\"]] = [[file.split(\"_\")[0], file.split(\"_\")[-1]] for file in merged_df.filename]\n",
    "merged_df = merged_df.loc[:, cols]\n",
    "merged_df.to_csv(os.path.join(feature_path, \"feature_table.csv\"), index = False)"
   ]
  },
  {
   "cell_type": "code",
   "execution_count": 9,
   "id": "fd7d614d-66b2-436a-a2db-6d8ac562e4f4",
   "metadata": {},
   "outputs": [],
   "source": [
    "with open(os.path.join(teat_path, file + \".json\")) as f:\n",
    "    teat_dict = json.load(f)"
   ]
  },
  {
   "cell_type": "code",
   "execution_count": 3,
   "id": "eb7808f7-646b-46d2-95b2-e3f3bd623777",
   "metadata": {},
   "outputs": [
    {
     "ename": "NameError",
     "evalue": "name 'merged_df' is not defined",
     "output_type": "error",
     "traceback": [
      "\u001b[1;31m---------------------------------------------------------------------------\u001b[0m",
      "\u001b[1;31mNameError\u001b[0m                                 Traceback (most recent call last)",
      "Cell \u001b[1;32mIn[3], line 1\u001b[0m\n\u001b[1;32m----> 1\u001b[0m merged_df\n",
      "\u001b[1;31mNameError\u001b[0m: name 'merged_df' is not defined"
     ]
    }
   ],
   "source": [
    "merged_df"
   ]
  },
  {
   "cell_type": "code",
   "execution_count": null,
   "id": "396f003b-fe67-4733-b12b-eb8ec57c3934",
   "metadata": {},
   "outputs": [],
   "source": []
  }
 ],
 "metadata": {
  "kernelspec": {
   "display_name": "Python 3 (ipykernel)",
   "language": "python",
   "name": "python3"
  },
  "language_info": {
   "codemirror_mode": {
    "name": "ipython",
    "version": 3
   },
   "file_extension": ".py",
   "mimetype": "text/x-python",
   "name": "python",
   "nbconvert_exporter": "python",
   "pygments_lexer": "ipython3",
   "version": "3.11.5"
  }
 },
 "nbformat": 4,
 "nbformat_minor": 5
}
