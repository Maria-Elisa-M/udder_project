{
 "cells": [
  {
   "cell_type": "code",
   "execution_count": 1,
   "id": "80568452-d4dc-4460-8761-624bd026c8ba",
   "metadata": {},
   "outputs": [
    {
     "name": "stderr",
     "output_type": "stream",
     "text": [
      "C:\\Users\\marie\\miniconda3\\envs\\napari-env2\\lib\\site-packages\\paramiko\\transport.py:219: CryptographyDeprecationWarning: Blowfish has been deprecated and will be removed in a future release\n",
      "  \"class\": algorithms.Blowfish,\n"
     ]
    },
    {
     "ename": "ModuleNotFoundError",
     "evalue": "No module named 'gurobi_optimods'",
     "output_type": "error",
     "traceback": [
      "\u001b[1;31m---------------------------------------------------------------------------\u001b[0m",
      "\u001b[1;31mModuleNotFoundError\u001b[0m                       Traceback (most recent call last)",
      "Cell \u001b[1;32mIn[1], line 9\u001b[0m\n\u001b[0;32m      6\u001b[0m \u001b[38;5;28;01mimport\u001b[39;00m \u001b[38;5;21;01mjson\u001b[39;00m\n\u001b[0;32m      8\u001b[0m \u001b[38;5;28;01mimport\u001b[39;00m \u001b[38;5;21;01mpyrealsense2\u001b[39;00m \u001b[38;5;28;01mas\u001b[39;00m \u001b[38;5;21;01mrs\u001b[39;00m\n\u001b[1;32m----> 9\u001b[0m \u001b[38;5;28;01mfrom\u001b[39;00m \u001b[38;5;21;01mgurobi_optimods\u001b[39;00m\u001b[38;5;21;01m.\u001b[39;00m\u001b[38;5;21;01mregression\u001b[39;00m \u001b[38;5;28;01mimport\u001b[39;00m LADRegression\n\u001b[0;32m     10\u001b[0m \u001b[38;5;28;01mimport\u001b[39;00m \u001b[38;5;21;01mplotly\u001b[39;00m\u001b[38;5;21;01m.\u001b[39;00m\u001b[38;5;21;01mgraph_objects\u001b[39;00m \u001b[38;5;28;01mas\u001b[39;00m \u001b[38;5;21;01mgo\u001b[39;00m\n\u001b[0;32m     11\u001b[0m \u001b[38;5;28;01mfrom\u001b[39;00m \u001b[38;5;21;01mastropy\u001b[39;00m\u001b[38;5;21;01m.\u001b[39;00m\u001b[38;5;21;01mconvolution\u001b[39;00m \u001b[38;5;28;01mimport\u001b[39;00m Gaussian2DKernel, convolve,interpolate_replace_nans\n",
      "\u001b[1;31mModuleNotFoundError\u001b[0m: No module named 'gurobi_optimods'"
     ]
    }
   ],
   "source": [
    "import os\n",
    "import watershed_udder as wu\n",
    "import numpy as np\n",
    "import matplotlib.pyplot as plt\n",
    "import pandas as pd\n",
    "import json\n",
    "\n",
    "import pyrealsense2 as rs\n",
    "from gurobi_optimods.regression import LADRegression\n",
    "import plotly.graph_objects as go\n",
    "from astropy.convolution import Gaussian2DKernel, convolve,interpolate_replace_nans"
   ]
  },
  {
   "cell_type": "code",
   "execution_count": null,
   "id": "337f462d-1b00-4da9-b514-c51b59d8f6ba",
   "metadata": {},
   "outputs": [],
   "source": [
    "def points_toworld(points):\n",
    "    points2 = points.copy()\n",
    "    for i in range(len(points)):\n",
    "        points2[i, :] = rs.rs2_deproject_pixel_to_point(intr, [points[i, 0], points[i, 1]], points[i, 2])\n",
    "    return points2\n",
    "    \n",
    "# get image points\n",
    "def pts_fromimg(coords, img):\n",
    "    values = img[coords[:,1],  coords[:,0]]\n",
    "    idx = ~ np.isnan(values)\n",
    "    pts = np.column_stack((np.transpose(coords[idx,0]), np.transpose(coords[idx,1]), np.transpose(values[idx]))).astype(float)\n",
    "    return pts\n",
    "# \n",
    "def ols_plane(p, n):\n",
    "    plane_pts = p[p[:, 2].argsort()]\n",
    "    A = np.column_stack((np.ones((n,1)), plane_pts[:n, :2]))\n",
    "    B = np.reshape(plane_pts[:n, 2], (n,1))\n",
    "    plane = np.linalg.inv(np.transpose(A)@A)@np.transpose(A)@B\n",
    "    return plane\n",
    "\n",
    "def lad_plane(p):\n",
    "    # Split data for fit assessment\n",
    "    x = p[:, :2]\n",
    "    y = p[:, 2]\n",
    "    # Fit model and obtain predictions\n",
    "    lad = LADRegression()\n",
    "    lad.fit(x, y)\n",
    "    return lad\n",
    "\n",
    "def tilt_ponts(plane, old_points):\n",
    "    a = plane[1]\n",
    "    b = plane[2]\n",
    "    c = -1\n",
    "    d = plane[0]\n",
    "    new_z = a *old_points[:, 0]+ b * old_points[:,1] + d\n",
    "    new_points = old_points.copy()\n",
    "    new_points[:, 2] = new_points[:, 2] - new_z\n",
    "    return new_points\n",
    "# \n",
    "def down_sample(points):\n",
    "    pcd = o3d.geometry.PointCloud()\n",
    "    pcd.points = o3d.utility.Vector3dVector(points)\n",
    "    downpcd = pcd.voxel_down_sample(voxel_size=0.005)\n",
    "    return np.asarray(downpcd.points)"
   ]
  },
  {
   "cell_type": "code",
   "execution_count": 6,
   "id": "86067605-e884-490e-99fa-ab3757ce7eb1",
   "metadata": {},
   "outputs": [],
   "source": [
    "# # list files \n",
    "# dirpath = os.getcwd()\n",
    "# label_dir = os.path.join(dirpath, \"pred_labels\")\n",
    "# ws_dir = os.path.join(label_dir,\"watershed_segments\")\n",
    "# corr_dir = os.path.join(label_dir, \"watershed_correspondence\")\n",
    "# kp_dir = os.path.join(label_dir, \"keypoints\")\n",
    "# sg_dir = os.path.join(label_dir, \"segments\")\n",
    "# img_dir = os.path.join(\"depth_images\")\n",
    "# results = pd.read_csv(os.path.join(label_dir, \"ws_class_predictions_II.csv\"))\n",
    "# out_path = os.path.join(dirpath, \"point_clouds\")"
   ]
  },
  {
   "cell_type": "code",
   "execution_count": 3,
   "id": "c9c3fa8f-44f7-4f37-b878-312f51655b71",
   "metadata": {},
   "outputs": [
    {
     "ename": "NameError",
     "evalue": "name 'Gaussian2DKernel' is not defined",
     "output_type": "error",
     "traceback": [
      "\u001b[1;31m---------------------------------------------------------------------------\u001b[0m",
      "\u001b[1;31mNameError\u001b[0m                                 Traceback (most recent call last)",
      "Cell \u001b[1;32mIn[3], line 24\u001b[0m\n\u001b[0;32m     22\u001b[0m intr \u001b[38;5;241m=\u001b[39m profile\u001b[38;5;241m.\u001b[39mas_video_stream_profile()\u001b[38;5;241m.\u001b[39mget_intrinsics() \u001b[38;5;66;03m# Downcast to video_stream_profile and fetch intrinsics\u001b[39;00m\n\u001b[0;32m     23\u001b[0m scale \u001b[38;5;241m=\u001b[39m \u001b[38;5;241m0.001\u001b[39m\n\u001b[1;32m---> 24\u001b[0m gk \u001b[38;5;241m=\u001b[39m \u001b[43mGaussian2DKernel\u001b[49m(x_stddev\u001b[38;5;241m=\u001b[39m\u001b[38;5;241m1\u001b[39m)\n\u001b[0;32m     26\u001b[0m teat_dict  \u001b[38;5;241m=\u001b[39m {\u001b[38;5;124m\"\u001b[39m\u001b[38;5;124mlf\u001b[39m\u001b[38;5;124m\"\u001b[39m: \u001b[38;5;241m1\u001b[39m, \u001b[38;5;124m\"\u001b[39m\u001b[38;5;124mrf\u001b[39m\u001b[38;5;124m\"\u001b[39m:\u001b[38;5;241m2\u001b[39m, \u001b[38;5;124m\"\u001b[39m\u001b[38;5;124mlb\u001b[39m\u001b[38;5;124m\"\u001b[39m:\u001b[38;5;241m3\u001b[39m, \u001b[38;5;124m\"\u001b[39m\u001b[38;5;124mrb\u001b[39m\u001b[38;5;124m\"\u001b[39m:\u001b[38;5;241m4\u001b[39m}\n",
      "\u001b[1;31mNameError\u001b[0m: name 'Gaussian2DKernel' is not defined"
     ]
    }
   ],
   "source": [
    "# list files \n",
    "dirpath = os.getcwd()\n",
    "ws_dir = os.path.join(\"validate_watershed\", \"watershed_segments\")\n",
    "corr_dir = os.path.join(\"validate_watershed\", \"watershed_correspondence\")\n",
    "label_dir = os.path.join(dirpath, \"validate_watershed\", \"pred_labels\")\n",
    "kp_dir = os.path.join(label_dir, \"keypoints\")\n",
    "sg_dir = os.path.join(label_dir, \"segments\")\n",
    "img_dir = os.path.join(os.path.normpath(dirpath + os.sep + os.pardir), \"udder_video\", \"depth_images\")\n",
    "# results = pd.read_csv(os.path.join(\"validate_watershed\", \"ws_class_predictions_I.csv\"))\n",
    "results = pd.read_csv(os.path.join(\"validate_watershed\", \"ws_class_predictions_I.csv\"))\n",
    "out_path = os.path.join(dirpath, \"point_clouds\")\n",
    "\n",
    "video_path =  os.path.join(os.path.normpath(dirpath + os.sep + os.pardir), \"udder_video\", \"video_files\", \"example_video.bag\")\n",
    "good = results[results.thr09 == 1]\n",
    "\n",
    "# get camera parameters\n",
    "config = rs.config()\n",
    "rs.config.enable_device_from_file(config, video_path, repeat_playback = False)\n",
    "pipeline = rs.pipeline()\n",
    "cfg = pipeline.start(config) # Start pipeline and get the configuration it found\n",
    "profile = cfg.get_stream(rs.stream.depth) # Fetch stream profile for depth stream\n",
    "intr = profile.as_video_stream_profile().get_intrinsics() # Downcast to video_stream_profile and fetch intrinsics\n",
    "scale = 0.001\n",
    "gk = Gaussian2DKernel(x_stddev=1)\n",
    "\n",
    "teat_dict  = {\"lf\": 1, \"rf\":2, \"lb\":3, \"rb\":4}"
   ]
  },
  {
   "cell_type": "code",
   "execution_count": 4,
   "id": "cfe80265-bf3c-495c-9b2b-ea9fcbcc8a23",
   "metadata": {},
   "outputs": [
    {
     "data": {
      "text/plain": [
       "4964"
      ]
     },
     "execution_count": 4,
     "metadata": {},
     "output_type": "execute_result"
    }
   ],
   "source": [
    "len(good)"
   ]
  },
  {
   "cell_type": "code",
   "execution_count": 8,
   "id": "30cc7e32-5636-4a42-b2e7-52af675eba3b",
   "metadata": {
    "scrolled": true
   },
   "outputs": [
    {
     "ename": "FileNotFoundError",
     "evalue": "[Errno 2] No such file or directory: 'C:\\\\Users\\\\marie\\\\rep_codes\\\\udder_project\\\\udder_processing\\\\depth_images\\\\1084\\\\1084_20231117_150625_frame_318.tif'",
     "output_type": "error",
     "traceback": [
      "\u001b[1;31m---------------------------------------------------------------------------\u001b[0m",
      "\u001b[1;31mFileNotFoundError\u001b[0m                         Traceback (most recent call last)",
      "\u001b[1;32m~\\AppData\\Local\\Temp\\ipykernel_11732\\3248662527.py\u001b[0m in \u001b[0;36m?\u001b[1;34m()\u001b[0m\n\u001b[0;32m      1\u001b[0m \u001b[1;32mfor\u001b[0m \u001b[0mfile\u001b[0m \u001b[1;32min\u001b[0m \u001b[0mgood\u001b[0m\u001b[1;33m.\u001b[0m\u001b[0mfilename\u001b[0m\u001b[1;33m:\u001b[0m\u001b[1;33m\u001b[0m\u001b[1;33m\u001b[0m\u001b[0m\n\u001b[1;32m----> 2\u001b[1;33m     \u001b[0mudder\u001b[0m \u001b[1;33m=\u001b[0m \u001b[0mwu\u001b[0m\u001b[1;33m.\u001b[0m\u001b[0mudder_object\u001b[0m\u001b[1;33m(\u001b[0m\u001b[0mfile\u001b[0m \u001b[1;33m+\u001b[0m \u001b[1;34m\".tif\"\u001b[0m\u001b[1;33m,\u001b[0m \u001b[0mimg_dir\u001b[0m\u001b[1;33m,\u001b[0m \u001b[0mlabel_dir\u001b[0m\u001b[1;33m,\u001b[0m \u001b[0marray\u001b[0m \u001b[1;33m=\u001b[0m \u001b[1;36m0\u001b[0m\u001b[1;33m)\u001b[0m\u001b[1;33m\u001b[0m\u001b[1;33m\u001b[0m\u001b[0m\n\u001b[0m\u001b[0;32m      3\u001b[0m     \u001b[1;31m# read image\u001b[0m\u001b[1;33m\u001b[0m\u001b[1;33m\u001b[0m\u001b[0m\n\u001b[0;32m      4\u001b[0m     \u001b[0mimg\u001b[0m \u001b[1;33m=\u001b[0m \u001b[0mudder\u001b[0m\u001b[1;33m.\u001b[0m\u001b[0mimg\u001b[0m\u001b[1;33m\u001b[0m\u001b[1;33m\u001b[0m\u001b[0m\n\u001b[0;32m      5\u001b[0m     \u001b[0mimgr\u001b[0m \u001b[1;33m=\u001b[0m \u001b[0mudder\u001b[0m\u001b[1;33m.\u001b[0m\u001b[0mimg\u001b[0m\u001b[1;33m.\u001b[0m\u001b[0mcopy\u001b[0m\u001b[1;33m(\u001b[0m\u001b[1;33m)\u001b[0m\u001b[1;33m.\u001b[0m\u001b[0mastype\u001b[0m\u001b[1;33m(\u001b[0m\u001b[0mfloat\u001b[0m\u001b[1;33m)\u001b[0m\u001b[1;33m\u001b[0m\u001b[1;33m\u001b[0m\u001b[0m\n",
      "\u001b[1;32m~\\rep_codes\\udder_project\\udder_processing\\watershed_udder.py\u001b[0m in \u001b[0;36m?\u001b[1;34m(self, file, img_dir, label_dir, array)\u001b[0m\n\u001b[0;32m     61\u001b[0m     \u001b[1;32mdef\u001b[0m \u001b[0m__init__\u001b[0m\u001b[1;33m(\u001b[0m\u001b[0mself\u001b[0m\u001b[1;33m,\u001b[0m \u001b[0mfile\u001b[0m\u001b[1;33m,\u001b[0m \u001b[0mimg_dir\u001b[0m\u001b[1;33m,\u001b[0m \u001b[0mlabel_dir\u001b[0m\u001b[1;33m,\u001b[0m \u001b[0marray\u001b[0m \u001b[1;33m=\u001b[0m \u001b[1;36m0\u001b[0m\u001b[1;33m)\u001b[0m\u001b[1;33m:\u001b[0m\u001b[1;33m\u001b[0m\u001b[1;33m\u001b[0m\u001b[0m\n\u001b[0;32m     62\u001b[0m         \u001b[1;32mif\u001b[0m \u001b[0mimg_dir\u001b[0m \u001b[1;33m!=\u001b[0m \u001b[1;34m\"\"\u001b[0m\u001b[1;33m:\u001b[0m\u001b[1;33m\u001b[0m\u001b[1;33m\u001b[0m\u001b[0m\n\u001b[0;32m     63\u001b[0m             \u001b[0mcow\u001b[0m \u001b[1;33m=\u001b[0m \u001b[0mfile\u001b[0m\u001b[1;33m.\u001b[0m\u001b[0msplit\u001b[0m\u001b[1;33m(\u001b[0m\u001b[1;34m\"_\"\u001b[0m\u001b[1;33m)\u001b[0m\u001b[1;33m[\u001b[0m\u001b[1;36m0\u001b[0m\u001b[1;33m]\u001b[0m\u001b[1;33m\u001b[0m\u001b[1;33m\u001b[0m\u001b[0m\n\u001b[1;32m---> 64\u001b[1;33m             \u001b[0mudder\u001b[0m \u001b[1;33m=\u001b[0m \u001b[0mski\u001b[0m\u001b[1;33m.\u001b[0m\u001b[0mio\u001b[0m\u001b[1;33m.\u001b[0m\u001b[0mimread\u001b[0m\u001b[1;33m(\u001b[0m\u001b[0mos\u001b[0m\u001b[1;33m.\u001b[0m\u001b[0mpath\u001b[0m\u001b[1;33m.\u001b[0m\u001b[0mjoin\u001b[0m\u001b[1;33m(\u001b[0m\u001b[0mimg_dir\u001b[0m\u001b[1;33m,\u001b[0m \u001b[0mcow\u001b[0m\u001b[1;33m,\u001b[0m \u001b[0mfile\u001b[0m\u001b[1;33m)\u001b[0m\u001b[1;33m)\u001b[0m\u001b[1;33m\u001b[0m\u001b[1;33m\u001b[0m\u001b[0m\n\u001b[0m\u001b[0;32m     65\u001b[0m         \u001b[1;32melse\u001b[0m\u001b[1;33m:\u001b[0m\u001b[1;33m\u001b[0m\u001b[1;33m\u001b[0m\u001b[0m\n\u001b[0;32m     66\u001b[0m             \u001b[0mudder\u001b[0m \u001b[1;33m=\u001b[0m \u001b[0marray\u001b[0m\u001b[1;33m\u001b[0m\u001b[1;33m\u001b[0m\u001b[0m\n\u001b[0;32m     67\u001b[0m         \u001b[0mself\u001b[0m\u001b[1;33m.\u001b[0m\u001b[0mimg\u001b[0m \u001b[1;33m=\u001b[0m \u001b[0mudder\u001b[0m\u001b[1;33m\u001b[0m\u001b[1;33m\u001b[0m\u001b[0m\n",
      "\u001b[1;32m~\\miniconda3\\Lib\\site-packages\\skimage\\io\\_io.py\u001b[0m in \u001b[0;36m?\u001b[1;34m(fname, as_gray, plugin, **plugin_args)\u001b[0m\n\u001b[0;32m     49\u001b[0m         \u001b[1;32mif\u001b[0m \u001b[0mfname\u001b[0m\u001b[1;33m.\u001b[0m\u001b[0mlower\u001b[0m\u001b[1;33m(\u001b[0m\u001b[1;33m)\u001b[0m\u001b[1;33m.\u001b[0m\u001b[0mendswith\u001b[0m\u001b[1;33m(\u001b[0m\u001b[1;33m(\u001b[0m\u001b[1;34m'.tiff'\u001b[0m\u001b[1;33m,\u001b[0m \u001b[1;34m'.tif'\u001b[0m\u001b[1;33m)\u001b[0m\u001b[1;33m)\u001b[0m\u001b[1;33m:\u001b[0m\u001b[1;33m\u001b[0m\u001b[1;33m\u001b[0m\u001b[0m\n\u001b[0;32m     50\u001b[0m             \u001b[0mplugin\u001b[0m \u001b[1;33m=\u001b[0m \u001b[1;34m'tifffile'\u001b[0m\u001b[1;33m\u001b[0m\u001b[1;33m\u001b[0m\u001b[0m\n\u001b[0;32m     51\u001b[0m \u001b[1;33m\u001b[0m\u001b[0m\n\u001b[0;32m     52\u001b[0m     \u001b[1;32mwith\u001b[0m \u001b[0mfile_or_url_context\u001b[0m\u001b[1;33m(\u001b[0m\u001b[0mfname\u001b[0m\u001b[1;33m)\u001b[0m \u001b[1;32mas\u001b[0m \u001b[0mfname\u001b[0m\u001b[1;33m:\u001b[0m\u001b[1;33m\u001b[0m\u001b[1;33m\u001b[0m\u001b[0m\n\u001b[1;32m---> 53\u001b[1;33m         \u001b[0mimg\u001b[0m \u001b[1;33m=\u001b[0m \u001b[0mcall_plugin\u001b[0m\u001b[1;33m(\u001b[0m\u001b[1;34m'imread'\u001b[0m\u001b[1;33m,\u001b[0m \u001b[0mfname\u001b[0m\u001b[1;33m,\u001b[0m \u001b[0mplugin\u001b[0m\u001b[1;33m=\u001b[0m\u001b[0mplugin\u001b[0m\u001b[1;33m,\u001b[0m \u001b[1;33m**\u001b[0m\u001b[0mplugin_args\u001b[0m\u001b[1;33m)\u001b[0m\u001b[1;33m\u001b[0m\u001b[1;33m\u001b[0m\u001b[0m\n\u001b[0m\u001b[0;32m     54\u001b[0m \u001b[1;33m\u001b[0m\u001b[0m\n\u001b[0;32m     55\u001b[0m     \u001b[1;32mif\u001b[0m \u001b[1;32mnot\u001b[0m \u001b[0mhasattr\u001b[0m\u001b[1;33m(\u001b[0m\u001b[0mimg\u001b[0m\u001b[1;33m,\u001b[0m \u001b[1;34m'ndim'\u001b[0m\u001b[1;33m)\u001b[0m\u001b[1;33m:\u001b[0m\u001b[1;33m\u001b[0m\u001b[1;33m\u001b[0m\u001b[0m\n\u001b[0;32m     56\u001b[0m         \u001b[1;32mreturn\u001b[0m \u001b[0mimg\u001b[0m\u001b[1;33m\u001b[0m\u001b[1;33m\u001b[0m\u001b[0m\n",
      "\u001b[1;32m~\\miniconda3\\Lib\\site-packages\\skimage\\io\\manage_plugins.py\u001b[0m in \u001b[0;36m?\u001b[1;34m(kind, *args, **kwargs)\u001b[0m\n\u001b[0;32m    201\u001b[0m             \u001b[0mfunc\u001b[0m \u001b[1;33m=\u001b[0m \u001b[1;33m[\u001b[0m\u001b[0mf\u001b[0m \u001b[1;32mfor\u001b[0m \u001b[1;33m(\u001b[0m\u001b[0mp\u001b[0m\u001b[1;33m,\u001b[0m \u001b[0mf\u001b[0m\u001b[1;33m)\u001b[0m \u001b[1;32min\u001b[0m \u001b[0mplugin_funcs\u001b[0m \u001b[1;32mif\u001b[0m \u001b[0mp\u001b[0m \u001b[1;33m==\u001b[0m \u001b[0mplugin\u001b[0m\u001b[1;33m]\u001b[0m\u001b[1;33m[\u001b[0m\u001b[1;36m0\u001b[0m\u001b[1;33m]\u001b[0m\u001b[1;33m\u001b[0m\u001b[1;33m\u001b[0m\u001b[0m\n\u001b[0;32m    202\u001b[0m         \u001b[1;32mexcept\u001b[0m \u001b[0mIndexError\u001b[0m\u001b[1;33m:\u001b[0m\u001b[1;33m\u001b[0m\u001b[1;33m\u001b[0m\u001b[0m\n\u001b[0;32m    203\u001b[0m             \u001b[1;32mraise\u001b[0m \u001b[0mRuntimeError\u001b[0m\u001b[1;33m(\u001b[0m\u001b[1;34mf'Could not find the plugin \"{plugin}\" for {kind}.'\u001b[0m\u001b[1;33m)\u001b[0m\u001b[1;33m\u001b[0m\u001b[1;33m\u001b[0m\u001b[0m\n\u001b[0;32m    204\u001b[0m \u001b[1;33m\u001b[0m\u001b[0m\n\u001b[1;32m--> 205\u001b[1;33m     \u001b[1;32mreturn\u001b[0m \u001b[0mfunc\u001b[0m\u001b[1;33m(\u001b[0m\u001b[1;33m*\u001b[0m\u001b[0margs\u001b[0m\u001b[1;33m,\u001b[0m \u001b[1;33m**\u001b[0m\u001b[0mkwargs\u001b[0m\u001b[1;33m)\u001b[0m\u001b[1;33m\u001b[0m\u001b[1;33m\u001b[0m\u001b[0m\n\u001b[0m",
      "\u001b[1;32m~\\miniconda3\\Lib\\site-packages\\skimage\\io\\_plugins\\tifffile_plugin.py\u001b[0m in \u001b[0;36m?\u001b[1;34m(fname, **kwargs)\u001b[0m\n\u001b[0;32m     70\u001b[0m     \"\"\"\n\u001b[0;32m     71\u001b[0m     \u001b[1;32mif\u001b[0m \u001b[1;34m'img_num'\u001b[0m \u001b[1;32min\u001b[0m \u001b[0mkwargs\u001b[0m\u001b[1;33m:\u001b[0m\u001b[1;33m\u001b[0m\u001b[1;33m\u001b[0m\u001b[0m\n\u001b[0;32m     72\u001b[0m         \u001b[0mkwargs\u001b[0m\u001b[1;33m[\u001b[0m\u001b[1;34m'key'\u001b[0m\u001b[1;33m]\u001b[0m \u001b[1;33m=\u001b[0m \u001b[0mkwargs\u001b[0m\u001b[1;33m.\u001b[0m\u001b[0mpop\u001b[0m\u001b[1;33m(\u001b[0m\u001b[1;34m'img_num'\u001b[0m\u001b[1;33m)\u001b[0m\u001b[1;33m\u001b[0m\u001b[1;33m\u001b[0m\u001b[0m\n\u001b[0;32m     73\u001b[0m \u001b[1;33m\u001b[0m\u001b[0m\n\u001b[1;32m---> 74\u001b[1;33m     \u001b[1;32mreturn\u001b[0m \u001b[0mtifffile_imread\u001b[0m\u001b[1;33m(\u001b[0m\u001b[0mfname\u001b[0m\u001b[1;33m,\u001b[0m \u001b[1;33m**\u001b[0m\u001b[0mkwargs\u001b[0m\u001b[1;33m)\u001b[0m\u001b[1;33m\u001b[0m\u001b[1;33m\u001b[0m\u001b[0m\n\u001b[0m",
      "\u001b[1;32m~\\miniconda3\\Lib\\site-packages\\tifffile\\tifffile.py\u001b[0m in \u001b[0;36m?\u001b[1;34m(files, aszarr, key, series, level, squeeze, maxworkers, mode, name, offset, size, pattern, axesorder, categories, imread, sort, container, chunkshape, dtype, axestiled, ioworkers, chunkmode, fillvalue, zattrs, multiscales, omexml, out, out_inplace, _multifile, _useframes, **kwargs)\u001b[0m\n\u001b[0;32m   1058\u001b[0m \u001b[1;33m\u001b[0m\u001b[0m\n\u001b[0;32m   1059\u001b[0m         if isinstance(files, str) or not isinstance(\n\u001b[0;32m   1060\u001b[0m             \u001b[0mfiles\u001b[0m\u001b[1;33m,\u001b[0m \u001b[0mcollections\u001b[0m\u001b[1;33m.\u001b[0m\u001b[0mabc\u001b[0m\u001b[1;33m.\u001b[0m\u001b[0mSequence\u001b[0m\u001b[1;33m\u001b[0m\u001b[1;33m\u001b[0m\u001b[0m\n\u001b[0;32m   1061\u001b[0m         ):\n\u001b[1;32m-> 1062\u001b[1;33m             with TiffFile(\n\u001b[0m\u001b[0;32m   1063\u001b[0m                 \u001b[0mfiles\u001b[0m\u001b[1;33m,\u001b[0m\u001b[1;33m\u001b[0m\u001b[1;33m\u001b[0m\u001b[0m\n\u001b[0;32m   1064\u001b[0m                 \u001b[0mmode\u001b[0m\u001b[1;33m=\u001b[0m\u001b[0mmode\u001b[0m\u001b[1;33m,\u001b[0m\u001b[1;33m\u001b[0m\u001b[1;33m\u001b[0m\u001b[0m\n\u001b[0;32m   1065\u001b[0m                 \u001b[0mname\u001b[0m\u001b[1;33m=\u001b[0m\u001b[0mname\u001b[0m\u001b[1;33m,\u001b[0m\u001b[1;33m\u001b[0m\u001b[1;33m\u001b[0m\u001b[0m\n",
      "\u001b[1;32m~\\miniconda3\\Lib\\site-packages\\tifffile\\tifffile.py\u001b[0m in \u001b[0;36m?\u001b[1;34m(self, file, mode, name, offset, size, omexml, _multifile, _useframes, _parent, **is_flags)\u001b[0m\n\u001b[0;32m   3989\u001b[0m \u001b[1;33m\u001b[0m\u001b[0m\n\u001b[0;32m   3990\u001b[0m         \u001b[1;32mif\u001b[0m \u001b[0mmode\u001b[0m \u001b[1;32mnot\u001b[0m \u001b[1;32min\u001b[0m \u001b[1;33m(\u001b[0m\u001b[1;32mNone\u001b[0m\u001b[1;33m,\u001b[0m \u001b[1;34m'r'\u001b[0m\u001b[1;33m,\u001b[0m \u001b[1;34m'r+'\u001b[0m\u001b[1;33m,\u001b[0m \u001b[1;34m'rb'\u001b[0m\u001b[1;33m,\u001b[0m \u001b[1;34m'r+b'\u001b[0m\u001b[1;33m)\u001b[0m\u001b[1;33m:\u001b[0m\u001b[1;33m\u001b[0m\u001b[1;33m\u001b[0m\u001b[0m\n\u001b[0;32m   3991\u001b[0m             \u001b[1;32mraise\u001b[0m \u001b[0mValueError\u001b[0m\u001b[1;33m(\u001b[0m\u001b[1;34mf'invalid mode {mode!r}'\u001b[0m\u001b[1;33m)\u001b[0m\u001b[1;33m\u001b[0m\u001b[1;33m\u001b[0m\u001b[0m\n\u001b[0;32m   3992\u001b[0m \u001b[1;33m\u001b[0m\u001b[0m\n\u001b[1;32m-> 3993\u001b[1;33m         \u001b[0mfh\u001b[0m \u001b[1;33m=\u001b[0m \u001b[0mFileHandle\u001b[0m\u001b[1;33m(\u001b[0m\u001b[0mfile\u001b[0m\u001b[1;33m,\u001b[0m \u001b[0mmode\u001b[0m\u001b[1;33m=\u001b[0m\u001b[0mmode\u001b[0m\u001b[1;33m,\u001b[0m \u001b[0mname\u001b[0m\u001b[1;33m=\u001b[0m\u001b[0mname\u001b[0m\u001b[1;33m,\u001b[0m \u001b[0moffset\u001b[0m\u001b[1;33m=\u001b[0m\u001b[0moffset\u001b[0m\u001b[1;33m,\u001b[0m \u001b[0msize\u001b[0m\u001b[1;33m=\u001b[0m\u001b[0msize\u001b[0m\u001b[1;33m)\u001b[0m\u001b[1;33m\u001b[0m\u001b[1;33m\u001b[0m\u001b[0m\n\u001b[0m\u001b[0;32m   3994\u001b[0m         \u001b[0mself\u001b[0m\u001b[1;33m.\u001b[0m\u001b[0m_fh\u001b[0m \u001b[1;33m=\u001b[0m \u001b[0mfh\u001b[0m\u001b[1;33m\u001b[0m\u001b[1;33m\u001b[0m\u001b[0m\n\u001b[0;32m   3995\u001b[0m         \u001b[0mself\u001b[0m\u001b[1;33m.\u001b[0m\u001b[0m_multifile\u001b[0m \u001b[1;33m=\u001b[0m \u001b[1;32mTrue\u001b[0m \u001b[1;32mif\u001b[0m \u001b[0m_multifile\u001b[0m \u001b[1;32mis\u001b[0m \u001b[1;32mNone\u001b[0m \u001b[1;32melse\u001b[0m \u001b[0mbool\u001b[0m\u001b[1;33m(\u001b[0m\u001b[0m_multifile\u001b[0m\u001b[1;33m)\u001b[0m\u001b[1;33m\u001b[0m\u001b[1;33m\u001b[0m\u001b[0m\n\u001b[0;32m   3996\u001b[0m         \u001b[0mself\u001b[0m\u001b[1;33m.\u001b[0m\u001b[0m_files\u001b[0m \u001b[1;33m=\u001b[0m \u001b[1;33m{\u001b[0m\u001b[0mfh\u001b[0m\u001b[1;33m.\u001b[0m\u001b[0mname\u001b[0m\u001b[1;33m:\u001b[0m \u001b[0mself\u001b[0m\u001b[1;33m}\u001b[0m\u001b[1;33m\u001b[0m\u001b[1;33m\u001b[0m\u001b[0m\n",
      "\u001b[1;32m~\\miniconda3\\Lib\\site-packages\\tifffile\\tifffile.py\u001b[0m in \u001b[0;36m?\u001b[1;34m(self, file, mode, name, offset, size)\u001b[0m\n\u001b[0;32m  13925\u001b[0m         \u001b[0mself\u001b[0m\u001b[1;33m.\u001b[0m\u001b[0m_offset\u001b[0m \u001b[1;33m=\u001b[0m \u001b[1;33m-\u001b[0m\u001b[1;36m1\u001b[0m \u001b[1;32mif\u001b[0m \u001b[0moffset\u001b[0m \u001b[1;32mis\u001b[0m \u001b[1;32mNone\u001b[0m \u001b[1;32melse\u001b[0m \u001b[0moffset\u001b[0m\u001b[1;33m\u001b[0m\u001b[1;33m\u001b[0m\u001b[0m\n\u001b[0;32m  13926\u001b[0m         \u001b[0mself\u001b[0m\u001b[1;33m.\u001b[0m\u001b[0m_size\u001b[0m \u001b[1;33m=\u001b[0m \u001b[1;33m-\u001b[0m\u001b[1;36m1\u001b[0m \u001b[1;32mif\u001b[0m \u001b[0msize\u001b[0m \u001b[1;32mis\u001b[0m \u001b[1;32mNone\u001b[0m \u001b[1;32melse\u001b[0m \u001b[0msize\u001b[0m\u001b[1;33m\u001b[0m\u001b[1;33m\u001b[0m\u001b[0m\n\u001b[0;32m  13927\u001b[0m         \u001b[0mself\u001b[0m\u001b[1;33m.\u001b[0m\u001b[0m_close\u001b[0m \u001b[1;33m=\u001b[0m \u001b[1;32mTrue\u001b[0m\u001b[1;33m\u001b[0m\u001b[1;33m\u001b[0m\u001b[0m\n\u001b[0;32m  13928\u001b[0m         \u001b[0mself\u001b[0m\u001b[1;33m.\u001b[0m\u001b[0m_lock\u001b[0m \u001b[1;33m=\u001b[0m \u001b[0mNullContext\u001b[0m\u001b[1;33m(\u001b[0m\u001b[1;33m)\u001b[0m\u001b[1;33m\u001b[0m\u001b[1;33m\u001b[0m\u001b[0m\n\u001b[1;32m> 13929\u001b[1;33m         \u001b[0mself\u001b[0m\u001b[1;33m.\u001b[0m\u001b[0mopen\u001b[0m\u001b[1;33m(\u001b[0m\u001b[1;33m)\u001b[0m\u001b[1;33m\u001b[0m\u001b[1;33m\u001b[0m\u001b[0m\n\u001b[0m\u001b[0;32m  13930\u001b[0m         \u001b[1;32massert\u001b[0m \u001b[0mself\u001b[0m\u001b[1;33m.\u001b[0m\u001b[0m_fh\u001b[0m \u001b[1;32mis\u001b[0m \u001b[1;32mnot\u001b[0m \u001b[1;32mNone\u001b[0m\u001b[1;33m\u001b[0m\u001b[1;33m\u001b[0m\u001b[0m\n",
      "\u001b[1;32m~\\miniconda3\\Lib\\site-packages\\tifffile\\tifffile.py\u001b[0m in \u001b[0;36m?\u001b[1;34m(self)\u001b[0m\n\u001b[0;32m  13940\u001b[0m         \u001b[1;32mif\u001b[0m \u001b[0misinstance\u001b[0m\u001b[1;33m(\u001b[0m\u001b[0mself\u001b[0m\u001b[1;33m.\u001b[0m\u001b[0m_file\u001b[0m\u001b[1;33m,\u001b[0m \u001b[0mstr\u001b[0m\u001b[1;33m)\u001b[0m\u001b[1;33m:\u001b[0m\u001b[1;33m\u001b[0m\u001b[1;33m\u001b[0m\u001b[0m\n\u001b[0;32m  13941\u001b[0m             \u001b[1;31m# file name\u001b[0m\u001b[1;33m\u001b[0m\u001b[1;33m\u001b[0m\u001b[0m\n\u001b[0;32m  13942\u001b[0m             \u001b[0mself\u001b[0m\u001b[1;33m.\u001b[0m\u001b[0m_file\u001b[0m \u001b[1;33m=\u001b[0m \u001b[0mos\u001b[0m\u001b[1;33m.\u001b[0m\u001b[0mpath\u001b[0m\u001b[1;33m.\u001b[0m\u001b[0mrealpath\u001b[0m\u001b[1;33m(\u001b[0m\u001b[0mself\u001b[0m\u001b[1;33m.\u001b[0m\u001b[0m_file\u001b[0m\u001b[1;33m)\u001b[0m\u001b[1;33m\u001b[0m\u001b[1;33m\u001b[0m\u001b[0m\n\u001b[0;32m  13943\u001b[0m             \u001b[0mself\u001b[0m\u001b[1;33m.\u001b[0m\u001b[0m_dir\u001b[0m\u001b[1;33m,\u001b[0m \u001b[0mself\u001b[0m\u001b[1;33m.\u001b[0m\u001b[0m_name\u001b[0m \u001b[1;33m=\u001b[0m \u001b[0mos\u001b[0m\u001b[1;33m.\u001b[0m\u001b[0mpath\u001b[0m\u001b[1;33m.\u001b[0m\u001b[0msplit\u001b[0m\u001b[1;33m(\u001b[0m\u001b[0mself\u001b[0m\u001b[1;33m.\u001b[0m\u001b[0m_file\u001b[0m\u001b[1;33m)\u001b[0m\u001b[1;33m\u001b[0m\u001b[1;33m\u001b[0m\u001b[0m\n\u001b[1;32m> 13944\u001b[1;33m             \u001b[0mself\u001b[0m\u001b[1;33m.\u001b[0m\u001b[0m_fh\u001b[0m \u001b[1;33m=\u001b[0m \u001b[0mopen\u001b[0m\u001b[1;33m(\u001b[0m\u001b[0mself\u001b[0m\u001b[1;33m.\u001b[0m\u001b[0m_file\u001b[0m\u001b[1;33m,\u001b[0m \u001b[0mself\u001b[0m\u001b[1;33m.\u001b[0m\u001b[0m_mode\u001b[0m\u001b[1;33m)\u001b[0m  \u001b[1;31m# type: ignore\u001b[0m\u001b[1;33m\u001b[0m\u001b[1;33m\u001b[0m\u001b[0m\n\u001b[0m\u001b[0;32m  13945\u001b[0m             \u001b[0mself\u001b[0m\u001b[1;33m.\u001b[0m\u001b[0m_close\u001b[0m \u001b[1;33m=\u001b[0m \u001b[1;32mTrue\u001b[0m\u001b[1;33m\u001b[0m\u001b[1;33m\u001b[0m\u001b[0m\n\u001b[0;32m  13946\u001b[0m             \u001b[1;32mif\u001b[0m \u001b[0mself\u001b[0m\u001b[1;33m.\u001b[0m\u001b[0m_offset\u001b[0m \u001b[1;33m<\u001b[0m \u001b[1;36m0\u001b[0m\u001b[1;33m:\u001b[0m\u001b[1;33m\u001b[0m\u001b[1;33m\u001b[0m\u001b[0m\n\u001b[0;32m  13947\u001b[0m                 \u001b[0mself\u001b[0m\u001b[1;33m.\u001b[0m\u001b[0m_offset\u001b[0m \u001b[1;33m=\u001b[0m \u001b[1;36m0\u001b[0m\u001b[1;33m\u001b[0m\u001b[1;33m\u001b[0m\u001b[0m\n",
      "\u001b[1;31mFileNotFoundError\u001b[0m: [Errno 2] No such file or directory: 'C:\\\\Users\\\\marie\\\\rep_codes\\\\udder_project\\\\udder_processing\\\\depth_images\\\\1084\\\\1084_20231117_150625_frame_318.tif'"
     ]
    }
   ],
   "source": [
    "for file in good.filename:\n",
    "    udder = wu.udder_object(file + \".tif\", img_dir, label_dir, array = 0)\n",
    "    # read image\n",
    "    img = udder.img\n",
    "    imgr = udder.img.copy().astype(float)\n",
    "    imgr[imgr ==0] = np.nan\n",
    "    img = interpolate_replace_nans(imgr, gk)\n",
    "    \n",
    "    # read labels\n",
    "    segment = udder.get_segment()\n",
    "    kppoints = udder.get_keypoints()\n",
    "    # reas WS segmentation\n",
    "    ws_label = np.load(os.path.join(ws_dir, file + \".npy\"))\n",
    "    kp_ws = pd.read_csv(os.path.join(corr_dir, file +\".csv\")).loc[0].to_dict()\n",
    "    # ws_map = dict((v, k) for k, v in kp_ws.items())\n",
    "    # ws_map[0] = \"bg\"\n",
    "    new_kp, kp_ws = wu.update_kp(kp_ws, ws_label, img)\n",
    "    \n",
    "    kp_locs = np.array([np.array(value) for value in new_kp.values()])\n",
    "    kp_points = pts_fromimg(kp_locs, img)\n",
    "    kp_points2 = kp_points.copy()\n",
    "    kp_points2[:, 2] = kp_points[:, 2] *scale\n",
    "    kp = points_toworld(kp_points2)\n",
    "    plane = ols_plane(kp, 3)\n",
    "    kp2 = tilt_ponts(plane, kp)\n",
    "    # kp_dict = {key: kp2[i, :].tolist() for i, key in enumerate(new_kp.keys())}\n",
    "    kp_dict = {key: {} for key in new_kp.keys()}\n",
    "    \n",
    "    mask = udder.get_mask()\n",
    "    rows, cols = np.where(mask == 1)\n",
    "    ud_locs = np.column_stack([np.transpose(cols), np.transpose(rows)])\n",
    "    ud_points = pts_fromimg(ud_locs, img)\n",
    "    ud_points2 = ud_points.copy()\n",
    "    ud_points2[:, 2] = ud_points2[:, 2] *scale\n",
    "    ud = points_toworld(ud_points2)\n",
    "    ud_t = tilt_ponts(plane, ud)\n",
    "    r = ud_points[:, 1].astype(int)\n",
    "    c = ud_points[:, 0].astype(int)\n",
    "    ws_array = ws_label[r, c]\n",
    "\n",
    "    kp_array = np.zeros((ud.shape[0], 1))\n",
    "    for key in new_kp.keys():\n",
    "        y = new_kp[key][1]\n",
    "        x = new_kp[key][0]\n",
    "        kidx = np.where((ud_points[:, 0] == x) & (ud_points[:, 1] == y))[0]\n",
    "        kp_dict[key][\"tidx\"] = int(kidx[0])\n",
    "        kp_dict[key][\"xyz\"] = ud[kidx, :][0].tolist()\n",
    "        kp_array[kidx] = teat_dict[key]\n",
    "    \n",
    "    poly = np.round([[coord[1] * udder.size[0]-1, coord[0]* udder.size[1]-1] for coord in segment]).astype(int)\n",
    "    sg_locs =  np.column_stack([np.transpose(poly[:, 1]), np.transpose(poly[:, 0])])\n",
    "    sg_points = pts_fromimg(sg_locs, img)\n",
    "    sg_points2 = sg_points.copy()\n",
    "    sg_points2[:, 2] = sg_points2[:, 2] *scale\n",
    "    sg = points_toworld(sg_points2)\n",
    "    sg_t = tilt_ponts(plane, sg)\n",
    "    \n",
    "    plane = lad_plane(sg_t)\n",
    "    x_test = ud_t[:, :2]\n",
    "    lad_pred = plane.predict(x_test)\n",
    "    \n",
    "    keep = ud_t[:, 2]<lad_pred\n",
    "    ud_f = ud_t[keep, :]\n",
    "    ws_arrayf = ws_array[keep]\n",
    "    kp_array_tf = kp_array[keep]\n",
    "    # get quarter points after filtering\n",
    "    quarter_dict = {}\n",
    "    for key in kp_ws.keys():\n",
    "        qidx = np.where(ws_arrayf == kp_ws[key])[0]\n",
    "        quarter_dict[key] = ud_f[qidx,:].tolist()\n",
    "\n",
    "    for key in new_kp.keys():\n",
    "        kidx = np.where(kp_array_tf == teat_dict[key])[0]\n",
    "        if len(kidx) > 0:\n",
    "            kp_dict[key][\"tidx_tf\"] = int(kidx[0])\n",
    "            kp_dict[key][\"xyz_tf\"] = ud_f[kidx, :][0].tolist()\n",
    "        else:\n",
    "            kp_dict[key][\"tidx_tf\"] = -1 # use this to filter later\n",
    "            kp_dict[key][\"xyz_tf\"] = []\n",
    "        \n",
    "    # save outputs\n",
    "    np.save(os.path.join(out_path, \"raw\", file + \".npy\"), ud)\n",
    "    np.save(os.path.join(out_path, \"udder\", file + \".npy\"), ud_f)\n",
    "    \n",
    "    with open(os.path.join(out_path, \"keypoints\", file + \".json\"), 'w') as f:\n",
    "        json.dump(kp_dict, f)\n",
    "    with open(os.path.join(out_path, \"quarters\", file + \".json\"), 'w') as f:\n",
    "        json.dump(quarter_dict, f)"
   ]
  },
  {
   "cell_type": "code",
   "execution_count": null,
   "id": "4530404e-6c2f-4a58-8077-f7388e025865",
   "metadata": {},
   "outputs": [],
   "source": [
    "plane = ols_plane(sg_t, sg_t.shape[0])\n",
    "a = plane[1]\n",
    "b = plane[2]\n",
    "c = -1\n",
    "d = plane[0]\n",
    "ols_pred = a *x_test[:, 0]+ b * x_test[:,1] + d"
   ]
  },
  {
   "cell_type": "code",
   "execution_count": null,
   "id": "4bd6838f-7010-438c-ac07-79abc26ce2bf",
   "metadata": {},
   "outputs": [],
   "source": [
    "x = ud_t[:, 0]\n",
    "y = ud_t[:, 1]\n",
    "z = ud_t[:, 2]\n",
    "fig =  go.Figure(data=[go.Scatter3d(x=x, y=y, z=z, mode='markers', marker=dict(color=z, colorscale =\"viridis\", size = 2), name = \"Udder\")])\n",
    "x = x_test[:, 0]\n",
    "y = x_test[:, 1]\n",
    "z = lad_pred\n",
    "fig.add_trace(go.Scatter3d(x = x, y = y, z=z,mode='markers',marker=dict(size=2, color=\"blue\"), name = \"lad\"))\n",
    "z = ols_pred\n",
    "fig.add_trace(go.Scatter3d(x=x, y=y, z=z, mode='markers', marker=dict(color=\"red\", size = 2), name = \"ols\"))\n",
    "fig.write_html(\"plot.html\")"
   ]
  },
  {
   "cell_type": "code",
   "execution_count": null,
   "id": "c3fbe12b-cf7e-4ec8-abd9-b06ee212b2db",
   "metadata": {},
   "outputs": [],
   "source": [
    "points = np.array(quarter_dict[\"lf\"])\n",
    "x = points[:, 0]\n",
    "y = points[:, 1]\n",
    "z = points[:, 2]\n",
    "fig =  go.Figure(data=[go.Scatter3d(x=x, y=y, z=z, mode='markers', marker=dict(color=\"red\", size = 2), name = \"Udder\")])\n",
    "\n",
    "points = np.array(quarter_dict[\"lb\"])\n",
    "x = points[:, 0]\n",
    "y = points[:, 1]\n",
    "z = points[:, 2]\n",
    "fig.add_trace(go.Scatter3d(x=x, y=y, z=z, mode='markers', marker=dict(color=\"blue\", size = 2), name = \"ols\"))\n",
    "\n",
    "points = np.array(quarter_dict[\"rb\"])\n",
    "x = points[:, 0]\n",
    "y = points[:, 1]\n",
    "z = points[:, 2]\n",
    "fig.add_trace(go.Scatter3d(x=x, y=y, z=z, mode='markers', marker=dict(color=\"yellow\", size = 2), name = \"ols\"))\n",
    "\n",
    "points = np.array(quarter_dict[\"rf\"])\n",
    "x = points[:, 0]\n",
    "y = points[:, 1]\n",
    "z = points[:, 2]\n",
    "fig.add_trace(go.Scatter3d(x=x, y=y, z=z, mode='markers', marker=dict(color=\"green\", size = 2), name = \"ols\"))\n",
    "fig"
   ]
  },
  {
   "cell_type": "code",
   "execution_count": null,
   "id": "edc148cd-f704-416b-8204-78517b1b17c4",
   "metadata": {},
   "outputs": [],
   "source": [
    "len(good.filename)"
   ]
  }
 ],
 "metadata": {
  "kernelspec": {
   "display_name": "Python 3 (ipykernel)",
   "language": "python",
   "name": "python3"
  },
  "language_info": {
   "codemirror_mode": {
    "name": "ipython",
    "version": 3
   },
   "file_extension": ".py",
   "mimetype": "text/x-python",
   "name": "python",
   "nbconvert_exporter": "python",
   "pygments_lexer": "ipython3",
   "version": "3.10.14"
  }
 },
 "nbformat": 4,
 "nbformat_minor": 5
}
