{
 "cells": [
  {
   "cell_type": "code",
   "execution_count": null,
   "id": "8bd5c080-7f2c-4148-8738-6e0ef3946040",
   "metadata": {},
   "outputs": [],
   "source": [
    "import numpy as np \n",
    "import pandas as pd\n"
   ]
  },
  {
   "cell_type": "code",
   "execution_count": null,
   "id": "ed8ccff4-f06a-47f2-89fe-18278296a181",
   "metadata": {},
   "outputs": [],
   "source": [
    "# read udder and quarter point coulds\n",
    "\n",
    "# calculate volumne \n",
    "\n",
    "# calculate surcae area\n",
    "\n"
   ]
  }
 ],
 "metadata": {
  "kernelspec": {
   "display_name": "Python 3 (ipykernel)",
   "language": "python",
   "name": "python3"
  },
  "language_info": {
   "codemirror_mode": {
    "name": "ipython",
    "version": 3
   },
   "file_extension": ".py",
   "mimetype": "text/x-python",
   "name": "python",
   "nbconvert_exporter": "python",
   "pygments_lexer": "ipython3",
   "version": "3.11.5"
  }
 },
 "nbformat": 4,
 "nbformat_minor": 5
}
