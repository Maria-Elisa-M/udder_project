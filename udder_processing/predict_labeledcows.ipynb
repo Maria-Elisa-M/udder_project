{
 "cells": [
  {
   "cell_type": "code",
   "execution_count": 4,
   "id": "df0a9dae-7ecd-4026-8d60-987d6680c81e",
   "metadata": {
    "tags": []
   },
   "outputs": [],
   "source": [
    "import pandas as pd\n",
    "import os\n",
    "import cv2\n",
    "# from ultralytics import YOLO"
   ]
  },
  {
   "cell_type": "code",
   "execution_count": 2,
   "id": "ba92ee4a-9670-4e26-90b5-11153f5c37ca",
   "metadata": {
    "tags": []
   },
   "outputs": [],
   "source": [
    "# good frames\n",
    "dirpath = os.getcwd()\n",
    "frames_df = pd.read_csv(os.path.join(os.path.normpath(dirpath + os.sep + os.pardir), r\"udder_labels\\frame_class_list.csv\"))\n",
    "good_frames = frames_df[frames_df.frame_class ==1]\n",
    "image_path = os.path.join(os.path.normpath(dirpath + os.sep + os.pardir), r\"udder_video\\depth_images\")"
   ]
  },
  {
   "cell_type": "code",
   "execution_count": 3,
   "id": "e815a669-cfa4-41b9-a266-fa33e45c46d4",
   "metadata": {},
   "outputs": [
    {
     "ename": "NameError",
     "evalue": "name 'YOLO' is not defined",
     "output_type": "error",
     "traceback": [
      "\u001b[1;31m---------------------------------------------------------------------------\u001b[0m",
      "\u001b[1;31mNameError\u001b[0m                                 Traceback (most recent call last)",
      "Cell \u001b[1;32mIn[3], line 7\u001b[0m\n\u001b[0;32m      4\u001b[0m modelpath_segment \u001b[38;5;241m=\u001b[39m os\u001b[38;5;241m.\u001b[39mpath\u001b[38;5;241m.\u001b[39mjoin(model_path, \u001b[38;5;124mr\u001b[39m\u001b[38;5;124m\"\u001b[39m\u001b[38;5;124mudder_segment\u001b[39m\u001b[38;5;124m\\\u001b[39m\u001b[38;5;124mruns\u001b[39m\u001b[38;5;124m\\\u001b[39m\u001b[38;5;124msegment\u001b[39m\u001b[38;5;124m\\\u001b[39m\u001b[38;5;124mtrain\u001b[39m\u001b[38;5;124m\\\u001b[39m\u001b[38;5;124mweights\u001b[39m\u001b[38;5;124m\\\u001b[39m\u001b[38;5;124mbest.pt\u001b[39m\u001b[38;5;124m\"\u001b[39m)\n\u001b[0;32m      5\u001b[0m modelpath_keypoints \u001b[38;5;241m=\u001b[39m os\u001b[38;5;241m.\u001b[39mpath\u001b[38;5;241m.\u001b[39mjoin(model_path, \u001b[38;5;124mr\u001b[39m\u001b[38;5;124m\"\u001b[39m\u001b[38;5;124mteat_keypoints\u001b[39m\u001b[38;5;124m\\\u001b[39m\u001b[38;5;124mruns\u001b[39m\u001b[38;5;124m\\\u001b[39m\u001b[38;5;124mpose\u001b[39m\u001b[38;5;124m\\\u001b[39m\u001b[38;5;124mtrain\u001b[39m\u001b[38;5;124m\\\u001b[39m\u001b[38;5;124mweights\u001b[39m\u001b[38;5;124m\\\u001b[39m\u001b[38;5;124mbest.pt\u001b[39m\u001b[38;5;124m\"\u001b[39m)\n\u001b[1;32m----> 7\u001b[0m model_classify \u001b[38;5;241m=\u001b[39m YOLO(modelpath_classify)\n\u001b[0;32m      8\u001b[0m model_segment \u001b[38;5;241m=\u001b[39m YOLO(modelpath_segment)\n\u001b[0;32m      9\u001b[0m model_keypoints \u001b[38;5;241m=\u001b[39m YOLO(modelpath_keypoints)\n",
      "\u001b[1;31mNameError\u001b[0m: name 'YOLO' is not defined"
     ]
    }
   ],
   "source": [
    "# model path\n",
    "model_path = os.path.join(os.path.normpath(dirpath + os.sep + os.pardir), r'udder_models')\n",
    "modelpath_classify = os.path.join(model_path, r\"frame_classify\\runs\\classify\\train\\weights\\best.pt\")\n",
    "modelpath_segment = os.path.join(model_path, r\"udder_segment\\runs\\segment\\train\\weights\\best.pt\")\n",
    "modelpath_keypoints = os.path.join(model_path, r\"teat_keypoints\\runs\\pose\\train\\weights\\best.pt\")\n",
    "\n",
    "model_classify = YOLO(modelpath_classify)\n",
    "model_segment = YOLO(modelpath_segment)\n",
    "model_keypoints = YOLO(modelpath_keypoints)\n"
   ]
  },
  {
   "cell_type": "code",
   "execution_count": 9,
   "id": "28798b48-5e50-4df4-8a52-1d90de17a9b9",
   "metadata": {},
   "outputs": [],
   "source": [
    "def save_segment(filename, polygon):\n",
    "    outpath = os.path.join(r\"validate_watershed\\pred_labels\\segments\", filename)\n",
    "    segment = [str(pt) for p in  polygon for pt in p]\n",
    "    segment = [str(0)] + segment\n",
    "    with open(outpath, \"w\") as f:\n",
    "        f.write(\" \".join(segment))\n",
    "\n",
    "def save_keypoints(filename, kpoints, bbox):\n",
    "    outpath = os.path.join(r\"validate_watershed\\pred_labels\\keypoints\", filename)\n",
    "    points = [str(pt) for p in  kpoints for pt in p]\n",
    "    points = [str(0)] + [str(p) for p in bbox] + points\n",
    "    with open(outpath, \"w\") as f:\n",
    "        f.write(\" \".join(points))\n",
    "\n",
    "def save_bbox(filename,  bbox):\n",
    "    outpath = os.path.join(r\"validate_watershed\\pred_labels\\bbox\", filename)\n",
    "    bbox = [str(0)] + [str(p) for p in bbox]\n",
    "    with open(outpath, \"w\") as f:\n",
    "        f.write(\" \".join(bbox))\n",
    "        \n",
    "def mask_img(poly, img):\n",
    "    h, w = img.shape\n",
    "    mask2 = np.zeros([h,w]).astype(\"int16\")\n",
    "    mask = cv2.fillPoly(mask2, np.array([poly]).astype(np.int32), color=1)\n",
    "    masked_im = (img*mask).astype(\"int16\")\n",
    "    return masked_im\n",
    "\n",
    "def is_not_dup(arr):\n",
    "    u, c = np.unique(arr, axis=0, return_counts=True)\n",
    "    return not (c>1).any()"
   ]
  },
  {
   "cell_type": "code",
   "execution_count": 5,
   "id": "2d312dca-bb71-4ab5-98c9-6c32feb75bd4",
   "metadata": {},
   "outputs": [],
   "source": [
    "for i in range(len(good_frames))[:1]:\n",
    "    cow = good_frames.loc[i, \"cow\"]\n",
    "    filename = good_frames.loc[i, \"filename\"] + \".tif\"\n",
    "    filepath = os.path.join(image_path, str(cow), filename)\n",
    "    outname =  good_frames.loc[i, \"filename\"] + \".txt\"\n",
    "    img = cv2.imread(filepath)"
   ]
  },
  {
   "cell_type": "code",
   "execution_count": 15,
   "id": "44f45f15-aa59-445b-bac9-f47573977096",
   "metadata": {},
   "outputs": [],
   "source": [
    "img = np.asarray(Image.open(filepath)).astype(\"int16\")"
   ]
  },
  {
   "cell_type": "code",
   "execution_count": 16,
   "id": "9ce02b5e-fe74-4ba5-be7b-8cfc57614b84",
   "metadata": {
    "tags": []
   },
   "outputs": [
    {
     "data": {
      "text/plain": [
       "(480, 848)"
      ]
     },
     "execution_count": 16,
     "metadata": {},
     "output_type": "execute_result"
    }
   ],
   "source": [
    "img.shape"
   ]
  },
  {
   "cell_type": "code",
   "execution_count": 26,
   "id": "3f87a94b-7437-4c2e-9f27-37d718bd98ab",
   "metadata": {
    "tags": []
   },
   "outputs": [
    {
     "data": {
      "text/plain": [
       "array([], dtype=int64)"
      ]
     },
     "execution_count": 26,
     "metadata": {},
     "output_type": "execute_result"
    }
   ],
   "source": [
    "li = good_frames.index.values\n",
    "li[li==193]"
   ]
  },
  {
   "cell_type": "code",
   "execution_count": 28,
   "id": "721aaa68-1cb0-41a4-a3d1-0aaf2aedac90",
   "metadata": {
    "tags": []
   },
   "outputs": [
    {
     "data": {
      "text/plain": [
       "array([193], dtype=int64)"
      ]
     },
     "execution_count": 28,
     "metadata": {},
     "output_type": "execute_result"
    }
   ],
   "source": [
    "good_frames = good_frames.reset_index()\n",
    "li = good_frames.index.values\n",
    "li[li==193]"
   ]
  },
  {
   "cell_type": "code",
   "execution_count": 14,
   "id": "1dacc315-9cf6-478c-8f6e-4e27b95370bc",
   "metadata": {
    "tags": []
   },
   "outputs": [],
   "source": [
    "import pandas as pd\n",
    "import os\n",
    "from PIL import Image\n",
    "import numpy as np\n",
    "import cv2"
   ]
  }
 ],
 "metadata": {
  "kernelspec": {
   "display_name": "Python 3 (ipykernel)",
   "language": "python",
   "name": "python3"
  },
  "language_info": {
   "codemirror_mode": {
    "name": "ipython",
    "version": 3
   },
   "file_extension": ".py",
   "mimetype": "text/x-python",
   "name": "python",
   "nbconvert_exporter": "python",
   "pygments_lexer": "ipython3",
   "version": "3.11.5"
  }
 },
 "nbformat": 4,
 "nbformat_minor": 5
}
