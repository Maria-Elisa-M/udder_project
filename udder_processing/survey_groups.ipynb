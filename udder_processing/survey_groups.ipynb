{
 "cells": [
  {
   "cell_type": "code",
   "execution_count": 1,
   "id": "df5451ff-8605-4ea3-a142-191018fd7bfc",
   "metadata": {
    "tags": []
   },
   "outputs": [],
   "source": [
    "import os\n",
    "import numpy as np\n",
    "import pandas as pd\n",
    "import shutil"
   ]
  },
  {
   "cell_type": "code",
   "execution_count": 2,
   "id": "5a0a4e91-8b79-451d-a62b-b2563fd8fc28",
   "metadata": {
    "tags": []
   },
   "outputs": [],
   "source": [
    "def mk_dir(dirpath):\n",
    "    if not os.path.exists(dirpath):\n",
    "        os.mkdir(dirpath)"
   ]
  },
  {
   "cell_type": "code",
   "execution_count": 3,
   "id": "711fd9e5-9aa1-4804-ad4d-0311e31b1fd5",
   "metadata": {
    "tags": []
   },
   "outputs": [],
   "source": [
    "dirpath = os.getcwd()\n",
    "lbl_dir = os.path.join(os.path.normpath(dirpath + os.sep + os.pardir), r\"udder_labels\\labels\\keypoints\")\n",
    "label_list = [file.replace(\".txt\", \"\") for file in os.listdir(lbl_dir)]\n",
    "ped_dir = r\"validate_watershed\\pred_labels\\keypoints\"\n",
    "pred_list = [file.replace(\".txt\", \"\") for file in os.listdir(ped_dir)]\n",
    "group_dir = r\"validate_watershed\\survey_groups\"\n",
    "img_path = r\"validate_watershed\\watershed_examples\"\n",
    "\n",
    "img_list = sorted(list(set(pred_list).difference(set(label_list))))\n",
    "cow_list = [file.split(\"_\")[0] for file in img_list]\n",
    "img_df = pd.DataFrame({\"cow\": cow_list, \"filename\": img_list})\n",
    "cow_list2, counts = np.unique(cow_list, return_counts=True)\n",
    "cow_list2 = cow_list2[np.argsort(counts)]\n",
    "ngroups = 30\n",
    "img_pgroup = 10\n",
    "total_images = ngroups*img_pgroup\n",
    "total_cows = len(cow_list2)\n",
    "img_pcow = total_images//total_cows\n",
    "cows_wex = total_images%total_cows\n",
    "img_pcow_list = [img_pcow]*(total_cows - cows_wex) + [img_pcow +1 ] *cows_wex\n",
    "gorup_list = list(range(ngroups))*img_pgroup\n",
    "group_idx = np.repeat(list(range(img_pgroup)), ngroups)"
   ]
  },
  {
   "cell_type": "code",
   "execution_count": 4,
   "id": "f9339dbf-1618-486b-b435-f389869b42f1",
   "metadata": {
    "tags": []
   },
   "outputs": [],
   "source": [
    "selframes_df = pd.DataFrame(columns = [\"cow\", \"filename\", \"group\", \"idx\"])\n",
    "frame_dict = {}\n",
    "for i, cow in enumerate(cow_list2):\n",
    "    cow_im = img_pcow_list[i]\n",
    "    cow_frames = list(img_df[img_df.cow == cow][\"filename\"])\n",
    "    np.random.seed(5)\n",
    "    np.random.shuffle(cow_frames)\n",
    "    selected_frames = cow_frames[:cow_im]\n",
    "    temp_df = pd.DataFrame({\"cow\": [cow]*cow_im, \"filename\": selected_frames, \"group\": None} )\n",
    "    selframes_df = pd.concat([selframes_df, temp_df], axis = 0, ignore_index = True)\n",
    "    frame_dict[cow] = selected_frames\n",
    "    \n",
    "selframes_df[\"group\"] = gorup_list\n",
    "selframes_df[\"idx\"] = group_idx\n",
    "\n",
    "for i  in range(len(selframes_df)):\n",
    "    line = selframes_df.loc[i]\n",
    "    filename = line.filename + \".png\"\n",
    "    out_name = \"g\" + str(line.group) + \"_\" + str(line.idx) +\".png\"\n",
    "    src = os.path.join(img_path, line.cow, filename)\n",
    "    out_path = os.path.join(group_dir, \"group_\" + str(line.group))\n",
    "    mk_dir(out_path)\n",
    "    dest =  os.path.join(out_path, out_name)\n",
    "    shutil.copy(src, dest)"
   ]
  },
  {
   "cell_type": "code",
   "execution_count": 15,
   "id": "a0829407-7cc5-4a24-93cb-973d5d312902",
   "metadata": {
    "tags": []
   },
   "outputs": [],
   "source": [
    "selframes_df.to_csv(\"validate_watershed\\survey_grous.csv\", index= False)"
   ]
  }
 ],
 "metadata": {
  "kernelspec": {
   "display_name": "Python 3 (ipykernel)",
   "language": "python",
   "name": "python3"
  },
  "language_info": {
   "codemirror_mode": {
    "name": "ipython",
    "version": 3
   },
   "file_extension": ".py",
   "mimetype": "text/x-python",
   "name": "python",
   "nbconvert_exporter": "python",
   "pygments_lexer": "ipython3",
   "version": "3.11.5"
  }
 },
 "nbformat": 4,
 "nbformat_minor": 5
}
