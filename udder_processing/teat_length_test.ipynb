{
 "cells": [
  {
   "cell_type": "code",
   "execution_count": null,
   "id": "d08a838c-969e-4d76-b718-f2b2e95969fb",
   "metadata": {},
   "outputs": [],
   "source": [
    "import os \n",
    "import pandas as pd\n",
    "import matplotlib.pyplot as plt"
   ]
  },
  {
   "cell_type": "code",
   "execution_count": null,
   "id": "b5ed0769-c0f6-49eb-9849-c7adde0cdcb8",
   "metadata": {},
   "outputs": [],
   "source": [
    "dirpath = os.getcwd()\n",
    "kp_dir = os.path.join(os.path.normpath(dirpath + os.sep + os.pardir), r\"udder_labels\\labels\\keypoints\")\n",
    "sg_dir = os.path.join(os.path.normpath(dirpath + os.sep + os.pardir), r\"udder_labels\\labels\\segments\")\n",
    "im_dir = os.path.join(os.path.normpath(dirpath + os.sep + os.pardir), r\"udder_labels\\frames_tolabel_depth\")\n"
   ]
  }
 ],
 "metadata": {
  "kernelspec": {
   "display_name": "Python 3 (ipykernel)",
   "language": "python",
   "name": "python3"
  },
  "language_info": {
   "codemirror_mode": {
    "name": "ipython",
    "version": 3
   },
   "file_extension": ".py",
   "mimetype": "text/x-python",
   "name": "python",
   "nbconvert_exporter": "python",
   "pygments_lexer": "ipython3",
   "version": "3.11.5"
  }
 },
 "nbformat": 4,
 "nbformat_minor": 5
}
