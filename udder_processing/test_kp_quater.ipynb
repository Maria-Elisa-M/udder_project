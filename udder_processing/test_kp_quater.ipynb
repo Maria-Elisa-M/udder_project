{
 "cells": [
  {
   "cell_type": "code",
   "execution_count": 1,
   "id": "1032a273-ffee-4f52-9c4a-54b7584132bf",
   "metadata": {
    "tags": []
   },
   "outputs": [
    {
     "name": "stderr",
     "output_type": "stream",
     "text": [
      "C:\\Users\\marie\\anaconda3\\lib\\site-packages\\paramiko\\transport.py:219: CryptographyDeprecationWarning: Blowfish has been deprecated\n",
      "  \"class\": algorithms.Blowfish,\n"
     ]
    }
   ],
   "source": [
    "import numpy as np\n",
    "import matplotlib.pyplot as plt\n",
    "from scipy import ndimage as ndi\n",
    "import os\n",
    "import watershed_udder as wu\n",
    "import pandas as pd"
   ]
  },
  {
   "cell_type": "code",
   "execution_count": 4,
   "id": "e61c77f8-b4ca-4162-8c49-1d89e0eeecda",
   "metadata": {
    "tags": []
   },
   "outputs": [],
   "source": [
    "\n",
    "\n",
    "dirpath = os.getcwd()\n",
    "label_dir = os.path.join(dirpath, r\"validate_watershed\\pred_labels\")\n",
    "kp_dir = os.path.join(label_dir, r\"keypoints\")\n",
    "sg_dir = os.path.join(label_dir, r\"segments\")\n",
    "im_dir = os.path.join(os.path.normpath(dirpath + os.sep + os.pardir), r\"udder_video\\depth_images\")\n",
    "out_dir = r\"validate_watershed\\watershed_segments\"\n",
    "out_dir2 = r\"validate_watershed\\watershed_correspondence\"\n",
    "filenames = [file.replace(\".txt\", \".tif\") for file in os.listdir(kp_dir)]\n",
    "\n",
    "cnt = 0\n",
    "for file in filenames[:10]:\n",
    "    out_name = file.replace(\".tif\", \".npy\")\n",
    "    udder = wu.udder_object(file,im_dir, label_dir)\n",
    "    udder_shp = udder.get_shape()\n",
    "    udder_box = udder.get_box()\n",
    "    points = udder.get_keypoints()\n",
    "    udder_box = udder.get_keypoints()\n",
    "    udder_mask = udder.get_mask()\n",
    "    masked_udder = udder.img*udder_mask\n",
    "    mask1 = np.zeros(udder.size)\n",
    "    points2 =np.round(points,0).astype(int)\n",
    "\n",
    "    lf_kp = points[0, :2]\n",
    "    rf_kp = points[1, :2]\n",
    "    lb_kp = points[2, :2]\n",
    "    rb_kp = points[3, :2]\n",
    "\n",
    "    new_front = wu.sep_points(rf_kp, lf_kp, udder_shp, udder_box)\n",
    "    points2[0, :2] = new_front[0]\n",
    "    points2[1, :2] = new_front[1]\n",
    "\n",
    "    new_back = wu.sep_points(rb_kp, lb_kp, udder_shp, udder_box)\n",
    "    points2[2, :2] = new_back[0]\n",
    "    points2[3, :2] = new_back[1]\n",
    "    \n",
    "    labels = wu.watershed_labels(points2, udder)\n",
    "    \n",
    "    temp = pd.DataFrame(wu.find_correspondence(points2, labels), index = [0])\n",
    "    temp.to_csv(os.path.join(out_dir2, file.replace(\".tif\", \".csv\")), index = False)"
   ]
  },
  {
   "cell_type": "code",
   "execution_count": null,
   "id": "77223faa-3ce5-43ba-b2a6-383965087bc5",
   "metadata": {},
   "outputs": [],
   "source": []
  }
 ],
 "metadata": {
  "kernelspec": {
   "display_name": "Python 3 (ipykernel)",
   "language": "python",
   "name": "python3"
  },
  "language_info": {
   "codemirror_mode": {
    "name": "ipython",
    "version": 3
   },
   "file_extension": ".py",
   "mimetype": "text/x-python",
   "name": "python",
   "nbconvert_exporter": "python",
   "pygments_lexer": "ipython3",
   "version": "3.10.13"
  }
 },
 "nbformat": 4,
 "nbformat_minor": 5
}
