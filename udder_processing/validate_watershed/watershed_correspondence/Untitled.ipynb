{
 "cells": [
  {
   "cell_type": "code",
   "execution_count": null,
   "id": "d6f8af18-a7b1-44cc-aa77-597ee1cb3f38",
   "metadata": {},
   "outputs": [],
   "source": [
    "# read watershed\n",
    "# read correspondence\n",
    "# get region props"
   ]
  },
  {
   "cell_type": "code",
   "execution_count": null,
   "id": "53caf16b-3cce-4a10-a227-c1406d1c9fb5",
   "metadata": {},
   "outputs": [],
   "source": []
  }
 ],
 "metadata": {
  "kernelspec": {
   "display_name": "Python 3 (ipykernel)",
   "language": "python",
   "name": "python3"
  },
  "language_info": {
   "codemirror_mode": {
    "name": "ipython",
    "version": 3
   },
   "file_extension": ".py",
   "mimetype": "text/x-python",
   "name": "python",
   "nbconvert_exporter": "python",
   "pygments_lexer": "ipython3",
   "version": "3.10.13"
  }
 },
 "nbformat": 4,
 "nbformat_minor": 5
}
