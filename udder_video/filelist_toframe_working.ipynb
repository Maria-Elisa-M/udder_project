{
 "cells": [
  {
   "cell_type": "code",
   "execution_count": 1,
   "id": "55d54f04-4e6a-426c-a6ff-d336eea5d4da",
   "metadata": {
    "tags": []
   },
   "outputs": [],
   "source": [
    "import pandas as pd\n",
    "import os\n",
    "import numpy as np"
   ]
  },
  {
   "cell_type": "code",
   "execution_count": 9,
   "id": "e34ba0a7-1b58-4d98-a389-74ed7baa7295",
   "metadata": {
    "tags": []
   },
   "outputs": [
    {
     "name": "stdout",
     "output_type": "stream",
     "text": [
      "There are 162 videos\n",
      "There are 158 videos after removing those that give an error\n",
      "There are 151 unique cows\n"
     ]
    }
   ],
   "source": [
    "# info\n",
    "path = os.getcwd()\n",
    "dirpath = os.path.join(path, \"video_metadata\")\n",
    "files_df = pd.read_csv(os.path.join(dirpath,\"video_metadata_20231117.csv\"))\n",
    "print(f\"There are {len(files_df)} videos\")\n",
    "# remove the files that give an error \n",
    "remove_files = [\"1184_20231117_172549.bag\", \"1223_20231117_153008.bag\", \"738_20231117_104922.bag\", \"855_20231117_170701.bag\"]\n",
    "files_df = files_df[~files_df.filename.isin(remove_files)]\n",
    "print(f\"There are {len(files_df)} videos after removing those that give an error\")\n",
    "\n",
    "print(f\"There are {len(np.unique(files_df.cow))} unique cows\")\n",
    "files_df[\"time2\"] = pd.to_datetime(files_df[\"time\"], format= '%H:%M:%S')\n",
    "files_df = files_df.sort_values(by='time2').reset_index(drop= True)\n",
    "# select 25 cows from each computer \n",
    "cow_list1 = np.concatenate((np.unique(files_df[files_df.computer == \"guilherme\"].cow)[:25], \\\n",
    "                              np.unique(files_df[files_df.computer == \"maria\"].cow)[:25]))\n",
    "\n",
    "cow_list2 =np.concatenate((np.unique(files_df[files_df.computer == \"guilherme\"].cow)[25:], np.unique(files_df[files_df.computer == \"maria\"].cow)[25:], np.unique(files_df[files_df.computer == \"lab\"].cow)))"
   ]
  },
  {
   "cell_type": "code",
   "execution_count": 10,
   "id": "ada9cd59-8d44-47ee-8372-d80dbe10ad21",
   "metadata": {
    "tags": []
   },
   "outputs": [],
   "source": [
    "# keep only the first video for each coe in the list\n",
    "file_list = []\n",
    "for cow in cow_list1:\n",
    "    cow_files = files_df[files_df.cow == cow].reset_index(drop= True)\n",
    "    file_list.append( \",\".join(cow_files.iloc[0][[\"directory\", \"filename\"]]))\n",
    "\n",
    "with open(\"filelist_toframe.txt\", \"w\") as f:\n",
    "    f.write(\"\\n\".join(file_list))\n",
    "    \n",
    "file_list = []\n",
    "for cow in cow_list2:\n",
    "    cow_files = files_df[files_df.cow == cow].reset_index(drop= True)\n",
    "    file_list.append( \",\".join(cow_files.iloc[0][[\"directory\", \"filename\"]]))\n",
    "\n",
    "with open(\"filelist_topred.txt\", \"w\") as f:\n",
    "    f.write(\"\\n\".join(file_list))"
   ]
  }
 ],
 "metadata": {
  "kernelspec": {
   "display_name": "Python 3 (ipykernel)",
   "language": "python",
   "name": "python3"
  },
  "language_info": {
   "codemirror_mode": {
    "name": "ipython",
    "version": 3
   },
   "file_extension": ".py",
   "mimetype": "text/x-python",
   "name": "python",
   "nbconvert_exporter": "python",
   "pygments_lexer": "ipython3",
   "version": "3.11.5"
  }
 },
 "nbformat": 4,
 "nbformat_minor": 5
}
