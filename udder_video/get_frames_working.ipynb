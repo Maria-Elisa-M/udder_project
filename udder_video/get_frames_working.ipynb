{
 "cells": [
  {
   "cell_type": "code",
   "execution_count": 1,
   "id": "400296c2-e98b-4974-b7e7-b785798b3429",
   "metadata": {
    "tags": []
   },
   "outputs": [],
   "source": [
    "import os\n",
    "import sys\n",
    "import pyrealsense2 as rs\n",
    "import numpy as np\n",
    "import rosbag\n",
    "from tifffile import imwrite"
   ]
  },
  {
   "cell_type": "code",
   "execution_count": 30,
   "id": "89b91e43-e4ee-49bf-8a1e-619a6c2a4fa4",
   "metadata": {
    "tags": []
   },
   "outputs": [],
   "source": [
    "def mk_dir(dirpath):\n",
    "    if not os.path.exists(dirpath):\n",
    "        os.mkdir(dirpath)\n",
    "        \n",
    "def get_num_frames(filepath):\n",
    "    topic = \"/device_0/sensor_0/Depth_0/image/data\"\n",
    "    bag = rosbag.Bag(filepath, \"r\")\n",
    "    nframes = int(bag.get_type_and_topic_info()[1][topic][1])\n",
    "    return nframes\n",
    "\n",
    "def get_depth_frame(filepath, filename, outpath, outpath2, outpath3):\n",
    "    nframes = get_num_frames(filepath)\n",
    "    \n",
    "    try:\n",
    "        config = rs.config()\n",
    "        rs.config.enable_device_from_file(config, filepath, repeat_playback = False)\n",
    "        pipeline = rs.pipeline()\n",
    "        config.enable_stream(rs.stream.depth, rs.format.z16, 30)\n",
    "        profile = pipeline.start(config)\n",
    "        playback = profile.get_device().as_playback()\n",
    "        playback.set_real_time(False)\n",
    "        i = 0\n",
    "        colorizer = rs.colorizer()\n",
    "        while True:\n",
    "            frames = pipeline.wait_for_frames()\n",
    "            playback.pause()\n",
    "            depth_frame = frames.get_depth_frame()\n",
    "            depth_color_frame = colorizer.colorize(depth_frame)\n",
    "            if i == 0:\n",
    "                color_array = np.empty((nframes, np.array(depth_color_frame.get_data()).shape[0], np.array(depth_color_frame.get_data()).shape[1], 3), dtype= \"uint8\")\n",
    "                depth_array = np.empty((nframes, np.array(depth_frame.get_data()).shape[0], np.array(depth_frame.get_data()).shape[1]), dtype= \"uint8\")\n",
    "                \n",
    "            color_array[i] = np.expand_dims(np.array(depth_color_frame.get_data()), axis=0)\n",
    "            depth_array[i] = np.expand_dims(np.array(depth_frame.get_data()), axis=0)   \n",
    "            i += 1\n",
    "            playback.resume()\n",
    "            \n",
    "    except RuntimeError:\n",
    "        cow = str(int(filename.split(\"_\")[0]))\n",
    "        video = \"_\".join(filename.split(\"_\")[1]\n",
    "        arraypath = os.path.join(outpath1, cow)\n",
    "        colorpath = os.path.join(outpath2, cow)\n",
    "        depthpath = os.path.join(outpath3, cow)\n",
    "        mk_dir(arraypath)\n",
    "        mk_dir(colorpath)\n",
    "        mk_dir(depthpath)\n",
    "        fname_color = cow + \"_\" + video + \"_colorframe_\" + str(i)\n",
    "        fname_depth =  cow + \"_\" + video + \"_depthframe_\" + str(i)\n",
    "        np.save(os.path.join(arraypath, fname_depth), depth_array[0:i])\n",
    "        np.save(os.path.join(arraypath, fname_color), color_array[0:i])\n",
    "        for j in range(0, nframes):\n",
    "            imwrite(os.path.join(colorpath, cow + \"_\" + video + \"_frame_\"+str(j+1)+\".tif\"), color_array[j])\n",
    "            imwrite(os.path.join(depthpath, cow + \"_\" + video + \"_frame_\"+str(j+1)+\".tif\"), depth_array[j])\n",
    "\n",
    "    finally:\n",
    "        pipeline.stop()\n",
    "        \n",
    "path = os.getcwd()\n",
    "inpath =  os.path.join(path, \"video_files\")\n",
    "outpath1 = os.path.join(path, \"arrays\")\n",
    "outpath2 = os.path.join(path, \"color_images\")\n",
    "outpath3 = os.path.join(path, \"depth_images\")\n",
    "\n",
    "with open(\"filelist_toframe.txt\", \"r\") as f:\n",
    "    video_files = [file.replace(\"\\n\", \"\").split(\",\") for file in f.readlines()]\n",
    "# video_files = video_files.split(\"\\n\")\n",
    "\n",
    "for file in video_files:\n",
    "    filepath = os.path.join(inpath, file[0], file[1])\n",
    "    get_depth_frame(filepath, file[1], outpath1, outpath2, outpath3)"
   ]
  }
 ],
 "metadata": {
  "kernelspec": {
   "display_name": "Python 3 (ipykernel)",
   "language": "python",
   "name": "python3"
  },
  "language_info": {
   "codemirror_mode": {
    "name": "ipython",
    "version": 3
   },
   "file_extension": ".py",
   "mimetype": "text/x-python",
   "name": "python",
   "nbconvert_exporter": "python",
   "pygments_lexer": "ipython3",
   "version": "3.11.5"
  }
 },
 "nbformat": 4,
 "nbformat_minor": 5
}
