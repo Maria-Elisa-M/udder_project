{
 "cells": [
  {
   "cell_type": "code",
   "execution_count": 15,
   "id": "a4b40fbc-f0fb-45fb-b57c-0a1e07bfd665",
   "metadata": {
    "tags": []
   },
   "outputs": [
    {
     "name": "stdout",
     "output_type": "stream",
     "text": [
      "C:\\Users\\marie\\rep_codes\\udder_project\\udder_video\\video_files\\videos_1\n",
      "C:\\Users\\marie\\rep_codes\\udder_project\\udder_video\\video_files\\videos_1\\9999_20231117_153008.bag\n",
      "C:\\Users\\marie\\rep_codes\\udder_project\\udder_video\\video_files\\videos_1\\1223_20231117_153008.bag\n",
      "C:\\Users\\marie\\rep_codes\\udder_project\\udder_video\\video_files\\videos_1\\1332_20231117_133858.bag\n",
      "C:\\Users\\marie\\rep_codes\\udder_project\\udder_video\\video_files\\videos_1\\1432_20231117_133858.bag\n",
      "C:\\Users\\marie\\rep_codes\\udder_project\\udder_video\\video_files\\videos_2\n",
      "C:\\Users\\marie\\rep_codes\\udder_project\\udder_video\\video_files\\videos_2\\732_20231117_175039.bag\n",
      "C:\\Users\\marie\\rep_codes\\udder_project\\udder_video\\video_files\\videos_2\\723_20231117_175039.bag\n",
      "C:\\Users\\marie\\rep_codes\\udder_project\\udder_video\\video_files\\videos_2\\1179_20231117_161747.bag\n",
      "C:\\Users\\marie\\rep_codes\\udder_project\\udder_video\\video_files\\videos_2\\1279_20231117_161747.bag\n",
      "C:\\Users\\marie\\rep_codes\\udder_project\\udder_video\\video_files\\videos_3\n",
      "C:\\Users\\marie\\rep_codes\\udder_project\\udder_video\\video_files\\videos_3\\904_1274_20231117_105454.bag\n",
      "C:\\Users\\marie\\rep_codes\\udder_project\\udder_video\\video_files\\videos_3\\1274_20231117_105454.bag\n"
     ]
    }
   ],
   "source": [
    "import os\n",
    "\n",
    "path = os.getcwd()\n",
    "dirpath = os.path.join(path, \"video_files\")\n",
    "video_rename = {\"videos_1\": {\"9999_20231117_153008.bag\":\"1223_20231117_153008.bag\", \"1332_20231117_133858.bag\":\"1432_20231117_133858.bag\"},\\\n",
    "                \"videos_2\": {\"732_20231117_175039.bag\": \"723_20231117_175039.bag\", \"1179_20231117_161747.bag\":\"1279_20231117_161747.bag\"}, \\\n",
    "                \"videos_3\": {\"904_1274_20231117_105454.bag\":\"1274_20231117_105454.bag\"}}\n",
    "\n",
    "for folder in video_rename.keys():\n",
    "    folder_path = os.path.join(dirpath, folder)\n",
    "    print(folder_path)\n",
    "    for file in video_rename[folder].keys():\n",
    "        filepath = os.path.join(folder_path, file)\n",
    "        filepath2 = os.path.join(folder_path, video_rename[folder][file])\n",
    "        print(filepath)\n",
    "        print(filepath2)\n",
    "        os.rename(filepath, filepath2)"
   ]
  }
 ],
 "metadata": {
  "kernelspec": {
   "display_name": "Python 3 (ipykernel)",
   "language": "python",
   "name": "python3"
  },
  "language_info": {
   "codemirror_mode": {
    "name": "ipython",
    "version": 3
   },
   "file_extension": ".py",
   "mimetype": "text/x-python",
   "name": "python",
   "nbconvert_exporter": "python",
   "pygments_lexer": "ipython3",
   "version": "3.11.5"
  }
 },
 "nbformat": 4,
 "nbformat_minor": 5
}
