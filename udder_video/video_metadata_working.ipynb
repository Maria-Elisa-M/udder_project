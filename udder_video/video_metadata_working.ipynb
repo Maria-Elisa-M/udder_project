{
 "cells": [
  {
   "cell_type": "code",
   "execution_count": 12,
   "id": "36ec4af7-af0a-4e43-9d2a-670485fce80d",
   "metadata": {
    "tags": []
   },
   "outputs": [],
   "source": [
    "import pandas as pd\n",
    "import os\n",
    "import datetime\n",
    "\n",
    "# info\n",
    "path = os.getcwd()\n",
    "dirpath = os.path.join(path, \"video_files\")\n",
    "outpath = os.path.join(path, \"video_metadata\")\n",
    "\n",
    "# videos 1: Marias computer -vms 3 and 4 right side\n",
    "# videos 2: Ghuilhermes computer -vms 1 and 2 left side mostly*\n",
    "# videos 3: Labs computer -vms 1 and 2 left side\n",
    "computer_dict = {\"videos_1\": \"maria\", \"videos_2\":\"guilherme\", \"videos_3\": \"lab\"}\n",
    "robotside_dict = {\"videos_1\": \"right\", \"videos_2\": \"left\", \"videos_3\": \"left\"}\n",
    "timedelta_dict = {\"videos_1\": 2, \"videos_2\": 0, \"videos_3\": 2}\n",
    "farmname =\"laufenberg\"\n",
    "out_filename = \"video_metadata_20231117.csv\"\n",
    "\n",
    "# build df\n",
    "dir_list = os.listdir(dirpath)\n",
    "file_dict = {}\n",
    "for folder in dir_list:\n",
    "    file_dict[folder] = os.listdir(os.path.join(dirpath, folder))\n",
    "\n",
    "columnames =  [\"cow\", \"farmname\",\"robotside\", \"filename\",\"directory\", \"date\",\"time\" ,\"size\", \"computer\"]\n",
    "all_files = pd.DataFrame(columns =columnames)\n",
    "\n",
    "for folder in dir_list:\n",
    "    folder_path = os.path.join(dirpath, folder)\n",
    "    file_list = os.listdir(folder_path)\n",
    "    filedf = pd.DataFrame(columns = columnames, index = range(len(file_list)))\n",
    "    size = [os.path.getsize(os.path.join(folder_path, file)) for file in file_list]\n",
    "    date_times = [datetime.datetime.fromtimestamp(os.path.getctime(os.path.join(folder_path, file))) + datetime.timedelta(hours =timedelta_dict[folder]) for file in file_list]\n",
    "    filedf[\"cow\"] = [file.split(\"_\")[0] for file in file_list]\n",
    "    filedf[\"filename\"] = file_list\n",
    "    filedf[\"farmname\"] = farmname\n",
    "    filedf[\"robotside\"] = robotside_dict[folder]\n",
    "    filedf[\"computer\"] = computer_dict[folder]\n",
    "    filedf[\"directory\"] = folder\n",
    "    filedf[\"date\"] = [time.strftime('%Y%m%d') for time in date_times]\n",
    "    filedf[\"time\"] = [time.strftime('%H:%M:%S') for time in date_times]\n",
    "    filedf[\"size\"] = size\n",
    "    \n",
    "    all_files = pd.concat([all_files, filedf], axis=0, ignore_index = True)\n",
    "\n",
    "#save file\n",
    "all_files.to_csv(os.path.join(outpath, out_filename), index = False)"
   ]
  }
 ],
 "metadata": {
  "kernelspec": {
   "display_name": "Python 3 (ipykernel)",
   "language": "python",
   "name": "python3"
  },
  "language_info": {
   "codemirror_mode": {
    "name": "ipython",
    "version": 3
   },
   "file_extension": ".py",
   "mimetype": "text/x-python",
   "name": "python",
   "nbconvert_exporter": "python",
   "pygments_lexer": "ipython3",
   "version": "3.11.5"
  }
 },
 "nbformat": 4,
 "nbformat_minor": 5
}
